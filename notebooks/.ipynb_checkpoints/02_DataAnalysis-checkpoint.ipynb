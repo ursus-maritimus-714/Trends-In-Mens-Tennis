{
 "cells": [
  {
   "cell_type": "code",
   "execution_count": 1,
   "id": "7e921389",
   "metadata": {},
   "outputs": [],
   "source": [
    "import pandas as pd\n",
    "import numpy as np\n",
    "import matplotlib.pyplot as plt\n",
    "import seaborn as sns\n",
    "import os\n",
    "import warnings\n",
    "warnings.filterwarnings('ignore')"
   ]
  },
  {
   "cell_type": "code",
   "execution_count": 2,
   "id": "fe5e9583",
   "metadata": {},
   "outputs": [],
   "source": [
    "df = pd.read_csv('../data/df_player2.csv')"
   ]
  },
  {
   "cell_type": "code",
   "execution_count": null,
   "id": "0207fb7d",
   "metadata": {},
   "outputs": [],
   "source": [
    "df.info()"
   ]
  },
  {
   "cell_type": "markdown",
   "id": "6dfa3b39",
   "metadata": {},
   "source": [
    "### Global Binning"
   ]
  },
  {
   "cell_type": "code",
   "execution_count": 3,
   "id": "c8b544e6",
   "metadata": {},
   "outputs": [],
   "source": [
    "# Binning players by ranking tier\n",
    "df[\"rank_tier\"] = \"\"\n",
    "\n",
    "df.loc[df[\"p_rank\"] <=25, \"rank_tier\"] = \"<=25\"\n",
    "df.loc[(df[\"p_rank\"] > 25) & (df[\"p_rank\"] <= 50), \"rank_tier\"] = \"26-50\"\n",
    "df.loc[(df[\"p_rank\"] >= 51) & (df[\"p_rank\"] <= 125), \"rank_tier\"] = \"51-125\"\n",
    "df.loc[(df[\"p_rank\"] >= 126) & (df[\"p_rank\"] <= 200), \"rank_tier\"] = \"126-200\""
   ]
  },
  {
   "cell_type": "code",
   "execution_count": 4,
   "id": "e1fedca7",
   "metadata": {},
   "outputs": [
    {
     "data": {
      "text/plain": [
       "51-125     48193\n",
       "<=25       32437\n",
       "26-50      26741\n",
       "126-200     9974\n",
       "Name: rank_tier, dtype: int64"
      ]
     },
     "execution_count": 4,
     "metadata": {},
     "output_type": "execute_result"
    }
   ],
   "source": [
    "df[\"rank_tier\"].value_counts()"
   ]
  },
  {
   "cell_type": "code",
   "execution_count": 5,
   "id": "ff2922ae",
   "metadata": {},
   "outputs": [],
   "source": [
    "df[\"round_age\"] = df[\"p_age\"].round(0)"
   ]
  },
  {
   "cell_type": "code",
   "execution_count": 6,
   "id": "00f573e3",
   "metadata": {},
   "outputs": [
    {
     "data": {
      "text/plain": [
       "41.0"
      ]
     },
     "execution_count": 6,
     "metadata": {},
     "output_type": "execute_result"
    }
   ],
   "source": [
    "df[\"round_age\"].max()"
   ]
  },
  {
   "cell_type": "code",
   "execution_count": null,
   "id": "d9c51641",
   "metadata": {},
   "outputs": [],
   "source": [
    "df.to_csv('../data/df.csv', index=False)"
   ]
  },
  {
   "cell_type": "markdown",
   "id": "45ccb6bd",
   "metadata": {},
   "source": [
    "### Height Trends Analysis"
   ]
  },
  {
   "cell_type": "code",
   "execution_count": null,
   "id": "0f1699f8",
   "metadata": {},
   "outputs": [],
   "source": [
    "ht_by_yr_plyr = df.groupby(['tour_yr','p_id'], as_index=False)['p_ht'].mean()\n",
    "ht_by_yr_plyr"
   ]
  },
  {
   "cell_type": "code",
   "execution_count": null,
   "id": "a1fc8fb8",
   "metadata": {},
   "outputs": [],
   "source": [
    "sns.set(font_scale=1.75)\n",
    "\n",
    "p = sns.relplot(\n",
    "    data=ht_by_yr_plyr, marker = \"o\", markersize=10, x=\"tour_yr\", y=\"p_ht\", height=5, aspect=2,\n",
    "    kind=\"line\", palette=['g'], linewidth=3\n",
    ").set(title= \"Player Height: 1995-2019\", \n",
    "    ylabel=\"Player Height in cm (mean [95% CI])\",\n",
    "    xlabel= \"Year\", xlim = (1994, 2020), xticks = [1995, 2000, 2005, 2010, 2015, 2020]\n",
    ")\n",
    "\n",
    "#p._legend.set_title(\"Player Height\")\n",
    "#p._legend.set_bbox_to_anchor([1.08, .5])"
   ]
  },
  {
   "cell_type": "code",
   "execution_count": null,
   "id": "d0e5380c",
   "metadata": {},
   "outputs": [],
   "source": [
    "ht_2000 = ht_by_yr_plyr[ht_by_yr_plyr.tour_yr == 2000]\n",
    "sns.distplot(ht_2000[\"p_ht\"], kde=True, hist=False, label=2000)\n",
    "\n",
    "ht_2010 = ht_by_yr_plyr[ht_by_yr_plyr.tour_yr == 2010]\n",
    "sns.distplot(ht_2010[\"p_ht\"], kde=True, hist=False, label=2010)\n",
    "\n",
    "ht_2019 = ht_by_yr_plyr[ht_by_yr_plyr.tour_yr == 2019]\n",
    "sns.distplot(ht_2019[\"p_ht\"], kde=True, hist = False, label=2019)\n",
    "\n",
    "plt.legend(prop={'size': 12})\n",
    "plt.title('Player Height Distribution Across Time')\n",
    "plt.xlabel('Player Height (cm)')\n",
    "plt.ylabel('Frequency')"
   ]
  },
  {
   "cell_type": "markdown",
   "id": "e73df294",
   "metadata": {},
   "source": [
    "#### height by rank tier"
   ]
  },
  {
   "cell_type": "code",
   "execution_count": null,
   "id": "2f7e8547",
   "metadata": {},
   "outputs": [],
   "source": [
    "ht_by_yr_plyr_rt = df.groupby(['tour_yr', 'rank_tier', 'p_id'], as_index=False)['p_ht'].mean()\n",
    "ht_by_yr_plyr_rt"
   ]
  },
  {
   "cell_type": "code",
   "execution_count": null,
   "id": "77d754e4",
   "metadata": {},
   "outputs": [],
   "source": [
    "ht_by_yr_plyr_rt[\"rank_tier\"].value_counts()"
   ]
  },
  {
   "cell_type": "code",
   "execution_count": null,
   "id": "bccdc2a9",
   "metadata": {},
   "outputs": [],
   "source": [
    "sns.set(font_scale=1.75)\n",
    "\n",
    "p = sns.relplot(\n",
    "    data=ht_by_yr_plyr_rt, marker = \"o\", markersize=10, x=\"tour_yr\", y=\"p_ht\", hue=\"rank_tier\", hue_order=[\"<=25\", \"26-50\", \"51-125\",\"126-200\"], height=5, aspect=2, palette = [\"g\", \"b\", \"c\", \"r\"],\n",
    "    kind=\"line\", linewidth=3\n",
    ").set(title=\"Height By Player Ranking Tier: 1995-2019\", \n",
    "    ylabel=\"Height (mean [95% CI] at player level)\",\n",
    "    xlabel= \"Year\", xlim = (1994, 2020), xticks = [1995, 2000, 2005, 2010, 2015, 2020]\n",
    ")\n",
    "\n",
    "p._legend.set_title(\"Player Ranking Tier\")\n",
    "p._legend.set_bbox_to_anchor([1.08, .5])"
   ]
  },
  {
   "cell_type": "markdown",
   "id": "e66d538c",
   "metadata": {},
   "source": [
    "### generate density plots for height vs rank tier, including change across time"
   ]
  },
  {
   "cell_type": "code",
   "execution_count": null,
   "id": "754fc68c",
   "metadata": {},
   "outputs": [],
   "source": [
    "# Filter down to years 2000, 2010, 2019\n",
    "\n",
    "df_2000 = df[(df['tour_yr'] == 2000)]\n",
    "ht_by_plyr_2000 = df_2000.groupby(['tour_yr','rank_tier','p_id'], as_index=False)['p_ht'].mean()\n",
    "\n",
    "df_2010 = df[(df['tour_yr'] == 2010)]\n",
    "ht_by_plyr_2010 = df_2010.groupby(['tour_yr','rank_tier','p_id'], as_index=False)['p_ht'].mean()\n",
    "\n",
    "df_2019 = df[(df['tour_yr'] == 2019)]\n",
    "ht_by_plyr_2019 = df_2019.groupby(['tour_yr','rank_tier','p_id'], as_index=False)['p_ht'].mean()"
   ]
  },
  {
   "cell_type": "code",
   "execution_count": null,
   "id": "a62ccfdf",
   "metadata": {},
   "outputs": [],
   "source": [
    "ht_by_plyr_2000.info()"
   ]
  },
  {
   "cell_type": "code",
   "execution_count": null,
   "id": "9426a8f7",
   "metadata": {},
   "outputs": [],
   "source": [
    "#Density plot across ranking tiers for 2000\n",
    "\n",
    "Tier_1 = ht_by_plyr_2000[ht_by_plyr_2000.rank_tier == \"<=25\"]\n",
    "sns.distplot(Tier_1[\"p_ht\"], kde=True, hist=False, label=\"<=25\")\n",
    "\n",
    "Tier_2 = ht_by_plyr_2000[ht_by_plyr_2000.rank_tier == \"26-50\"]\n",
    "sns.distplot(Tier_2[\"p_ht\"], kde=True, hist=False, label=\"26-50\")\n",
    "\n",
    "Tier_3 = ht_by_plyr_2000[ht_by_plyr_2000.rank_tier == \"51-125\"]\n",
    "sns.distplot(Tier_3[\"p_ht\"], kde=True, hist=False, label=\"51-125\")\n",
    "\n",
    "Tier_4 = ht_by_plyr_2000[ht_by_plyr_2000.rank_tier == \"126-200\"]\n",
    "sns.distplot(Tier_4[\"p_ht\"], kde=True, hist=False, label=\"126-200\")\n",
    "\n",
    "plt.legend(prop={'size': 12})\n",
    "plt.title('Player Height Distribution Across Ranking Tiers: 2000')\n",
    "plt.xlabel('Player Height (cm)')\n",
    "plt.ylabel('Frequency')\n",
    "plt.xlim = (160, 220)\n",
    "plt.ylim = (0,.08)\n",
    "plt.xticklabels = [160, 170, 180, 190, 200, 210, 220]"
   ]
  },
  {
   "cell_type": "code",
   "execution_count": null,
   "id": "9a5f8154",
   "metadata": {},
   "outputs": [],
   "source": [
    "#Density plot across ranking tiers for 2010\n",
    "\n",
    "Tier_1 = ht_by_plyr_2010[ht_by_plyr_2010.rank_tier == \"<=25\"]\n",
    "sns.distplot(Tier_1[\"p_ht\"], kde=True, hist=False, label=\"<=25\")\n",
    "\n",
    "Tier_2 = ht_by_plyr_2010[ht_by_plyr_2010.rank_tier == \"26-50\"]\n",
    "sns.distplot(Tier_2[\"p_ht\"], kde=True, hist=False, label=\"26-50\")\n",
    "\n",
    "Tier_3 = ht_by_plyr_2010[ht_by_plyr_2010.rank_tier == \"51-125\"]\n",
    "sns.distplot(Tier_3[\"p_ht\"], kde=True, hist=False, label=\"51-125\")\n",
    "\n",
    "Tier_4 = ht_by_plyr_2010[ht_by_plyr_2010.rank_tier == \"126-200\"]\n",
    "sns.distplot(Tier_4[\"p_ht\"], kde=True, hist=False, label=\"126-200\")\n",
    "\n",
    "plt.legend(prop={'size': 12})\n",
    "plt.title('Player Height Distribution Across Ranking Tiers: 2010')\n",
    "plt.xlabel('Player Height (cm)')\n",
    "plt.ylabel('Frequency')\n",
    "plt.xlim = (160, 220)\n",
    "plt.ylim = (0,.08)\n",
    "plt.xticklabels = [160, 170, 180, 190, 200, 210, 220]"
   ]
  },
  {
   "cell_type": "code",
   "execution_count": null,
   "id": "da48ec5f",
   "metadata": {},
   "outputs": [],
   "source": [
    "#Density plot across ranking tiers for 2019\n",
    "\n",
    "Tier_1 = ht_by_plyr_2019[ht_by_plyr_2019.rank_tier == \"<=25\"]\n",
    "sns.distplot(Tier_1[\"p_ht\"], kde=True, hist=False, label=\"<=25\")\n",
    "\n",
    "Tier_2 = ht_by_plyr_2019[ht_by_plyr_2019.rank_tier == \"26-50\"]\n",
    "sns.distplot(Tier_2[\"p_ht\"], kde=True, hist=False, label=\"26-50\")\n",
    "\n",
    "Tier_3 = ht_by_plyr_2019[ht_by_plyr_2019.rank_tier == \"51-125\"]\n",
    "sns.distplot(Tier_3[\"p_ht\"], kde=True, hist=False, label=\"51-125\")\n",
    "\n",
    "Tier_4 = ht_by_plyr_2019[ht_by_plyr_2019.rank_tier == \"126-200\"]\n",
    "sns.distplot(Tier_4[\"p_ht\"], kde=True, hist=False, label=\"126-200\")\n",
    "\n",
    "plt.legend(prop={'size': 12})\n",
    "plt.title('Player Height Distribution Across Ranking Tiers: 2019')\n",
    "plt.xlabel('Player Height (cm)')\n",
    "plt.ylabel('Frequency')\n",
    "plt.xlim = (160, 220)\n",
    "plt.ylim = (0,.08)\n",
    "plt.xticks = [160, 170, 180, 190, 200, 210, 220]\n",
    "plt.yticks = [0.00, 0.01, 0.02, 0.03, 0.04, 0.05, 0.06]"
   ]
  },
  {
   "cell_type": "markdown",
   "id": "52f98a40",
   "metadata": {},
   "source": [
    "### Age Trends Analysis"
   ]
  },
  {
   "cell_type": "code",
   "execution_count": null,
   "id": "ffe959a8",
   "metadata": {},
   "outputs": [],
   "source": [
    "age_by_yr_plyr = df.groupby(['tour_yr','p_id'], as_index=False)['p_age'].mean()\n",
    "age_by_yr_plyr"
   ]
  },
  {
   "cell_type": "code",
   "execution_count": null,
   "id": "7523d656",
   "metadata": {},
   "outputs": [],
   "source": [
    "sns.set(font_scale=1.75)\n",
    "\n",
    "p = sns.relplot(\n",
    "    data=age_by_yr_plyr, marker = \"o\", markersize=10, x=\"tour_yr\", y=\"p_age\", height=5, aspect=2,\n",
    "    kind=\"line\", palette=['g'], linewidth=3\n",
    ").set(title= \"Player Age: 1995-2019\", \n",
    "    ylabel=\"Player Age in yrs (mean [95% CI])\",\n",
    "    xlabel= \"Year\", xlim = (1994, 2020), xticks = [1995, 2000, 2005, 2010, 2015, 2020]\n",
    ")"
   ]
  },
  {
   "cell_type": "code",
   "execution_count": null,
   "id": "78891632",
   "metadata": {},
   "outputs": [],
   "source": [
    "age_2000 = age_by_yr_plyr[age_by_yr_plyr.tour_yr == 2000]\n",
    "sns.distplot(age_2000[\"p_age\"], kde=True, hist=False, label=2000)\n",
    "\n",
    "age_2010 = age_by_yr_plyr[age_by_yr_plyr.tour_yr == 2010]\n",
    "sns.distplot(age_2010[\"p_age\"], kde=True, hist=False, label=2010)\n",
    "\n",
    "age_2019 = age_by_yr_plyr[age_by_yr_plyr.tour_yr == 2019]\n",
    "sns.distplot(age_2019[\"p_age\"], kde=True, hist = False, label=2019)\n",
    "\n",
    "plt.legend(prop={'size': 12})\n",
    "plt.title('Player Age Distribution Across Time')\n",
    "plt.xlabel('Player Age (yrs)')\n",
    "plt.ylabel('Frequency')"
   ]
  },
  {
   "cell_type": "markdown",
   "id": "e0e4c898",
   "metadata": {},
   "source": [
    "#### age by rank tier"
   ]
  },
  {
   "cell_type": "code",
   "execution_count": null,
   "id": "85f175c4",
   "metadata": {},
   "outputs": [],
   "source": [
    "age_by_yr_plyr_rt = df.groupby(['tour_yr', 'rank_tier', 'p_id'], as_index=False)['p_age'].mean()\n",
    "age_by_yr_plyr_rt"
   ]
  },
  {
   "cell_type": "code",
   "execution_count": null,
   "id": "e1b371ca",
   "metadata": {},
   "outputs": [],
   "source": [
    "sns.set(font_scale=1.75)\n",
    "\n",
    "p = sns.relplot(\n",
    "    data=age_by_yr_plyr_rt, marker = \"o\", markersize=10, x=\"tour_yr\", y=\"p_age\", hue=\"rank_tier\", hue_order=[\"<=25\", \"26-50\", \"51-125\",\"126-200\"], height=5, aspect=2, palette = [\"g\", \"b\", \"c\", \"r\"],\n",
    "    kind=\"line\", linewidth=3\n",
    ").set(title=\"Age By Player Ranking Tier: 1995-2019\", \n",
    "    ylabel=\"Age (mean [95% CI] at player level)\",\n",
    "    xlabel= \"Year\", xlim = (1994, 2020), xticks = [1995, 2000, 2005, 2010, 2015, 2020]\n",
    ")\n",
    "\n",
    "p._legend.set_title(\"Player Ranking Tier\")\n",
    "p._legend.set_bbox_to_anchor([1.08, .5])"
   ]
  },
  {
   "cell_type": "markdown",
   "id": "014a0d15",
   "metadata": {},
   "source": [
    "## Serve Performance"
   ]
  },
  {
   "cell_type": "code",
   "execution_count": null,
   "id": "ba6f5dbc",
   "metadata": {},
   "outputs": [],
   "source": [
    "sv_perc_win_by_yr_plyr = df.groupby(['tour_yr','p_id'], as_index=False)['p_sv_pts_won%'].mean()\n",
    "sv_perc_win_by_yr_plyr"
   ]
  },
  {
   "cell_type": "code",
   "execution_count": null,
   "id": "8665bd2a",
   "metadata": {},
   "outputs": [],
   "source": [
    "sns.set(font_scale=1.75)\n",
    "\n",
    "p = sns.relplot(\n",
    "    data=sv_perc_win_by_yr_plyr, marker = \"o\", markersize=10, x=\"tour_yr\", y=\"p_sv_pts_won%\", \n",
    "    height=5, aspect=2, \n",
    "    kind=\"line\",\n",
    "    palette=['g'], linewidth=3\n",
    ").set(title=\"Serve Points Win %: 1995-2019\", \n",
    "    ylabel=\"Serve Points Win % (mean [95% CI] at player level)\",\n",
    "    xlabel= \"Year\", xlim = (1994, 2020), xticks = [1995, 2000, 2005, 2010, 2015, 2020]\n",
    ")\n",
    "\n",
    "#p._legend.set_title(\"Play Surface\")\n",
    "#p._legend.set_bbox_to_anchor([1.08, .5])"
   ]
  },
  {
   "cell_type": "code",
   "execution_count": null,
   "id": "28f95d87",
   "metadata": {},
   "outputs": [],
   "source": [
    "sv_perc_win_by_yr_surf_plyr = df.groupby(['tour_yr','t_surf','p_id'], as_index=False)['p_sv_pts_won%'].mean()\n",
    "sv_perc_win_by_yr_surf_plyr "
   ]
  },
  {
   "cell_type": "code",
   "execution_count": null,
   "id": "218ba72a",
   "metadata": {},
   "outputs": [],
   "source": [
    "sns.set(font_scale=1.5)\n",
    "\n",
    "p = sns.relplot(\n",
    "    data=sv_perc_win_by_yr_surf_plyr, marker = \"o\", markersize=10, x=\"tour_yr\", y=\"p_sv_pts_won%\", hue=\"t_surf\", hue_order=[\"Clay\",\"Hard\"], \n",
    "    height=5, aspect=2, \n",
    "    kind=\"line\",\n",
    "    palette=['r', 'g'], linewidth=3\n",
    ").set(title=\" Serve Points Win % By Surface: 1995-2019\", \n",
    "    ylabel=\"Sv Pts Win % By Surf(mean [95% CI] at plyr lvl)\",\n",
    "    xlabel= \"Year\", xlim = (1994, 2020), xticks = [1995, 2000, 2005, 2010, 2015, 2020]\n",
    ")\n",
    "\n",
    "p._legend.set_title(\"Play Surface\")\n",
    "p._legend.set_bbox_to_anchor([.87, .31])"
   ]
  },
  {
   "cell_type": "markdown",
   "id": "86f6fc71",
   "metadata": {},
   "source": [
    "### serve performance by ranking tier"
   ]
  },
  {
   "cell_type": "code",
   "execution_count": null,
   "id": "e281ec5d",
   "metadata": {},
   "outputs": [],
   "source": [
    "sv_perc_win_by_yr_plyr_rt = df.groupby(['tour_yr', 'rank_tier', 'p_id'], as_index=False)['p_sv_pts_won%'].mean()\n",
    "sv_perc_win_by_yr_plyr_rt"
   ]
  },
  {
   "cell_type": "code",
   "execution_count": null,
   "id": "0e206cd4",
   "metadata": {},
   "outputs": [],
   "source": [
    "sns.set(font_scale=1.75)\n",
    "\n",
    "p = sns.relplot(\n",
    "    data=sv_perc_win_by_yr_plyr_rt, marker = \"o\", markersize=10, x=\"tour_yr\", y=\"p_sv_pts_won%\", hue=\"rank_tier\", hue_order=[\"<=25\", \"26-50\", \"51-125\",\"126-200\"], height=5, aspect=2, palette = [\"g\", \"b\", \"c\", \"r\"],\n",
    "    kind=\"line\", linewidth=3\n",
    ").set(title=\"Serve Points Win% by Ranking Tier: 1995-2019\", \n",
    "    ylabel=\"Serve Points Win% (mean [95% CI] at player level)\",\n",
    "    xlabel= \"Year\", xlim = (1994, 2020), xticks = [1995, 2000, 2005, 2010, 2015, 2020]\n",
    ")\n",
    "\n",
    "p._legend.set_title(\"Player Ranking Tier\")\n",
    "p._legend.set_bbox_to_anchor([1.08, .5])"
   ]
  },
  {
   "cell_type": "markdown",
   "id": "577ec270",
   "metadata": {},
   "source": [
    "### Serve Performance Over Time By Ranking Tier - Hard Court Only"
   ]
  },
  {
   "cell_type": "code",
   "execution_count": null,
   "id": "d0271714",
   "metadata": {},
   "outputs": [],
   "source": [
    "hc_data = df[(df['t_surf'] == \"Hard\")]\n",
    "sv_by_rank_hc = hc_data.groupby(['tour_yr', 'rank_tier', 'p_id'], as_index=False)['p_sv_pts_won%'].mean()\n",
    "sv_by_rank_hc"
   ]
  },
  {
   "cell_type": "code",
   "execution_count": null,
   "id": "e3ccb21a",
   "metadata": {},
   "outputs": [],
   "source": [
    "sns.set(font_scale=1.75)\n",
    "\n",
    "p = sns.relplot(\n",
    "    data=sv_by_rank_hc, marker = \"o\", markersize=10, x=\"tour_yr\", y=\"p_sv_pts_won%\", hue=\"rank_tier\", hue_order=[\"<=25\", \"26-50\", \"51-125\",\"126-200\"], height=5, aspect=2, palette = [\"g\", \"b\", \"c\", \"r\"],\n",
    "    kind=\"line\", linewidth=3\n",
    ").set(title=\"Serve Pts Win% by Ranking Tier: 1995-2019 - Hard Court\", \n",
    "    ylabel=\"Serve Pts Win% (mean [95% CI] at player level)\",\n",
    "    xlabel= \"Year\", xlim = (1994, 2020), xticks = [1995, 2000, 2005, 2010, 2015, 2020]\n",
    ")\n",
    "\n",
    "p._legend.set_title(\"Player Ranking Tier\")\n",
    "p._legend.set_bbox_to_anchor([1.08, .5])"
   ]
  },
  {
   "cell_type": "markdown",
   "id": "de91fe17",
   "metadata": {},
   "source": [
    "### Serve Performance Over Time By Ranking Tier - Hard Court Only"
   ]
  },
  {
   "cell_type": "code",
   "execution_count": null,
   "id": "a3814a43",
   "metadata": {},
   "outputs": [],
   "source": [
    "cc_data = df[(df['t_surf'] == \"Clay\")]\n",
    "sv_by_rank_cc = cc_data.groupby(['tour_yr', 'rank_tier', 'p_id'], as_index=False)['p_sv_pts_won%'].mean()\n",
    "sv_by_rank_cc"
   ]
  },
  {
   "cell_type": "code",
   "execution_count": null,
   "id": "79800d6d",
   "metadata": {},
   "outputs": [],
   "source": [
    "sns.set(font_scale=1.75)\n",
    "\n",
    "p = sns.relplot(\n",
    "    data=sv_by_rank_cc, marker = \"o\", markersize=10, x=\"tour_yr\", y=\"p_sv_pts_won%\", hue=\"rank_tier\", hue_order=[\"<=25\", \"26-50\", \"51-125\",\"126-200\"], height=5, aspect=2, palette = [\"g\", \"b\", \"c\", \"r\"],\n",
    "    kind=\"line\", linewidth=3\n",
    ").set(title=\"Serve Pts Win% by Ranking Tier: 1995-2019 - Clay Court\", \n",
    "    ylabel=\"Serve Pts Win% (mean [95% CI] at player level)\",\n",
    "    xlabel= \"Year\", xlim = (1994, 2020), xticks = [1995, 2000, 2005, 2010, 2015, 2020]\n",
    ")\n",
    "\n",
    "p._legend.set_title(\"Player Ranking Tier\")\n",
    "p._legend.set_bbox_to_anchor([1.08, .5])"
   ]
  },
  {
   "cell_type": "code",
   "execution_count": null,
   "id": "22699de8",
   "metadata": {},
   "outputs": [],
   "source": []
  },
  {
   "cell_type": "markdown",
   "id": "998353cd",
   "metadata": {},
   "source": [
    "### Relationship between height and serve performance"
   ]
  },
  {
   "cell_type": "code",
   "execution_count": null,
   "id": "f1d959de",
   "metadata": {},
   "outputs": [],
   "source": [
    "sv_perc_win_by_yr_plyr_rt = df.groupby(['tour_yr', 'p_id', 'p_ht'], as_index=False)['p_sv_pts_won%'].mean()\n",
    "sv_perc_win_by_yr_plyr_rt"
   ]
  },
  {
   "cell_type": "code",
   "execution_count": null,
   "id": "46d4a7fc",
   "metadata": {},
   "outputs": [],
   "source": [
    "#save for analysis stage\n",
    "#sv_perc_win_by_yr_plyr_rt.to_csv('../data/sv_perc_win_by_yr_plyr_rt.csv', index=False)"
   ]
  },
  {
   "cell_type": "code",
   "execution_count": null,
   "id": "392367d0",
   "metadata": {},
   "outputs": [],
   "source": [
    "sns.set(font_scale=1.5)\n",
    "\n",
    "p = sns.scatterplot(x=\"p_ht\",\n",
    "                    y=\"p_sv_pts_won%\",\n",
    "                    data=sv_perc_win_by_yr_plyr_rt, legend=None)\n",
    "\n",
    "plt.xlabel(\"Height (cm)\", size = 16)\n",
    "plt.ylabel(\"Serve Points Win% (mean per player)\", size = 16)\n",
    "plt.title(\"Player Height vs Serve Points Win%\", size = 16)\n",
    "#p.legend(loc='center left', bbox_to_anchor=(1, 0.5), ncol=1, title=\"Player Ranking Tier\")\n",
    "\n",
    "#hue=\"rank_tier\", hue_order=[\"<=25\", \"26-50\", \"51-125\",\"126-200\"]"
   ]
  },
  {
   "cell_type": "markdown",
   "id": "ff0bc4b8",
   "metadata": {},
   "source": [
    "#### same as above, but hard court only"
   ]
  },
  {
   "cell_type": "code",
   "execution_count": null,
   "id": "cff4e52e",
   "metadata": {},
   "outputs": [],
   "source": [
    "sv_perc_win_by_yr_plyr_rt_surf = df.groupby(['tour_yr','t_surf', 'p_id', 'p_ht'], as_index=False)['p_sv_pts_won%'].mean()\n",
    "sv_perc_win_by_yr_plyr_rt_surf"
   ]
  },
  {
   "cell_type": "code",
   "execution_count": null,
   "id": "1570c1dd",
   "metadata": {},
   "outputs": [],
   "source": [
    "#sv_perc_win_by_yr_plyr_rt_surf.to_csv('../data/sv_perc_win_by_yr_plyr_rt_surf.csv', index=False)"
   ]
  },
  {
   "cell_type": "code",
   "execution_count": null,
   "id": "715bbbed",
   "metadata": {},
   "outputs": [],
   "source": [
    "#Hard Court Only\n",
    "df_hc_filter = sv_perc_win_by_yr_plyr_rt_surf.loc[(sv_perc_win_by_yr_plyr_rt_surf[\"t_surf\"] == \"Hard\")]\n",
    "df_hc_filter"
   ]
  },
  {
   "cell_type": "code",
   "execution_count": null,
   "id": "8f0d0810",
   "metadata": {},
   "outputs": [],
   "source": [
    "#Plot for hard court only\n",
    "\n",
    "sns.set(font_scale=1.25)\n",
    "\n",
    "p = sns.lmplot(x=\"p_ht\", y=\"p_sv_pts_won%\", data=df_hc_filter, hue=\"t_surf\", palette=[\"g\"], legend=None)\n",
    "\n",
    "p.set(xlim=(165, 210))\n",
    "p.set(ylim=(30, 80))\n",
    "p.set(xlabel = \"Player Height (cm)\")\n",
    "p.set(ylabel = \"Player Serve Pts Win% (player by year)\")\n",
    "p.set(title = \"Player Height vs Serve Pts Win% - Hard Court\")"
   ]
  },
  {
   "cell_type": "code",
   "execution_count": null,
   "id": "4c5bb0a0",
   "metadata": {},
   "outputs": [],
   "source": [
    "#Clay Court Only\n",
    "df_cc_filter = sv_perc_win_by_yr_plyr_rt_surf.loc[(sv_perc_win_by_yr_plyr_rt_surf[\"t_surf\"] == \"Clay\")]\n",
    "df_cc_filter"
   ]
  },
  {
   "cell_type": "code",
   "execution_count": null,
   "id": "19edad34",
   "metadata": {},
   "outputs": [],
   "source": [
    "#Plot for clay court only\n",
    "\n",
    "sns.set(font_scale=1.25)\n",
    "\n",
    "p = sns.lmplot(x=\"p_ht\", y=\"p_sv_pts_won%\", data=df_cc_filter, hue=\"t_surf\", palette=[\"r\"], legend=None)\n",
    "\n",
    "p.set(xlim=(165, 210))\n",
    "p.set(ylim=(30, 80))\n",
    "p.set(xlabel = \"Player Height (cm)\")\n",
    "p.set(ylabel = \"Player Serve Pts Win% (player by year)\")\n",
    "p.set(title = \"Player Height vs Serve Pts Win% - Clay Court\")"
   ]
  },
  {
   "cell_type": "markdown",
   "id": "a7582176",
   "metadata": {},
   "source": [
    "### Height and Serve Performance Relationship By Ranking Tier (Restricted to Hard Court)"
   ]
  },
  {
   "cell_type": "code",
   "execution_count": null,
   "id": "a1ef35f7",
   "metadata": {},
   "outputs": [],
   "source": [
    "#Hard Court Only\n",
    "df_filter_hard = df.loc[(df[\"t_surf\"] == \"Hard\")]\n",
    "df_filter_hard.info()"
   ]
  },
  {
   "cell_type": "code",
   "execution_count": null,
   "id": "836e6d9b",
   "metadata": {},
   "outputs": [],
   "source": [
    "# Top Tier Only\n",
    "df_filter_hard_toptier = df_filter_hard.loc[(df_filter_hard[\"rank_tier\"] == \"<=25\")]\n",
    "df_filter_hard_toptier"
   ]
  },
  {
   "cell_type": "code",
   "execution_count": null,
   "id": "e50ffc21",
   "metadata": {},
   "outputs": [],
   "source": [
    "pts_df_filter_hard_toptier = df_filter_hard_toptier.groupby(['tour_yr','rank_tier','p_id', 'p_ht'], as_index=False)['p_sv_pts_won%'].mean()\n",
    "pts_df_filter_hard_toptier"
   ]
  },
  {
   "cell_type": "code",
   "execution_count": null,
   "id": "de0a4c65",
   "metadata": {},
   "outputs": [],
   "source": [
    "#Plot for Tier 1 (hard court only)\n",
    "\n",
    "sns.set(font_scale=1.25)\n",
    "\n",
    "p = sns.lmplot(x=\"p_ht\", y=\"p_sv_pts_won%\", data=pts_df_filter_hard_toptier, hue=\"rank_tier\", palette=[\"g\"], legend=None, ci=None)\n",
    "\n",
    "p.set(xlim=(165, 210))\n",
    "p.set(ylim=(40, 80))\n",
    "p.set(xlabel = \"Player Height (cm)\")\n",
    "p.set(ylabel = \"Player Serve Pts Win% (player by year)\")\n",
    "p.set(title = \"Height vs Serve Pts Win%:Top Tier- Hard Court\")"
   ]
  },
  {
   "cell_type": "code",
   "execution_count": null,
   "id": "0c0c8e77",
   "metadata": {},
   "outputs": [],
   "source": [
    "# Second Tier Only\n",
    "df_filter_hard_secondtier = df_filter_hard.loc[(df_filter_hard[\"rank_tier\"] == \"26-50\")]\n",
    "df_filter_hard_secondtier\n",
    "\n",
    "pts_df_filter_hard_secondtier = df_filter_hard_secondtier.groupby(['tour_yr','rank_tier','p_id', 'p_ht'], as_index=False)['p_sv_pts_won%'].mean()\n",
    "pts_df_filter_hard_secondtier"
   ]
  },
  {
   "cell_type": "code",
   "execution_count": null,
   "id": "236419fe",
   "metadata": {},
   "outputs": [],
   "source": [
    "#Plot for Tier 2 (hard court only)\n",
    "\n",
    "sns.set(font_scale=1.25)\n",
    "\n",
    "p = sns.lmplot(x=\"p_ht\", y=\"p_sv_pts_won%\", data=pts_df_filter_hard_secondtier, hue=\"rank_tier\", palette=[\"b\"], legend=None, ci=None)\n",
    "\n",
    "p.set(xlim=(165, 210))\n",
    "p.set(ylim=(40, 80))\n",
    "p.set(xlabel = \"Player Height (cm)\")\n",
    "p.set(ylabel = \"Player Serve Pts Win% (player by year)\")\n",
    "p.set(title = \"Height vs Serve Pts Win%:Tier 2- Hard Court\")"
   ]
  },
  {
   "cell_type": "code",
   "execution_count": null,
   "id": "d9406cfb",
   "metadata": {},
   "outputs": [],
   "source": [
    "# Third Tier Only\n",
    "df_filter_hard_thirdtier = df_filter_hard.loc[(df_filter_hard[\"rank_tier\"] == \"51-125\")]\n",
    "df_filter_hard_thirdtier\n",
    "\n",
    "pts_df_filter_hard_thirdtier = df_filter_hard_thirdtier.groupby(['tour_yr','rank_tier','p_id', 'p_ht'], as_index=False)['p_sv_pts_won%'].mean()\n",
    "pts_df_filter_hard_thirdtier"
   ]
  },
  {
   "cell_type": "code",
   "execution_count": null,
   "id": "eb70e46e",
   "metadata": {},
   "outputs": [],
   "source": [
    "#Plot for Tier 3 (hard court only)\n",
    "\n",
    "sns.set(font_scale=1.25)\n",
    "\n",
    "p = sns.lmplot(x=\"p_ht\", y=\"p_sv_pts_won%\", data=pts_df_filter_hard_thirdtier, hue=\"rank_tier\", palette=[\"c\"], legend=None, ci=None)\n",
    "\n",
    "p.set(xlim=(165, 210))\n",
    "p.set(ylim=(40, 80))\n",
    "p.set(xlabel = \"Player Height (cm)\")\n",
    "p.set(ylabel = \"Player Serve Pts Win% (player by year)\")\n",
    "p.set(title = \"Height vs Serve Pts Win%:Tier 3- Hard Court\")"
   ]
  },
  {
   "cell_type": "code",
   "execution_count": null,
   "id": "c0dfe054",
   "metadata": {},
   "outputs": [],
   "source": [
    "# Fourth Tier Only\n",
    "df_filter_hard_fourthtier = df_filter_hard.loc[(df_filter_hard[\"rank_tier\"] == \"126-200\")]\n",
    "df_filter_hard_fourthtier\n",
    "\n",
    "pts_df_filter_hard_fourthtier = df_filter_hard_fourthtier.groupby(['tour_yr','rank_tier','p_id', 'p_ht'], as_index=False)['p_sv_pts_won%'].mean()\n",
    "pts_df_filter_hard_fourthtier"
   ]
  },
  {
   "cell_type": "code",
   "execution_count": null,
   "id": "e550f444",
   "metadata": {},
   "outputs": [],
   "source": [
    "#Plot for Tier 4 (hard court only)\n",
    "\n",
    "sns.set(font_scale=1.25)\n",
    "\n",
    "p = sns.lmplot(x=\"p_ht\", y=\"p_sv_pts_won%\", data=pts_df_filter_hard_fourthtier, hue=\"rank_tier\", palette=[\"r\"], legend=None, ci=None)\n",
    "\n",
    "p.set(xlim=(165, 210))\n",
    "p.set(ylim=(40, 80))\n",
    "p.set(xlabel = \"Player Height (cm)\")\n",
    "p.set(ylabel = \"Player Serve Pts Win% (player by year)\")\n",
    "p.set(title = \"Height vs Serve Pts Win%:Tier 4- Hard Court\")"
   ]
  },
  {
   "cell_type": "markdown",
   "id": "470902f2",
   "metadata": {},
   "source": [
    "### Height and Serve Performance: Restricted to the Last Decade (and still just hard courts)"
   ]
  },
  {
   "cell_type": "code",
   "execution_count": null,
   "id": "c6eccfbf",
   "metadata": {},
   "outputs": [],
   "source": [
    "#Hard Court and since 2010 Only\n",
    "df_filter_hard = df.loc[(df[\"t_surf\"] == \"Hard\")]\n",
    "df_filter_hard_2010to2019 = df_filter_hard.loc[(df_filter_hard[\"tour_yr\"] >= 2010)]\n",
    "df_filter_hard_2010to2019.info()"
   ]
  },
  {
   "cell_type": "code",
   "execution_count": null,
   "id": "6d35726a",
   "metadata": {},
   "outputs": [],
   "source": [
    "# Top Tier Only\n",
    "df_filter_hard_toptier_2010to2019 = df_filter_hard_2010to2019.loc[(df_filter_hard_2010to2019[\"rank_tier\"] == \"<=25\")]\n",
    "df_filter_hard_toptier_2010to2019"
   ]
  },
  {
   "cell_type": "code",
   "execution_count": null,
   "id": "ca986b70",
   "metadata": {},
   "outputs": [],
   "source": [
    "pts_df_filter_hard_toptier_2010to2019 = df_filter_hard_toptier_2010to2019.groupby(['tour_yr','rank_tier','p_id', 'p_ht'], as_index=False)['p_sv_pts_won%'].mean()\n",
    "pts_df_filter_hard_toptier_2010to2019"
   ]
  },
  {
   "cell_type": "code",
   "execution_count": null,
   "id": "78be3c08",
   "metadata": {},
   "outputs": [],
   "source": [
    "#Plot for Tier 1 (2010-2019; hard court only)\n",
    "\n",
    "sns.set(font_scale=1.25)\n",
    "\n",
    "p = sns.lmplot(x=\"p_ht\", y=\"p_sv_pts_won%\", data=pts_df_filter_hard_toptier_2010to2019, hue=\"rank_tier\", palette=[\"g\"], legend=None, ci=None)\n",
    "\n",
    "p.set(xlim=(165, 210))\n",
    "p.set(ylim=(40, 80))\n",
    "p.set(xlabel = \"Player Height (cm)\")\n",
    "p.set(ylabel = \"Player Serve Pts Win% (player by year)\")\n",
    "p.set(title = \"Ht vs Sv Pts Win%: 1st Tier: 2010-2019-Hard\")"
   ]
  },
  {
   "cell_type": "code",
   "execution_count": null,
   "id": "de02f030",
   "metadata": {},
   "outputs": [],
   "source": [
    "# Second Tier Only\n",
    "df_filter_hard_secondtier_2010to2019 = df_filter_hard_2010to2019.loc[(df_filter_hard_2010to2019[\"rank_tier\"] == \"26-50\")]\n",
    "df_filter_hard_secondtier_2010to2019"
   ]
  },
  {
   "cell_type": "code",
   "execution_count": null,
   "id": "85533bfc",
   "metadata": {},
   "outputs": [],
   "source": [
    "pts_df_filter_hard_secondtier_2010to2019 = df_filter_hard_secondtier_2010to2019.groupby(['tour_yr','rank_tier','p_id', 'p_ht'], as_index=False)['p_sv_pts_won%'].mean()\n",
    "pts_df_filter_hard_secondtier_2010to2019"
   ]
  },
  {
   "cell_type": "code",
   "execution_count": null,
   "id": "2e21e96d",
   "metadata": {},
   "outputs": [],
   "source": [
    "#Plot for Tier 2 (2010-2019; hard court only)\n",
    "\n",
    "sns.set(font_scale=1.25)\n",
    "\n",
    "p = sns.lmplot(x=\"p_ht\", y=\"p_sv_pts_won%\", data=pts_df_filter_hard_secondtier_2010to2019, hue=\"rank_tier\", palette=[\"b\"], legend=None, ci=None)\n",
    "\n",
    "p.set(xlim=(165, 210))\n",
    "p.set(ylim=(40, 80))\n",
    "p.set(xlabel = \"Player Height (cm)\")\n",
    "p.set(ylabel = \"Player Serve Pts Win% (player by year)\")\n",
    "p.set(title = \"Ht vs Sv Pts Win%: 2nd Tier: 2010-2019-Hard\")"
   ]
  },
  {
   "cell_type": "code",
   "execution_count": null,
   "id": "dd03feda",
   "metadata": {},
   "outputs": [],
   "source": [
    "# Third Tier Only\n",
    "df_filter_hard_thirdtier_2010to2019 = df_filter_hard_2010to2019.loc[(df_filter_hard_2010to2019[\"rank_tier\"] == \"51-125\")]\n",
    "df_filter_hard_thirdtier_2010to2019"
   ]
  },
  {
   "cell_type": "code",
   "execution_count": null,
   "id": "4fa355f7",
   "metadata": {},
   "outputs": [],
   "source": [
    "pts_df_filter_hard_thirdtier_2010to2019 = df_filter_hard_thirdtier_2010to2019.groupby(['tour_yr','rank_tier','p_id', 'p_ht'], as_index=False)['p_sv_pts_won%'].mean()\n",
    "pts_df_filter_hard_thirdtier_2010to2019"
   ]
  },
  {
   "cell_type": "code",
   "execution_count": null,
   "id": "073652fc",
   "metadata": {},
   "outputs": [],
   "source": [
    "#Plot for Tier 3 (2010-2019; hard court only)\n",
    "\n",
    "sns.set(font_scale=1.25)\n",
    "\n",
    "p = sns.lmplot(x=\"p_ht\", y=\"p_sv_pts_won%\", data=pts_df_filter_hard_thirdtier_2010to2019, hue=\"rank_tier\", palette=[\"c\"], legend=None, ci=None)\n",
    "\n",
    "p.set(xlim=(165, 210))\n",
    "p.set(ylim=(40, 80))\n",
    "p.set(xlabel = \"Player Height (cm)\")\n",
    "p.set(ylabel = \"Player Serve Pts Win% (player by year)\")\n",
    "p.set(title = \"Ht vs Sv Pts Win%: 3rd Tier: 2010-2019-Hard\")"
   ]
  },
  {
   "cell_type": "code",
   "execution_count": null,
   "id": "77a3fe99",
   "metadata": {},
   "outputs": [],
   "source": [
    "# Fourth Tier Only\n",
    "df_filter_hard_fourthtier_2010to2019 = df_filter_hard_2010to2019.loc[(df_filter_hard_2010to2019[\"rank_tier\"] == \"126-200\")]\n",
    "df_filter_hard_fourthtier_2010to2019"
   ]
  },
  {
   "cell_type": "code",
   "execution_count": null,
   "id": "2f80a130",
   "metadata": {},
   "outputs": [],
   "source": [
    "pts_df_filter_hard_fourthtier_2010to2019 = df_filter_hard_fourthtier_2010to2019.groupby(['tour_yr','rank_tier','p_id', 'p_ht'], as_index=False)['p_sv_pts_won%'].mean()\n",
    "pts_df_filter_hard_fourthtier_2010to2019"
   ]
  },
  {
   "cell_type": "code",
   "execution_count": null,
   "id": "b7283182",
   "metadata": {},
   "outputs": [],
   "source": [
    "#Plot for Tier 4 (2010-2019; hard court only)\n",
    "\n",
    "sns.set(font_scale=1.25)\n",
    "\n",
    "p = sns.lmplot(x=\"p_ht\", y=\"p_sv_pts_won%\", data=pts_df_filter_hard_fourthtier_2010to2019, hue=\"rank_tier\", palette=[\"r\"], legend=None, ci=None)\n",
    "\n",
    "p.set(xlim=(165, 210))\n",
    "p.set(ylim=(40, 80))\n",
    "p.set(xlabel = \"Player Height (cm)\")\n",
    "p.set(ylabel = \"Player Serve Pts Win% (player by year)\")\n",
    "p.set(title = \"Ht vs Sv Pts Win%: 4th Tier: 2010-2019-Hard\")"
   ]
  },
  {
   "cell_type": "markdown",
   "id": "9ad81b4d",
   "metadata": {},
   "source": [
    "### age vs serve performance"
   ]
  },
  {
   "cell_type": "code",
   "execution_count": null,
   "id": "4b685708",
   "metadata": {},
   "outputs": [],
   "source": [
    "sv_perc_win_by_yr_plyr_rt_surf_age = df.groupby(['tour_yr','t_surf', 'p_id', 'round_age'], as_index=False)['p_sv_pts_won%'].mean()\n",
    "sv_perc_win_by_yr_plyr_rt_surf_age"
   ]
  },
  {
   "cell_type": "code",
   "execution_count": null,
   "id": "b28cb310",
   "metadata": {},
   "outputs": [],
   "source": [
    "#Hard Court Only\n",
    "df_hc_filter_age = sv_perc_win_by_yr_plyr_rt_surf_age.loc[(sv_perc_win_by_yr_plyr_rt_surf_age[\"t_surf\"] == \"Hard\")]\n",
    "df_hc_filter_age"
   ]
  },
  {
   "cell_type": "code",
   "execution_count": null,
   "id": "05b3fdbe",
   "metadata": {},
   "outputs": [],
   "source": [
    "#Plot for hard court only\n",
    "\n",
    "sns.set(font_scale=1.25)\n",
    "\n",
    "p = sns.lmplot(x=\"round_age\", y=\"p_sv_pts_won%\", data=df_hc_filter_age, hue=\"t_surf\", palette=[\"g\"], legend=None)\n",
    "\n",
    "p.set(xlim=(15, 45))\n",
    "p.set(ylim=(35, 80))\n",
    "p.set(xlabel = \"Player Age (yrs)\")\n",
    "p.set(ylabel = \"Player Serve Pts Win% (player by year)\")\n",
    "p.set(title = \"Player Age vs Serve Pts Win% - Hard Court\")"
   ]
  },
  {
   "cell_type": "code",
   "execution_count": null,
   "id": "be01b6e8",
   "metadata": {},
   "outputs": [],
   "source": [
    "#Clay Court Only\n",
    "df_cc_filter_age = sv_perc_win_by_yr_plyr_rt_surf_age.loc[(sv_perc_win_by_yr_plyr_rt_surf_age[\"t_surf\"] == \"Clay\")]\n",
    "df_cc_filter_age"
   ]
  },
  {
   "cell_type": "code",
   "execution_count": null,
   "id": "6559bdd3",
   "metadata": {},
   "outputs": [],
   "source": [
    "#Plot for clay court only\n",
    "\n",
    "sns.set(font_scale=1.25)\n",
    "\n",
    "p = sns.lmplot(x=\"round_age\", y=\"p_sv_pts_won%\", data=df_cc_filter_age, hue=\"t_surf\", palette=[\"r\"], legend=None)\n",
    "\n",
    "p.set(xlim=(15, 45))\n",
    "p.set(ylim=(35, 80))\n",
    "p.set(xlabel = \"Player Age (yrs)\")\n",
    "p.set(ylabel = \"Player Serve Pts Win% (player by year)\")\n",
    "p.set(title = \"Player Age vs Serve Pts Win% - Clay Court\")"
   ]
  },
  {
   "cell_type": "markdown",
   "id": "c1a4ffcd",
   "metadata": {},
   "source": [
    "### Age vs Serve Performance: Last Decade vs First 15 Years"
   ]
  },
  {
   "cell_type": "code",
   "execution_count": null,
   "id": "c27c41fe",
   "metadata": {},
   "outputs": [],
   "source": [
    "df_1995to2009 = df[(df['tour_yr'] <= 2009)]\n",
    "df_1995to2009.info()"
   ]
  },
  {
   "cell_type": "code",
   "execution_count": null,
   "id": "78b6d430",
   "metadata": {},
   "outputs": [],
   "source": [
    "df_2010to2019 = df[(df['tour_yr'] >= 2010)]\n",
    "df_2010to2019.info()"
   ]
  },
  {
   "cell_type": "code",
   "execution_count": null,
   "id": "da87f63b",
   "metadata": {},
   "outputs": [],
   "source": [
    "# Age vs SV Performance: Hard Court Data For 1995-2009\n",
    "sv_perc_win_by_yr_plyr_rt_surf_age = df_1995to2009.groupby(['tour_yr','t_surf', 'p_id', 'round_age'], as_index=False)['p_sv_pts_won%'].mean()\n",
    "sv_perc_win_by_yr_plyr_rt_surf_age"
   ]
  },
  {
   "cell_type": "code",
   "execution_count": null,
   "id": "f9d238c3",
   "metadata": {},
   "outputs": [],
   "source": [
    "#Hard Court Only\n",
    "df_hc_filter_age = sv_perc_win_by_yr_plyr_rt_surf_age.loc[(sv_perc_win_by_yr_plyr_rt_surf_age[\"t_surf\"] == \"Hard\")]\n",
    "df_hc_filter_age"
   ]
  },
  {
   "cell_type": "code",
   "execution_count": null,
   "id": "8e56696c",
   "metadata": {},
   "outputs": [],
   "source": [
    "#Serve Performance vs Age Plot for hard court only, and only for 1995-2009\n",
    "\n",
    "sns.set(font_scale=1.25)\n",
    "\n",
    "p = sns.lmplot(x=\"round_age\", y=\"p_sv_pts_won%\", data=df_hc_filter_age, hue=\"t_surf\", palette=[\"b\"], legend=None)\n",
    "\n",
    "p.set(xlim=(15, 42))\n",
    "p.set(ylim=(40, 80))\n",
    "p.set(xlabel = \"Player Age (yrs)\")\n",
    "p.set(ylabel = \"Player Serve Pts Win% (player by year)\")\n",
    "p.set(title = \"Age vs Serve Pts Win% - Hard Court: 1995-2009\")"
   ]
  },
  {
   "cell_type": "code",
   "execution_count": null,
   "id": "e6c701b5",
   "metadata": {},
   "outputs": [],
   "source": [
    "# Age vs SV Performance: Hard Court Data For 2010-2019\n",
    "sv_perc_win_by_yr_plyr_rt_surf_age = df_2010to2019.groupby(['tour_yr','t_surf', 'p_id', 'round_age'], as_index=False)['p_sv_pts_won%'].mean()\n",
    "sv_perc_win_by_yr_plyr_rt_surf_age"
   ]
  },
  {
   "cell_type": "code",
   "execution_count": null,
   "id": "0f51c7ac",
   "metadata": {},
   "outputs": [],
   "source": [
    "#Hard Court Only\n",
    "df_hc_filter_age = sv_perc_win_by_yr_plyr_rt_surf_age.loc[(sv_perc_win_by_yr_plyr_rt_surf_age[\"t_surf\"] == \"Hard\")]\n",
    "df_hc_filter_age"
   ]
  },
  {
   "cell_type": "code",
   "execution_count": null,
   "id": "22e6902e",
   "metadata": {},
   "outputs": [],
   "source": [
    "#Serve Performance vs Age Plot for hard court only, and only for 2010-2019\n",
    "\n",
    "sns.set(font_scale=1.25)\n",
    "\n",
    "p = sns.lmplot(x=\"round_age\", y=\"p_sv_pts_won%\", data=df_hc_filter_age, hue=\"t_surf\", palette=[\"c\"], legend=None)\n",
    "\n",
    "p.set(xlim=(15, 42))\n",
    "p.set(ylim=(40, 80))\n",
    "p.set(xlabel = \"Player Age (yrs)\")\n",
    "p.set(ylabel = \"Player Serve Pts Win% (player by year)\")\n",
    "p.set(title = \"Age vs Serve Pts Win% - Hard Court: 2010-2019\")"
   ]
  },
  {
   "cell_type": "markdown",
   "id": "61e4917e",
   "metadata": {},
   "source": [
    "### Age vs Return Performance: Last Decade vs First 15 Years"
   ]
  },
  {
   "cell_type": "code",
   "execution_count": null,
   "id": "043062f2",
   "metadata": {},
   "outputs": [],
   "source": [
    "# Age vs Return Performance: Hard Court Data For 1995-2009\n",
    "ret_perc_win_by_yr_plyr_rt_surf_age = df_1995to2009.groupby(['tour_yr','t_surf', 'p_id', 'round_age'], as_index=False)['p_ret_pts_won%'].mean()\n",
    "ret_perc_win_by_yr_plyr_rt_surf_age"
   ]
  },
  {
   "cell_type": "code",
   "execution_count": null,
   "id": "4ab119e6",
   "metadata": {},
   "outputs": [],
   "source": [
    "#Hard Court Only\n",
    "df_hc_filter_age = ret_perc_win_by_yr_plyr_rt_surf_age.loc[(ret_perc_win_by_yr_plyr_rt_surf_age[\"t_surf\"] == \"Hard\")]\n",
    "df_hc_filter_age"
   ]
  },
  {
   "cell_type": "code",
   "execution_count": null,
   "id": "e4ffc657",
   "metadata": {},
   "outputs": [],
   "source": [
    "#Return Performance vs Age Plot for hard court only, and only for 1995-2009\n",
    "\n",
    "sns.set(font_scale=1.25)\n",
    "\n",
    "p = sns.lmplot(x=\"round_age\", y=\"p_ret_pts_won%\", data=df_hc_filter_age, hue=\"t_surf\", palette=[\"b\"], legend=None)\n",
    "\n",
    "p.set(xlim=(15, 42))\n",
    "p.set(ylim=(20, 50))\n",
    "p.set(xlabel = \"Player Age (yrs)\")\n",
    "p.set(ylabel = \"Player Return Pts Win% (player by year)\")\n",
    "p.set(title = \"Age vs Return Pts Win% - Hard Court: 1995-2009\")"
   ]
  },
  {
   "cell_type": "code",
   "execution_count": null,
   "id": "a967ceb1",
   "metadata": {},
   "outputs": [],
   "source": [
    "# Age vs Return Performance: Hard Court Data For 2010-2019\n",
    "ret_perc_win_by_yr_plyr_rt_surf_age = df_2010to2019.groupby(['tour_yr','t_surf', 'p_id', 'round_age'], as_index=False)['p_ret_pts_won%'].mean()\n",
    "ret_perc_win_by_yr_plyr_rt_surf_age"
   ]
  },
  {
   "cell_type": "code",
   "execution_count": null,
   "id": "d61ec740",
   "metadata": {},
   "outputs": [],
   "source": [
    "#Hard Court Only\n",
    "df_hc_filter_age = ret_perc_win_by_yr_plyr_rt_surf_age.loc[(ret_perc_win_by_yr_plyr_rt_surf_age[\"t_surf\"] == \"Hard\")]\n",
    "df_hc_filter_age"
   ]
  },
  {
   "cell_type": "code",
   "execution_count": null,
   "id": "c6c31e64",
   "metadata": {},
   "outputs": [],
   "source": [
    "#Return Performance vs Age Plot for hard court only, and only for 2010-2019\n",
    "\n",
    "sns.set(font_scale=1.25)\n",
    "\n",
    "p = sns.lmplot(x=\"round_age\", y=\"p_ret_pts_won%\", data=df_hc_filter_age, hue=\"t_surf\", palette=[\"c\"], legend=None)\n",
    "\n",
    "p.set(xlim=(15, 42))\n",
    "p.set(ylim=(20, 50))\n",
    "p.set(xlabel = \"Player Age (yrs)\")\n",
    "p.set(ylabel = \"Player Return Pts Win% (player by year)\")\n",
    "p.set(title = \"Age vs Return Pts Win% - Hard Court: 2010-2019\")"
   ]
  },
  {
   "cell_type": "markdown",
   "id": "5933a476",
   "metadata": {},
   "source": [
    "### 1995-2009 vs 2010-2019 OVERALL Performance Comparison"
   ]
  },
  {
   "cell_type": "markdown",
   "id": "6582e7ff",
   "metadata": {},
   "source": [
    "#### First, for 1995-2009"
   ]
  },
  {
   "cell_type": "code",
   "execution_count": null,
   "id": "0c9f77fd",
   "metadata": {},
   "outputs": [],
   "source": [
    "# Age vs Overall Performance: Hard Court Data For 1995-2009\n",
    "pts_perc_win_by_yr_plyr_rt_surf_age = df_1995to2009.groupby(['tour_yr','t_surf', 'p_id', 'round_age'], as_index=False)['p_pts_won%'].mean()\n",
    "pts_perc_win_by_yr_plyr_rt_surf_age"
   ]
  },
  {
   "cell_type": "code",
   "execution_count": null,
   "id": "267c0451",
   "metadata": {},
   "outputs": [],
   "source": [
    "#Hard Court Only\n",
    "df_hc_filter_age = pts_perc_win_by_yr_plyr_rt_surf_age.loc[(pts_perc_win_by_yr_plyr_rt_surf_age[\"t_surf\"] == \"Hard\")]\n",
    "df_hc_filter_age"
   ]
  },
  {
   "cell_type": "code",
   "execution_count": null,
   "id": "9bf74a82",
   "metadata": {},
   "outputs": [],
   "source": [
    "#Overall (total points won%) Performance vs Age Plot for hard court only, and only for 1995-2009\n",
    "\n",
    "sns.set(font_scale=1.25)\n",
    "\n",
    "p = sns.lmplot(x=\"round_age\", y=\"p_pts_won%\", data=df_hc_filter_age, hue=\"t_surf\", palette=[\"b\"], legend=None)\n",
    "\n",
    "p.set(xlim=(15, 42))\n",
    "p.set(ylim=(35, 60))\n",
    "p.set(xlabel = \"Player Age (yrs)\")\n",
    "p.set(ylabel = \"Player Total Pts Win% (player by year)\")\n",
    "p.set(title = \"Age vs Total Pts Win% - Hard Court: 1995-2009\")"
   ]
  },
  {
   "cell_type": "markdown",
   "id": "9ae8c888",
   "metadata": {},
   "source": [
    "#### Now, for 2010-2019"
   ]
  },
  {
   "cell_type": "code",
   "execution_count": null,
   "id": "0b94812a",
   "metadata": {},
   "outputs": [],
   "source": [
    "# Age vs Overall Performance: Hard Court Data For 2010-2019\n",
    "pts_perc_win_by_yr_plyr_rt_surf_age = df_2010to2019.groupby(['tour_yr','t_surf', 'p_id', 'round_age'], as_index=False)['p_pts_won%'].mean()\n",
    "pts_perc_win_by_yr_plyr_rt_surf_age"
   ]
  },
  {
   "cell_type": "code",
   "execution_count": null,
   "id": "b8efdfd5",
   "metadata": {},
   "outputs": [],
   "source": [
    "#Hard Court Only\n",
    "df_hc_filter_age = pts_perc_win_by_yr_plyr_rt_surf_age.loc[(pts_perc_win_by_yr_plyr_rt_surf_age[\"t_surf\"] == \"Hard\")]\n",
    "df_hc_filter_age"
   ]
  },
  {
   "cell_type": "code",
   "execution_count": null,
   "id": "a2203def",
   "metadata": {},
   "outputs": [],
   "source": [
    "#Overall (total points won%) Performance vs Age Plot for hard court only, and only for 2010-2019\n",
    "\n",
    "sns.set(font_scale=1.25)\n",
    "\n",
    "p = sns.lmplot(x=\"round_age\", y=\"p_pts_won%\", data=df_hc_filter_age, hue=\"t_surf\", palette=[\"c\"], legend=None)\n",
    "\n",
    "p.set(xlim=(15, 42))\n",
    "p.set(ylim=(35, 60))\n",
    "p.set(xlabel = \"Player Age (yrs)\")\n",
    "p.set(ylabel = \"Player Total Pts Win% (player by year)\")\n",
    "p.set(title = \"Age vs Total Pts Win% - Hard Court: 2010-2019\")"
   ]
  },
  {
   "cell_type": "markdown",
   "id": "2df5c46d",
   "metadata": {},
   "source": [
    "## Return Performance Relative to Height"
   ]
  },
  {
   "cell_type": "code",
   "execution_count": null,
   "id": "ee310514",
   "metadata": {},
   "outputs": [],
   "source": [
    "ret_pts_win = df.groupby(['tour_yr','t_surf', 'p_id', 'p_ht'], as_index=False)['p_ret_pts_won%'].mean()\n",
    "ret_pts_win"
   ]
  },
  {
   "cell_type": "markdown",
   "id": "fef7e93c",
   "metadata": {},
   "source": [
    "#### Hard courts"
   ]
  },
  {
   "cell_type": "code",
   "execution_count": null,
   "id": "77fbc9c7",
   "metadata": {},
   "outputs": [],
   "source": [
    "#Hard Court Only\n",
    "df_hc_filter = ret_pts_win.loc[(ret_pts_win[\"t_surf\"] == \"Hard\")]\n",
    "df_hc_filter"
   ]
  },
  {
   "cell_type": "code",
   "execution_count": null,
   "id": "f69f6b40",
   "metadata": {},
   "outputs": [],
   "source": [
    "#Plot for hard court only\n",
    "\n",
    "sns.set(font_scale=1.25)\n",
    "\n",
    "p = sns.lmplot(x=\"p_ht\", y=\"p_ret_pts_won%\", data=df_hc_filter, hue=\"t_surf\", palette=[\"g\"], legend=None, ci=None)\n",
    "\n",
    "p.set(xlim=(165, 210))\n",
    "p.set(ylim=(10, 50))\n",
    "p.set(xlabel = \"Player Height (cm)\")\n",
    "p.set(ylabel = \"Player Return Pts Win% (player by year)\")\n",
    "p.set(title = \"Player Height vs Return Pts Win% - Hard Court\")"
   ]
  },
  {
   "cell_type": "markdown",
   "id": "4e21a2e3",
   "metadata": {},
   "source": [
    "#### Clay Courts"
   ]
  },
  {
   "cell_type": "code",
   "execution_count": null,
   "id": "3f49fa5a",
   "metadata": {},
   "outputs": [],
   "source": [
    "#Clay Court Only\n",
    "df_cc_filter = ret_pts_win.loc[(ret_pts_win[\"t_surf\"] == \"Clay\")]\n",
    "df_cc_filter"
   ]
  },
  {
   "cell_type": "code",
   "execution_count": null,
   "id": "a6990f12",
   "metadata": {},
   "outputs": [],
   "source": [
    "#Plot for clay court only\n",
    "\n",
    "sns.set(font_scale=1.25)\n",
    "\n",
    "p = sns.lmplot(x=\"p_ht\", y=\"p_ret_pts_won%\", data=df_cc_filter, hue=\"t_surf\", palette=[\"r\"], legend=None, ci=None)\n",
    "\n",
    "p.set(xlim=(165, 210))\n",
    "p.set(ylim=(10, 50))\n",
    "p.set(xlabel = \"Player Height (cm)\")\n",
    "p.set(ylabel = \"Player Return Pts Win% (player by year)\")\n",
    "p.set(title = \"Player Height vs Return Pts Win% - Clay Court\")"
   ]
  },
  {
   "cell_type": "markdown",
   "id": "ddd0db42",
   "metadata": {},
   "source": [
    "## Overall Pts Performance vs Height"
   ]
  },
  {
   "cell_type": "code",
   "execution_count": null,
   "id": "083fe6e0",
   "metadata": {},
   "outputs": [],
   "source": [
    "tot_pts_win = df.groupby(['tour_yr','t_surf', 'p_id', 'p_ht'], as_index=False)['p_pts_won%'].mean()\n",
    "tot_pts_win"
   ]
  },
  {
   "cell_type": "markdown",
   "id": "e9ddde51",
   "metadata": {},
   "source": [
    "#### Hard Court"
   ]
  },
  {
   "cell_type": "code",
   "execution_count": null,
   "id": "968faf75",
   "metadata": {},
   "outputs": [],
   "source": [
    "df_hc_filter = tot_pts_win.loc[(tot_pts_win[\"t_surf\"] == \"Hard\")]\n",
    "df_hc_filter"
   ]
  },
  {
   "cell_type": "code",
   "execution_count": null,
   "id": "5a909edc",
   "metadata": {},
   "outputs": [],
   "source": [
    "#Plot for hard court only\n",
    "\n",
    "sns.set(font_scale=1.25)\n",
    "\n",
    "p = sns.lmplot(x=\"p_ht\", y=\"p_pts_won%\", data=df_hc_filter, hue=\"t_surf\", palette=[\"g\"], legend=None, ci=None)\n",
    "\n",
    "p.set(xlim=(165, 210))\n",
    "p.set(ylim=(30, 60))\n",
    "p.set(xlabel = \"Player Height (cm)\")\n",
    "p.set(ylabel = \"Player Total Pts Win% (player by year)\")\n",
    "p.set(title = \"Player Height vs Total Pts Win% - Hard Court\")"
   ]
  },
  {
   "cell_type": "code",
   "execution_count": null,
   "id": "86f2b50c",
   "metadata": {},
   "outputs": [],
   "source": [
    "df_cc_filter = tot_pts_win.loc[(tot_pts_win[\"t_surf\"] == \"Clay\")]\n",
    "df_cc_filter"
   ]
  },
  {
   "cell_type": "code",
   "execution_count": null,
   "id": "9d6c9bf3",
   "metadata": {},
   "outputs": [],
   "source": [
    "#Plot for clay court only\n",
    "\n",
    "sns.set(font_scale=1.25)\n",
    "\n",
    "p = sns.lmplot(x=\"p_ht\", y=\"p_pts_won%\", data=df_cc_filter, hue=\"t_surf\", palette=[\"r\"], legend=None, ci=None)\n",
    "\n",
    "p.set(xlim=(165, 210))\n",
    "p.set(ylim=(30, 60))\n",
    "p.set(xlabel = \"Player Height (cm)\")\n",
    "p.set(ylabel = \"Player Total Pts Win% (player by year)\")\n",
    "p.set(title = \"Player Height vs Total Pts Win% - Clay Court\")"
   ]
  },
  {
   "cell_type": "markdown",
   "id": "a6b0790b",
   "metadata": {},
   "source": [
    "### Height Vs Overall Performance By Tier (Hard Court Only)"
   ]
  },
  {
   "cell_type": "code",
   "execution_count": null,
   "id": "384d14ac",
   "metadata": {},
   "outputs": [],
   "source": [
    "#Hard Court Only\n",
    "df_filter_hard = df.loc[(df[\"t_surf\"] == \"Hard\")]\n",
    "df_filter_hard.info()"
   ]
  },
  {
   "cell_type": "code",
   "execution_count": null,
   "id": "05c24bdb",
   "metadata": {},
   "outputs": [],
   "source": [
    "# Top Tier Only\n",
    "df_filter_hard_toptier = df_filter_hard.loc[(df_filter_hard[\"rank_tier\"] == \"<=25\")]\n",
    "df_filter_hard_toptier"
   ]
  },
  {
   "cell_type": "code",
   "execution_count": null,
   "id": "634375fd",
   "metadata": {},
   "outputs": [],
   "source": [
    "#Plot for Tier 1 (hard court only)\n",
    "\n",
    "sns.set(font_scale=1.25)\n",
    "\n",
    "p = sns.lmplot(x=\"p_ht\", y=\"p_pts_won%\", data=df_filter_hard_toptier, hue=\"rank_tier\", palette=[\"g\"], legend=None, ci=None)\n",
    "\n",
    "p.set(xlim=(165, 210))\n",
    "p.set(ylim=(10, 80))\n",
    "p.set(xlabel = \"Player Height (cm)\")\n",
    "p.set(ylabel = \"Player Total Pts Win% (player by year)\")\n",
    "p.set(title = \"Ht vs Total Pts Win%: 1st Tier-Hard\")"
   ]
  },
  {
   "cell_type": "code",
   "execution_count": null,
   "id": "40bd2753",
   "metadata": {},
   "outputs": [],
   "source": [
    "# Second Tier Only\n",
    "df_filter_hard_secondtier = df_filter_hard.loc[(df_filter_hard[\"rank_tier\"] == \"26-50\")]\n",
    "df_filter_hard_secondtier"
   ]
  },
  {
   "cell_type": "code",
   "execution_count": null,
   "id": "90d0513f",
   "metadata": {},
   "outputs": [],
   "source": [
    "#Plot for Tier 2 (hard court only)\n",
    "\n",
    "sns.set(font_scale=1.25)\n",
    "\n",
    "p = sns.lmplot(x=\"p_ht\", y=\"p_pts_won%\", data=df_filter_hard_secondtier, hue=\"rank_tier\", palette=[\"b\"], legend=None, ci=None)\n",
    "\n",
    "p.set(xlim=(165, 210))\n",
    "p.set(ylim=(10, 80))\n",
    "p.set(xlabel = \"Player Height (cm)\")\n",
    "p.set(ylabel = \"Player Total Pts Win% (player by year)\")\n",
    "p.set(title = \"Ht vs Total Pts Win%: 2nd Tier-Hard\")"
   ]
  },
  {
   "cell_type": "code",
   "execution_count": null,
   "id": "4404e332",
   "metadata": {},
   "outputs": [],
   "source": [
    "# Third Tier Only\n",
    "df_filter_hard_thirdtier = df_filter_hard.loc[(df_filter_hard[\"rank_tier\"] == \"51-125\")]\n",
    "df_filter_hard_thirdtier"
   ]
  },
  {
   "cell_type": "code",
   "execution_count": null,
   "id": "caed4ef3",
   "metadata": {},
   "outputs": [],
   "source": [
    "#Plot for Tier 3 (hard court only)\n",
    "\n",
    "sns.set(font_scale=1.25)\n",
    "\n",
    "p = sns.lmplot(x=\"p_ht\", y=\"p_pts_won%\", data=df_filter_hard_thirdtier, hue=\"rank_tier\", palette=[\"c\"], legend=None, ci=None)\n",
    "\n",
    "p.set(xlim=(165, 210))\n",
    "p.set(ylim=(10, 80))\n",
    "p.set(xlabel = \"Player Height (cm)\")\n",
    "p.set(ylabel = \"Player Total Pts Win% (player by year)\")\n",
    "p.set(title = \"Ht vs Total Pts Win%: 3rd Tier-Hard\")"
   ]
  },
  {
   "cell_type": "code",
   "execution_count": null,
   "id": "81659d58",
   "metadata": {},
   "outputs": [],
   "source": [
    "# Fourth Tier Only\n",
    "df_filter_hard_fourthtier = df_filter_hard.loc[(df_filter_hard[\"rank_tier\"] == \"126-200\")]\n",
    "df_filter_hard_fourthtier"
   ]
  },
  {
   "cell_type": "code",
   "execution_count": null,
   "id": "33ceb39f",
   "metadata": {},
   "outputs": [],
   "source": [
    "#Plot for Tier 4 (hard court only)\n",
    "\n",
    "sns.set(font_scale=1.25)\n",
    "\n",
    "p = sns.lmplot(x=\"p_ht\", y=\"p_pts_won%\", data=df_filter_hard_fourthtier, hue=\"rank_tier\", palette=[\"r\"], legend=None, ci=None)\n",
    "\n",
    "p.set(xlim=(165, 210))\n",
    "p.set(ylim=(10, 80))\n",
    "p.set(xlabel = \"Player Height (cm)\")\n",
    "p.set(ylabel = \"Player Total Pts Win% (player by year)\")\n",
    "p.set(title = \"Ht vs Total Pts Win%: 4th Tier-Hard\")"
   ]
  },
  {
   "cell_type": "markdown",
   "id": "35f6eba2",
   "metadata": {},
   "source": [
    "## Relationship Between Height and Age"
   ]
  },
  {
   "cell_type": "code",
   "execution_count": 7,
   "id": "a5ec4269",
   "metadata": {},
   "outputs": [
    {
     "data": {
      "text/html": [
       "<div>\n",
       "<style scoped>\n",
       "    .dataframe tbody tr th:only-of-type {\n",
       "        vertical-align: middle;\n",
       "    }\n",
       "\n",
       "    .dataframe tbody tr th {\n",
       "        vertical-align: top;\n",
       "    }\n",
       "\n",
       "    .dataframe thead th {\n",
       "        text-align: right;\n",
       "    }\n",
       "</style>\n",
       "<table border=\"1\" class=\"dataframe\">\n",
       "  <thead>\n",
       "    <tr style=\"text-align: right;\">\n",
       "      <th></th>\n",
       "      <th>p_id</th>\n",
       "      <th>round_age</th>\n",
       "      <th>p_ht</th>\n",
       "    </tr>\n",
       "  </thead>\n",
       "  <tbody>\n",
       "    <tr>\n",
       "      <th>0</th>\n",
       "      <td>100644</td>\n",
       "      <td>17.0</td>\n",
       "      <td>198.0</td>\n",
       "    </tr>\n",
       "    <tr>\n",
       "      <th>1</th>\n",
       "      <td>100644</td>\n",
       "      <td>18.0</td>\n",
       "      <td>198.0</td>\n",
       "    </tr>\n",
       "    <tr>\n",
       "      <th>2</th>\n",
       "      <td>100644</td>\n",
       "      <td>19.0</td>\n",
       "      <td>198.0</td>\n",
       "    </tr>\n",
       "    <tr>\n",
       "      <th>3</th>\n",
       "      <td>100644</td>\n",
       "      <td>20.0</td>\n",
       "      <td>198.0</td>\n",
       "    </tr>\n",
       "    <tr>\n",
       "      <th>4</th>\n",
       "      <td>100644</td>\n",
       "      <td>21.0</td>\n",
       "      <td>198.0</td>\n",
       "    </tr>\n",
       "    <tr>\n",
       "      <th>...</th>\n",
       "      <td>...</td>\n",
       "      <td>...</td>\n",
       "      <td>...</td>\n",
       "    </tr>\n",
       "    <tr>\n",
       "      <th>5255</th>\n",
       "      <td>210013</td>\n",
       "      <td>25.0</td>\n",
       "      <td>188.0</td>\n",
       "    </tr>\n",
       "    <tr>\n",
       "      <th>5256</th>\n",
       "      <td>210013</td>\n",
       "      <td>26.0</td>\n",
       "      <td>188.0</td>\n",
       "    </tr>\n",
       "    <tr>\n",
       "      <th>5257</th>\n",
       "      <td>210013</td>\n",
       "      <td>27.0</td>\n",
       "      <td>188.0</td>\n",
       "    </tr>\n",
       "    <tr>\n",
       "      <th>5258</th>\n",
       "      <td>210013</td>\n",
       "      <td>28.0</td>\n",
       "      <td>188.0</td>\n",
       "    </tr>\n",
       "    <tr>\n",
       "      <th>5259</th>\n",
       "      <td>210013</td>\n",
       "      <td>29.0</td>\n",
       "      <td>188.0</td>\n",
       "    </tr>\n",
       "  </tbody>\n",
       "</table>\n",
       "<p>5260 rows × 3 columns</p>\n",
       "</div>"
      ],
      "text/plain": [
       "        p_id  round_age   p_ht\n",
       "0     100644       17.0  198.0\n",
       "1     100644       18.0  198.0\n",
       "2     100644       19.0  198.0\n",
       "3     100644       20.0  198.0\n",
       "4     100644       21.0  198.0\n",
       "...      ...        ...    ...\n",
       "5255  210013       25.0  188.0\n",
       "5256  210013       26.0  188.0\n",
       "5257  210013       27.0  188.0\n",
       "5258  210013       28.0  188.0\n",
       "5259  210013       29.0  188.0\n",
       "\n",
       "[5260 rows x 3 columns]"
      ]
     },
     "execution_count": 7,
     "metadata": {},
     "output_type": "execute_result"
    }
   ],
   "source": [
    "ht_age_plyr = df.groupby(['p_id', 'round_age', 'p_ht'], as_index=False)['p_ht'].mean()\n",
    "ht_age_plyr"
   ]
  },
  {
   "cell_type": "code",
   "execution_count": null,
   "id": "5c57246f",
   "metadata": {},
   "outputs": [],
   "source": [
    "#ht_age_plyr.to_csv('../data/ht_age_plyr.csv', index=False)"
   ]
  },
  {
   "cell_type": "code",
   "execution_count": 8,
   "id": "0c9474ba",
   "metadata": {},
   "outputs": [
    {
     "data": {
      "text/plain": [
       "<seaborn.axisgrid.FacetGrid at 0x1a30741ea90>"
      ]
     },
     "execution_count": 8,
     "metadata": {},
     "output_type": "execute_result"
    },
    {
     "data": {
      "image/png": "[encoded data removed]",
      "text/plain": [
       "<Figure size 360x360 with 1 Axes>"
      ]
     },
     "metadata": {},
     "output_type": "display_data"
    }
   ],
   "source": [
    "#Plot for height vs age \n",
    "\n",
    "sns.set(font_scale=1.25)\n",
    "\n",
    "p = sns.lmplot(x=\"p_ht\", y=\"round_age\", data=ht_age_plyr, legend=None, ci=None)\n",
    "\n",
    "p.set(xlim=(165, 210))\n",
    "p.set(ylim=(15, 45))\n",
    "p.set(xlabel = \"Player Height (cm)\")\n",
    "p.set(ylabel = \"Player Age (yrs)\")\n",
    "p.set(title = \"Player Height vs Player Age\")"
   ]
  },
  {
   "cell_type": "markdown",
   "id": "03e6ff96",
   "metadata": {},
   "source": [
    "### Performance by Both Height and Age"
   ]
  },
  {
   "cell_type": "code",
   "execution_count": 9,
   "id": "814632b1",
   "metadata": {},
   "outputs": [
    {
     "data": {
      "text/html": [
       "<div>\n",
       "<style scoped>\n",
       "    .dataframe tbody tr th:only-of-type {\n",
       "        vertical-align: middle;\n",
       "    }\n",
       "\n",
       "    .dataframe tbody tr th {\n",
       "        vertical-align: top;\n",
       "    }\n",
       "\n",
       "    .dataframe thead th {\n",
       "        text-align: right;\n",
       "    }\n",
       "</style>\n",
       "<table border=\"1\" class=\"dataframe\">\n",
       "  <thead>\n",
       "    <tr style=\"text-align: right;\">\n",
       "      <th></th>\n",
       "      <th>p_id</th>\n",
       "      <th>round_age</th>\n",
       "      <th>p_ht</th>\n",
       "      <th>p_sv_pts_won%</th>\n",
       "    </tr>\n",
       "  </thead>\n",
       "  <tbody>\n",
       "    <tr>\n",
       "      <th>0</th>\n",
       "      <td>100644</td>\n",
       "      <td>17.0</td>\n",
       "      <td>198.0</td>\n",
       "      <td>44.215000</td>\n",
       "    </tr>\n",
       "    <tr>\n",
       "      <th>1</th>\n",
       "      <td>100644</td>\n",
       "      <td>18.0</td>\n",
       "      <td>198.0</td>\n",
       "      <td>61.158696</td>\n",
       "    </tr>\n",
       "    <tr>\n",
       "      <th>2</th>\n",
       "      <td>100644</td>\n",
       "      <td>19.0</td>\n",
       "      <td>198.0</td>\n",
       "      <td>64.172069</td>\n",
       "    </tr>\n",
       "    <tr>\n",
       "      <th>3</th>\n",
       "      <td>100644</td>\n",
       "      <td>20.0</td>\n",
       "      <td>198.0</td>\n",
       "      <td>68.173636</td>\n",
       "    </tr>\n",
       "    <tr>\n",
       "      <th>4</th>\n",
       "      <td>100644</td>\n",
       "      <td>21.0</td>\n",
       "      <td>198.0</td>\n",
       "      <td>67.066563</td>\n",
       "    </tr>\n",
       "    <tr>\n",
       "      <th>...</th>\n",
       "      <td>...</td>\n",
       "      <td>...</td>\n",
       "      <td>...</td>\n",
       "      <td>...</td>\n",
       "    </tr>\n",
       "    <tr>\n",
       "      <th>5255</th>\n",
       "      <td>210013</td>\n",
       "      <td>25.0</td>\n",
       "      <td>188.0</td>\n",
       "      <td>62.357000</td>\n",
       "    </tr>\n",
       "    <tr>\n",
       "      <th>5256</th>\n",
       "      <td>210013</td>\n",
       "      <td>26.0</td>\n",
       "      <td>188.0</td>\n",
       "      <td>64.438158</td>\n",
       "    </tr>\n",
       "    <tr>\n",
       "      <th>5257</th>\n",
       "      <td>210013</td>\n",
       "      <td>27.0</td>\n",
       "      <td>188.0</td>\n",
       "      <td>62.038571</td>\n",
       "    </tr>\n",
       "    <tr>\n",
       "      <th>5258</th>\n",
       "      <td>210013</td>\n",
       "      <td>28.0</td>\n",
       "      <td>188.0</td>\n",
       "      <td>60.576471</td>\n",
       "    </tr>\n",
       "    <tr>\n",
       "      <th>5259</th>\n",
       "      <td>210013</td>\n",
       "      <td>29.0</td>\n",
       "      <td>188.0</td>\n",
       "      <td>52.150000</td>\n",
       "    </tr>\n",
       "  </tbody>\n",
       "</table>\n",
       "<p>5260 rows × 4 columns</p>\n",
       "</div>"
      ],
      "text/plain": [
       "        p_id  round_age   p_ht  p_sv_pts_won%\n",
       "0     100644       17.0  198.0      44.215000\n",
       "1     100644       18.0  198.0      61.158696\n",
       "2     100644       19.0  198.0      64.172069\n",
       "3     100644       20.0  198.0      68.173636\n",
       "4     100644       21.0  198.0      67.066563\n",
       "...      ...        ...    ...            ...\n",
       "5255  210013       25.0  188.0      62.357000\n",
       "5256  210013       26.0  188.0      64.438158\n",
       "5257  210013       27.0  188.0      62.038571\n",
       "5258  210013       28.0  188.0      60.576471\n",
       "5259  210013       29.0  188.0      52.150000\n",
       "\n",
       "[5260 rows x 4 columns]"
      ]
     },
     "execution_count": 9,
     "metadata": {},
     "output_type": "execute_result"
    }
   ],
   "source": [
    "ht_age_plyr_svpts = df.groupby(['p_id', 'round_age', 'p_ht'], as_index=False)['p_sv_pts_won%'].mean()\n",
    "ht_age_plyr_svpts"
   ]
  },
  {
   "cell_type": "code",
   "execution_count": null,
   "id": "3a28bfd8",
   "metadata": {},
   "outputs": [],
   "source": [
    "#ht_age_plyr_svpts.to_csv('../data/ht_age_plyr_svpts.csv', index=False)"
   ]
  },
  {
   "cell_type": "code",
   "execution_count": null,
   "id": "3cedb55b",
   "metadata": {},
   "outputs": [],
   "source": []
  },
  {
   "cell_type": "code",
   "execution_count": 14,
   "id": "34a7f604",
   "metadata": {},
   "outputs": [
    {
     "data": {
      "text/plain": [
       "[None]"
      ]
     },
     "execution_count": 14,
     "metadata": {},
     "output_type": "execute_result"
    },
    {
     "data": {
      "image/png": "[encoded data removed]",
      "text/plain": [
       "<Figure size 576x432 with 1 Axes>"
      ]
     },
     "metadata": {},
     "output_type": "display_data"
    }
   ],
   "source": [
    "fig = plt.figure(figsize=(8, 6))\n",
    "ax = plt.axes(projection='3d')\n",
    "xdata = ht_age_plyr_svpts[\"round_age\"]\n",
    "ydata = ht_age_plyr_svpts[\"p_ht\"]\n",
    "zdata = ht_age_plyr_svpts[\"p_sv_pts_won%\"]\n",
    "ax.scatter3D(xdata, ydata, zdata, c=zdata, cmap='Blues');\n",
    "\n",
    "ax.set_xlim(15, 45)\n",
    "ax.set_ylim(160, 210)\n",
    "ax.set_zlim(30, 75)\n",
    "ax.set_xlabel('Age (yrs)')\n",
    "ax.set_ylabel('Height (cm)')\n",
    "ax.set_zlabel('Serve Points Win%')\n",
    "ax.set_title('Player Mean Serve Points Win% by Height and Age')\n",
    "ax.set(facecolor='w')\n",
    "fig.set(facecolor='w')"
   ]
  },
  {
   "cell_type": "code",
   "execution_count": null,
   "id": "44c5ad4f",
   "metadata": {},
   "outputs": [],
   "source": [
    "ax = plt.axes(projection='3d')\n",
    "ax.plot_surface(xdata, ydata, zdata, rstride=1, cstride=1,\n",
    "                cmap='viridis', edgecolor='none')\n",
    "ax.set_title('surface');"
   ]
  },
  {
   "cell_type": "code",
   "execution_count": null,
   "id": "89768835",
   "metadata": {},
   "outputs": [],
   "source": []
  },
  {
   "cell_type": "code",
   "execution_count": null,
   "id": "3cca3db3",
   "metadata": {},
   "outputs": [],
   "source": []
  },
  {
   "cell_type": "code",
   "execution_count": null,
   "id": "2d9dd965",
   "metadata": {},
   "outputs": [],
   "source": []
  },
  {
   "cell_type": "markdown",
   "id": "573f4cf4",
   "metadata": {},
   "source": [
    "### Ace Performance"
   ]
  },
  {
   "cell_type": "code",
   "execution_count": null,
   "id": "6a60fda5",
   "metadata": {},
   "outputs": [],
   "source": [
    "ace_perc_by_ysp = df.groupby(['tour_yr','t_surf','p_id'], as_index=False)['p_ace%'].mean()\n",
    "ace_perc_by_ysp"
   ]
  },
  {
   "cell_type": "code",
   "execution_count": null,
   "id": "8c43c175",
   "metadata": {},
   "outputs": [],
   "source": [
    "sns.set(font_scale=1.75)\n",
    "\n",
    "p = sns.relplot(\n",
    "    data=ace_perc_by_ysp, marker = \"o\", markersize=10, x=\"tour_yr\", y=\"p_ace%\", hue=\"t_surf\", hue_order=[\"Clay\",\"Hard\"], \n",
    "    height=5, aspect=2, \n",
    "    kind=\"line\",\n",
    "    palette=['r', 'g'], linewidth=3\n",
    ").set(title=\"Ace % By Surface: 1996-2019\", \n",
    "    ylabel=\"Ace % (mean [95% CI] at player level)\",\n",
    "    xlabel= \"Year\", xlim = (1994, 2020), xticks = [1995, 2000, 2005, 2010, 2015, 2020]\n",
    ")\n",
    "\n",
    "p._legend.set_title(\"Play Surface\")\n",
    "p._legend.set_bbox_to_anchor([1.08, .5])"
   ]
  },
  {
   "cell_type": "code",
   "execution_count": null,
   "id": "f278443f",
   "metadata": {},
   "outputs": [],
   "source": [
    "df[\"rank_tier\"] = \"\""
   ]
  },
  {
   "cell_type": "code",
   "execution_count": null,
   "id": "511d02a9",
   "metadata": {},
   "outputs": [],
   "source": [
    "# Binning players by ranking tier\n",
    "df.loc[df[\"p_rank\"] <=25, \"rank_tier\"] = \"<=25\"\n",
    "df.loc[(df[\"p_rank\"] > 25) & (df[\"p_rank\"] <= 50), \"rank_tier\"] = \"26-50\"\n",
    "df.loc[(df[\"p_rank\"] > 51) & (df[\"p_rank\"] <= 125), \"rank_tier\"] = \"51-125\"\n",
    "df.loc[(df[\"p_rank\"] > 126) & (df[\"p_rank\"] <= 200), \"rank_tier\"] = \"126-200\""
   ]
  },
  {
   "cell_type": "code",
   "execution_count": null,
   "id": "659d1688",
   "metadata": {},
   "outputs": [],
   "source": [
    "df[\"rank_tier\"].unique()"
   ]
  },
  {
   "cell_type": "markdown",
   "id": "eccfbf40",
   "metadata": {},
   "source": [
    "#### Looking at ace% by ranking tier, by surface, by year"
   ]
  },
  {
   "cell_type": "code",
   "execution_count": null,
   "id": "6f8d7285",
   "metadata": {},
   "outputs": [],
   "source": [
    "ace_by_ysrtp = df.groupby(['tour_yr','t_surf', 'rank_tier', 'p_id'], as_index=False)['p_ace%'].mean()\n",
    "ace_by_ysrtp"
   ]
  },
  {
   "cell_type": "code",
   "execution_count": null,
   "id": "d4f952bd",
   "metadata": {},
   "outputs": [],
   "source": [
    "df_hc_filter = ace_by_ysrtp.loc[(ace_by_ysrtp[\"t_surf\"] == \"Hard\")]\n",
    "df_hc_filter"
   ]
  },
  {
   "cell_type": "code",
   "execution_count": null,
   "id": "4c695bdf",
   "metadata": {},
   "outputs": [],
   "source": [
    "sns.set(font_scale=1.75)\n",
    "\n",
    "p = sns.relplot(\n",
    "    data=df_hc_filter, marker = \"o\", markersize=10, x=\"tour_yr\", y=\"p_ace%\", hue=\"rank_tier\", hue_order=[\"<=25\", \"26-50\", \"51-125\",\"126-200\"], height=5, aspect=2, palette = [\"g\", \"b\", \"c\", \"r\"],\n",
    "    kind=\"line\", linewidth=3\n",
    ").set(title=\"Ace % By Player Ranking Tier: 1996-2019 - Hard Courts\", \n",
    "    ylabel=\"Ace % (mean [95% CI] at player level)\",\n",
    "    xlabel= \"Year\", xlim = (1994, 2020), xticks = [1995, 2000, 2005, 2010, 2015, 2020]\n",
    ")\n",
    "\n",
    "p._legend.set_title(\"Player Ranking Tier\")\n",
    "p._legend.set_bbox_to_anchor([1.08, .5])"
   ]
  },
  {
   "cell_type": "code",
   "execution_count": null,
   "id": "86ad6331",
   "metadata": {},
   "outputs": [],
   "source": [
    "df_cc_filter = ace_by_ysrtp.loc[(ace_by_ysrtp[\"t_surf\"] == \"Clay\")]\n",
    "df_cc_filter"
   ]
  },
  {
   "cell_type": "code",
   "execution_count": null,
   "id": "98134b30",
   "metadata": {},
   "outputs": [],
   "source": [
    "sns.set(font_scale=1.75)\n",
    "\n",
    "p = sns.relplot(\n",
    "    data=df_cc_filter, marker = \"o\", markersize=10, x=\"tour_yr\", y=\"p_ace%\", hue=\"rank_tier\", hue_order=[\"<=25\", \"26-50\", \"51-125\",\"126-200\"], height=5, aspect=2, palette = [\"g\", \"b\", \"c\", \"r\"],\n",
    "    kind=\"line\", linewidth=3\n",
    ").set(title=\"Ace % By Player Ranking Tier: 1996-2019 - Clay Courts\", \n",
    "    ylabel=\"Ace % (mean [95% CI] at player level)\",\n",
    "    xlabel= \"Year\", xlim = (1994, 2020), xticks = [1995, 2000, 2005, 2010, 2015, 2020]\n",
    ")\n",
    "\n",
    "p._legend.set_title(\"Player Ranking Tier\")\n",
    "p._legend.set_bbox_to_anchor([1.08, .5])"
   ]
  },
  {
   "cell_type": "markdown",
   "id": "d68f7d87",
   "metadata": {},
   "source": [
    "### Now looking at the same, but for aced% (ace defense)"
   ]
  },
  {
   "cell_type": "code",
   "execution_count": null,
   "id": "27886949",
   "metadata": {},
   "outputs": [],
   "source": [
    "aced_perc_by_ysp = df.groupby(['tour_yr','t_surf','p_id'], as_index=False)['p_aced%'].mean()\n",
    "aced_perc_by_ysp"
   ]
  },
  {
   "cell_type": "code",
   "execution_count": null,
   "id": "46a110f0",
   "metadata": {},
   "outputs": [],
   "source": [
    "sns.set(font_scale=1.75)\n",
    "\n",
    "p = sns.relplot(\n",
    "    data=aced_perc_by_ysp, marker = \"o\", markersize=10, x=\"tour_yr\", y=\"p_aced%\", hue=\"t_surf\", hue_order=[\"Clay\",\"Hard\"], \n",
    "    height=5, aspect=2, \n",
    "    kind=\"line\",\n",
    "    palette=['r', 'g'], linewidth=3\n",
    ").set(title=\"Aced % By Surface: 1996-2019\", \n",
    "    ylabel=\"Aced % (mean [95% CI] at player level)\",\n",
    "    xlabel= \"Year\", xlim = (1994, 2020), xticks = [1995, 2000, 2005, 2010, 2015, 2020]\n",
    ")\n",
    "\n",
    "p._legend.set_title(\"Play Surface\")\n",
    "p._legend.set_bbox_to_anchor([1.08, .5])"
   ]
  },
  {
   "cell_type": "markdown",
   "id": "ecba4e0c",
   "metadata": {},
   "source": [
    "#### Looking at aced% by ranking tier, by surface, by year"
   ]
  },
  {
   "cell_type": "code",
   "execution_count": null,
   "id": "af1db151",
   "metadata": {},
   "outputs": [],
   "source": [
    "aced_by_ysrtp = df.groupby(['tour_yr','t_surf', 'rank_tier', 'p_id'], as_index=False)['p_aced%'].mean()\n",
    "aced_by_ysrtp"
   ]
  },
  {
   "cell_type": "code",
   "execution_count": null,
   "id": "74d02333",
   "metadata": {},
   "outputs": [],
   "source": [
    "df_hc_filter_aced = aced_by_ysrtp.loc[(aced_by_ysrtp[\"t_surf\"] == \"Hard\")]\n",
    "df_hc_filter_aced"
   ]
  },
  {
   "cell_type": "code",
   "execution_count": null,
   "id": "a6d4cda9",
   "metadata": {},
   "outputs": [],
   "source": [
    "sns.set(font_scale=1.75)\n",
    "\n",
    "p = sns.relplot(\n",
    "    data=df_hc_filter_aced, marker = \"o\", markersize=10, x=\"tour_yr\", y=\"p_aced%\", hue=\"rank_tier\", hue_order=[\"<=25\", \"26-50\", \"51-125\",\"126-200\"], height=5, aspect=2, palette = [\"g\", \"b\", \"c\", \"r\"],\n",
    "    kind=\"line\", linewidth=3\n",
    ").set(title=\"Aced % By Player Ranking Tier: 1996-2019 - Hard Courts\", \n",
    "    ylabel=\"Aced % (mean [95% CI] at player level)\",\n",
    "    xlabel= \"Year\", xlim = (1994, 2020), xticks = [1995, 2000, 2005, 2010, 2015, 2020]\n",
    ")\n",
    "\n",
    "p._legend.set_title(\"Player Ranking Tier\")\n",
    "p._legend.set_bbox_to_anchor([1.08, .5])"
   ]
  },
  {
   "cell_type": "code",
   "execution_count": null,
   "id": "3015415b",
   "metadata": {},
   "outputs": [],
   "source": [
    "df_cc_filter_aced = aced_by_ysrtp.loc[(aced_by_ysrtp[\"t_surf\"] == \"Clay\")]\n",
    "df_cc_filter_aced"
   ]
  },
  {
   "cell_type": "code",
   "execution_count": null,
   "id": "053d9e8d",
   "metadata": {},
   "outputs": [],
   "source": [
    "sns.set(font_scale=1.75)\n",
    "\n",
    "p = sns.relplot(\n",
    "    data=df_cc_filter_aced, marker = \"o\", markersize=10, x=\"tour_yr\", y=\"p_aced%\", hue=\"rank_tier\", hue_order=[\"<=25\", \"26-50\", \"51-125\",\"126-200\"], height=5, aspect=2, palette = [\"g\", \"b\", \"c\", \"r\"],\n",
    "    kind=\"line\", linewidth=3\n",
    ").set(title=\"Aced % By Player Ranking Tier: 1996-2019 - Clay Courts\", \n",
    "    ylabel=\"Aced % (mean [95% CI] at player level)\",\n",
    "    xlabel= \"Year\", xlim = (1994, 2020), xticks = [1995, 2000, 2005, 2010, 2015, 2020]\n",
    ")\n",
    "\n",
    "p._legend.set_title(\"Player Ranking Tier\")\n",
    "p._legend.set_bbox_to_anchor([1.08, .5])"
   ]
  },
  {
   "cell_type": "markdown",
   "id": "d17da205",
   "metadata": {},
   "source": [
    "#### % serve points won instead of aces"
   ]
  },
  {
   "cell_type": "code",
   "execution_count": null,
   "id": "8831eb23",
   "metadata": {},
   "outputs": [],
   "source": [
    "sv_perc_by_ysp = df.groupby(['tour_yr','t_surf','p_id'], as_index=False)['p_sv_pts_won%'].mean()\n",
    "sv_perc_by_ysp"
   ]
  },
  {
   "cell_type": "code",
   "execution_count": null,
   "id": "6d60a3aa",
   "metadata": {},
   "outputs": [],
   "source": [
    "df_hc_filter_sv_perc = sv_perc_by_ysp.loc[(sv_perc_by_ysp[\"t_surf\"] == \"Hard\")]\n",
    "df_hc_filter_sv_perc"
   ]
  },
  {
   "cell_type": "code",
   "execution_count": null,
   "id": "aa616f58",
   "metadata": {},
   "outputs": [],
   "source": []
  },
  {
   "cell_type": "code",
   "execution_count": null,
   "id": "4da6ed59",
   "metadata": {},
   "outputs": [],
   "source": [
    "sv_pts_won_by_ysrtp = df.groupby(['tour_yr','t_surf', 'rank_tier', 'p_id'], as_index=False)['p_sv_pts_won%'].mean()\n",
    "sv_pts_won_by_ysrtp"
   ]
  },
  {
   "cell_type": "code",
   "execution_count": null,
   "id": "329c2139",
   "metadata": {},
   "outputs": [],
   "source": [
    "sns.set(font_scale=1.75)\n",
    "\n",
    "p = sns.relplot(\n",
    "    data=df_hc_filter_aced, marker = \"o\", markersize=10, x=\"tour_yr\", y=\"p_aced%\", hue=\"rank_tier\", hue_order=[\"<=25\", \"26-50\", \"51-125\",\"126-200\"], height=5, aspect=2, palette = [\"g\", \"b\", \"c\", \"r\"],\n",
    "    kind=\"line\", linewidth=3\n",
    ").set(title=\"Aced % By Player Ranking Tier: 1996-2019 - Hard Courts\", \n",
    "    ylabel=\"Aced % (mean [95% CI] at player level)\",\n",
    "    xlabel= \"Year\", xlim = (1994, 2020), xticks = [1995, 2000, 2005, 2010, 2015, 2020]\n",
    ")\n",
    "\n",
    "p._legend.set_title(\"Player Ranking Tier\")\n",
    "p._legend.set_bbox_to_anchor([1.08, .5])"
   ]
  }
 ],
 "metadata": {
  "kernelspec": {
   "display_name": "Python 3",
   "language": "python",
   "name": "python3"
  },
  "language_info": {
   "codemirror_mode": {
    "name": "ipython",
    "version": 3
   },
   "file_extension": ".py",
   "mimetype": "text/x-python",
   "name": "python",
   "nbconvert_exporter": "python",
   "pygments_lexer": "ipython3",
   "version": "3.8.8"
  }
 },
 "nbformat": 4,
 "nbformat_minor": 5
}
