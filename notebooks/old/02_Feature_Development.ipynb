{
 "cells": [
  {
   "cell_type": "markdown",
   "id": "e054b1db",
   "metadata": {},
   "source": [
    "## Overview of Feature Development"
   ]
  },
  {
   "cell_type": "markdown",
   "id": "11a1f07d",
   "metadata": {},
   "source": [
    "In the previous workbook (01_Data_Cleaning_Wrangling), raw data were imported, clean and expanded upon. In this workbook, an extensive set of features is developed from the raw data (currently years 2012-2019). At a high level:\n",
    "* Target feature created per match to be predicted on (% total points won per player in match to be predicted on)\n",
    "* For each match to be predicted on, to assess long-term player performance as a predictor of performance in the next match under similar conditions, mean match stats-derived features from previous matches are accrued over the 60 matches previous to the match being predicted on. \n",
    "    * This accrual (save for a few specific cases, such as total matches previously played in the overall data sample) is surface-specific (hard or clay courts, with addtional features sensitive to indoor or outdoor match status) \n",
    "    * These past 60-match features are also decay weighted, such that matches occuring closer in time to the match being predicted on are weighted more than matches occuring less recently in time relative to the match being predicted on. Both the 60 match horizon, as well as the specific decay-weighting employed presently, have been derived (\"optimized\") empiricaly based on feedback from model performance with different parameters \n",
    "    * Decay-weighted past perfomance features (over the last 60 surface matches reltive to a given match to be predicted on) have also been adjusted based on the relatively strong or weak past performance of the opponents faced during that 60 match stretch relative to a theoretical schedule of opponents of average past performance. \n",
    "        * This \"Strength of Schedule\" weighting makes a substantial improvement to prediction accuracy (I've determined this from running models with and without such adjustment). \n",
    "        * This weghting is also done with respect to time-decay weighting, ie opponent strength computation is subject to the same time decay weighting relative to the match being predicted on as the player's own performance being adjusted was\n",
    "* Apart from performance-based features, another set of features generated here deals with player stamina (derived from number of past matches played) and fatigue (points or minutes spent on court thus far in a given tournament. Stamina and fatigue are integrated into one \"body battery\" metric as well, which I've shown has more predictive value than considering fatigue or stamina in isolation. \n",
    "    * As with engineered performance features, fatigue features are fitted with empirically-derived, time decay-weighted curves\n",
    "* A number of other features are derived in this workbook, including on topics including head-to-head past performance between two players in a given match to be predicted on, handedness, height, \"home court advantage\" and court speed estimation (based on the past year's aggregate ace performance at the same tournament) and potential effects relative to individual player profiles\n",
    "* All player-level features generated in this workbook are formulated both in a \"raw\" version (ie, without respect to the opponent in the match to be predicted on) and a \"differential\" version (ie, WITH respect to the opponent in the match to be predicted on). Modeling shows that the differential versions of the features are MUCH more predictive than the raw versions. Though including the raw versions as well does yield a slight improvement in target feature prediction.\n",
    "* Currently, a data inclusion date range of 2012-2019 is delimited (this has been shaped by feedback from EDA and modeling), and matches played on grass (too low a sample size; also removed Davis up and Olympics matches for same reason as well as for their \"odd\" contexts) and matches where one player withdrew (usually for injury reason) either before the match or early on in the match were filtered out and NOT included in feature generation. Critically, matches filtered out beyond this point (see EDA and Modeling workbooks) WERE used for initial feature generation/accrual.\n",
    "* UPDATE: For modeling clay court tennis specifically, where the sample is much smaller (by ~3-4x) over the same time frame as for hard court tennis, the sample has been expanded over 3 additional years (2009-2019). \n",
    "* A final general statement that is important to make is that pains are taken throughout to avoid \"data leakage\", which is to say to avoid incorporating into predictive features any information that would not have been available prior to the time a given match being predicted on was played. "
   ]
  },
  {
   "cell_type": "markdown",
   "id": "671afba3",
   "metadata": {},
   "source": [
    "### Imports"
   ]
  },
  {
   "cell_type": "code",
   "execution_count": 1,
   "id": "ad194731",
   "metadata": {},
   "outputs": [],
   "source": [
    "import pandas as pd\n",
    "import numpy as np\n",
    "import os\n",
    "import warnings\n",
    "warnings.filterwarnings('ignore')"
   ]
  },
  {
   "cell_type": "markdown",
   "id": "bba56de4",
   "metadata": {},
   "source": [
    "### Load Preprocessed Data"
   ]
  },
  {
   "cell_type": "code",
   "execution_count": 2,
   "id": "aae542e0",
   "metadata": {},
   "outputs": [],
   "source": [
    "#Load preprocessed (clay court time range)\n",
    "#df = pd.read_csv('../data/cleaned_data_for_FeatureDev_2009to2019.csv')"
   ]
  },
  {
   "cell_type": "code",
   "execution_count": 3,
   "id": "efc961ac",
   "metadata": {},
   "outputs": [],
   "source": [
    "#Load preprocessed (hard court time range)\n",
    "df = pd.read_csv('../data/cleaned_data_for_FeatureDev_2012to2019.csv')"
   ]
  },
  {
   "cell_type": "code",
   "execution_count": 4,
   "id": "0e8398f9",
   "metadata": {},
   "outputs": [
    {
     "name": "stdout",
     "output_type": "stream",
     "text": [
      "<class 'pandas.core.frame.DataFrame'>\n",
      "RangeIndex: 27532 entries, 0 to 27531\n",
      "Data columns (total 48 columns):\n",
      " #   Column       Non-Null Count  Dtype  \n",
      "---  ------       --------------  -----  \n",
      " 0   t_id         27532 non-null  object \n",
      " 1   t_date       27532 non-null  int64  \n",
      " 2   tour_wk      27532 non-null  object \n",
      " 3   t_name       27532 non-null  object \n",
      " 4   t_country    27532 non-null  object \n",
      " 5   t_surf       27532 non-null  object \n",
      " 6   t_indoor     27532 non-null  int64  \n",
      " 7   t_alt        27532 non-null  int64  \n",
      " 8   t_lvl        27532 non-null  int64  \n",
      " 9   t_draw_size  27532 non-null  int64  \n",
      " 10  m_num        27532 non-null  int64  \n",
      " 11  t_round      27532 non-null  object \n",
      " 12  t_round_num  27532 non-null  int64  \n",
      " 13  m_best_of    27532 non-null  int64  \n",
      " 14  m_score      27532 non-null  object \n",
      " 15  m_time(m)    27532 non-null  float64\n",
      " 16  w_id         27532 non-null  int64  \n",
      " 17  w_name       27532 non-null  object \n",
      " 18  w_rank       27521 non-null  float64\n",
      " 19  w_rank_pts   27521 non-null  float64\n",
      " 20  w_ioc        27532 non-null  object \n",
      " 21  w_ent        27532 non-null  float64\n",
      " 22  w_hd         27532 non-null  object \n",
      " 23  w_ht         27512 non-null  float64\n",
      " 24  w_age        27532 non-null  float64\n",
      " 25  w_svpt       27532 non-null  float64\n",
      " 26  w_1stWon     27532 non-null  float64\n",
      " 27  w_2ndWon     27532 non-null  float64\n",
      " 28  w_SvGms      27532 non-null  float64\n",
      " 29  w_ace        27532 non-null  float64\n",
      " 30  w_bpSaved    27532 non-null  float64\n",
      " 31  w_bpFaced    27532 non-null  float64\n",
      " 32  l_id         27532 non-null  int64  \n",
      " 33  l_name       27532 non-null  object \n",
      " 34  l_rank       27468 non-null  float64\n",
      " 35  l_rank_pts   27468 non-null  float64\n",
      " 36  l_ioc        27532 non-null  object \n",
      " 37  l_ent        27532 non-null  float64\n",
      " 38  l_hd         27532 non-null  object \n",
      " 39  l_ht         27464 non-null  float64\n",
      " 40  l_age        27532 non-null  float64\n",
      " 41  l_svpt       27532 non-null  float64\n",
      " 42  l_1stWon     27532 non-null  float64\n",
      " 43  l_2ndWon     27532 non-null  float64\n",
      " 44  l_SvGms      27532 non-null  float64\n",
      " 45  l_ace        27532 non-null  float64\n",
      " 46  l_bpSaved    27532 non-null  float64\n",
      " 47  l_bpFaced    27532 non-null  float64\n",
      "dtypes: float64(25), int64(10), object(13)\n",
      "memory usage: 10.1+ MB\n"
     ]
    }
   ],
   "source": [
    "df.info()"
   ]
  },
  {
   "cell_type": "code",
   "execution_count": 5,
   "id": "ac021d06",
   "metadata": {},
   "outputs": [
    {
     "data": {
      "text/html": [
       "<div>\n",
       "<style scoped>\n",
       "    .dataframe tbody tr th:only-of-type {\n",
       "        vertical-align: middle;\n",
       "    }\n",
       "\n",
       "    .dataframe tbody tr th {\n",
       "        vertical-align: top;\n",
       "    }\n",
       "\n",
       "    .dataframe thead th {\n",
       "        text-align: right;\n",
       "    }\n",
       "</style>\n",
       "<table border=\"1\" class=\"dataframe\">\n",
       "  <thead>\n",
       "    <tr style=\"text-align: right;\">\n",
       "      <th></th>\n",
       "      <th>t_id</th>\n",
       "      <th>t_date</th>\n",
       "      <th>tour_wk</th>\n",
       "      <th>t_name</th>\n",
       "      <th>t_country</th>\n",
       "      <th>t_surf</th>\n",
       "      <th>t_indoor</th>\n",
       "      <th>t_alt</th>\n",
       "      <th>t_lvl</th>\n",
       "      <th>t_draw_size</th>\n",
       "      <th>...</th>\n",
       "      <th>l_hd</th>\n",
       "      <th>l_ht</th>\n",
       "      <th>l_age</th>\n",
       "      <th>l_svpt</th>\n",
       "      <th>l_1stWon</th>\n",
       "      <th>l_2ndWon</th>\n",
       "      <th>l_SvGms</th>\n",
       "      <th>l_ace</th>\n",
       "      <th>l_bpSaved</th>\n",
       "      <th>l_bpFaced</th>\n",
       "    </tr>\n",
       "  </thead>\n",
       "  <tbody>\n",
       "    <tr>\n",
       "      <th>0</th>\n",
       "      <td>2019-6242</td>\n",
       "      <td>20190819</td>\n",
       "      <td>2019_23</td>\n",
       "      <td>Winston-Salem</td>\n",
       "      <td>USA</td>\n",
       "      <td>Hard</td>\n",
       "      <td>0</td>\n",
       "      <td>0</td>\n",
       "      <td>1</td>\n",
       "      <td>64</td>\n",
       "      <td>...</td>\n",
       "      <td>R</td>\n",
       "      <td>188.0</td>\n",
       "      <td>32.92</td>\n",
       "      <td>38.0</td>\n",
       "      <td>8.0</td>\n",
       "      <td>2.0</td>\n",
       "      <td>6.0</td>\n",
       "      <td>0.0</td>\n",
       "      <td>5.0</td>\n",
       "      <td>11.0</td>\n",
       "    </tr>\n",
       "    <tr>\n",
       "      <th>1</th>\n",
       "      <td>2019-7485</td>\n",
       "      <td>20191014</td>\n",
       "      <td>2019_29</td>\n",
       "      <td>Antwerp</td>\n",
       "      <td>BEL</td>\n",
       "      <td>Hard</td>\n",
       "      <td>1</td>\n",
       "      <td>0</td>\n",
       "      <td>1</td>\n",
       "      <td>32</td>\n",
       "      <td>...</td>\n",
       "      <td>R</td>\n",
       "      <td>183.0</td>\n",
       "      <td>25.66</td>\n",
       "      <td>56.0</td>\n",
       "      <td>16.0</td>\n",
       "      <td>9.0</td>\n",
       "      <td>8.0</td>\n",
       "      <td>4.0</td>\n",
       "      <td>2.0</td>\n",
       "      <td>7.0</td>\n",
       "    </tr>\n",
       "    <tr>\n",
       "      <th>2</th>\n",
       "      <td>2019-0375</td>\n",
       "      <td>20190204</td>\n",
       "      <td>2019_04</td>\n",
       "      <td>Montpellier</td>\n",
       "      <td>FRA</td>\n",
       "      <td>Hard</td>\n",
       "      <td>1</td>\n",
       "      <td>0</td>\n",
       "      <td>1</td>\n",
       "      <td>32</td>\n",
       "      <td>...</td>\n",
       "      <td>R</td>\n",
       "      <td>183.0</td>\n",
       "      <td>33.27</td>\n",
       "      <td>41.0</td>\n",
       "      <td>11.0</td>\n",
       "      <td>6.0</td>\n",
       "      <td>7.0</td>\n",
       "      <td>2.0</td>\n",
       "      <td>2.0</td>\n",
       "      <td>7.0</td>\n",
       "    </tr>\n",
       "    <tr>\n",
       "      <th>3</th>\n",
       "      <td>2019-7290</td>\n",
       "      <td>20190429</td>\n",
       "      <td>2019_13</td>\n",
       "      <td>Estoril</td>\n",
       "      <td>POR</td>\n",
       "      <td>Clay</td>\n",
       "      <td>0</td>\n",
       "      <td>0</td>\n",
       "      <td>1</td>\n",
       "      <td>32</td>\n",
       "      <td>...</td>\n",
       "      <td>R</td>\n",
       "      <td>188.0</td>\n",
       "      <td>32.21</td>\n",
       "      <td>46.0</td>\n",
       "      <td>15.0</td>\n",
       "      <td>2.0</td>\n",
       "      <td>8.0</td>\n",
       "      <td>1.0</td>\n",
       "      <td>4.0</td>\n",
       "      <td>10.0</td>\n",
       "    </tr>\n",
       "    <tr>\n",
       "      <th>4</th>\n",
       "      <td>2019-M020</td>\n",
       "      <td>20181231</td>\n",
       "      <td>2019_01</td>\n",
       "      <td>Brisbane</td>\n",
       "      <td>AUS</td>\n",
       "      <td>Hard</td>\n",
       "      <td>0</td>\n",
       "      <td>0</td>\n",
       "      <td>1</td>\n",
       "      <td>32</td>\n",
       "      <td>...</td>\n",
       "      <td>R</td>\n",
       "      <td>181.0</td>\n",
       "      <td>29.45</td>\n",
       "      <td>43.0</td>\n",
       "      <td>16.0</td>\n",
       "      <td>2.0</td>\n",
       "      <td>7.0</td>\n",
       "      <td>4.0</td>\n",
       "      <td>4.0</td>\n",
       "      <td>8.0</td>\n",
       "    </tr>\n",
       "  </tbody>\n",
       "</table>\n",
       "<p>5 rows × 48 columns</p>\n",
       "</div>"
      ],
      "text/plain": [
       "        t_id    t_date  tour_wk         t_name t_country t_surf  t_indoor  \\\n",
       "0  2019-6242  20190819  2019_23  Winston-Salem       USA   Hard         0   \n",
       "1  2019-7485  20191014  2019_29        Antwerp       BEL   Hard         1   \n",
       "2  2019-0375  20190204  2019_04    Montpellier       FRA   Hard         1   \n",
       "3  2019-7290  20190429  2019_13        Estoril       POR   Clay         0   \n",
       "4  2019-M020  20181231  2019_01       Brisbane       AUS   Hard         0   \n",
       "\n",
       "   t_alt  t_lvl  t_draw_size  ...  l_hd   l_ht  l_age  l_svpt l_1stWon  \\\n",
       "0      0      1           64  ...     R  188.0  32.92    38.0      8.0   \n",
       "1      0      1           32  ...     R  183.0  25.66    56.0     16.0   \n",
       "2      0      1           32  ...     R  183.0  33.27    41.0     11.0   \n",
       "3      0      1           32  ...     R  188.0  32.21    46.0     15.0   \n",
       "4      0      1           32  ...     R  181.0  29.45    43.0     16.0   \n",
       "\n",
       "   l_2ndWon  l_SvGms l_ace  l_bpSaved  l_bpFaced  \n",
       "0       2.0      6.0   0.0        5.0       11.0  \n",
       "1       9.0      8.0   4.0        2.0        7.0  \n",
       "2       6.0      7.0   2.0        2.0        7.0  \n",
       "3       2.0      8.0   1.0        4.0       10.0  \n",
       "4       2.0      7.0   4.0        4.0        8.0  \n",
       "\n",
       "[5 rows x 48 columns]"
      ]
     },
     "execution_count": 5,
     "metadata": {},
     "output_type": "execute_result"
    }
   ],
   "source": [
    "df.head()"
   ]
  },
  {
   "cell_type": "markdown",
   "id": "5cc47313",
   "metadata": {},
   "source": [
    "#### dataframe in by-match organization (first iteration)"
   ]
  },
  {
   "cell_type": "markdown",
   "id": "09560dc6",
   "metadata": {},
   "source": [
    "### Target Feature Creation: % Pts Won By Player in a Given Match"
   ]
  },
  {
   "cell_type": "code",
   "execution_count": 6,
   "id": "388d4d2c",
   "metadata": {},
   "outputs": [],
   "source": [
    "# Creation of target feature for each player in a given match: proportionalizing points played in the match appropriately between the two players.\n",
    "df[\"w_pts_won%\"] = round(((df[\"w_1stWon\"] + df[\"w_2ndWon\"] + (df[\"l_svpt\"] - (df[\"l_1stWon\"] + df[\"l_2ndWon\"])))/ (df[\"w_svpt\"] + df[\"l_svpt\"]))*100, 2)\n",
    "\n",
    "# Loser % pts won is simply 100 - w % pts won\n",
    "df[\"l_pts_won%\"] = 100 - df[\"w_pts_won%\"]"
   ]
  },
  {
   "cell_type": "code",
   "execution_count": 7,
   "id": "5f4e35eb",
   "metadata": {},
   "outputs": [],
   "source": [
    "# Target broken down into serving and returning \n",
    "\n",
    "# Winner % Serve pts won\n",
    "df[\"w_sv_pts_won%\"] = round((df[\"w_1stWon\"] + df[\"w_2ndWon\"]) / df[\"w_svpt\"]*100,2)\n",
    "\n",
    "# Winner % Return pts won\n",
    "df[\"w_ret_pts_won%\"] =round(((df[\"l_svpt\"] - (df[\"l_1stWon\"] + df[\"l_2ndWon\"]))/df[\"l_svpt\"])*100,2)\n",
    "\n",
    "# Loser % Serve pts won\n",
    "df[\"l_sv_pts_won%\"] = round((df[\"l_1stWon\"] + df[\"l_2ndWon\"]) / df[\"l_svpt\"]*100,2)\n",
    "\n",
    "# Loser % Return pts won\n",
    "df[\"l_ret_pts_won%\"] =round(((df[\"w_svpt\"] - (df[\"w_1stWon\"] + df[\"w_2ndWon\"]))/df[\"w_svpt\"])*100,2)"
   ]
  },
  {
   "cell_type": "code",
   "execution_count": 8,
   "id": "4738fe0f",
   "metadata": {},
   "outputs": [],
   "source": [
    "# Not a target feature, but useful for generating predictive features: Total Points Played In Match\n",
    "df[\"tot_pts\"] = df[\"l_svpt\"] + df[\"w_svpt\"]"
   ]
  },
  {
   "cell_type": "markdown",
   "id": "43c578d2",
   "metadata": {},
   "source": [
    "#### dataframe in by-player organization (first iteration)"
   ]
  },
  {
   "cell_type": "code",
   "execution_count": 9,
   "id": "d1619032",
   "metadata": {},
   "outputs": [
    {
     "name": "stdout",
     "output_type": "stream",
     "text": [
      "<class 'pandas.core.frame.DataFrame'>\n",
      "RangeIndex: 27532 entries, 0 to 27531\n",
      "Data columns (total 55 columns):\n",
      " #   Column          Non-Null Count  Dtype  \n",
      "---  ------          --------------  -----  \n",
      " 0   t_id            27532 non-null  object \n",
      " 1   t_date          27532 non-null  int64  \n",
      " 2   tour_wk         27532 non-null  object \n",
      " 3   t_name          27532 non-null  object \n",
      " 4   t_country       27532 non-null  object \n",
      " 5   t_surf          27532 non-null  object \n",
      " 6   t_indoor        27532 non-null  int64  \n",
      " 7   t_alt           27532 non-null  int64  \n",
      " 8   t_lvl           27532 non-null  int64  \n",
      " 9   t_draw_size     27532 non-null  int64  \n",
      " 10  m_num           27532 non-null  int64  \n",
      " 11  t_round         27532 non-null  object \n",
      " 12  t_round_num     27532 non-null  int64  \n",
      " 13  m_best_of       27532 non-null  int64  \n",
      " 14  m_score         27532 non-null  object \n",
      " 15  m_time(m)       27532 non-null  float64\n",
      " 16  w_id            27532 non-null  int64  \n",
      " 17  w_name          27532 non-null  object \n",
      " 18  w_rank          27521 non-null  float64\n",
      " 19  w_rank_pts      27521 non-null  float64\n",
      " 20  w_ioc           27532 non-null  object \n",
      " 21  w_ent           27532 non-null  float64\n",
      " 22  w_hd            27532 non-null  object \n",
      " 23  w_ht            27512 non-null  float64\n",
      " 24  w_age           27532 non-null  float64\n",
      " 25  w_svpt          27532 non-null  float64\n",
      " 26  w_1stWon        27532 non-null  float64\n",
      " 27  w_2ndWon        27532 non-null  float64\n",
      " 28  w_SvGms         27532 non-null  float64\n",
      " 29  w_ace           27532 non-null  float64\n",
      " 30  w_bpSaved       27532 non-null  float64\n",
      " 31  w_bpFaced       27532 non-null  float64\n",
      " 32  l_id            27532 non-null  int64  \n",
      " 33  l_name          27532 non-null  object \n",
      " 34  l_rank          27468 non-null  float64\n",
      " 35  l_rank_pts      27468 non-null  float64\n",
      " 36  l_ioc           27532 non-null  object \n",
      " 37  l_ent           27532 non-null  float64\n",
      " 38  l_hd            27532 non-null  object \n",
      " 39  l_ht            27464 non-null  float64\n",
      " 40  l_age           27532 non-null  float64\n",
      " 41  l_svpt          27532 non-null  float64\n",
      " 42  l_1stWon        27532 non-null  float64\n",
      " 43  l_2ndWon        27532 non-null  float64\n",
      " 44  l_SvGms         27532 non-null  float64\n",
      " 45  l_ace           27532 non-null  float64\n",
      " 46  l_bpSaved       27532 non-null  float64\n",
      " 47  l_bpFaced       27532 non-null  float64\n",
      " 48  w_pts_won%      27532 non-null  float64\n",
      " 49  l_pts_won%      27532 non-null  float64\n",
      " 50  w_sv_pts_won%   27532 non-null  float64\n",
      " 51  w_ret_pts_won%  27532 non-null  float64\n",
      " 52  l_sv_pts_won%   27532 non-null  float64\n",
      " 53  l_ret_pts_won%  27532 non-null  float64\n",
      " 54  tot_pts         27532 non-null  float64\n",
      "dtypes: float64(32), int64(10), object(13)\n",
      "memory usage: 11.6+ MB\n"
     ]
    }
   ],
   "source": [
    "df.info()"
   ]
  },
  {
   "cell_type": "markdown",
   "id": "e3beb827",
   "metadata": {},
   "source": [
    "### Retrospective, Surface-Specific Performance Prediction Features by Player per Match"
   ]
  },
  {
   "cell_type": "markdown",
   "id": "f8fcdd62",
   "metadata": {},
   "source": [
    "The goal in this section is to generate, for a given player relative to a given match to be played, backward-looking predictors of performance in the match to be predicted on. A number of early experiments (including feedback from EDA and simple modeling) I conducted with integration windows and various decay weights have driven me to land on the values currently present here (though more optimization surely will follow in post-complex modeling iterations)."
   ]
  },
  {
   "cell_type": "code",
   "execution_count": 10,
   "id": "8dc4ec31",
   "metadata": {},
   "outputs": [],
   "source": [
    "df_winners = df.drop([\"l_name\", \"l_rank\", \"l_rank_pts\", \"l_ioc\", \"l_ent\", \"l_hd\", \"l_ht\", \"l_age\", \"l_1stWon\", \"l_2ndWon\", \"l_SvGms\", \"l_pts_won%\", \"l_sv_pts_won%\", \"l_ret_pts_won%\"], axis = 1)\n",
    "df_winners[\"m_outcome\"] = 1\n",
    "df_losers =  df.drop([\"w_name\", \"w_rank\", \"w_rank_pts\", \"w_ioc\", \"w_ent\", \"w_hd\", \"w_ht\", \"w_age\", \"w_1stWon\", \"w_2ndWon\", \"w_SvGms\", \"w_pts_won%\", \"w_sv_pts_won%\", \"w_ret_pts_won%\"], axis = 1)\n",
    "df_losers[\"m_outcome\"] = 0"
   ]
  },
  {
   "cell_type": "code",
   "execution_count": 11,
   "id": "76a4a7cd",
   "metadata": {},
   "outputs": [
    {
     "name": "stdout",
     "output_type": "stream",
     "text": [
      "<class 'pandas.core.frame.DataFrame'>\n",
      "RangeIndex: 27532 entries, 0 to 27531\n",
      "Data columns (total 42 columns):\n",
      " #   Column          Non-Null Count  Dtype  \n",
      "---  ------          --------------  -----  \n",
      " 0   t_id            27532 non-null  object \n",
      " 1   t_date          27532 non-null  int64  \n",
      " 2   tour_wk         27532 non-null  object \n",
      " 3   t_name          27532 non-null  object \n",
      " 4   t_country       27532 non-null  object \n",
      " 5   t_surf          27532 non-null  object \n",
      " 6   t_indoor        27532 non-null  int64  \n",
      " 7   t_alt           27532 non-null  int64  \n",
      " 8   t_lvl           27532 non-null  int64  \n",
      " 9   t_draw_size     27532 non-null  int64  \n",
      " 10  m_num           27532 non-null  int64  \n",
      " 11  t_round         27532 non-null  object \n",
      " 12  t_round_num     27532 non-null  int64  \n",
      " 13  m_best_of       27532 non-null  int64  \n",
      " 14  m_score         27532 non-null  object \n",
      " 15  m_time(m)       27532 non-null  float64\n",
      " 16  w_id            27532 non-null  int64  \n",
      " 17  w_svpt          27532 non-null  float64\n",
      " 18  w_ace           27532 non-null  float64\n",
      " 19  w_bpSaved       27532 non-null  float64\n",
      " 20  w_bpFaced       27532 non-null  float64\n",
      " 21  l_id            27532 non-null  int64  \n",
      " 22  l_name          27532 non-null  object \n",
      " 23  l_rank          27468 non-null  float64\n",
      " 24  l_rank_pts      27468 non-null  float64\n",
      " 25  l_ioc           27532 non-null  object \n",
      " 26  l_ent           27532 non-null  float64\n",
      " 27  l_hd            27532 non-null  object \n",
      " 28  l_ht            27464 non-null  float64\n",
      " 29  l_age           27532 non-null  float64\n",
      " 30  l_svpt          27532 non-null  float64\n",
      " 31  l_1stWon        27532 non-null  float64\n",
      " 32  l_2ndWon        27532 non-null  float64\n",
      " 33  l_SvGms         27532 non-null  float64\n",
      " 34  l_ace           27532 non-null  float64\n",
      " 35  l_bpSaved       27532 non-null  float64\n",
      " 36  l_bpFaced       27532 non-null  float64\n",
      " 37  l_pts_won%      27532 non-null  float64\n",
      " 38  l_sv_pts_won%   27532 non-null  float64\n",
      " 39  l_ret_pts_won%  27532 non-null  float64\n",
      " 40  tot_pts         27532 non-null  float64\n",
      " 41  m_outcome       27532 non-null  int64  \n",
      "dtypes: float64(21), int64(11), object(10)\n",
      "memory usage: 8.8+ MB\n"
     ]
    }
   ],
   "source": [
    "df_losers.info()"
   ]
  },
  {
   "cell_type": "code",
   "execution_count": 12,
   "id": "9748465c",
   "metadata": {},
   "outputs": [],
   "source": [
    "# Split out winners and losers from by-match organization and concatenate into a per player organization\n",
    "df_winners = df_winners.set_axis([\"t_id\", \"t_date\", \"tour_wk\", \"t_name\", \"t_country\", \"t_surf\", \"t_indoor\", \"t_alt\", \"t_lvl\", \"t_draw_size\", \"m_num\", \"t_round\", \"t_rd_num\", \"m_best_of\", \"m_score\", \"m_time(m)\", \"p_id\", \"p_name\",\"p_rank\", \"p_rank_pts\", \"p_country\", \"p_ent\", \"p_hd\", \"p_ht\", \"p_age\", \"p_svpt\", \"p_1stWon\",\"p_2ndWon\",\"p_SvGms\",\"p_ace\",\"p_bpSaved\",\"p_bpFaced\",\"opp_id\",\"opp_svpt\",\"opp_ace\",\"opp_bpSaved\",\"opp_bpFaced\", \"p_pts_won%\",\"p_sv_pts_won%\",\"p_ret_pts_won%\", \"m_tot_pts\", \"m_outcome\"], axis=1)\n",
    "df_losers = df_losers.set_axis([\"t_id\", \"t_date\", \"tour_wk\", \"t_name\", \"t_country\", \"t_surf\", \"t_indoor\", \"t_alt\", \"t_lvl\", \"t_draw_size\", \"m_num\", \"t_round\", \"t_rd_num\", \"m_best_of\", \"m_score\", \"m_time(m)\", \"opp_id\", \"opp_svpt\",\"opp_ace\",\"opp_bpSaved\",\"opp_bpFaced\",\"p_id\",\"p_name\",\"p_rank\", \"p_rank_pts\", \"p_country\", \"p_ent\", \"p_hd\", \"p_ht\", \"p_age\", \"p_svpt\", \"p_1stWon\",\"p_2ndWon\",\"p_SvGms\", \"p_ace\",\"p_bpSaved\",\"p_bpFaced\",\"p_pts_won%\",\"p_sv_pts_won%\",\"p_ret_pts_won%\", \"m_tot_pts\", \"m_outcome\"], axis=1)\n",
    "df_player1 = pd.concat([df_winners, df_losers], ignore_index=True)\n",
    "df_player1 = df_player1.sort_values(by=['p_id','tour_wk','t_rd_num'], ascending = False)"
   ]
  },
  {
   "cell_type": "markdown",
   "id": "0191deee",
   "metadata": {},
   "source": [
    "generated below are a number of retrospective (relative to the match being predicted on) predictive performance features. Unless otherwise specified, aggregations are surface specific (clay or hard)."
   ]
  },
  {
   "cell_type": "code",
   "execution_count": 13,
   "id": "9b7d1704",
   "metadata": {},
   "outputs": [],
   "source": [
    "#Sorting as such helps visually verify the complicated, backward-looking stat accrual calculations we will make below\n",
    "df_player1 = df_player1.sort_values(by=['p_id','tour_wk','t_rd_num'], ascending = False)"
   ]
  },
  {
   "cell_type": "code",
   "execution_count": 14,
   "id": "6845e9de",
   "metadata": {},
   "outputs": [
    {
     "data": {
      "text/html": [
       "<div>\n",
       "<style scoped>\n",
       "    .dataframe tbody tr th:only-of-type {\n",
       "        vertical-align: middle;\n",
       "    }\n",
       "\n",
       "    .dataframe tbody tr th {\n",
       "        vertical-align: top;\n",
       "    }\n",
       "\n",
       "    .dataframe thead th {\n",
       "        text-align: right;\n",
       "    }\n",
       "</style>\n",
       "<table border=\"1\" class=\"dataframe\">\n",
       "  <thead>\n",
       "    <tr style=\"text-align: right;\">\n",
       "      <th></th>\n",
       "      <th>t_id</th>\n",
       "      <th>t_date</th>\n",
       "      <th>tour_wk</th>\n",
       "      <th>t_name</th>\n",
       "      <th>t_country</th>\n",
       "      <th>t_surf</th>\n",
       "      <th>t_indoor</th>\n",
       "      <th>t_alt</th>\n",
       "      <th>t_lvl</th>\n",
       "      <th>t_draw_size</th>\n",
       "      <th>...</th>\n",
       "      <th>opp_id</th>\n",
       "      <th>opp_svpt</th>\n",
       "      <th>opp_ace</th>\n",
       "      <th>opp_bpSaved</th>\n",
       "      <th>opp_bpFaced</th>\n",
       "      <th>p_pts_won%</th>\n",
       "      <th>p_sv_pts_won%</th>\n",
       "      <th>p_ret_pts_won%</th>\n",
       "      <th>m_tot_pts</th>\n",
       "      <th>m_outcome</th>\n",
       "    </tr>\n",
       "  </thead>\n",
       "  <tbody>\n",
       "    <tr>\n",
       "      <th>29785</th>\n",
       "      <td>2019-560</td>\n",
       "      <td>20190826</td>\n",
       "      <td>2019_24</td>\n",
       "      <td>US Open</td>\n",
       "      <td>USA</td>\n",
       "      <td>Hard</td>\n",
       "      <td>0</td>\n",
       "      <td>0</td>\n",
       "      <td>4</td>\n",
       "      <td>128</td>\n",
       "      <td>...</td>\n",
       "      <td>103893</td>\n",
       "      <td>164.0</td>\n",
       "      <td>6.0</td>\n",
       "      <td>9.0</td>\n",
       "      <td>16.0</td>\n",
       "      <td>47.84</td>\n",
       "      <td>56.28</td>\n",
       "      <td>38.41</td>\n",
       "      <td>347.0</td>\n",
       "      <td>0</td>\n",
       "    </tr>\n",
       "    <tr>\n",
       "      <th>28790</th>\n",
       "      <td>2019-M014</td>\n",
       "      <td>20191014</td>\n",
       "      <td>2019_29</td>\n",
       "      <td>Moscow</td>\n",
       "      <td>RUS</td>\n",
       "      <td>Hard</td>\n",
       "      <td>1</td>\n",
       "      <td>0</td>\n",
       "      <td>1</td>\n",
       "      <td>32</td>\n",
       "      <td>...</td>\n",
       "      <td>200553</td>\n",
       "      <td>72.0</td>\n",
       "      <td>11.0</td>\n",
       "      <td>3.0</td>\n",
       "      <td>5.0</td>\n",
       "      <td>41.29</td>\n",
       "      <td>49.40</td>\n",
       "      <td>31.94</td>\n",
       "      <td>155.0</td>\n",
       "      <td>0</td>\n",
       "    </tr>\n",
       "    <tr>\n",
       "      <th>27550</th>\n",
       "      <td>2019-M004</td>\n",
       "      <td>20190225</td>\n",
       "      <td>2019_07</td>\n",
       "      <td>Acapulco</td>\n",
       "      <td>MEX</td>\n",
       "      <td>Hard</td>\n",
       "      <td>0</td>\n",
       "      <td>0</td>\n",
       "      <td>1</td>\n",
       "      <td>32</td>\n",
       "      <td>...</td>\n",
       "      <td>111456</td>\n",
       "      <td>40.0</td>\n",
       "      <td>2.0</td>\n",
       "      <td>0.0</td>\n",
       "      <td>0.0</td>\n",
       "      <td>37.23</td>\n",
       "      <td>51.85</td>\n",
       "      <td>17.50</td>\n",
       "      <td>94.0</td>\n",
       "      <td>0</td>\n",
       "    </tr>\n",
       "    <tr>\n",
       "      <th>149</th>\n",
       "      <td>2019-7696</td>\n",
       "      <td>20191105</td>\n",
       "      <td>2019_33</td>\n",
       "      <td>NextGen Finals</td>\n",
       "      <td>ITA</td>\n",
       "      <td>Hard</td>\n",
       "      <td>1</td>\n",
       "      <td>0</td>\n",
       "      <td>3</td>\n",
       "      <td>8</td>\n",
       "      <td>...</td>\n",
       "      <td>200282</td>\n",
       "      <td>41.0</td>\n",
       "      <td>2.0</td>\n",
       "      <td>5.0</td>\n",
       "      <td>8.0</td>\n",
       "      <td>59.14</td>\n",
       "      <td>69.23</td>\n",
       "      <td>46.34</td>\n",
       "      <td>93.0</td>\n",
       "      <td>1</td>\n",
       "    </tr>\n",
       "    <tr>\n",
       "      <th>437</th>\n",
       "      <td>2019-7696</td>\n",
       "      <td>20191105</td>\n",
       "      <td>2019_33</td>\n",
       "      <td>NextGen Finals</td>\n",
       "      <td>ITA</td>\n",
       "      <td>Hard</td>\n",
       "      <td>1</td>\n",
       "      <td>0</td>\n",
       "      <td>3</td>\n",
       "      <td>8</td>\n",
       "      <td>...</td>\n",
       "      <td>200175</td>\n",
       "      <td>58.0</td>\n",
       "      <td>2.0</td>\n",
       "      <td>5.0</td>\n",
       "      <td>8.0</td>\n",
       "      <td>53.66</td>\n",
       "      <td>70.77</td>\n",
       "      <td>34.48</td>\n",
       "      <td>123.0</td>\n",
       "      <td>1</td>\n",
       "    </tr>\n",
       "    <tr>\n",
       "      <th>28667</th>\n",
       "      <td>2019-7696</td>\n",
       "      <td>20191105</td>\n",
       "      <td>2019_33</td>\n",
       "      <td>NextGen Finals</td>\n",
       "      <td>ITA</td>\n",
       "      <td>Hard</td>\n",
       "      <td>1</td>\n",
       "      <td>0</td>\n",
       "      <td>3</td>\n",
       "      <td>8</td>\n",
       "      <td>...</td>\n",
       "      <td>200005</td>\n",
       "      <td>77.0</td>\n",
       "      <td>11.0</td>\n",
       "      <td>3.0</td>\n",
       "      <td>4.0</td>\n",
       "      <td>50.00</td>\n",
       "      <td>69.33</td>\n",
       "      <td>31.17</td>\n",
       "      <td>152.0</td>\n",
       "      <td>0</td>\n",
       "    </tr>\n",
       "    <tr>\n",
       "      <th>46</th>\n",
       "      <td>2019-7696</td>\n",
       "      <td>20191105</td>\n",
       "      <td>2019_33</td>\n",
       "      <td>NextGen Finals</td>\n",
       "      <td>ITA</td>\n",
       "      <td>Hard</td>\n",
       "      <td>1</td>\n",
       "      <td>0</td>\n",
       "      <td>3</td>\n",
       "      <td>8</td>\n",
       "      <td>...</td>\n",
       "      <td>144707</td>\n",
       "      <td>44.0</td>\n",
       "      <td>2.0</td>\n",
       "      <td>4.0</td>\n",
       "      <td>8.0</td>\n",
       "      <td>62.50</td>\n",
       "      <td>72.73</td>\n",
       "      <td>52.27</td>\n",
       "      <td>88.0</td>\n",
       "      <td>1</td>\n",
       "    </tr>\n",
       "    <tr>\n",
       "      <th>715</th>\n",
       "      <td>2019-7696</td>\n",
       "      <td>20191105</td>\n",
       "      <td>2019_33</td>\n",
       "      <td>NextGen Finals</td>\n",
       "      <td>ITA</td>\n",
       "      <td>Hard</td>\n",
       "      <td>1</td>\n",
       "      <td>0</td>\n",
       "      <td>3</td>\n",
       "      <td>8</td>\n",
       "      <td>...</td>\n",
       "      <td>126207</td>\n",
       "      <td>69.0</td>\n",
       "      <td>7.0</td>\n",
       "      <td>2.0</td>\n",
       "      <td>5.0</td>\n",
       "      <td>52.14</td>\n",
       "      <td>71.83</td>\n",
       "      <td>31.88</td>\n",
       "      <td>140.0</td>\n",
       "      <td>1</td>\n",
       "    </tr>\n",
       "    <tr>\n",
       "      <th>28216</th>\n",
       "      <td>2019-0337</td>\n",
       "      <td>20191021</td>\n",
       "      <td>2019_30</td>\n",
       "      <td>Vienna</td>\n",
       "      <td>AUT</td>\n",
       "      <td>Hard</td>\n",
       "      <td>1</td>\n",
       "      <td>0</td>\n",
       "      <td>1</td>\n",
       "      <td>32</td>\n",
       "      <td>...</td>\n",
       "      <td>104792</td>\n",
       "      <td>79.0</td>\n",
       "      <td>17.0</td>\n",
       "      <td>3.0</td>\n",
       "      <td>3.0</td>\n",
       "      <td>47.33</td>\n",
       "      <td>66.20</td>\n",
       "      <td>30.38</td>\n",
       "      <td>150.0</td>\n",
       "      <td>0</td>\n",
       "    </tr>\n",
       "    <tr>\n",
       "      <th>814</th>\n",
       "      <td>2019-0337</td>\n",
       "      <td>20191021</td>\n",
       "      <td>2019_30</td>\n",
       "      <td>Vienna</td>\n",
       "      <td>AUT</td>\n",
       "      <td>Hard</td>\n",
       "      <td>1</td>\n",
       "      <td>0</td>\n",
       "      <td>1</td>\n",
       "      <td>32</td>\n",
       "      <td>...</td>\n",
       "      <td>104259</td>\n",
       "      <td>62.0</td>\n",
       "      <td>8.0</td>\n",
       "      <td>6.0</td>\n",
       "      <td>9.0</td>\n",
       "      <td>55.15</td>\n",
       "      <td>64.86</td>\n",
       "      <td>43.55</td>\n",
       "      <td>136.0</td>\n",
       "      <td>1</td>\n",
       "    </tr>\n",
       "    <tr>\n",
       "      <th>27705</th>\n",
       "      <td>2019-7485</td>\n",
       "      <td>20191014</td>\n",
       "      <td>2019_29</td>\n",
       "      <td>Antwerp</td>\n",
       "      <td>BEL</td>\n",
       "      <td>Hard</td>\n",
       "      <td>1</td>\n",
       "      <td>0</td>\n",
       "      <td>1</td>\n",
       "      <td>32</td>\n",
       "      <td>...</td>\n",
       "      <td>104527</td>\n",
       "      <td>46.0</td>\n",
       "      <td>8.0</td>\n",
       "      <td>1.0</td>\n",
       "      <td>2.0</td>\n",
       "      <td>39.58</td>\n",
       "      <td>52.00</td>\n",
       "      <td>26.09</td>\n",
       "      <td>96.0</td>\n",
       "      <td>0</td>\n",
       "    </tr>\n",
       "    <tr>\n",
       "      <th>1084</th>\n",
       "      <td>2019-7485</td>\n",
       "      <td>20191014</td>\n",
       "      <td>2019_29</td>\n",
       "      <td>Antwerp</td>\n",
       "      <td>BEL</td>\n",
       "      <td>Hard</td>\n",
       "      <td>1</td>\n",
       "      <td>0</td>\n",
       "      <td>1</td>\n",
       "      <td>32</td>\n",
       "      <td>...</td>\n",
       "      <td>126207</td>\n",
       "      <td>79.0</td>\n",
       "      <td>7.0</td>\n",
       "      <td>3.0</td>\n",
       "      <td>5.0</td>\n",
       "      <td>51.57</td>\n",
       "      <td>70.00</td>\n",
       "      <td>32.91</td>\n",
       "      <td>159.0</td>\n",
       "      <td>1</td>\n",
       "    </tr>\n",
       "    <tr>\n",
       "      <th>90</th>\n",
       "      <td>2019-7485</td>\n",
       "      <td>20191014</td>\n",
       "      <td>2019_29</td>\n",
       "      <td>Antwerp</td>\n",
       "      <td>BEL</td>\n",
       "      <td>Hard</td>\n",
       "      <td>1</td>\n",
       "      <td>0</td>\n",
       "      <td>1</td>\n",
       "      <td>32</td>\n",
       "      <td>...</td>\n",
       "      <td>104792</td>\n",
       "      <td>59.0</td>\n",
       "      <td>9.0</td>\n",
       "      <td>6.0</td>\n",
       "      <td>10.0</td>\n",
       "      <td>60.19</td>\n",
       "      <td>77.27</td>\n",
       "      <td>47.46</td>\n",
       "      <td>103.0</td>\n",
       "      <td>1</td>\n",
       "    </tr>\n",
       "    <tr>\n",
       "      <th>268</th>\n",
       "      <td>2019-7485</td>\n",
       "      <td>20191014</td>\n",
       "      <td>2019_29</td>\n",
       "      <td>Antwerp</td>\n",
       "      <td>BEL</td>\n",
       "      <td>Hard</td>\n",
       "      <td>1</td>\n",
       "      <td>0</td>\n",
       "      <td>1</td>\n",
       "      <td>32</td>\n",
       "      <td>...</td>\n",
       "      <td>111794</td>\n",
       "      <td>59.0</td>\n",
       "      <td>4.0</td>\n",
       "      <td>4.0</td>\n",
       "      <td>8.0</td>\n",
       "      <td>55.86</td>\n",
       "      <td>67.31</td>\n",
       "      <td>45.76</td>\n",
       "      <td>111.0</td>\n",
       "      <td>1</td>\n",
       "    </tr>\n",
       "    <tr>\n",
       "      <th>28569</th>\n",
       "      <td>2019-0568</td>\n",
       "      <td>20190916</td>\n",
       "      <td>2019_25</td>\n",
       "      <td>St. Petersburg</td>\n",
       "      <td>RUS</td>\n",
       "      <td>Hard</td>\n",
       "      <td>1</td>\n",
       "      <td>0</td>\n",
       "      <td>1</td>\n",
       "      <td>32</td>\n",
       "      <td>...</td>\n",
       "      <td>105062</td>\n",
       "      <td>82.0</td>\n",
       "      <td>1.0</td>\n",
       "      <td>9.0</td>\n",
       "      <td>11.0</td>\n",
       "      <td>48.95</td>\n",
       "      <td>63.93</td>\n",
       "      <td>37.80</td>\n",
       "      <td>143.0</td>\n",
       "      <td>0</td>\n",
       "    </tr>\n",
       "    <tr>\n",
       "      <th>29610</th>\n",
       "      <td>2019-560</td>\n",
       "      <td>20190826</td>\n",
       "      <td>2019_24</td>\n",
       "      <td>US Open</td>\n",
       "      <td>USA</td>\n",
       "      <td>Hard</td>\n",
       "      <td>0</td>\n",
       "      <td>0</td>\n",
       "      <td>4</td>\n",
       "      <td>128</td>\n",
       "      <td>...</td>\n",
       "      <td>104527</td>\n",
       "      <td>148.0</td>\n",
       "      <td>15.0</td>\n",
       "      <td>10.0</td>\n",
       "      <td>14.0</td>\n",
       "      <td>47.41</td>\n",
       "      <td>61.48</td>\n",
       "      <td>35.81</td>\n",
       "      <td>270.0</td>\n",
       "      <td>0</td>\n",
       "    </tr>\n",
       "    <tr>\n",
       "      <th>28754</th>\n",
       "      <td>2019-0439</td>\n",
       "      <td>20190715</td>\n",
       "      <td>2019_18</td>\n",
       "      <td>Umag</td>\n",
       "      <td>CRO</td>\n",
       "      <td>Clay</td>\n",
       "      <td>0</td>\n",
       "      <td>0</td>\n",
       "      <td>1</td>\n",
       "      <td>32</td>\n",
       "      <td>...</td>\n",
       "      <td>105379</td>\n",
       "      <td>75.0</td>\n",
       "      <td>7.0</td>\n",
       "      <td>4.0</td>\n",
       "      <td>6.0</td>\n",
       "      <td>45.64</td>\n",
       "      <td>59.46</td>\n",
       "      <td>32.00</td>\n",
       "      <td>149.0</td>\n",
       "      <td>0</td>\n",
       "    </tr>\n",
       "    <tr>\n",
       "      <th>1129</th>\n",
       "      <td>2019-0439</td>\n",
       "      <td>20190715</td>\n",
       "      <td>2019_18</td>\n",
       "      <td>Umag</td>\n",
       "      <td>CRO</td>\n",
       "      <td>Clay</td>\n",
       "      <td>0</td>\n",
       "      <td>0</td>\n",
       "      <td>1</td>\n",
       "      <td>32</td>\n",
       "      <td>...</td>\n",
       "      <td>105155</td>\n",
       "      <td>75.0</td>\n",
       "      <td>4.0</td>\n",
       "      <td>2.0</td>\n",
       "      <td>6.0</td>\n",
       "      <td>49.38</td>\n",
       "      <td>59.77</td>\n",
       "      <td>37.33</td>\n",
       "      <td>162.0</td>\n",
       "      <td>1</td>\n",
       "    </tr>\n",
       "    <tr>\n",
       "      <th>28015</th>\n",
       "      <td>2019-7694</td>\n",
       "      <td>20190520</td>\n",
       "      <td>2019_16</td>\n",
       "      <td>Lyon</td>\n",
       "      <td>FRA</td>\n",
       "      <td>Clay</td>\n",
       "      <td>0</td>\n",
       "      <td>0</td>\n",
       "      <td>1</td>\n",
       "      <td>32</td>\n",
       "      <td>...</td>\n",
       "      <td>106137</td>\n",
       "      <td>66.0</td>\n",
       "      <td>1.0</td>\n",
       "      <td>4.0</td>\n",
       "      <td>5.0</td>\n",
       "      <td>43.80</td>\n",
       "      <td>56.36</td>\n",
       "      <td>33.33</td>\n",
       "      <td>121.0</td>\n",
       "      <td>0</td>\n",
       "    </tr>\n",
       "    <tr>\n",
       "      <th>28013</th>\n",
       "      <td>2019-M009</td>\n",
       "      <td>20190513</td>\n",
       "      <td>2019_15</td>\n",
       "      <td>Rome Masters</td>\n",
       "      <td>ITA</td>\n",
       "      <td>Clay</td>\n",
       "      <td>0</td>\n",
       "      <td>0</td>\n",
       "      <td>2</td>\n",
       "      <td>64</td>\n",
       "      <td>...</td>\n",
       "      <td>126774</td>\n",
       "      <td>55.0</td>\n",
       "      <td>1.0</td>\n",
       "      <td>2.0</td>\n",
       "      <td>3.0</td>\n",
       "      <td>40.78</td>\n",
       "      <td>47.92</td>\n",
       "      <td>34.55</td>\n",
       "      <td>103.0</td>\n",
       "      <td>0</td>\n",
       "    </tr>\n",
       "  </tbody>\n",
       "</table>\n",
       "<p>20 rows × 42 columns</p>\n",
       "</div>"
      ],
      "text/plain": [
       "            t_id    t_date  tour_wk          t_name t_country t_surf  \\\n",
       "29785   2019-560  20190826  2019_24         US Open       USA   Hard   \n",
       "28790  2019-M014  20191014  2019_29          Moscow       RUS   Hard   \n",
       "27550  2019-M004  20190225  2019_07        Acapulco       MEX   Hard   \n",
       "149    2019-7696  20191105  2019_33  NextGen Finals       ITA   Hard   \n",
       "437    2019-7696  20191105  2019_33  NextGen Finals       ITA   Hard   \n",
       "28667  2019-7696  20191105  2019_33  NextGen Finals       ITA   Hard   \n",
       "46     2019-7696  20191105  2019_33  NextGen Finals       ITA   Hard   \n",
       "715    2019-7696  20191105  2019_33  NextGen Finals       ITA   Hard   \n",
       "28216  2019-0337  20191021  2019_30          Vienna       AUT   Hard   \n",
       "814    2019-0337  20191021  2019_30          Vienna       AUT   Hard   \n",
       "27705  2019-7485  20191014  2019_29         Antwerp       BEL   Hard   \n",
       "1084   2019-7485  20191014  2019_29         Antwerp       BEL   Hard   \n",
       "90     2019-7485  20191014  2019_29         Antwerp       BEL   Hard   \n",
       "268    2019-7485  20191014  2019_29         Antwerp       BEL   Hard   \n",
       "28569  2019-0568  20190916  2019_25  St. Petersburg       RUS   Hard   \n",
       "29610   2019-560  20190826  2019_24         US Open       USA   Hard   \n",
       "28754  2019-0439  20190715  2019_18            Umag       CRO   Clay   \n",
       "1129   2019-0439  20190715  2019_18            Umag       CRO   Clay   \n",
       "28015  2019-7694  20190520  2019_16            Lyon       FRA   Clay   \n",
       "28013  2019-M009  20190513  2019_15    Rome Masters       ITA   Clay   \n",
       "\n",
       "       t_indoor  t_alt  t_lvl  t_draw_size  ...  opp_id opp_svpt  opp_ace  \\\n",
       "29785         0      0      4          128  ...  103893    164.0      6.0   \n",
       "28790         1      0      1           32  ...  200553     72.0     11.0   \n",
       "27550         0      0      1           32  ...  111456     40.0      2.0   \n",
       "149           1      0      3            8  ...  200282     41.0      2.0   \n",
       "437           1      0      3            8  ...  200175     58.0      2.0   \n",
       "28667         1      0      3            8  ...  200005     77.0     11.0   \n",
       "46            1      0      3            8  ...  144707     44.0      2.0   \n",
       "715           1      0      3            8  ...  126207     69.0      7.0   \n",
       "28216         1      0      1           32  ...  104792     79.0     17.0   \n",
       "814           1      0      1           32  ...  104259     62.0      8.0   \n",
       "27705         1      0      1           32  ...  104527     46.0      8.0   \n",
       "1084          1      0      1           32  ...  126207     79.0      7.0   \n",
       "90            1      0      1           32  ...  104792     59.0      9.0   \n",
       "268           1      0      1           32  ...  111794     59.0      4.0   \n",
       "28569         1      0      1           32  ...  105062     82.0      1.0   \n",
       "29610         0      0      4          128  ...  104527    148.0     15.0   \n",
       "28754         0      0      1           32  ...  105379     75.0      7.0   \n",
       "1129          0      0      1           32  ...  105155     75.0      4.0   \n",
       "28015         0      0      1           32  ...  106137     66.0      1.0   \n",
       "28013         0      0      2           64  ...  126774     55.0      1.0   \n",
       "\n",
       "       opp_bpSaved opp_bpFaced  p_pts_won%  p_sv_pts_won% p_ret_pts_won%  \\\n",
       "29785          9.0        16.0       47.84          56.28          38.41   \n",
       "28790          3.0         5.0       41.29          49.40          31.94   \n",
       "27550          0.0         0.0       37.23          51.85          17.50   \n",
       "149            5.0         8.0       59.14          69.23          46.34   \n",
       "437            5.0         8.0       53.66          70.77          34.48   \n",
       "28667          3.0         4.0       50.00          69.33          31.17   \n",
       "46             4.0         8.0       62.50          72.73          52.27   \n",
       "715            2.0         5.0       52.14          71.83          31.88   \n",
       "28216          3.0         3.0       47.33          66.20          30.38   \n",
       "814            6.0         9.0       55.15          64.86          43.55   \n",
       "27705          1.0         2.0       39.58          52.00          26.09   \n",
       "1084           3.0         5.0       51.57          70.00          32.91   \n",
       "90             6.0        10.0       60.19          77.27          47.46   \n",
       "268            4.0         8.0       55.86          67.31          45.76   \n",
       "28569          9.0        11.0       48.95          63.93          37.80   \n",
       "29610         10.0        14.0       47.41          61.48          35.81   \n",
       "28754          4.0         6.0       45.64          59.46          32.00   \n",
       "1129           2.0         6.0       49.38          59.77          37.33   \n",
       "28015          4.0         5.0       43.80          56.36          33.33   \n",
       "28013          2.0         3.0       40.78          47.92          34.55   \n",
       "\n",
       "       m_tot_pts  m_outcome  \n",
       "29785      347.0          0  \n",
       "28790      155.0          0  \n",
       "27550       94.0          0  \n",
       "149         93.0          1  \n",
       "437        123.0          1  \n",
       "28667      152.0          0  \n",
       "46          88.0          1  \n",
       "715        140.0          1  \n",
       "28216      150.0          0  \n",
       "814        136.0          1  \n",
       "27705       96.0          0  \n",
       "1084       159.0          1  \n",
       "90         103.0          1  \n",
       "268        111.0          1  \n",
       "28569      143.0          0  \n",
       "29610      270.0          0  \n",
       "28754      149.0          0  \n",
       "1129       162.0          1  \n",
       "28015      121.0          0  \n",
       "28013      103.0          0  \n",
       "\n",
       "[20 rows x 42 columns]"
      ]
     },
     "execution_count": 14,
     "metadata": {},
     "output_type": "execute_result"
    }
   ],
   "source": [
    "df_player1.head(20)"
   ]
  },
  {
   "cell_type": "code",
   "execution_count": 15,
   "id": "9c06811c",
   "metadata": {},
   "outputs": [],
   "source": [
    "# % total points won over up to the last 60 surface-specific matches for a given player prior to a match to be predicted on\n",
    "# In EDA and modeling, we will require a minimum # of matches in the past relative to a match being predicted on FOR BOTH PLAYERS IN THE MATCH\n",
    "# Therefore, we do not need to go to extremes to backfill NaNs here when a window to compute on doesn't meet the min period requirement.\n",
    "\n",
    "df_player1 = df_player1.iloc[::-1]\n",
    "\n",
    "df_player1['p_pts_won%_1to10'] = df_player1.groupby(['p_id','t_surf'])['p_pts_won%'].transform(lambda x: x.rolling(window=10, min_periods = 1).mean().round(2).shift(1))\n",
    "\n",
    "df_player1['p_pts_won%_11to20'] = df_player1.groupby(['p_id','t_surf'])['p_pts_won%'].transform(lambda x: x.rolling(window=10, min_periods = 3).mean().round(2).shift(11))\n",
    "df_player1['p_pts_won%_11to20'] = df_player1['p_pts_won%_11to20'].fillna(df_player1['p_pts_won%_1to10'])\n",
    "\n",
    "df_player1['p_pts_won%_21to30'] = df_player1.groupby(['p_id','t_surf'])['p_pts_won%'].transform(lambda x: x.rolling(window=10, min_periods = 3).mean().round(2).shift(21))\n",
    "df_player1['p_pts_won%_21to30'] = df_player1['p_pts_won%_21to30'].fillna(df_player1['p_pts_won%_11to20'])\n",
    "\n",
    "df_player1['p_pts_won%_31to40'] = df_player1.groupby(['p_id','t_surf'])['p_pts_won%'].transform(lambda x: x.rolling(window=10, min_periods = 3).mean().round(2).shift(31))\n",
    "df_player1['p_pts_won%_31to40'] = df_player1['p_pts_won%_31to40'].fillna(df_player1['p_pts_won%_21to30'])\n",
    "\n",
    "df_player1['p_pts_won%_41to50'] = df_player1.groupby(['p_id','t_surf'])['p_pts_won%'].transform(lambda x: x.rolling(window=10, min_periods = 3).mean().round(2).shift(41))\n",
    "df_player1['p_pts_won%_41to50'] = df_player1['p_pts_won%_41to50'].fillna(df_player1['p_pts_won%_31to40'])\n",
    "\n",
    "df_player1['p_pts_won%_51to60'] = df_player1.groupby(['p_id','t_surf'])['p_pts_won%'].transform(lambda x: x.rolling(window=10, min_periods = 3).mean().round(2).shift(51))\n",
    "df_player1['p_pts_won%_51to60'] = df_player1['p_pts_won%_51to60'].fillna(df_player1['p_pts_won%_41to50'])\n",
    "\n",
    "#df_player1['p_pts_won%_61to70'] = df_player1.groupby(['p_id','t_surf'])['p_pts_won%'].transform(lambda x: x.rolling(window=10, min_periods = 3).mean().round(2).shift(61))\n",
    "#df_player1['p_pts_won%_61to70'] = df_player1['p_pts_won%_61to70'].fillna(df_player1['p_pts_won%_51to60'])\n",
    "\n",
    "#df_player1['p_pts_won%_71to80'] = df_player1.groupby(['p_id','t_surf'])['p_pts_won%'].transform(lambda x: x.rolling(window=10, min_periods = 3).mean().round(2).shift(71))\n",
    "#df_player1['p_pts_won%_71to80'] = df_player1['p_pts_won%_71to80'].fillna(df_player1['p_pts_won%_61to70'])\n",
    "\n",
    "df_player1 = df_player1.iloc[::-1]"
   ]
  },
  {
   "cell_type": "code",
   "execution_count": 16,
   "id": "9676dd4e",
   "metadata": {},
   "outputs": [],
   "source": [
    "# Time-decay weighting the total pts won % by player result from above.\n",
    "#  Core version\n",
    "df_player1[\"p_pts_won%_l60_decay\"] = (((df_player1['p_pts_won%_1to10'] * 14) + (df_player1['p_pts_won%_11to20'] * 8) + (df_player1['p_pts_won%_21to30'] * 5) \n",
    "+ (df_player1['p_pts_won%_31to40'] * 3) + (df_player1['p_pts_won%_41to50'] * 2) + (df_player1['p_pts_won%_51to60'] * 1))/33).round(2)\n",
    "\n",
    "#Dropping the transient columns used for the decay calculations\n",
    "df_player1.drop([\"p_pts_won%_11to20\",\"p_pts_won%_21to30\",\"p_pts_won%_31to40\",\"p_pts_won%_41to50\",\"p_pts_won%_51to60\"],axis=1, inplace=True)\n",
    "#df_player1"
   ]
  },
  {
   "cell_type": "code",
   "execution_count": 17,
   "id": "1fa52b35",
   "metadata": {},
   "outputs": [],
   "source": [
    "# Short term total points won% perfomance\n",
    "df_player1[\"p_pts_won%_l10\"] = df_player1[\"p_pts_won%_1to10\"]\n",
    "\n",
    "df_player1.drop([\"p_pts_won%_1to10\"],axis=1, inplace=True)"
   ]
  },
  {
   "cell_type": "code",
   "execution_count": 18,
   "id": "b042baeb",
   "metadata": {},
   "outputs": [],
   "source": [
    "# Total points won% over the last 60 surface-specific matches taking indoor vs outdoor into consideration\n",
    "\n",
    "# In EDA and modeling, we will require a minimum # of matches in the past relative to a match being predicted on FOR BOTH PLAYERS IN THE MATCH\n",
    "# Therefore, we do not need to go to extremes to backfill NaNs here when a window to compute on doesn't meet the min period requirement.\n",
    "\n",
    "df_player1 = df_player1.iloc[::-1]\n",
    "\n",
    "df_player1['p_pts_won%_1to10_IO'] = df_player1.groupby(['p_id','t_surf','t_indoor'])['p_pts_won%'].transform(lambda x: x.rolling(window=10, min_periods = 1).mean().round(2).shift(1))\n",
    "\n",
    "df_player1['p_pts_won%_11to20_IO'] = df_player1.groupby(['p_id','t_surf','t_indoor'])['p_pts_won%'].transform(lambda x: x.rolling(window=10, min_periods = 3).mean().round(2).shift(11))\n",
    "df_player1['p_pts_won%_11to20_IO'] = df_player1['p_pts_won%_11to20_IO'].fillna(df_player1['p_pts_won%_1to10_IO'])\n",
    "\n",
    "df_player1['p_pts_won%_21to30_IO'] = df_player1.groupby(['p_id','t_surf','t_indoor'])['p_pts_won%'].transform(lambda x: x.rolling(window=10, min_periods = 3).mean().round(2).shift(21))\n",
    "df_player1['p_pts_won%_21to30_IO'] = df_player1['p_pts_won%_21to30_IO'].fillna(df_player1['p_pts_won%_11to20_IO'])\n",
    "\n",
    "df_player1['p_pts_won%_31to40_IO'] = df_player1.groupby(['p_id','t_surf','t_indoor'])['p_pts_won%'].transform(lambda x: x.rolling(window=10, min_periods = 3).mean().round(2).shift(31))\n",
    "df_player1['p_pts_won%_31to40_IO'] = df_player1['p_pts_won%_31to40_IO'].fillna(df_player1['p_pts_won%_21to30_IO'])\n",
    "\n",
    "df_player1['p_pts_won%_41to50_IO'] = df_player1.groupby(['p_id','t_surf','t_indoor'])['p_pts_won%'].transform(lambda x: x.rolling(window=10, min_periods = 3).mean().round(2).shift(41))\n",
    "df_player1['p_pts_won%_41to50_IO'] = df_player1['p_pts_won%_41to50_IO'].fillna(df_player1['p_pts_won%_31to40_IO'])\n",
    "\n",
    "df_player1['p_pts_won%_51to60_IO'] = df_player1.groupby(['p_id','t_surf','t_indoor'])['p_pts_won%'].transform(lambda x: x.rolling(window=10, min_periods = 3).mean().round(2).shift(51))\n",
    "df_player1['p_pts_won%_51to60_IO'] = df_player1['p_pts_won%_51to60_IO'].fillna(df_player1['p_pts_won%_41to50_IO'])\n",
    "\n",
    "#df_player1['p_pts_won%_61to70_IO'] = df_player1.groupby(['p_id','t_surf','t_indoor'])['p_pts_won%'].transform(lambda x: x.rolling(window=10, min_periods = 3).mean().round(2).shift(61))\n",
    "#df_player1['p_pts_won%_61to70_IO'] = df_player1['p_pts_won%_61to70_IO'].fillna(df_player1['p_pts_won%_51to60_IO'])\n",
    "\n",
    "#df_player1['p_pts_won%_71to80'] = df_player1.groupby(['p_id','t_surf'])['p_pts_won%'].transform(lambda x: x.rolling(window=10, min_periods = 3).mean().round(2).shift(71))\n",
    "#df_player1['p_pts_won%_71to80'] = df_player1['p_pts_won%_71to80'].fillna(df_player1['p_pts_won%_61to70'])\n",
    "\n",
    "df_player1 = df_player1.iloc[::-1]"
   ]
  },
  {
   "cell_type": "code",
   "execution_count": 19,
   "id": "c4cd3918",
   "metadata": {},
   "outputs": [],
   "source": [
    "# Time-decay weighting the total pts won % by player result from above.\n",
    "df_player1[\"p_pts_won%_l60_decay_IO\"] = (((df_player1['p_pts_won%_1to10_IO'] * 14) + (df_player1['p_pts_won%_11to20_IO'] * 8) + (df_player1['p_pts_won%_21to30_IO'] * 5) \n",
    "+ (df_player1['p_pts_won%_31to40_IO'] * 3) + (df_player1['p_pts_won%_41to50_IO'] * 2) + (df_player1['p_pts_won%_51to60_IO'] * 1))/33).round(2)\n",
    "\n",
    "#Dropping the transient columns used for the decay calculations\n",
    "df_player1.drop([\"p_pts_won%_1to10_IO\",\"p_pts_won%_11to20_IO\",\"p_pts_won%_21to30_IO\",\"p_pts_won%_31to40_IO\",\"p_pts_won%_41to50_IO\",\"p_pts_won%_51to60_IO\"],axis=1, inplace=True)\n",
    "#df_player1"
   ]
  },
  {
   "cell_type": "code",
   "execution_count": 20,
   "id": "71f42580",
   "metadata": {},
   "outputs": [],
   "source": [
    "# % SERVE points won over up to the last 60 surface-specific matches for a given player prior to a match to be predicted on\n",
    "# In EDA and modeling, we will require a minimum # of matches in the past relative to a match being predicted on FOR BOTH PLAYERS IN THE MATCH\n",
    "# Therefore, we do not need to go to extremes to backfill NaNs here when a window to compute on doesn't meet the min period requirement.\n",
    "\n",
    "df_player1 = df_player1.iloc[::-1]\n",
    "\n",
    "df_player1['p_sv_pts_won%_1to10'] = df_player1.groupby(['p_id','t_surf'])['p_sv_pts_won%'].transform(lambda x: x.rolling(window=10, min_periods = 1).mean().round(2).shift(1))\n",
    "\n",
    "df_player1['p_sv_pts_won%_11to20'] = df_player1.groupby(['p_id','t_surf'])['p_sv_pts_won%'].transform(lambda x: x.rolling(window=10, min_periods = 3).mean().round(2).shift(11))\n",
    "df_player1['p_sv_pts_won%_11to20'] = df_player1['p_sv_pts_won%_11to20'].fillna(df_player1['p_sv_pts_won%_1to10'])\n",
    "\n",
    "df_player1['p_sv_pts_won%_21to30'] = df_player1.groupby(['p_id','t_surf'])['p_sv_pts_won%'].transform(lambda x: x.rolling(window=10, min_periods = 3).mean().round(2).shift(21))\n",
    "df_player1['p_sv_pts_won%_21to30'] = df_player1['p_sv_pts_won%_21to30'].fillna(df_player1['p_sv_pts_won%_11to20'])\n",
    "\n",
    "df_player1['p_sv_pts_won%_31to40'] = df_player1.groupby(['p_id','t_surf'])['p_sv_pts_won%'].transform(lambda x: x.rolling(window=10, min_periods = 3).mean().round(2).shift(31))\n",
    "df_player1['p_sv_pts_won%_31to40'] = df_player1['p_sv_pts_won%_31to40'].fillna(df_player1['p_sv_pts_won%_21to30'])\n",
    "\n",
    "df_player1['p_sv_pts_won%_41to50'] = df_player1.groupby(['p_id','t_surf'])['p_sv_pts_won%'].transform(lambda x: x.rolling(window=10, min_periods = 3).mean().round(2).shift(41))\n",
    "df_player1['p_sv_pts_won%_41to50'] = df_player1['p_sv_pts_won%_41to50'].fillna(df_player1['p_sv_pts_won%_31to40'])\n",
    "\n",
    "df_player1['p_sv_pts_won%_51to60'] = df_player1.groupby(['p_id','t_surf'])['p_sv_pts_won%'].transform(lambda x: x.rolling(window=10, min_periods = 3).mean().round(2).shift(51))\n",
    "df_player1['p_sv_pts_won%_51to60'] = df_player1['p_sv_pts_won%_51to60'].fillna(df_player1['p_sv_pts_won%_41to50'])\n",
    "\n",
    "#df_player1['p_sv_pts_won%_61to70'] = df_player1.groupby(['p_id','t_surf'])['p_sv_pts_won%'].transform(lambda x: x.rolling(window=10, min_periods = 3).mean().round(2).shift(61))\n",
    "#df_player1['p_sv_pts_won%_61to70'] = df_player1['p_sv_pts_won%_61to70'].fillna(df_player1['p_sv_pts_won%_51to60'])\n",
    "\n",
    "df_player1 = df_player1.iloc[::-1]\n"
   ]
  },
  {
   "cell_type": "code",
   "execution_count": 21,
   "id": "d4dee1fa",
   "metadata": {},
   "outputs": [],
   "source": [
    "# Time-decay weighting the SERVE pts won % by player result from above.\n",
    "df_player1[\"p_sv_pts_won%_l60_decay\"] = (((df_player1['p_sv_pts_won%_1to10'] * 14) + (df_player1['p_sv_pts_won%_11to20'] * 8) + (df_player1['p_sv_pts_won%_21to30'] * 5) \n",
    "+ (df_player1['p_sv_pts_won%_31to40'] * 3) + (df_player1['p_sv_pts_won%_41to50'] * 2) + (df_player1['p_sv_pts_won%_51to60'] * 1))/33).round(2)\n",
    "\n",
    "#Dropping the transient columns used for the decay calculations\n",
    "df_player1.drop([\"p_sv_pts_won%_11to20\",\"p_sv_pts_won%_21to30\",\"p_sv_pts_won%_31to40\",\"p_sv_pts_won%_41to50\",\"p_sv_pts_won%_51to60\"],axis=1, inplace=True)\n"
   ]
  },
  {
   "cell_type": "code",
   "execution_count": 22,
   "id": "3f5aa87c",
   "metadata": {},
   "outputs": [],
   "source": [
    "# Short term serve points won% perfomance\n",
    "df_player1[\"p_sv_pts_won%_l10\"] = df_player1[\"p_sv_pts_won%_1to10\"]\n",
    "\n",
    "df_player1.drop([\"p_sv_pts_won%_1to10\"],axis=1, inplace=True)"
   ]
  },
  {
   "cell_type": "code",
   "execution_count": 23,
   "id": "540639b8",
   "metadata": {},
   "outputs": [],
   "source": [
    "# % RETURN points won over up to the last 60 surface-specific matches for a given player prior to a match to be predicted on\n",
    "# In EDA and modeling, we will require a minimum # of matches in the past relative to a match being predicted on FOR BOTH PLAYERS IN THE MATCH\n",
    "# Therefore, we do not need to go to extremes to backfill NaNs here when a window to compute on doesn't meet the min period requirement.\n",
    "\n",
    "df_player1 = df_player1.iloc[::-1]\n",
    "\n",
    "df_player1['p_ret_pts_won%_1to10'] = df_player1.groupby(['p_id','t_surf'])['p_ret_pts_won%'].transform(lambda x: x.rolling(window=10, min_periods = 1).mean().round(2).shift(1))\n",
    "\n",
    "df_player1['p_ret_pts_won%_11to20'] = df_player1.groupby(['p_id','t_surf'])['p_ret_pts_won%'].transform(lambda x: x.rolling(window=10, min_periods = 3).mean().round(2).shift(11))\n",
    "df_player1['p_ret_pts_won%_11to20'] = df_player1['p_ret_pts_won%_11to20'].fillna(df_player1['p_ret_pts_won%_1to10'])\n",
    "\n",
    "df_player1['p_ret_pts_won%_21to30'] = df_player1.groupby(['p_id','t_surf'])['p_ret_pts_won%'].transform(lambda x: x.rolling(window=10, min_periods = 3).mean().round(2).shift(21))\n",
    "df_player1['p_ret_pts_won%_21to30'] = df_player1['p_ret_pts_won%_21to30'].fillna(df_player1['p_ret_pts_won%_11to20'])\n",
    "\n",
    "df_player1['p_ret_pts_won%_31to40'] = df_player1.groupby(['p_id','t_surf'])['p_ret_pts_won%'].transform(lambda x: x.rolling(window=10, min_periods = 3).mean().round(2).shift(31))\n",
    "df_player1['p_ret_pts_won%_31to40'] = df_player1['p_ret_pts_won%_31to40'].fillna(df_player1['p_ret_pts_won%_21to30'])\n",
    "\n",
    "df_player1['p_ret_pts_won%_41to50'] = df_player1.groupby(['p_id','t_surf'])['p_ret_pts_won%'].transform(lambda x: x.rolling(window=10, min_periods = 3).mean().round(2).shift(41))\n",
    "df_player1['p_ret_pts_won%_41to50'] = df_player1['p_ret_pts_won%_41to50'].fillna(df_player1['p_ret_pts_won%_31to40'])\n",
    "\n",
    "df_player1['p_ret_pts_won%_51to60'] = df_player1.groupby(['p_id','t_surf'])['p_ret_pts_won%'].transform(lambda x: x.rolling(window=10, min_periods = 3).mean().round(2).shift(51))\n",
    "df_player1['p_ret_pts_won%_51to60'] = df_player1['p_ret_pts_won%_51to60'].fillna(df_player1['p_ret_pts_won%_41to50'])\n",
    "\n",
    "#df_player1['p_ret_pts_won%_61to70'] = df_player1.groupby(['p_id','t_surf'])['p_ret_pts_won%'].transform(lambda x: x.rolling(window=10, min_periods = 3).mean().round(2).shift(61))\n",
    "#df_player1['p_ret_pts_won%_61to70'] = df_player1['p_ret_pts_won%_61to70'].fillna(df_player1['p_ret_pts_won%_51to60'])\n",
    "\n",
    "df_player1 = df_player1.iloc[::-1]\n"
   ]
  },
  {
   "cell_type": "code",
   "execution_count": 24,
   "id": "54757624",
   "metadata": {},
   "outputs": [],
   "source": [
    "# Time-decay weighting the RETURN pts won % by player result from above.\n",
    "df_player1[\"p_ret_pts_won%_l60_decay\"] = (((df_player1['p_ret_pts_won%_1to10'] * 14) + (df_player1['p_ret_pts_won%_11to20'] * 8) + (df_player1['p_ret_pts_won%_21to30'] * 5) \n",
    "+ (df_player1['p_ret_pts_won%_31to40'] * 3) + (df_player1['p_ret_pts_won%_41to50'] * 2) + (df_player1['p_ret_pts_won%_51to60'] * 1))/33).round(2)\n",
    "\n",
    "#Dropping the transient columns used for the decay calculations\n",
    "df_player1.drop([\"p_ret_pts_won%_11to20\",\"p_ret_pts_won%_21to30\",\"p_ret_pts_won%_31to40\",\"p_ret_pts_won%_41to50\",\"p_ret_pts_won%_51to60\"],axis=1, inplace=True)\n"
   ]
  },
  {
   "cell_type": "code",
   "execution_count": 25,
   "id": "2d930ed3",
   "metadata": {},
   "outputs": [],
   "source": [
    "# Short term return points won% perfomance\n",
    "df_player1[\"p_ret_pts_won%_l10\"] = df_player1[\"p_ret_pts_won%_1to10\"]\n",
    "\n",
    "df_player1.drop([\"p_ret_pts_won%_1to10\"],axis=1, inplace=True)"
   ]
  },
  {
   "cell_type": "code",
   "execution_count": 26,
   "id": "53af2f8d",
   "metadata": {},
   "outputs": [],
   "source": [
    "#Save to review\n",
    "#df_player1.to_csv('../data/df_player1.csv', index=False)"
   ]
  },
  {
   "cell_type": "code",
   "execution_count": 27,
   "id": "a6a305c2",
   "metadata": {},
   "outputs": [],
   "source": [
    "# player ace% over up to the last 60 surface-specific matches for a given player prior to a match to be predicted on\n",
    "# In EDA and modeling, we will require a minimum # of matches in the past relative to a match being predicted on FOR BOTH PLAYERS IN THE MATCH\n",
    "# Therefore, we do not need to go to extremes to backfill NaNs here when a window to compute on doesn't meet the min period requirement.\n",
    "\n",
    "# decay-weighted player ace % over up to the last 60 matches (surface-specific)\n",
    "df_player1[\"p_ace%\"] = ((df_player1[\"p_ace\"]/df_player1[\"p_svpt\"])*100).round(2)\n",
    "\n",
    "df_player1 = df_player1.iloc[::-1]\n",
    "\n",
    "df_player1['p_ace%_1to10'] = df_player1.groupby(['p_id','t_surf'])['p_ace%'].transform(lambda x: x.rolling(window=10, min_periods = 1).mean().round(2).shift(1))\n",
    "\n",
    "df_player1['p_ace%_11to20'] = df_player1.groupby(['p_id','t_surf'])['p_ace%'].transform(lambda x: x.rolling(window=10, min_periods = 3).mean().round(2).shift(11))\n",
    "df_player1['p_ace%_11to20'] = df_player1['p_ace%_11to20'].fillna(df_player1['p_ace%_1to10'])\n",
    "\n",
    "df_player1['p_ace%_21to30'] = df_player1.groupby(['p_id','t_surf'])['p_ace%'].transform(lambda x: x.rolling(window=10, min_periods = 3).mean().round(2).shift(21))\n",
    "df_player1['p_ace%_21to30'] = df_player1['p_ace%_21to30'].fillna(df_player1['p_ace%_11to20'])\n",
    "\n",
    "df_player1['p_ace%_31to40'] = df_player1.groupby(['p_id','t_surf'])['p_ace%'].transform(lambda x: x.rolling(window=10, min_periods = 3).mean().round(2).shift(31))\n",
    "df_player1['p_ace%_31to40'] = df_player1['p_ace%_31to40'].fillna(df_player1['p_ace%_21to30'])\n",
    "\n",
    "df_player1['p_ace%_41to50'] = df_player1.groupby(['p_id','t_surf'])['p_ace%'].transform(lambda x: x.rolling(window=10, min_periods = 3).mean().round(2).shift(41))\n",
    "df_player1['p_ace%_41to50'] = df_player1['p_ace%_41to50'].fillna(df_player1['p_ace%_31to40'])\n",
    "\n",
    "df_player1['p_ace%_51to60'] = df_player1.groupby(['p_id','t_surf'])['p_ace%'].transform(lambda x: x.rolling(window=10, min_periods = 3).mean().round(2).shift(51))\n",
    "df_player1['p_ace%_51to60'] = df_player1['p_ace%_51to60'].fillna(df_player1['p_ace%_41to50'])\n",
    "\n",
    "#df_player1['p_ace%_61to70'] = df_player1.groupby(['p_id','t_surf'])['p_ace%'].transform(lambda x: x.rolling(window=10, min_periods = 3).mean().round(2).shift(61))\n",
    "#df_player1['p_ace%_61to70'] = df_player1['p_ace%_61to70'].fillna(df_player1['p_ace%_51to60'])\n",
    "\n",
    "df_player1 = df_player1.iloc[::-1]"
   ]
  },
  {
   "cell_type": "code",
   "execution_count": 28,
   "id": "84e3ca98",
   "metadata": {},
   "outputs": [],
   "source": [
    "# Time-decay weighting the ace% by player result from above.\n",
    "df_player1[\"p_ace%_l60_decay\"] = (((df_player1['p_ace%_1to10'] * 14) + (df_player1['p_ace%_11to20'] * 8) + (df_player1['p_ace%_21to30'] * 5) \n",
    "+ (df_player1['p_ace%_31to40'] * 3) + (df_player1['p_ace%_41to50'] * 2) + (df_player1['p_ace%_51to60'] * 1))/33).round(2)\n",
    "\n",
    "#Dropping the transient columns used for the decay calculations\n",
    "df_player1.drop([\"p_ace%_11to20\",\"p_ace%_21to30\",\"p_ace%_31to40\",\"p_ace%_41to50\",\"p_ace%_51to60\"],axis=1, inplace=True)"
   ]
  },
  {
   "cell_type": "code",
   "execution_count": 29,
   "id": "4d1d0661",
   "metadata": {},
   "outputs": [],
   "source": [
    "# Short term ace% perfomance\n",
    "df_player1[\"p_ace%_l10\"] = df_player1[\"p_ace%_1to10\"]\n",
    "df_player1.drop([\"p_ace%_1to10\"],axis=1, inplace=True)"
   ]
  },
  {
   "cell_type": "code",
   "execution_count": 30,
   "id": "de9df498",
   "metadata": {},
   "outputs": [],
   "source": [
    "# player aced% (as a returner) over up to the last 60 surface-specific matches for a given player prior to a match to be predicted on\n",
    "# In EDA and modeling, we will require a minimum # of matches in the past relative to a match being predicted on FOR BOTH PLAYERS IN THE MATCH\n",
    "# Therefore, we do not need to go to extremes to backfill NaNs here when a window to compute on doesn't meet the min period requirement.\n",
    "\n",
    "df_player1[\"p_aced%\"] = ((df_player1[\"opp_ace\"]/df_player1[\"opp_svpt\"])*100).round(2)\n",
    "\n",
    "df_player1 = df_player1.iloc[::-1]\n",
    "\n",
    "df_player1['p_aced%_1to10'] = df_player1.groupby(['p_id','t_surf'])['p_aced%'].transform(lambda x: x.rolling(window=10, min_periods = 1).mean().round(2).shift(1))\n",
    "\n",
    "df_player1['p_aced%_11to20'] = df_player1.groupby(['p_id','t_surf'])['p_aced%'].transform(lambda x: x.rolling(window=10, min_periods = 3).mean().round(2).shift(11))\n",
    "df_player1['p_aced%_11to20'] = df_player1['p_aced%_11to20'].fillna(df_player1['p_aced%_1to10'])\n",
    "\n",
    "df_player1['p_aced%_21to30'] = df_player1.groupby(['p_id','t_surf'])['p_aced%'].transform(lambda x: x.rolling(window=10, min_periods = 3).mean().round(2).shift(21))\n",
    "df_player1['p_aced%_21to30'] = df_player1['p_aced%_21to30'].fillna(df_player1['p_aced%_11to20'])\n",
    "\n",
    "df_player1['p_aced%_31to40'] = df_player1.groupby(['p_id','t_surf'])['p_aced%'].transform(lambda x: x.rolling(window=10, min_periods = 3).mean().round(2).shift(31))\n",
    "df_player1['p_aced%_31to40'] = df_player1['p_aced%_31to40'].fillna(df_player1['p_aced%_21to30'])\n",
    "\n",
    "df_player1['p_aced%_41to50'] = df_player1.groupby(['p_id','t_surf'])['p_aced%'].transform(lambda x: x.rolling(window=10, min_periods = 3).mean().round(2).shift(41))\n",
    "df_player1['p_aced%_41to50'] = df_player1['p_aced%_41to50'].fillna(df_player1['p_aced%_31to40'])\n",
    "\n",
    "df_player1['p_aced%_51to60'] = df_player1.groupby(['p_id','t_surf'])['p_aced%'].transform(lambda x: x.rolling(window=10, min_periods = 3).mean().round(2).shift(51))\n",
    "df_player1['p_aced%_51to60'] = df_player1['p_aced%_51to60'].fillna(df_player1['p_aced%_41to50'])\n",
    "\n",
    "#df_player1['p_aced%_61to70'] = df_player1.groupby(['p_id','t_surf'])['p_aced%'].transform(lambda x: x.rolling(window=10, min_periods = 3).mean().round(2).shift(61))\n",
    "#df_player1['p_aced%_61to70'] = df_player1['p_aced%_61to70'].fillna(df_player1['p_aced%_51to60'])\n",
    "\n",
    "df_player1 = df_player1.iloc[::-1]"
   ]
  },
  {
   "cell_type": "code",
   "execution_count": 31,
   "id": "7a388991",
   "metadata": {},
   "outputs": [],
   "source": [
    "# Time-decay weighting the aced% by player result from above.\n",
    "df_player1[\"p_aced%_l60_decay\"] = (((df_player1['p_aced%_1to10'] * 14) + (df_player1['p_aced%_11to20'] * 8) + (df_player1['p_aced%_21to30'] * 5) \n",
    "+ (df_player1['p_aced%_31to40'] * 3) + (df_player1['p_aced%_41to50'] * 2) + (df_player1['p_aced%_51to60'] * 1))/33).round(2)\n",
    "\n",
    "#Dropping the transient columns used for the decay calculations\n",
    "df_player1.drop([\"p_aced%_11to20\",\"p_aced%_21to30\",\"p_aced%_31to40\",\"p_aced%_41to50\",\"p_aced%_51to60\"],axis=1, inplace=True)"
   ]
  },
  {
   "cell_type": "code",
   "execution_count": 32,
   "id": "c38319c7",
   "metadata": {},
   "outputs": [],
   "source": [
    "# Short term aced% perfomance\n",
    "df_player1[\"p_aced%_l10\"] = df_player1[\"p_aced%_1to10\"]\n",
    "df_player1.drop([\"p_aced%_1to10\"],axis=1, inplace=True)"
   ]
  },
  {
   "cell_type": "code",
   "execution_count": 33,
   "id": "81ed7c5a",
   "metadata": {},
   "outputs": [],
   "source": [
    "#df_player1.to_csv('../data/df_player1.csv', index=False)"
   ]
  },
  {
   "cell_type": "code",
   "execution_count": 34,
   "id": "95fb4a90",
   "metadata": {},
   "outputs": [],
   "source": [
    "# player break point save % (as a server) over up to the last 60 matches (surface-specific)\n",
    "# I played around with a weighted version of this, but it didn't work as well as unweighted just due to the rareness of the events\n",
    "\n",
    "df_player1[\"p_bp_save%\"] = ((df_player1[\"p_bpSaved\"]/df_player1[\"p_bpFaced\"])*100).round(2)\n",
    "df_player1['p_bp_save%'] = df_player1['p_bp_save%'].fillna(100) #covers the cases where a player faced 0 break pts in the match\n",
    "\n",
    "df_player1 = df_player1.iloc[::-1]\n",
    "df_player1['p_bp_save%_l60'] = df_player1.groupby(['p_id','t_surf'])['p_bp_save%'].transform(lambda x: x.rolling(window=60, min_periods = 1).mean().round(2).shift(1))\n",
    "df_player1 = df_player1.iloc[::-1]"
   ]
  },
  {
   "cell_type": "code",
   "execution_count": 35,
   "id": "8470c247",
   "metadata": {},
   "outputs": [],
   "source": [
    "# player break point save% (as a server) over the short term (last 10 matches) (surface-specific)\n",
    "df_player1 = df_player1.iloc[::-1]\n",
    "df_player1['p_bp_save%_l10'] = df_player1.groupby(['p_id','t_surf'])['p_bp_save%'].transform(lambda x: x.rolling(window=10, min_periods = 1).mean().round(2).shift(1))\n",
    "df_player1 = df_player1.iloc[::-1]"
   ]
  },
  {
   "cell_type": "code",
   "execution_count": 36,
   "id": "9edc0aa3",
   "metadata": {},
   "outputs": [],
   "source": [
    "# player break point conversion % (as a returner) over up to the last 60 matches (surface-specific)\n",
    "# I played around with a weighted version of this, but it didn't work as well as unweighted just due to the rareness of the events\n",
    "\n",
    "df_player1[\"p_bp_convert%\"] = ((1 - (df_player1[\"opp_bpSaved\"]/df_player1[\"opp_bpFaced\"]))*100).round(2)\n",
    "df_player1['p_bp_convert%'] = df_player1['p_bp_convert%'].fillna(0) #covers the cases where a player generated 0 break point opportunities in a match\n",
    "\n",
    "df_player1 = df_player1.iloc[::-1]\n",
    "df_player1['p_bp_convert%_l60'] = df_player1.groupby(['p_id','t_surf'])['p_bp_convert%'].transform(lambda x: x.rolling(window=60, min_periods = 1).mean().round(2).shift(1))\n",
    "df_player1 = df_player1.iloc[::-1]"
   ]
  },
  {
   "cell_type": "code",
   "execution_count": 37,
   "id": "ced7bd26",
   "metadata": {},
   "outputs": [],
   "source": [
    "# player break point convert% (as a returner) over the short term (last 10 matches) (surface-specific)\n",
    "df_player1 = df_player1.iloc[::-1]\n",
    "df_player1['p_bp_convert%_l10'] = df_player1.groupby(['p_id','t_surf'])['p_bp_convert%'].transform(lambda x: x.rolling(window=10, min_periods = 1).mean().round(2).shift(1))\n",
    "df_player1 = df_player1.iloc[::-1]"
   ]
  },
  {
   "cell_type": "code",
   "execution_count": 38,
   "id": "33dae5d0",
   "metadata": {},
   "outputs": [],
   "source": [
    "# Variability (standard deviation) in total pts won% over the previous 60 surface-specific matches (decay weighted)\n",
    "df_player1 = df_player1.iloc[::-1]\n",
    "\n",
    "df_player1['p_pts_won%_std_1to10'] = df_player1.groupby(['p_id','t_surf'])['p_pts_won%'].transform(lambda x: x.rolling(window=10, min_periods = 1).std().round(2).shift(1))\n",
    "\n",
    "df_player1['p_pts_won%_std_11to20'] = df_player1.groupby(['p_id','t_surf'])['p_pts_won%'].transform(lambda x: x.rolling(window=10, min_periods = 3).std().round(2).shift(11))\n",
    "df_player1['p_pts_won%_std_11to20'] = df_player1['p_pts_won%_std_11to20'].fillna(df_player1['p_pts_won%_std_1to10'])\n",
    "\n",
    "df_player1['p_pts_won%_std_21to30'] = df_player1.groupby(['p_id','t_surf'])['p_pts_won%'].transform(lambda x: x.rolling(window=10, min_periods = 3).std().round(2).shift(21))\n",
    "df_player1['p_pts_won%_std_21to30'] = df_player1['p_pts_won%_std_21to30'].fillna(df_player1['p_pts_won%_std_11to20'])\n",
    "\n",
    "df_player1['p_pts_won%_std_31to40'] = df_player1.groupby(['p_id','t_surf'])['p_pts_won%'].transform(lambda x: x.rolling(window=10, min_periods = 3).std().round(2).shift(31))\n",
    "df_player1['p_pts_won%_std_31to40'] = df_player1['p_pts_won%_std_31to40'].fillna(df_player1['p_pts_won%_std_21to30'])\n",
    "\n",
    "df_player1['p_pts_won%_std_41to50'] = df_player1.groupby(['p_id','t_surf'])['p_pts_won%'].transform(lambda x: x.rolling(window=10, min_periods = 3).std().round(2).shift(41))\n",
    "df_player1['p_pts_won%_std_41to50'] = df_player1['p_pts_won%_std_41to50'].fillna(df_player1['p_pts_won%_std_31to40'])\n",
    "\n",
    "df_player1['p_pts_won%_std_51to60'] = df_player1.groupby(['p_id','t_surf'])['p_pts_won%'].transform(lambda x: x.rolling(window=10, min_periods = 3).std().round(2).shift(51))\n",
    "df_player1['p_pts_won%_std_51to60'] = df_player1['p_pts_won%_std_51to60'].fillna(df_player1['p_pts_won%_std_41to50'])\n",
    "\n",
    "df_player1 = df_player1.iloc[::-1]"
   ]
  },
  {
   "cell_type": "code",
   "execution_count": 39,
   "id": "a8ca872e",
   "metadata": {},
   "outputs": [],
   "source": [
    "# Time-decay weighting the total pts won % by player result from above.\n",
    "\n",
    "df_player1[\"p_pts_won%_std_l60_decay\"] = (((df_player1['p_pts_won%_std_1to10'] * 14) + (df_player1['p_pts_won%_std_11to20'] * 8) + (df_player1['p_pts_won%_std_21to30'] * 5) \n",
    "+ (df_player1['p_pts_won%_std_31to40'] * 3) + (df_player1['p_pts_won%_std_41to50'] * 2) + (df_player1['p_pts_won%_std_51to60'] * 1))/33).round(2)\n",
    "\n",
    "#Dropping the transient columns used for the decay calculations\n",
    "df_player1.drop([\"p_pts_won%_std_1to10\", \"p_pts_won%_std_11to20\",\"p_pts_won%_std_21to30\",\"p_pts_won%_std_31to40\",\"p_pts_won%_std_41to50\",\"p_pts_won%_std_51to60\"],axis=1, inplace=True)\n"
   ]
  },
  {
   "cell_type": "code",
   "execution_count": 40,
   "id": "0eec6305",
   "metadata": {},
   "outputs": [],
   "source": [
    "# Variability (standard deviation) in serve pts won% over the previous 60 surface-specific matches (decay weighted)\n",
    "df_player1 = df_player1.iloc[::-1]\n",
    "\n",
    "df_player1['p_sv_pts_won%_std_1to10'] = df_player1.groupby(['p_id','t_surf'])['p_sv_pts_won%'].transform(lambda x: x.rolling(window=10, min_periods = 1).std().round(2).shift(1))\n",
    "\n",
    "df_player1['p_sv_pts_won%_std_11to20'] = df_player1.groupby(['p_id','t_surf'])['p_sv_pts_won%'].transform(lambda x: x.rolling(window=10, min_periods = 3).std().round(2).shift(11))\n",
    "df_player1['p_sv_pts_won%_std_11to20'] = df_player1['p_sv_pts_won%_std_11to20'].fillna(df_player1['p_sv_pts_won%_std_1to10'])\n",
    "\n",
    "df_player1['p_sv_pts_won%_std_21to30'] = df_player1.groupby(['p_id','t_surf'])['p_sv_pts_won%'].transform(lambda x: x.rolling(window=10, min_periods = 3).std().round(2).shift(21))\n",
    "df_player1['p_sv_pts_won%_std_21to30'] = df_player1['p_sv_pts_won%_std_21to30'].fillna(df_player1['p_sv_pts_won%_std_11to20'])\n",
    "\n",
    "df_player1['p_sv_pts_won%_std_31to40'] = df_player1.groupby(['p_id','t_surf'])['p_sv_pts_won%'].transform(lambda x: x.rolling(window=10, min_periods = 3).std().round(2).shift(31))\n",
    "df_player1['p_sv_pts_won%_std_31to40'] = df_player1['p_sv_pts_won%_std_31to40'].fillna(df_player1['p_sv_pts_won%_std_21to30'])\n",
    "\n",
    "df_player1['p_sv_pts_won%_std_41to50'] = df_player1.groupby(['p_id','t_surf'])['p_sv_pts_won%'].transform(lambda x: x.rolling(window=10, min_periods = 3).std().round(2).shift(41))\n",
    "df_player1['p_sv_pts_won%_std_41to50'] = df_player1['p_sv_pts_won%_std_41to50'].fillna(df_player1['p_sv_pts_won%_std_31to40'])\n",
    "\n",
    "df_player1['p_sv_pts_won%_std_51to60'] = df_player1.groupby(['p_id','t_surf'])['p_sv_pts_won%'].transform(lambda x: x.rolling(window=10, min_periods = 3).std().round(2).shift(51))\n",
    "df_player1['p_sv_pts_won%_std_51to60'] = df_player1['p_sv_pts_won%_std_51to60'].fillna(df_player1['p_sv_pts_won%_std_41to50'])\n",
    "\n",
    "df_player1 = df_player1.iloc[::-1]"
   ]
  },
  {
   "cell_type": "code",
   "execution_count": 41,
   "id": "9a39f3e6",
   "metadata": {},
   "outputs": [],
   "source": [
    "# Time-decay weighting the serve pts won % by player result from above.\n",
    "\n",
    "df_player1[\"p_sv_pts_won%_std_l60_decay\"] = (((df_player1['p_sv_pts_won%_std_1to10'] * 14) + (df_player1['p_sv_pts_won%_std_11to20'] * 8) + (df_player1['p_sv_pts_won%_std_21to30'] * 5) \n",
    "+ (df_player1['p_sv_pts_won%_std_31to40'] * 3) + (df_player1['p_sv_pts_won%_std_41to50'] * 2) + (df_player1['p_sv_pts_won%_std_51to60'] * 1))/33).round(2)\n",
    "\n",
    "#Dropping the transient columns used for the decay calculations\n",
    "df_player1.drop([\"p_sv_pts_won%_std_1to10\", \"p_sv_pts_won%_std_11to20\",\"p_sv_pts_won%_std_21to30\",\"p_sv_pts_won%_std_31to40\",\"p_sv_pts_won%_std_41to50\",\"p_sv_pts_won%_std_51to60\"],axis=1, inplace=True)\n"
   ]
  },
  {
   "cell_type": "code",
   "execution_count": 42,
   "id": "6ec99138",
   "metadata": {},
   "outputs": [],
   "source": [
    "# Variability (standard deviation) in return pts won% over the previous 60 surface-specific matches (decay weighted)\n",
    "df_player1 = df_player1.iloc[::-1]\n",
    "\n",
    "df_player1['p_ret_pts_won%_std_1to10'] = df_player1.groupby(['p_id','t_surf'])['p_ret_pts_won%'].transform(lambda x: x.rolling(window=10, min_periods = 1).std().round(2).shift(1))\n",
    "\n",
    "df_player1['p_ret_pts_won%_std_11to20'] = df_player1.groupby(['p_id','t_surf'])['p_ret_pts_won%'].transform(lambda x: x.rolling(window=10, min_periods = 3).std().round(2).shift(11))\n",
    "df_player1['p_ret_pts_won%_std_11to20'] = df_player1['p_ret_pts_won%_std_11to20'].fillna(df_player1['p_ret_pts_won%_std_1to10'])\n",
    "\n",
    "df_player1['p_ret_pts_won%_std_21to30'] = df_player1.groupby(['p_id','t_surf'])['p_ret_pts_won%'].transform(lambda x: x.rolling(window=10, min_periods = 3).std().round(2).shift(21))\n",
    "df_player1['p_ret_pts_won%_std_21to30'] = df_player1['p_ret_pts_won%_std_21to30'].fillna(df_player1['p_ret_pts_won%_std_11to20'])\n",
    "\n",
    "df_player1['p_ret_pts_won%_std_31to40'] = df_player1.groupby(['p_id','t_surf'])['p_ret_pts_won%'].transform(lambda x: x.rolling(window=10, min_periods = 3).std().round(2).shift(31))\n",
    "df_player1['p_ret_pts_won%_std_31to40'] = df_player1['p_ret_pts_won%_std_31to40'].fillna(df_player1['p_ret_pts_won%_std_21to30'])\n",
    "\n",
    "df_player1['p_ret_pts_won%_std_41to50'] = df_player1.groupby(['p_id','t_surf'])['p_ret_pts_won%'].transform(lambda x: x.rolling(window=10, min_periods = 3).std().round(2).shift(41))\n",
    "df_player1['p_ret_pts_won%_std_41to50'] = df_player1['p_ret_pts_won%_std_41to50'].fillna(df_player1['p_ret_pts_won%_std_31to40'])\n",
    "\n",
    "df_player1['p_ret_pts_won%_std_51to60'] = df_player1.groupby(['p_id','t_surf'])['p_ret_pts_won%'].transform(lambda x: x.rolling(window=10, min_periods = 3).std().round(2).shift(51))\n",
    "df_player1['p_ret_pts_won%_std_51to60'] = df_player1['p_ret_pts_won%_std_51to60'].fillna(df_player1['p_ret_pts_won%_std_41to50'])\n",
    "\n",
    "df_player1 = df_player1.iloc[::-1]"
   ]
  },
  {
   "cell_type": "code",
   "execution_count": 43,
   "id": "f02e3a2f",
   "metadata": {},
   "outputs": [],
   "source": [
    "# Time-decay weighting the return pts won % by player result from above.\n",
    "\n",
    "df_player1[\"p_ret_pts_won%_std_l60_decay\"] = (((df_player1['p_ret_pts_won%_std_1to10'] * 14) + (df_player1['p_ret_pts_won%_std_11to20'] * 8) + (df_player1['p_ret_pts_won%_std_21to30'] * 5) \n",
    "+ (df_player1['p_ret_pts_won%_std_31to40'] * 3) + (df_player1['p_ret_pts_won%_std_41to50'] * 2) + (df_player1['p_ret_pts_won%_std_51to60'] * 1))/33).round(2)\n",
    "\n",
    "#Dropping the transient columns used for the decay calculations\n",
    "df_player1.drop([\"p_ret_pts_won%_std_1to10\", \"p_ret_pts_won%_std_11to20\",\"p_ret_pts_won%_std_21to30\",\"p_ret_pts_won%_std_31to40\",\"p_ret_pts_won%_std_41to50\",\"p_ret_pts_won%_std_51to60\"],axis=1, inplace=True)\n"
   ]
  },
  {
   "cell_type": "code",
   "execution_count": 44,
   "id": "af1bb420",
   "metadata": {},
   "outputs": [],
   "source": [
    "#df_player1.to_csv('../data/df_player1.csv', index=False)"
   ]
  },
  {
   "cell_type": "code",
   "execution_count": 45,
   "id": "525726aa",
   "metadata": {},
   "outputs": [
    {
     "name": "stdout",
     "output_type": "stream",
     "text": [
      "<class 'pandas.core.frame.DataFrame'>\n",
      "Int64Index: 55064 entries, 29785 to 42546\n",
      "Data columns (total 64 columns):\n",
      " #   Column                        Non-Null Count  Dtype  \n",
      "---  ------                        --------------  -----  \n",
      " 0   t_id                          55064 non-null  object \n",
      " 1   t_date                        55064 non-null  int64  \n",
      " 2   tour_wk                       55064 non-null  object \n",
      " 3   t_name                        55064 non-null  object \n",
      " 4   t_country                     55064 non-null  object \n",
      " 5   t_surf                        55064 non-null  object \n",
      " 6   t_indoor                      55064 non-null  int64  \n",
      " 7   t_alt                         55064 non-null  int64  \n",
      " 8   t_lvl                         55064 non-null  int64  \n",
      " 9   t_draw_size                   55064 non-null  int64  \n",
      " 10  m_num                         55064 non-null  int64  \n",
      " 11  t_round                       55064 non-null  object \n",
      " 12  t_rd_num                      55064 non-null  int64  \n",
      " 13  m_best_of                     55064 non-null  int64  \n",
      " 14  m_score                       55064 non-null  object \n",
      " 15  m_time(m)                     55064 non-null  float64\n",
      " 16  p_id                          55064 non-null  int64  \n",
      " 17  p_name                        55064 non-null  object \n",
      " 18  p_rank                        54989 non-null  float64\n",
      " 19  p_rank_pts                    54989 non-null  float64\n",
      " 20  p_country                     55064 non-null  object \n",
      " 21  p_ent                         55064 non-null  float64\n",
      " 22  p_hd                          55064 non-null  object \n",
      " 23  p_ht                          54976 non-null  float64\n",
      " 24  p_age                         55064 non-null  float64\n",
      " 25  p_svpt                        55064 non-null  float64\n",
      " 26  p_1stWon                      55064 non-null  float64\n",
      " 27  p_2ndWon                      55064 non-null  float64\n",
      " 28  p_SvGms                       55064 non-null  float64\n",
      " 29  p_ace                         55064 non-null  float64\n",
      " 30  p_bpSaved                     55064 non-null  float64\n",
      " 31  p_bpFaced                     55064 non-null  float64\n",
      " 32  opp_id                        55064 non-null  int64  \n",
      " 33  opp_svpt                      55064 non-null  float64\n",
      " 34  opp_ace                       55064 non-null  float64\n",
      " 35  opp_bpSaved                   55064 non-null  float64\n",
      " 36  opp_bpFaced                   55064 non-null  float64\n",
      " 37  p_pts_won%                    55064 non-null  float64\n",
      " 38  p_sv_pts_won%                 55064 non-null  float64\n",
      " 39  p_ret_pts_won%                55064 non-null  float64\n",
      " 40  m_tot_pts                     55064 non-null  float64\n",
      " 41  m_outcome                     55064 non-null  int64  \n",
      " 42  p_pts_won%_l60_decay          53741 non-null  float64\n",
      " 43  p_pts_won%_l10                53741 non-null  float64\n",
      " 44  p_pts_won%_l60_decay_IO       53168 non-null  float64\n",
      " 45  p_sv_pts_won%_l60_decay       53741 non-null  float64\n",
      " 46  p_sv_pts_won%_l10             53741 non-null  float64\n",
      " 47  p_ret_pts_won%_l60_decay      53741 non-null  float64\n",
      " 48  p_ret_pts_won%_l10            53741 non-null  float64\n",
      " 49  p_ace%                        55064 non-null  float64\n",
      " 50  p_ace%_l60_decay              53741 non-null  float64\n",
      " 51  p_ace%_l10                    53741 non-null  float64\n",
      " 52  p_aced%                       55064 non-null  float64\n",
      " 53  p_aced%_l60_decay             53741 non-null  float64\n",
      " 54  p_aced%_l10                   53741 non-null  float64\n",
      " 55  p_bp_save%                    55064 non-null  float64\n",
      " 56  p_bp_save%_l60                53741 non-null  float64\n",
      " 57  p_bp_save%_l10                53741 non-null  float64\n",
      " 58  p_bp_convert%                 55064 non-null  float64\n",
      " 59  p_bp_convert%_l60             53741 non-null  float64\n",
      " 60  p_bp_convert%_l10             53741 non-null  float64\n",
      " 61  p_pts_won%_std_l60_decay      52677 non-null  float64\n",
      " 62  p_sv_pts_won%_std_l60_decay   52677 non-null  float64\n",
      " 63  p_ret_pts_won%_std_l60_decay  52677 non-null  float64\n",
      "dtypes: float64(43), int64(11), object(10)\n",
      "memory usage: 27.3+ MB\n"
     ]
    }
   ],
   "source": [
    "df_player1.info()"
   ]
  },
  {
   "cell_type": "markdown",
   "id": "02601d9f",
   "metadata": {},
   "source": [
    "### Fatigue and Stamina Predictive Features"
   ]
  },
  {
   "cell_type": "code",
   "execution_count": 46,
   "id": "da389c98",
   "metadata": {},
   "outputs": [],
   "source": [
    "# Computes number of matches previous to the one being predicted on a player has played AND is contained in the sample\n",
    "# Accrued without respect to hard or clay court. Capped at max of 500. \n",
    "\n",
    "df_player1 = df_player1.iloc[::-1]\n",
    "df_player1['p_matches'] = df_player1.groupby('p_id')['p_id'].transform(lambda x: x.rolling(500, min_periods=1).count().shift(1))\n",
    "df_player1 = df_player1.iloc[::-1]\n",
    "\n",
    "# If this is the first match in the sample for the player, the NaN will become 1 (these matches will be filtered out before modeling anyhow)\n",
    "df_player1['p_matches'] = df_player1['p_matches'].fillna(1)"
   ]
  },
  {
   "cell_type": "code",
   "execution_count": 47,
   "id": "ec293ab1",
   "metadata": {},
   "outputs": [],
   "source": [
    "# Computes number of matches previous to the one being predicted on a player has played AND is contained in the sample\n",
    "# Accrued WITH SURFACE SPECIFICITY (Clay or Hard). \n",
    "\n",
    "df_player1 = df_player1.iloc[::-1]\n",
    "df_player1['p_matches_surf'] = df_player1.groupby(['p_id','t_surf'])['p_id'].transform(lambda x: x.rolling(window = 1000, min_periods=1).count().shift(1))\n",
    "df_player1 = df_player1.iloc[::-1]\n",
    "\n",
    "# If this is the first match in the sample for the player, the NaN will become 1 (these matches will be filtered out before modeling anyhow)\n",
    "df_player1['p_matches_surf'] = df_player1['p_matches_surf'].fillna(1)"
   ]
  },
  {
   "cell_type": "code",
   "execution_count": 48,
   "id": "cf7786e1",
   "metadata": {},
   "outputs": [],
   "source": [
    "# Computes time spent on court for a player across up to his last 6 matches within the same tournament (the most possible prior matches\n",
    "# in one tournament a player can have) as the match being predicted on is in.\n",
    "# NaN is replaced with 15 minutes; a range of values for fill (ie, \"off-day exertion\") was explored in modeling and this came out best\n",
    "\n",
    "df_player1[\"p_m_time_last\"] = df_player1.groupby(['p_id','tour_wk'])['m_time(m)'].shift(-1)\n",
    "df_player1['p_m_time_last'] = df_player1['p_m_time_last'].fillna(15)\n",
    "df_player1[\"p_m_time_2ago\"] = df_player1.groupby(['p_id','tour_wk'])['m_time(m)'].shift(-2)\n",
    "df_player1['p_m_time_2ago'] = df_player1['p_m_time_2ago'].fillna(15) \n",
    "df_player1[\"p_m_time_3ago\"] = df_player1.groupby(['p_id','tour_wk'])['m_time(m)'].shift(-3)\n",
    "df_player1['p_m_time_3ago'] = df_player1['p_m_time_3ago'].fillna(15) \n",
    "df_player1[\"p_m_time_4ago\"] = df_player1.groupby(['p_id','tour_wk'])['m_time(m)'].shift(-4)\n",
    "df_player1['p_m_time_4ago'] = df_player1['p_m_time_4ago'].fillna(15)\n",
    "df_player1[\"p_m_time_5ago\"] = df_player1.groupby(['p_id','tour_wk'])['m_time(m)'].shift(-5)\n",
    "df_player1['p_m_time_5ago'] = df_player1['p_m_time_5ago'].fillna(15) \n",
    "df_player1[\"p_m_time_6ago\"] = df_player1.groupby(['p_id','tour_wk'])['m_time(m)'].shift(-6)\n",
    "df_player1['p_m_time_6ago'] = df_player1['p_m_time_6ago'].fillna(15)\n",
    "\n",
    "# Decay-weighted and non-decay weighted versions of the total time are computed\n",
    "df_player1['p_tot_time_l6_decay'] = ((df_player1['p_m_time_last']*1) + (df_player1['p_m_time_2ago']*.9) + (df_player1['p_m_time_3ago']*.8) + (df_player1['p_m_time_4ago']*.7) + (df_player1['p_m_time_5ago']*.6) + (df_player1['p_m_time_5ago']*.5))\n",
    "df_player1['p_tot_time_l6'] = ((df_player1['p_m_time_last']*1) + (df_player1['p_m_time_2ago']*1) + (df_player1['p_m_time_3ago']*1) + (df_player1['p_m_time_4ago']*1) + (df_player1['p_m_time_5ago']*1) + (df_player1['p_m_time_6ago']*1)) #empirically tested to discern that no decay performs slightly better than decay\n",
    "\n",
    "# Dropping transient columns; keeping \"p_m_time_last\"\n",
    "df_player1 = df_player1.drop(['p_m_time_2ago','p_m_time_3ago','p_m_time_4ago','p_m_time_5ago','p_m_time_6ago'],axis=1)"
   ]
  },
  {
   "cell_type": "code",
   "execution_count": 49,
   "id": "1c9a60d4",
   "metadata": {},
   "outputs": [],
   "source": [
    "# Computes total points played for a player across up to his last 6 matches within the same tournament (the most possible prior matches\n",
    "# in one tournament a player can have) as the match being predicted on is in.\n",
    "# NaN is replaced with 25 points; a range of values for fill (ie, \"off-day exertion\") was explored in modeling and this came out best\n",
    "\n",
    "df_player1[\"p_tot_pts_last\"] = df_player1.groupby(['p_id','tour_wk'])['m_tot_pts'].shift(-1)\n",
    "df_player1['p_tot_pts_last'] = df_player1['p_tot_pts_last'].fillna(40) #a range of values for fill (ie, \"off-day exertion\") was explored in modeling and this came out best\n",
    "df_player1[\"p_tot_pts_2ago\"] = df_player1.groupby(['p_id','tour_wk'])['m_tot_pts'].shift(-2)\n",
    "df_player1['p_tot_pts_2ago'] = df_player1['p_tot_pts_2ago'].fillna(40) \n",
    "df_player1[\"p_tot_pts_3ago\"] = df_player1.groupby(['p_id','tour_wk'])['m_tot_pts'].shift(-3)\n",
    "df_player1['p_tot_pts_3ago'] = df_player1['p_tot_pts_3ago'].fillna(40) \n",
    "df_player1[\"p_tot_pts_4ago\"] = df_player1.groupby(['p_id','tour_wk'])['m_tot_pts'].shift(-4)\n",
    "df_player1['p_tot_pts_4ago'] = df_player1['p_tot_pts_4ago'].fillna(40)\n",
    "df_player1[\"p_tot_pts_5ago\"] = df_player1.groupby(['p_id','tour_wk'])['m_tot_pts'].shift(-5)\n",
    "df_player1['p_tot_pts_5ago'] = df_player1['p_tot_pts_5ago'].fillna(40) \n",
    "df_player1[\"p_tot_pts_6ago\"] = df_player1.groupby(['p_id','tour_wk'])['m_tot_pts'].shift(-6)\n",
    "df_player1['p_tot_pts_6ago'] = df_player1['p_tot_pts_6ago'].fillna(40) \n",
    "\n",
    "# Decay-weighted and non-decay weighted versions of the total pts are computed\n",
    "df_player1['p_tot_pts_l6_decay'] = ((df_player1['p_tot_pts_last']*1) + (df_player1['p_tot_pts_2ago']*.9) + (df_player1['p_tot_pts_3ago']*.8) + (df_player1['p_tot_pts_4ago']*.7) + (df_player1['p_tot_pts_5ago']*.6) + (df_player1['p_tot_pts_6ago']*.5))\n",
    "df_player1['p_tot_pts_l6'] = ((df_player1['p_tot_pts_last']*1) + (df_player1['p_tot_pts_2ago']*1) + (df_player1['p_tot_pts_3ago']*1) + (df_player1['p_tot_pts_4ago']*1) + (df_player1['p_tot_pts_5ago']*1) + (df_player1['p_tot_pts_6ago']*1)) #empirically tested to discern that no decay performs slightly better than decay\n",
    "\n",
    "# Dropping transient columns; keeping points from last match (\"p_tot_pts_last\")\n",
    "df_player1 = df_player1.drop(['p_tot_pts_2ago','p_tot_pts_3ago','p_tot_pts_4ago','p_tot_pts_5ago','p_tot_pts_6ago'],axis=1)"
   ]
  },
  {
   "cell_type": "code",
   "execution_count": 50,
   "id": "3dec93c2",
   "metadata": {},
   "outputs": [],
   "source": [
    "# Integrates \"stamina\" and \"fatigue\" features into a \"body battery\" feature (non- and decay weighted for match pts variable)\n",
    "# Currently, player matches in denom factored 4th root, based on some prediction quality feedbck from simple (linear) model \n",
    "\n",
    "#df_player1[\"p_stamina_adj_fatigue_decay\"] = (df_player1[\"p_tot_pts_l6_decay\"]/np.sqrt(df_player1[\"p_matches\"])).round(2)\n",
    "#df_player1[\"p_stamina_adj_fatigue\"] = (df_player1[\"p_tot_pts_l6\"]/np.sqrt(df_player1[\"p_matches\"])).round(2)\n",
    "df_player1[\"p_stamina_adj_fatigue_decay\"] = (df_player1[\"p_tot_pts_l6_decay\"])/(df_player1[\"p_matches\"]**(1/4)).round(2)\n",
    "df_player1[\"p_stamina_adj_fatigue\"] = (df_player1[\"p_tot_pts_l6\"])/(df_player1[\"p_matches\"]**(1/4)).round(2)"
   ]
  },
  {
   "cell_type": "code",
   "execution_count": 51,
   "id": "a8b2a353",
   "metadata": {},
   "outputs": [
    {
     "data": {
      "text/plain": [
       "29785    240.000000\n",
       "28790    240.000000\n",
       "27550    240.000000\n",
       "149      278.947368\n",
       "437      242.718447\n",
       "28667    191.133005\n",
       "46       170.000000\n",
       "715      121.827411\n",
       "28216    174.093264\n",
       "814      126.315789\n",
       "27705    265.053763\n",
       "1084     205.494505\n",
       "90       174.719101\n",
       "268      138.728324\n",
       "28569    142.857143\n",
       "29610    147.239264\n",
       "28754    230.573248\n",
       "1129     160.000000\n",
       "28015    170.212766\n",
       "28013    270.454545\n",
       "1299     201.680672\n",
       "28334    350.000000\n",
       "1124     240.000000\n",
       "28428    256.737589\n",
       "1471     181.818182\n",
       "29151    201.680672\n",
       "29692    240.000000\n",
       "30374    240.000000\n",
       "29667    343.697479\n",
       "1888     240.000000\n",
       "Name: p_stamina_adj_fatigue, dtype: float64"
      ]
     },
     "execution_count": 51,
     "metadata": {},
     "output_type": "execute_result"
    }
   ],
   "source": [
    "df_player1[\"p_stamina_adj_fatigue\"].head(30)"
   ]
  },
  {
   "cell_type": "markdown",
   "id": "ce738c5d",
   "metadata": {},
   "source": [
    "#### below is computed a given player's H2H wins versus an opponent prior to a match being predicted on in a surface-specific manner (across entire sample 2012-2019 though)"
   ]
  },
  {
   "cell_type": "code",
   "execution_count": 52,
   "id": "126078ac",
   "metadata": {},
   "outputs": [
    {
     "data": {
      "text/html": [
       "<div>\n",
       "<style scoped>\n",
       "    .dataframe tbody tr th:only-of-type {\n",
       "        vertical-align: middle;\n",
       "    }\n",
       "\n",
       "    .dataframe tbody tr th {\n",
       "        vertical-align: top;\n",
       "    }\n",
       "\n",
       "    .dataframe thead th {\n",
       "        text-align: right;\n",
       "    }\n",
       "</style>\n",
       "<table border=\"1\" class=\"dataframe\">\n",
       "  <thead>\n",
       "    <tr style=\"text-align: right;\">\n",
       "      <th></th>\n",
       "      <th>t_id</th>\n",
       "      <th>t_date</th>\n",
       "      <th>tour_wk</th>\n",
       "      <th>t_name</th>\n",
       "      <th>t_country</th>\n",
       "      <th>t_surf</th>\n",
       "      <th>t_indoor</th>\n",
       "      <th>t_alt</th>\n",
       "      <th>t_lvl</th>\n",
       "      <th>t_draw_size</th>\n",
       "      <th>...</th>\n",
       "      <th>p_matches_surf</th>\n",
       "      <th>p_m_time_last</th>\n",
       "      <th>p_tot_time_l6_decay</th>\n",
       "      <th>p_tot_time_l6</th>\n",
       "      <th>p_tot_pts_last</th>\n",
       "      <th>p_tot_pts_l6_decay</th>\n",
       "      <th>p_tot_pts_l6</th>\n",
       "      <th>p_stamina_adj_fatigue_decay</th>\n",
       "      <th>p_stamina_adj_fatigue</th>\n",
       "      <th>p_H2H_w</th>\n",
       "    </tr>\n",
       "  </thead>\n",
       "  <tbody>\n",
       "    <tr>\n",
       "      <th>29785</th>\n",
       "      <td>2019-560</td>\n",
       "      <td>20190826</td>\n",
       "      <td>2019_24</td>\n",
       "      <td>US Open</td>\n",
       "      <td>USA</td>\n",
       "      <td>Hard</td>\n",
       "      <td>0</td>\n",
       "      <td>0</td>\n",
       "      <td>4</td>\n",
       "      <td>128</td>\n",
       "      <td>...</td>\n",
       "      <td>1.0</td>\n",
       "      <td>15.0</td>\n",
       "      <td>67.5</td>\n",
       "      <td>90.0</td>\n",
       "      <td>40.0</td>\n",
       "      <td>180.0</td>\n",
       "      <td>240.0</td>\n",
       "      <td>180.000000</td>\n",
       "      <td>240.000000</td>\n",
       "      <td>0.0</td>\n",
       "    </tr>\n",
       "    <tr>\n",
       "      <th>28790</th>\n",
       "      <td>2019-M014</td>\n",
       "      <td>20191014</td>\n",
       "      <td>2019_29</td>\n",
       "      <td>Moscow</td>\n",
       "      <td>RUS</td>\n",
       "      <td>Hard</td>\n",
       "      <td>1</td>\n",
       "      <td>0</td>\n",
       "      <td>1</td>\n",
       "      <td>32</td>\n",
       "      <td>...</td>\n",
       "      <td>1.0</td>\n",
       "      <td>15.0</td>\n",
       "      <td>67.5</td>\n",
       "      <td>90.0</td>\n",
       "      <td>40.0</td>\n",
       "      <td>180.0</td>\n",
       "      <td>240.0</td>\n",
       "      <td>180.000000</td>\n",
       "      <td>240.000000</td>\n",
       "      <td>0.0</td>\n",
       "    </tr>\n",
       "    <tr>\n",
       "      <th>27550</th>\n",
       "      <td>2019-M004</td>\n",
       "      <td>20190225</td>\n",
       "      <td>2019_07</td>\n",
       "      <td>Acapulco</td>\n",
       "      <td>MEX</td>\n",
       "      <td>Hard</td>\n",
       "      <td>0</td>\n",
       "      <td>0</td>\n",
       "      <td>1</td>\n",
       "      <td>32</td>\n",
       "      <td>...</td>\n",
       "      <td>1.0</td>\n",
       "      <td>15.0</td>\n",
       "      <td>67.5</td>\n",
       "      <td>90.0</td>\n",
       "      <td>40.0</td>\n",
       "      <td>180.0</td>\n",
       "      <td>240.0</td>\n",
       "      <td>180.000000</td>\n",
       "      <td>240.000000</td>\n",
       "      <td>0.0</td>\n",
       "    </tr>\n",
       "    <tr>\n",
       "      <th>149</th>\n",
       "      <td>2019-7696</td>\n",
       "      <td>20191105</td>\n",
       "      <td>2019_33</td>\n",
       "      <td>NextGen Finals</td>\n",
       "      <td>ITA</td>\n",
       "      <td>Hard</td>\n",
       "      <td>1</td>\n",
       "      <td>0</td>\n",
       "      <td>3</td>\n",
       "      <td>8</td>\n",
       "      <td>...</td>\n",
       "      <td>12.0</td>\n",
       "      <td>75.0</td>\n",
       "      <td>289.2</td>\n",
       "      <td>350.0</td>\n",
       "      <td>123.0</td>\n",
       "      <td>472.2</td>\n",
       "      <td>583.0</td>\n",
       "      <td>225.933014</td>\n",
       "      <td>278.947368</td>\n",
       "      <td>0.0</td>\n",
       "    </tr>\n",
       "    <tr>\n",
       "      <th>437</th>\n",
       "      <td>2019-7696</td>\n",
       "      <td>20191105</td>\n",
       "      <td>2019_33</td>\n",
       "      <td>NextGen Finals</td>\n",
       "      <td>ITA</td>\n",
       "      <td>Hard</td>\n",
       "      <td>1</td>\n",
       "      <td>0</td>\n",
       "      <td>3</td>\n",
       "      <td>8</td>\n",
       "      <td>...</td>\n",
       "      <td>11.0</td>\n",
       "      <td>103.0</td>\n",
       "      <td>249.2</td>\n",
       "      <td>290.0</td>\n",
       "      <td>152.0</td>\n",
       "      <td>415.2</td>\n",
       "      <td>500.0</td>\n",
       "      <td>201.553398</td>\n",
       "      <td>242.718447</td>\n",
       "      <td>0.0</td>\n",
       "    </tr>\n",
       "    <tr>\n",
       "      <th>...</th>\n",
       "      <td>...</td>\n",
       "      <td>...</td>\n",
       "      <td>...</td>\n",
       "      <td>...</td>\n",
       "      <td>...</td>\n",
       "      <td>...</td>\n",
       "      <td>...</td>\n",
       "      <td>...</td>\n",
       "      <td>...</td>\n",
       "      <td>...</td>\n",
       "      <td>...</td>\n",
       "      <td>...</td>\n",
       "      <td>...</td>\n",
       "      <td>...</td>\n",
       "      <td>...</td>\n",
       "      <td>...</td>\n",
       "      <td>...</td>\n",
       "      <td>...</td>\n",
       "      <td>...</td>\n",
       "      <td>...</td>\n",
       "      <td>...</td>\n",
       "    </tr>\n",
       "    <tr>\n",
       "      <th>12776</th>\n",
       "      <td>2014-414</td>\n",
       "      <td>20140714</td>\n",
       "      <td>2014_19</td>\n",
       "      <td>Hamburg</td>\n",
       "      <td>GER</td>\n",
       "      <td>Clay</td>\n",
       "      <td>0</td>\n",
       "      <td>0</td>\n",
       "      <td>1</td>\n",
       "      <td>48</td>\n",
       "      <td>...</td>\n",
       "      <td>4.0</td>\n",
       "      <td>58.0</td>\n",
       "      <td>110.5</td>\n",
       "      <td>133.0</td>\n",
       "      <td>96.0</td>\n",
       "      <td>236.0</td>\n",
       "      <td>296.0</td>\n",
       "      <td>167.375887</td>\n",
       "      <td>209.929078</td>\n",
       "      <td>0.0</td>\n",
       "    </tr>\n",
       "    <tr>\n",
       "      <th>12760</th>\n",
       "      <td>2014-414</td>\n",
       "      <td>20140714</td>\n",
       "      <td>2014_19</td>\n",
       "      <td>Hamburg</td>\n",
       "      <td>GER</td>\n",
       "      <td>Clay</td>\n",
       "      <td>0</td>\n",
       "      <td>0</td>\n",
       "      <td>1</td>\n",
       "      <td>48</td>\n",
       "      <td>...</td>\n",
       "      <td>3.0</td>\n",
       "      <td>15.0</td>\n",
       "      <td>67.5</td>\n",
       "      <td>90.0</td>\n",
       "      <td>40.0</td>\n",
       "      <td>180.0</td>\n",
       "      <td>240.0</td>\n",
       "      <td>136.363636</td>\n",
       "      <td>181.818182</td>\n",
       "      <td>0.0</td>\n",
       "    </tr>\n",
       "    <tr>\n",
       "      <th>40238</th>\n",
       "      <td>2014-321</td>\n",
       "      <td>20140707</td>\n",
       "      <td>2014_18</td>\n",
       "      <td>Stuttgart</td>\n",
       "      <td>GER</td>\n",
       "      <td>Clay</td>\n",
       "      <td>0</td>\n",
       "      <td>0</td>\n",
       "      <td>1</td>\n",
       "      <td>28</td>\n",
       "      <td>...</td>\n",
       "      <td>2.0</td>\n",
       "      <td>15.0</td>\n",
       "      <td>67.5</td>\n",
       "      <td>90.0</td>\n",
       "      <td>40.0</td>\n",
       "      <td>180.0</td>\n",
       "      <td>240.0</td>\n",
       "      <td>151.260504</td>\n",
       "      <td>201.680672</td>\n",
       "      <td>0.0</td>\n",
       "    </tr>\n",
       "    <tr>\n",
       "      <th>39901</th>\n",
       "      <td>2014-308</td>\n",
       "      <td>20140428</td>\n",
       "      <td>2014_13</td>\n",
       "      <td>Munich</td>\n",
       "      <td>GER</td>\n",
       "      <td>Clay</td>\n",
       "      <td>0</td>\n",
       "      <td>0</td>\n",
       "      <td>1</td>\n",
       "      <td>28</td>\n",
       "      <td>...</td>\n",
       "      <td>1.0</td>\n",
       "      <td>15.0</td>\n",
       "      <td>67.5</td>\n",
       "      <td>90.0</td>\n",
       "      <td>40.0</td>\n",
       "      <td>180.0</td>\n",
       "      <td>240.0</td>\n",
       "      <td>180.000000</td>\n",
       "      <td>240.000000</td>\n",
       "      <td>0.0</td>\n",
       "    </tr>\n",
       "    <tr>\n",
       "      <th>42546</th>\n",
       "      <td>2013-414</td>\n",
       "      <td>20130715</td>\n",
       "      <td>2013_19</td>\n",
       "      <td>Hamburg</td>\n",
       "      <td>GER</td>\n",
       "      <td>Clay</td>\n",
       "      <td>0</td>\n",
       "      <td>0</td>\n",
       "      <td>1</td>\n",
       "      <td>48</td>\n",
       "      <td>...</td>\n",
       "      <td>1.0</td>\n",
       "      <td>15.0</td>\n",
       "      <td>67.5</td>\n",
       "      <td>90.0</td>\n",
       "      <td>40.0</td>\n",
       "      <td>180.0</td>\n",
       "      <td>240.0</td>\n",
       "      <td>180.000000</td>\n",
       "      <td>240.000000</td>\n",
       "      <td>0.0</td>\n",
       "    </tr>\n",
       "  </tbody>\n",
       "</table>\n",
       "<p>55064 rows × 75 columns</p>\n",
       "</div>"
      ],
      "text/plain": [
       "            t_id    t_date  tour_wk          t_name t_country t_surf  \\\n",
       "29785   2019-560  20190826  2019_24         US Open       USA   Hard   \n",
       "28790  2019-M014  20191014  2019_29          Moscow       RUS   Hard   \n",
       "27550  2019-M004  20190225  2019_07        Acapulco       MEX   Hard   \n",
       "149    2019-7696  20191105  2019_33  NextGen Finals       ITA   Hard   \n",
       "437    2019-7696  20191105  2019_33  NextGen Finals       ITA   Hard   \n",
       "...          ...       ...      ...             ...       ...    ...   \n",
       "12776   2014-414  20140714  2014_19         Hamburg       GER   Clay   \n",
       "12760   2014-414  20140714  2014_19         Hamburg       GER   Clay   \n",
       "40238   2014-321  20140707  2014_18       Stuttgart       GER   Clay   \n",
       "39901   2014-308  20140428  2014_13          Munich       GER   Clay   \n",
       "42546   2013-414  20130715  2013_19         Hamburg       GER   Clay   \n",
       "\n",
       "       t_indoor  t_alt  t_lvl  t_draw_size  ...  p_matches_surf p_m_time_last  \\\n",
       "29785         0      0      4          128  ...             1.0          15.0   \n",
       "28790         1      0      1           32  ...             1.0          15.0   \n",
       "27550         0      0      1           32  ...             1.0          15.0   \n",
       "149           1      0      3            8  ...            12.0          75.0   \n",
       "437           1      0      3            8  ...            11.0         103.0   \n",
       "...         ...    ...    ...          ...  ...             ...           ...   \n",
       "12776         0      0      1           48  ...             4.0          58.0   \n",
       "12760         0      0      1           48  ...             3.0          15.0   \n",
       "40238         0      0      1           28  ...             2.0          15.0   \n",
       "39901         0      0      1           28  ...             1.0          15.0   \n",
       "42546         0      0      1           48  ...             1.0          15.0   \n",
       "\n",
       "       p_tot_time_l6_decay  p_tot_time_l6 p_tot_pts_last  p_tot_pts_l6_decay  \\\n",
       "29785                 67.5           90.0           40.0               180.0   \n",
       "28790                 67.5           90.0           40.0               180.0   \n",
       "27550                 67.5           90.0           40.0               180.0   \n",
       "149                  289.2          350.0          123.0               472.2   \n",
       "437                  249.2          290.0          152.0               415.2   \n",
       "...                    ...            ...            ...                 ...   \n",
       "12776                110.5          133.0           96.0               236.0   \n",
       "12760                 67.5           90.0           40.0               180.0   \n",
       "40238                 67.5           90.0           40.0               180.0   \n",
       "39901                 67.5           90.0           40.0               180.0   \n",
       "42546                 67.5           90.0           40.0               180.0   \n",
       "\n",
       "       p_tot_pts_l6 p_stamina_adj_fatigue_decay  p_stamina_adj_fatigue  \\\n",
       "29785         240.0                  180.000000             240.000000   \n",
       "28790         240.0                  180.000000             240.000000   \n",
       "27550         240.0                  180.000000             240.000000   \n",
       "149           583.0                  225.933014             278.947368   \n",
       "437           500.0                  201.553398             242.718447   \n",
       "...             ...                         ...                    ...   \n",
       "12776         296.0                  167.375887             209.929078   \n",
       "12760         240.0                  136.363636             181.818182   \n",
       "40238         240.0                  151.260504             201.680672   \n",
       "39901         240.0                  180.000000             240.000000   \n",
       "42546         240.0                  180.000000             240.000000   \n",
       "\n",
       "       p_H2H_w  \n",
       "29785      0.0  \n",
       "28790      0.0  \n",
       "27550      0.0  \n",
       "149        0.0  \n",
       "437        0.0  \n",
       "...        ...  \n",
       "12776      0.0  \n",
       "12760      0.0  \n",
       "40238      0.0  \n",
       "39901      0.0  \n",
       "42546      0.0  \n",
       "\n",
       "[55064 rows x 75 columns]"
      ]
     },
     "execution_count": 52,
     "metadata": {},
     "output_type": "execute_result"
    }
   ],
   "source": [
    "df_player1 = df_player1.iloc[::-1]\n",
    "df_player1['p_H2H_w'] = df_player1.groupby(['p_id','opp_id','t_surf'])['m_outcome'].transform(lambda x: x.rolling(window=2000, min_periods = 1).sum().shift(1))\n",
    "df_player1 = df_player1.iloc[::-1]\n",
    "df_player1['p_H2H_w'] = df_player1['p_H2H_w'].fillna(0)\n",
    "df_player1"
   ]
  },
  {
   "cell_type": "code",
   "execution_count": 53,
   "id": "f22846cb",
   "metadata": {},
   "outputs": [],
   "source": [
    "# H2H Past Comparison at the level of pts% won\n",
    "df_player1 = df_player1.iloc[::-1]\n",
    "df_player1['p_H2H_pts_won%'] = df_player1.groupby(['p_id','opp_id','t_surf'])['p_pts_won%'].transform(lambda x: x.rolling(window=2000, min_periods = 1).mean().shift(1))\n",
    "df_player1 = df_player1.iloc[::-1]\n",
    "#df_player1['p_H2H_pts_won%'] = df_player1['p_H2H_pts_won%'].fillna(0)\n",
    "#df_player1"
   ]
  },
  {
   "cell_type": "code",
   "execution_count": 54,
   "id": "38a8ae7d",
   "metadata": {},
   "outputs": [],
   "source": [
    "#Save current df prior to another transformation back to by-match organization\n",
    "#df_player2.to_csv('../data/df_player2.csv', index=False)"
   ]
  },
  {
   "cell_type": "markdown",
   "id": "69f10029",
   "metadata": {},
   "source": [
    "converting briefly back to by-match organization so that we can obtain the data we need to compute player \"Strength of Schedule\" at the time of each match to be predicted on, across a range of features. The concept is the same as you might seen in football or soccer analytics. At the time of every match to be predicted on, we have a number of (mostly time-decay weighted) assessments of how the player performed over the last stretch of time (60 matches) on the same surface as the match to be played. However, we want to normalize these predictive features by the aggregate strength of the schedule of opponents they faced in the stretch over which those features were generated. For example, winning 60% of your serve points against a schedule of opponents who had historically yielded 65% of opponent serve points (ie, their own return points) is not as impressive as winning 60% of your serve points against a schedule of opponents who had historically yielded 55% of opponent serve points (ie, their own return points)."
   ]
  },
  {
   "cell_type": "code",
   "execution_count": 55,
   "id": "dee7c353",
   "metadata": {},
   "outputs": [],
   "source": [
    "df_winners2 = df_player1[df_player1['m_outcome'] == 1]\n",
    "df_losers2 = df_player1[df_player1['m_outcome'] == 0]\n",
    "df_match2 = df_winners2.merge(df_losers2, on='m_num', how = 'left')"
   ]
  },
  {
   "cell_type": "code",
   "execution_count": 56,
   "id": "cf231e47",
   "metadata": {},
   "outputs": [],
   "source": [
    "#Save current df prior to another transformation back to by-match organization\n",
    "df_match2.to_csv('../data/df_match2.csv', index=False)"
   ]
  },
  {
   "cell_type": "code",
   "execution_count": 57,
   "id": "e860eb08",
   "metadata": {},
   "outputs": [],
   "source": [
    "#Back to by-player organization, picking up the reciprocal columns per player needed to make SOS calculations\n",
    "\n",
    "# Dropping other player columns for winners\n",
    "df_winners2 = df_match2.drop([\"p_svpt_x\", \"p_1stWon_x\", \"p_2ndWon_x\", \"p_SvGms_x\", \"p_ace_x\", \"p_bpSaved_x\", \"p_bpFaced_x\", \"opp_svpt_x\", \"opp_ace_x\", \"opp_bpSaved_x\", \"opp_bpFaced_x\", \"m_outcome_x\", \"t_id_y\", \"t_date_y\", \"tour_wk_y\", \"t_name_y\", \"t_country_y\", \"t_surf_y\", \"t_indoor_y\", \"t_alt_y\", \"t_lvl_y\", \"t_draw_size_y\", \"t_round_y\", \"t_rd_num_y\", \"m_best_of_y\", \"m_score_y\", \"m_time(m)_y\", \"p_id_y\", \"p_name_y\", \"p_rank_y\", \"p_rank_pts_y\", \"p_country_y\", \"p_ent_y\", \"p_hd_y\", \"p_ht_y\", \"p_age_y\", \"p_svpt_y\", \"p_1stWon_y\", \"p_2ndWon_y\", \"p_SvGms_y\", \"p_ace_y\", \"p_bpSaved_y\", \"p_bpFaced_y\", \"opp_id_y\", \"opp_svpt_y\", \"opp_ace_y\", \"opp_bpSaved_y\", \"opp_bpFaced_y\", \"p_pts_won%_y\", \"p_sv_pts_won%_y\", \"p_ret_pts_won%_y\", \"m_tot_pts_y\", \"m_outcome_y\", \"p_ace%_y\", \"p_aced%_y\", \"p_bp_save%_y\", \"p_bp_convert%_y\", \"p_pts_won%_std_l60_decay_y\", \"p_sv_pts_won%_std_l60_decay_y\", \"p_ret_pts_won%_std_l60_decay_y\", \"p_matches_y\", \"p_matches_surf_y\", \"p_m_time_last_y\", \"p_tot_time_l6_decay_y\", \"p_tot_time_l6_y\", \"p_tot_pts_last_y\", \"p_tot_pts_l6_decay_y\", \"p_tot_pts_l6_y\", \"p_stamina_adj_fatigue_decay_y\", \"p_stamina_adj_fatigue_y\",  \"p_H2H_w_y\", \"p_H2H_pts_won%_y\"], axis = 1)\n",
    "df_winners2[\"m_outcome\"] = 1"
   ]
  },
  {
   "cell_type": "code",
   "execution_count": 58,
   "id": "bc30f56f",
   "metadata": {},
   "outputs": [
    {
     "name": "stdout",
     "output_type": "stream",
     "text": [
      "<class 'pandas.core.frame.DataFrame'>\n",
      "Int64Index: 27532 entries, 0 to 27531\n",
      "Data columns (total 80 columns):\n",
      " #   Column                          Non-Null Count  Dtype  \n",
      "---  ------                          --------------  -----  \n",
      " 0   t_id_x                          27532 non-null  object \n",
      " 1   t_date_x                        27532 non-null  int64  \n",
      " 2   tour_wk_x                       27532 non-null  object \n",
      " 3   t_name_x                        27532 non-null  object \n",
      " 4   t_country_x                     27532 non-null  object \n",
      " 5   t_surf_x                        27532 non-null  object \n",
      " 6   t_indoor_x                      27532 non-null  int64  \n",
      " 7   t_alt_x                         27532 non-null  int64  \n",
      " 8   t_lvl_x                         27532 non-null  int64  \n",
      " 9   t_draw_size_x                   27532 non-null  int64  \n",
      " 10  m_num                           27532 non-null  int64  \n",
      " 11  t_round_x                       27532 non-null  object \n",
      " 12  t_rd_num_x                      27532 non-null  int64  \n",
      " 13  m_best_of_x                     27532 non-null  int64  \n",
      " 14  m_score_x                       27532 non-null  object \n",
      " 15  m_time(m)_x                     27532 non-null  float64\n",
      " 16  p_id_x                          27532 non-null  int64  \n",
      " 17  p_name_x                        27532 non-null  object \n",
      " 18  p_rank_x                        27521 non-null  float64\n",
      " 19  p_rank_pts_x                    27521 non-null  float64\n",
      " 20  p_country_x                     27532 non-null  object \n",
      " 21  p_ent_x                         27532 non-null  float64\n",
      " 22  p_hd_x                          27532 non-null  object \n",
      " 23  p_ht_x                          27512 non-null  float64\n",
      " 24  p_age_x                         27532 non-null  float64\n",
      " 25  opp_id_x                        27532 non-null  int64  \n",
      " 26  p_pts_won%_x                    27532 non-null  float64\n",
      " 27  p_sv_pts_won%_x                 27532 non-null  float64\n",
      " 28  p_ret_pts_won%_x                27532 non-null  float64\n",
      " 29  m_tot_pts_x                     27532 non-null  float64\n",
      " 30  p_pts_won%_l60_decay_x          27150 non-null  float64\n",
      " 31  p_pts_won%_l10_x                27150 non-null  float64\n",
      " 32  p_pts_won%_l60_decay_IO_x       26915 non-null  float64\n",
      " 33  p_sv_pts_won%_l60_decay_x       27150 non-null  float64\n",
      " 34  p_sv_pts_won%_l10_x             27150 non-null  float64\n",
      " 35  p_ret_pts_won%_l60_decay_x      27150 non-null  float64\n",
      " 36  p_ret_pts_won%_l10_x            27150 non-null  float64\n",
      " 37  p_ace%_x                        27532 non-null  float64\n",
      " 38  p_ace%_l60_decay_x              27150 non-null  float64\n",
      " 39  p_ace%_l10_x                    27150 non-null  float64\n",
      " 40  p_aced%_x                       27532 non-null  float64\n",
      " 41  p_aced%_l60_decay_x             27150 non-null  float64\n",
      " 42  p_aced%_l10_x                   27150 non-null  float64\n",
      " 43  p_bp_save%_x                    27532 non-null  float64\n",
      " 44  p_bp_save%_l60_x                27150 non-null  float64\n",
      " 45  p_bp_save%_l10_x                27150 non-null  float64\n",
      " 46  p_bp_convert%_x                 27532 non-null  float64\n",
      " 47  p_bp_convert%_l60_x             27150 non-null  float64\n",
      " 48  p_bp_convert%_l10_x             27150 non-null  float64\n",
      " 49  p_pts_won%_std_l60_decay_x      26796 non-null  float64\n",
      " 50  p_sv_pts_won%_std_l60_decay_x   26796 non-null  float64\n",
      " 51  p_ret_pts_won%_std_l60_decay_x  26796 non-null  float64\n",
      " 52  p_matches_x                     27532 non-null  float64\n",
      " 53  p_matches_surf_x                27532 non-null  float64\n",
      " 54  p_m_time_last_x                 27532 non-null  float64\n",
      " 55  p_tot_time_l6_decay_x           27532 non-null  float64\n",
      " 56  p_tot_time_l6_x                 27532 non-null  float64\n",
      " 57  p_tot_pts_last_x                27532 non-null  float64\n",
      " 58  p_tot_pts_l6_decay_x            27532 non-null  float64\n",
      " 59  p_tot_pts_l6_x                  27532 non-null  float64\n",
      " 60  p_stamina_adj_fatigue_decay_x   27532 non-null  float64\n",
      " 61  p_stamina_adj_fatigue_x         27532 non-null  float64\n",
      " 62  p_H2H_w_x                       27532 non-null  float64\n",
      " 63  p_H2H_pts_won%_x                9197 non-null   float64\n",
      " 64  p_pts_won%_l60_decay_y          26591 non-null  float64\n",
      " 65  p_pts_won%_l10_y                26591 non-null  float64\n",
      " 66  p_pts_won%_l60_decay_IO_y       26253 non-null  float64\n",
      " 67  p_sv_pts_won%_l60_decay_y       26591 non-null  float64\n",
      " 68  p_sv_pts_won%_l10_y             26591 non-null  float64\n",
      " 69  p_ret_pts_won%_l60_decay_y      26591 non-null  float64\n",
      " 70  p_ret_pts_won%_l10_y            26591 non-null  float64\n",
      " 71  p_ace%_l60_decay_y              26591 non-null  float64\n",
      " 72  p_ace%_l10_y                    26591 non-null  float64\n",
      " 73  p_aced%_l60_decay_y             26591 non-null  float64\n",
      " 74  p_aced%_l10_y                   26591 non-null  float64\n",
      " 75  p_bp_save%_l60_y                26591 non-null  float64\n",
      " 76  p_bp_save%_l10_y                26591 non-null  float64\n",
      " 77  p_bp_convert%_l60_y             26591 non-null  float64\n",
      " 78  p_bp_convert%_l10_y             26591 non-null  float64\n",
      " 79  m_outcome                       27532 non-null  int64  \n",
      "dtypes: float64(59), int64(11), object(10)\n",
      "memory usage: 17.0+ MB\n"
     ]
    }
   ],
   "source": [
    "df_winners2.info()"
   ]
  },
  {
   "cell_type": "code",
   "execution_count": 59,
   "id": "069b8165",
   "metadata": {},
   "outputs": [],
   "source": [
    "#Renaming columns to remove winner-loser descriptions so we can re-concatenate winners and losers\n",
    "df_winners2 = df_winners2.set_axis([\"t_id\", \"t_date\", \"tour_wk\", \"t_name\", \"t_country\", \"t_surf\", \"t_indoor\", \"t_alt\", \"t_lvl\", \"t_draw_size\", \"m_num\", \"t_round\", \"t_rd_num\", \"m_best_of\", \"m_score\",\"m_time(m)\", \"p_id\", \"p_name\",\"p_rank\", \"p_rank_pts\", \"p_country\", \"p_ent\", \"p_hd\", \"p_ht\", \"p_age\", \"opp_id\", \"p_pts_won%\", \"p_sv_pts_won%\", \"p_ret_pts_won%\", \"m_tot_pts\", \"p_pts_won%_l60_decay\", \"p_pts_won%_l10\", \"p_pts_won%_l60_decay_IO\", \"p_sv_pts_won%_l60_decay\", \"p_sv_pts_won%_l10\", \"p_ret_pts_won%_l60_decay\", \"p_ret_pts_won%_l10\", \"p_ace%\", \"p_ace%_l60_decay\", \"p_ace%_l10\", \"p_aced%\", \"p_aced%_l60_decay\", \"p_aced%_l10\", \"p_bp_save%\", \"p_bp_save%_l60\", \"p_bp_save%_l10\", \"p_bp_convert%\", \"p_bp_convert%_l60\", \"p_bp_convert%_l10\", \"p_pts_won%_std_l60_decay\",'p_sv_pts_won%_std_l60_decay','p_ret_pts_won%_std_l60_decay', \"p_matches\", \"p_matches_surf\", \"p_m_time_last\", \"p_tot_time_l6_decay\", \"p_tot_time_l6\", \"p_tot_pts_last\", \"p_tot_pts_l6_decay\", \"p_tot_pts_l6\", \"p_stamina_adj_fatigue_decay\", \"p_stamina_adj_fatigue\", \"p_H2H_w\", \"p_H2H_pts_won%\", \"p_opp_pts_won%_l60_decay\", \"p_opp_pts_won%_l10\", \"p_opp_pts_won%_l60_decay_IO\", \"p_opp_sv_pts_won%_l60_decay\", \"p_opp_sv_pts_won%_l10\", \"p_opp_ret_pts_won%_l60_decay\", \"p_opp_ret_pts_won%_l10\", \"p_opp_ace%_l60_decay\", \"p_opp_ace%_l10\", \"p_opp_aced%_l60_decay\", \"p_opp_aced%_l10\", \"p_opp_bp_save%_l60\", \"p_opp_bp_save%_l10\", \"p_opp_bp_convert%_l60\", \"p_opp_bp_convert%_l10\", \"m_outcome\"], axis=1)"
   ]
  },
  {
   "cell_type": "code",
   "execution_count": 60,
   "id": "3313d596",
   "metadata": {},
   "outputs": [],
   "source": [
    "#Dropping other player columns for losers\n",
    "df_losers2 = df_match2.drop([\"p_id_x\", \"p_name_x\", \"p_rank_x\", \"p_rank_pts_x\", \"p_country_x\", \"p_ent_x\", \"p_hd_x\", \"p_ht_x\", \"p_age_x\", \"p_svpt_x\", \"p_1stWon_x\", \"p_2ndWon_x\", \"p_SvGms_x\", \"p_ace_x\", \"p_bpSaved_x\", \"p_bpFaced_x\", \"opp_id_x\", \"opp_svpt_x\", \"opp_ace_x\", \"opp_bpSaved_x\", \"opp_bpFaced_x\", \"p_pts_won%_x\", \"p_sv_pts_won%_x\", \"p_ret_pts_won%_x\", \"m_outcome_x\", \"p_ace%_x\", \"p_aced%_x\", \"p_bp_save%_x\", \"p_bp_convert%_x\", \"p_pts_won%_std_l60_decay_x\", \"p_sv_pts_won%_std_l60_decay_x\", \"p_ret_pts_won%_std_l60_decay_x\", \"p_matches_x\", \"p_matches_surf_x\", \"p_m_time_last_x\", \"p_tot_time_l6_decay_x\", \"p_tot_time_l6_x\", \"p_tot_pts_last_x\", \"p_tot_pts_l6_decay_x\", \"p_tot_pts_l6_x\", \"p_stamina_adj_fatigue_decay_x\", \"p_stamina_adj_fatigue_x\", \"p_H2H_w_x\", \"p_H2H_pts_won%_x\", \"t_id_y\", \"t_date_y\", \"tour_wk_y\", \"t_name_y\", \"t_country_y\", \"t_surf_y\", \"t_indoor_y\", \"t_alt_y\", \"t_lvl_y\", \"t_draw_size_y\", \"t_round_y\", \"t_rd_num_y\", \"m_best_of_y\", \"m_score_y\", \"m_time(m)_y\", \"p_svpt_y\", \"p_1stWon_y\", \"p_2ndWon_y\", \"p_SvGms_y\", \"p_ace_y\", \"p_bpSaved_y\", \"p_bpFaced_y\", \"opp_svpt_y\", \"opp_ace_y\", \"opp_bpSaved_y\", \"opp_bpFaced_y\", \"m_tot_pts_y\", \"m_outcome_y\"], axis = 1)\n",
    "df_losers2[\"m_outcome\"] = 0"
   ]
  },
  {
   "cell_type": "code",
   "execution_count": 61,
   "id": "50e834eb",
   "metadata": {},
   "outputs": [
    {
     "name": "stdout",
     "output_type": "stream",
     "text": [
      "<class 'pandas.core.frame.DataFrame'>\n",
      "Int64Index: 27532 entries, 0 to 27531\n",
      "Data columns (total 80 columns):\n",
      " #   Column                          Non-Null Count  Dtype  \n",
      "---  ------                          --------------  -----  \n",
      " 0   t_id_x                          27532 non-null  object \n",
      " 1   t_date_x                        27532 non-null  int64  \n",
      " 2   tour_wk_x                       27532 non-null  object \n",
      " 3   t_name_x                        27532 non-null  object \n",
      " 4   t_country_x                     27532 non-null  object \n",
      " 5   t_surf_x                        27532 non-null  object \n",
      " 6   t_indoor_x                      27532 non-null  int64  \n",
      " 7   t_alt_x                         27532 non-null  int64  \n",
      " 8   t_lvl_x                         27532 non-null  int64  \n",
      " 9   t_draw_size_x                   27532 non-null  int64  \n",
      " 10  m_num                           27532 non-null  int64  \n",
      " 11  t_round_x                       27532 non-null  object \n",
      " 12  t_rd_num_x                      27532 non-null  int64  \n",
      " 13  m_best_of_x                     27532 non-null  int64  \n",
      " 14  m_score_x                       27532 non-null  object \n",
      " 15  m_time(m)_x                     27532 non-null  float64\n",
      " 16  m_tot_pts_x                     27532 non-null  float64\n",
      " 17  p_pts_won%_l60_decay_x          27150 non-null  float64\n",
      " 18  p_pts_won%_l10_x                27150 non-null  float64\n",
      " 19  p_pts_won%_l60_decay_IO_x       26915 non-null  float64\n",
      " 20  p_sv_pts_won%_l60_decay_x       27150 non-null  float64\n",
      " 21  p_sv_pts_won%_l10_x             27150 non-null  float64\n",
      " 22  p_ret_pts_won%_l60_decay_x      27150 non-null  float64\n",
      " 23  p_ret_pts_won%_l10_x            27150 non-null  float64\n",
      " 24  p_ace%_l60_decay_x              27150 non-null  float64\n",
      " 25  p_ace%_l10_x                    27150 non-null  float64\n",
      " 26  p_aced%_l60_decay_x             27150 non-null  float64\n",
      " 27  p_aced%_l10_x                   27150 non-null  float64\n",
      " 28  p_bp_save%_l60_x                27150 non-null  float64\n",
      " 29  p_bp_save%_l10_x                27150 non-null  float64\n",
      " 30  p_bp_convert%_l60_x             27150 non-null  float64\n",
      " 31  p_bp_convert%_l10_x             27150 non-null  float64\n",
      " 32  p_id_y                          27532 non-null  int64  \n",
      " 33  p_name_y                        27532 non-null  object \n",
      " 34  p_rank_y                        27468 non-null  float64\n",
      " 35  p_rank_pts_y                    27468 non-null  float64\n",
      " 36  p_country_y                     27532 non-null  object \n",
      " 37  p_ent_y                         27532 non-null  float64\n",
      " 38  p_hd_y                          27532 non-null  object \n",
      " 39  p_ht_y                          27464 non-null  float64\n",
      " 40  p_age_y                         27532 non-null  float64\n",
      " 41  opp_id_y                        27532 non-null  int64  \n",
      " 42  p_pts_won%_y                    27532 non-null  float64\n",
      " 43  p_sv_pts_won%_y                 27532 non-null  float64\n",
      " 44  p_ret_pts_won%_y                27532 non-null  float64\n",
      " 45  p_pts_won%_l60_decay_y          26591 non-null  float64\n",
      " 46  p_pts_won%_l10_y                26591 non-null  float64\n",
      " 47  p_pts_won%_l60_decay_IO_y       26253 non-null  float64\n",
      " 48  p_sv_pts_won%_l60_decay_y       26591 non-null  float64\n",
      " 49  p_sv_pts_won%_l10_y             26591 non-null  float64\n",
      " 50  p_ret_pts_won%_l60_decay_y      26591 non-null  float64\n",
      " 51  p_ret_pts_won%_l10_y            26591 non-null  float64\n",
      " 52  p_ace%_y                        27532 non-null  float64\n",
      " 53  p_ace%_l60_decay_y              26591 non-null  float64\n",
      " 54  p_ace%_l10_y                    26591 non-null  float64\n",
      " 55  p_aced%_y                       27532 non-null  float64\n",
      " 56  p_aced%_l60_decay_y             26591 non-null  float64\n",
      " 57  p_aced%_l10_y                   26591 non-null  float64\n",
      " 58  p_bp_save%_y                    27532 non-null  float64\n",
      " 59  p_bp_save%_l60_y                26591 non-null  float64\n",
      " 60  p_bp_save%_l10_y                26591 non-null  float64\n",
      " 61  p_bp_convert%_y                 27532 non-null  float64\n",
      " 62  p_bp_convert%_l60_y             26591 non-null  float64\n",
      " 63  p_bp_convert%_l10_y             26591 non-null  float64\n",
      " 64  p_pts_won%_std_l60_decay_y      25881 non-null  float64\n",
      " 65  p_sv_pts_won%_std_l60_decay_y   25881 non-null  float64\n",
      " 66  p_ret_pts_won%_std_l60_decay_y  25881 non-null  float64\n",
      " 67  p_matches_y                     27532 non-null  float64\n",
      " 68  p_matches_surf_y                27532 non-null  float64\n",
      " 69  p_m_time_last_y                 27532 non-null  float64\n",
      " 70  p_tot_time_l6_decay_y           27532 non-null  float64\n",
      " 71  p_tot_time_l6_y                 27532 non-null  float64\n",
      " 72  p_tot_pts_last_y                27532 non-null  float64\n",
      " 73  p_tot_pts_l6_decay_y            27532 non-null  float64\n",
      " 74  p_tot_pts_l6_y                  27532 non-null  float64\n",
      " 75  p_stamina_adj_fatigue_decay_y   27532 non-null  float64\n",
      " 76  p_stamina_adj_fatigue_y         27532 non-null  float64\n",
      " 77  p_H2H_w_y                       27532 non-null  float64\n",
      " 78  p_H2H_pts_won%_y                9197 non-null   float64\n",
      " 79  m_outcome                       27532 non-null  int64  \n",
      "dtypes: float64(59), int64(11), object(10)\n",
      "memory usage: 17.0+ MB\n"
     ]
    }
   ],
   "source": [
    "df_losers2.info()"
   ]
  },
  {
   "cell_type": "code",
   "execution_count": 62,
   "id": "4ddf59f8",
   "metadata": {},
   "outputs": [],
   "source": [
    "#Renaming columns to remove winner-loser descriptions so we can re-concatenate winners and losers\n",
    "df_losers2 = df_losers2.set_axis([\"t_id\", \"t_date\", \"tour_wk\", \"t_name\", \"t_country\", \"t_surf\", \"t_indoor\", \"t_alt\", \"t_lvl\", \"t_draw_size\", \"m_num\", \"t_round\", \"t_rd_num\", \"m_best_of\", \"m_score\",\"m_time(m)\", \"m_tot_pts\", \"p_opp_pts_won%_l60_decay\", \"p_opp_pts_won%_l10\", \"p_opp_pts_won%_l60_decay_IO\", \"p_opp_sv_pts_won%_l60_decay\", \"p_opp_sv_pts_won%_l10\", \"p_opp_ret_pts_won%_l60_decay\", \"p_opp_ret_pts_won%_l10\", \"p_opp_ace%_l60_decay\", \"p_opp_ace%_l10\", \"p_opp_aced%_l60_decay\", \"p_opp_aced%_l10\", \"p_opp_bp_save%_l60\", \"p_opp_bp_save%_l10\", \"p_opp_bp_convert%_l60\", \"p_opp_bp_convert%_l10\", \"p_id\", \"p_name\",\"p_rank\", \"p_rank_pts\", \"p_country\", \"p_ent\", \"p_hd\", \"p_ht\", \"p_age\", \"opp_id\", \"p_pts_won%\", \"p_sv_pts_won%\", \"p_ret_pts_won%\", \"p_pts_won%_l60_decay\", \"p_pts_won%_l10\", \"p_pts_won%_l60_decay_IO\", \"p_sv_pts_won%_l60_decay\", \"p_sv_pts_won%_l10\", \"p_ret_pts_won%_l60_decay\", \"p_ret_pts_won%_l10\", \"p_ace%\", \"p_ace%_l60_decay\", \"p_ace%_l10\", \"p_aced%\", \"p_aced%_l60_decay\", \"p_aced%_l10\", \"p_bp_save%\", \"p_bp_save%_l60\", \"p_bp_save%_l10\", \"p_bp_convert%\", \"p_bp_convert%_l60\", \"p_bp_convert%_l10\", \"p_pts_won%_std_l60_decay\",'p_sv_pts_won%_std_l60_decay','p_ret_pts_won%_std_l60_decay', \"p_matches\", \"p_matches_surf\", \"p_m_time_last\", \"p_tot_time_l6_decay\", \"p_tot_time_l6\", \"p_tot_pts_last\", \"p_tot_pts_l6_decay\", \"p_tot_pts_l6\", \"p_stamina_adj_fatigue_decay\", \"p_stamina_adj_fatigue\", \"p_H2H_w\", \"p_H2H_pts_won%\", \"m_outcome\"], axis=1)"
   ]
  },
  {
   "cell_type": "code",
   "execution_count": 63,
   "id": "784191fd",
   "metadata": {},
   "outputs": [],
   "source": [
    "#Re-merge data, but now with no separate columns for winners and losers \n",
    "df_player2 = pd.concat([df_winners2, df_losers2], ignore_index=True)"
   ]
  },
  {
   "cell_type": "code",
   "execution_count": 64,
   "id": "1605d779",
   "metadata": {},
   "outputs": [
    {
     "name": "stdout",
     "output_type": "stream",
     "text": [
      "<class 'pandas.core.frame.DataFrame'>\n",
      "RangeIndex: 55064 entries, 0 to 55063\n",
      "Data columns (total 80 columns):\n",
      " #   Column                        Non-Null Count  Dtype  \n",
      "---  ------                        --------------  -----  \n",
      " 0   t_id                          55064 non-null  object \n",
      " 1   t_date                        55064 non-null  int64  \n",
      " 2   tour_wk                       55064 non-null  object \n",
      " 3   t_name                        55064 non-null  object \n",
      " 4   t_country                     55064 non-null  object \n",
      " 5   t_surf                        55064 non-null  object \n",
      " 6   t_indoor                      55064 non-null  int64  \n",
      " 7   t_alt                         55064 non-null  int64  \n",
      " 8   t_lvl                         55064 non-null  int64  \n",
      " 9   t_draw_size                   55064 non-null  int64  \n",
      " 10  m_num                         55064 non-null  int64  \n",
      " 11  t_round                       55064 non-null  object \n",
      " 12  t_rd_num                      55064 non-null  int64  \n",
      " 13  m_best_of                     55064 non-null  int64  \n",
      " 14  m_score                       55064 non-null  object \n",
      " 15  m_time(m)                     55064 non-null  float64\n",
      " 16  p_id                          55064 non-null  int64  \n",
      " 17  p_name                        55064 non-null  object \n",
      " 18  p_rank                        54989 non-null  float64\n",
      " 19  p_rank_pts                    54989 non-null  float64\n",
      " 20  p_country                     55064 non-null  object \n",
      " 21  p_ent                         55064 non-null  float64\n",
      " 22  p_hd                          55064 non-null  object \n",
      " 23  p_ht                          54976 non-null  float64\n",
      " 24  p_age                         55064 non-null  float64\n",
      " 25  opp_id                        55064 non-null  int64  \n",
      " 26  p_pts_won%                    55064 non-null  float64\n",
      " 27  p_sv_pts_won%                 55064 non-null  float64\n",
      " 28  p_ret_pts_won%                55064 non-null  float64\n",
      " 29  m_tot_pts                     55064 non-null  float64\n",
      " 30  p_pts_won%_l60_decay          53741 non-null  float64\n",
      " 31  p_pts_won%_l10                53741 non-null  float64\n",
      " 32  p_pts_won%_l60_decay_IO       53168 non-null  float64\n",
      " 33  p_sv_pts_won%_l60_decay       53741 non-null  float64\n",
      " 34  p_sv_pts_won%_l10             53741 non-null  float64\n",
      " 35  p_ret_pts_won%_l60_decay      53741 non-null  float64\n",
      " 36  p_ret_pts_won%_l10            53741 non-null  float64\n",
      " 37  p_ace%                        55064 non-null  float64\n",
      " 38  p_ace%_l60_decay              53741 non-null  float64\n",
      " 39  p_ace%_l10                    53741 non-null  float64\n",
      " 40  p_aced%                       55064 non-null  float64\n",
      " 41  p_aced%_l60_decay             53741 non-null  float64\n",
      " 42  p_aced%_l10                   53741 non-null  float64\n",
      " 43  p_bp_save%                    55064 non-null  float64\n",
      " 44  p_bp_save%_l60                53741 non-null  float64\n",
      " 45  p_bp_save%_l10                53741 non-null  float64\n",
      " 46  p_bp_convert%                 55064 non-null  float64\n",
      " 47  p_bp_convert%_l60             53741 non-null  float64\n",
      " 48  p_bp_convert%_l10             53741 non-null  float64\n",
      " 49  p_pts_won%_std_l60_decay      52677 non-null  float64\n",
      " 50  p_sv_pts_won%_std_l60_decay   52677 non-null  float64\n",
      " 51  p_ret_pts_won%_std_l60_decay  52677 non-null  float64\n",
      " 52  p_matches                     55064 non-null  float64\n",
      " 53  p_matches_surf                55064 non-null  float64\n",
      " 54  p_m_time_last                 55064 non-null  float64\n",
      " 55  p_tot_time_l6_decay           55064 non-null  float64\n",
      " 56  p_tot_time_l6                 55064 non-null  float64\n",
      " 57  p_tot_pts_last                55064 non-null  float64\n",
      " 58  p_tot_pts_l6_decay            55064 non-null  float64\n",
      " 59  p_tot_pts_l6                  55064 non-null  float64\n",
      " 60  p_stamina_adj_fatigue_decay   55064 non-null  float64\n",
      " 61  p_stamina_adj_fatigue         55064 non-null  float64\n",
      " 62  p_H2H_w                       55064 non-null  float64\n",
      " 63  p_H2H_pts_won%                18394 non-null  float64\n",
      " 64  p_opp_pts_won%_l60_decay      53741 non-null  float64\n",
      " 65  p_opp_pts_won%_l10            53741 non-null  float64\n",
      " 66  p_opp_pts_won%_l60_decay_IO   53168 non-null  float64\n",
      " 67  p_opp_sv_pts_won%_l60_decay   53741 non-null  float64\n",
      " 68  p_opp_sv_pts_won%_l10         53741 non-null  float64\n",
      " 69  p_opp_ret_pts_won%_l60_decay  53741 non-null  float64\n",
      " 70  p_opp_ret_pts_won%_l10        53741 non-null  float64\n",
      " 71  p_opp_ace%_l60_decay          53741 non-null  float64\n",
      " 72  p_opp_ace%_l10                53741 non-null  float64\n",
      " 73  p_opp_aced%_l60_decay         53741 non-null  float64\n",
      " 74  p_opp_aced%_l10               53741 non-null  float64\n",
      " 75  p_opp_bp_save%_l60            53741 non-null  float64\n",
      " 76  p_opp_bp_save%_l10            53741 non-null  float64\n",
      " 77  p_opp_bp_convert%_l60         53741 non-null  float64\n",
      " 78  p_opp_bp_convert%_l10         53741 non-null  float64\n",
      " 79  m_outcome                     55064 non-null  int64  \n",
      "dtypes: float64(59), int64(11), object(10)\n",
      "memory usage: 33.6+ MB\n"
     ]
    }
   ],
   "source": [
    "df_player2.info()"
   ]
  },
  {
   "cell_type": "code",
   "execution_count": 65,
   "id": "364dde7c",
   "metadata": {},
   "outputs": [],
   "source": [
    "#Re-merge data, but now with no separate columns for winners and losers \n",
    "df_player2 = df_player2[[\"t_id\", \"t_date\", \"tour_wk\", \"t_name\", \"t_country\", \"t_surf\", \"t_indoor\", \"t_alt\", \"t_lvl\", \"t_draw_size\", \"t_round\", \"t_rd_num\", \"m_num\", \"m_best_of\", \"m_outcome\", \"m_score\",\"m_time(m)\", \"m_tot_pts\", \"p_id\", \"p_name\", \"opp_id\", \"p_H2H_w\", \"p_H2H_pts_won%\", \"p_rank\", \"p_rank_pts\", \"p_country\", \"p_ent\", \"p_hd\", \"p_ht\", \"p_age\", \"p_matches\", \"p_matches_surf\", \"p_pts_won%\", \"p_pts_won%_l60_decay\", \"p_pts_won%_l60_decay_IO\", \"p_pts_won%_l10\", \"p_sv_pts_won%\", \"p_sv_pts_won%_l60_decay\", \"p_sv_pts_won%_l10\", \"p_ret_pts_won%\", \"p_ret_pts_won%_l60_decay\", \"p_ret_pts_won%_l10\", \"p_ace%\", \"p_ace%_l60_decay\", \"p_ace%_l10\", \"p_aced%\", \"p_aced%_l60_decay\", \"p_aced%_l10\", \"p_bp_save%\", \"p_bp_save%_l60\", \"p_bp_save%_l10\", \"p_bp_convert%\", \"p_bp_convert%_l60\", \"p_bp_convert%_l10\", \"p_pts_won%_std_l60_decay\",'p_sv_pts_won%_std_l60_decay','p_ret_pts_won%_std_l60_decay', \"p_m_time_last\", \"p_tot_time_l6\", \"p_tot_time_l6_decay\", \"p_tot_pts_last\", \"p_tot_pts_l6\", \"p_tot_pts_l6_decay\", \"p_stamina_adj_fatigue_decay\", \"p_stamina_adj_fatigue\", \"p_opp_pts_won%_l60_decay\", \"p_opp_pts_won%_l60_decay_IO\", \"p_opp_pts_won%_l10\", \"p_opp_sv_pts_won%_l60_decay\", \"p_opp_sv_pts_won%_l10\", \"p_opp_ret_pts_won%_l60_decay\", \"p_opp_ret_pts_won%_l10\", \"p_opp_ace%_l60_decay\", \"p_opp_ace%_l10\", \"p_opp_aced%_l60_decay\", \"p_opp_aced%_l10\", \"p_opp_bp_save%_l60\", \"p_opp_bp_save%_l10\", \"p_opp_bp_convert%_l60\", \"p_opp_bp_convert%_l10\"]]\n",
    "df_player2 = df_player2.sort_values(by=['p_id','tour_wk','t_rd_num'], ascending = False)"
   ]
  },
  {
   "cell_type": "code",
   "execution_count": 66,
   "id": "a16cc6d1",
   "metadata": {},
   "outputs": [],
   "source": [
    "#df_player2.head(20)"
   ]
  },
  {
   "cell_type": "code",
   "execution_count": 67,
   "id": "c08d8f3e",
   "metadata": {},
   "outputs": [
    {
     "name": "stdout",
     "output_type": "stream",
     "text": [
      "<class 'pandas.core.frame.DataFrame'>\n",
      "Int64Index: 55064 entries, 50515 to 35979\n",
      "Data columns (total 80 columns):\n",
      " #   Column                        Non-Null Count  Dtype  \n",
      "---  ------                        --------------  -----  \n",
      " 0   t_id                          55064 non-null  object \n",
      " 1   t_date                        55064 non-null  int64  \n",
      " 2   tour_wk                       55064 non-null  object \n",
      " 3   t_name                        55064 non-null  object \n",
      " 4   t_country                     55064 non-null  object \n",
      " 5   t_surf                        55064 non-null  object \n",
      " 6   t_indoor                      55064 non-null  int64  \n",
      " 7   t_alt                         55064 non-null  int64  \n",
      " 8   t_lvl                         55064 non-null  int64  \n",
      " 9   t_draw_size                   55064 non-null  int64  \n",
      " 10  t_round                       55064 non-null  object \n",
      " 11  t_rd_num                      55064 non-null  int64  \n",
      " 12  m_num                         55064 non-null  int64  \n",
      " 13  m_best_of                     55064 non-null  int64  \n",
      " 14  m_outcome                     55064 non-null  int64  \n",
      " 15  m_score                       55064 non-null  object \n",
      " 16  m_time(m)                     55064 non-null  float64\n",
      " 17  m_tot_pts                     55064 non-null  float64\n",
      " 18  p_id                          55064 non-null  int64  \n",
      " 19  p_name                        55064 non-null  object \n",
      " 20  opp_id                        55064 non-null  int64  \n",
      " 21  p_H2H_w                       55064 non-null  float64\n",
      " 22  p_H2H_pts_won%                18394 non-null  float64\n",
      " 23  p_rank                        54989 non-null  float64\n",
      " 24  p_rank_pts                    54989 non-null  float64\n",
      " 25  p_country                     55064 non-null  object \n",
      " 26  p_ent                         55064 non-null  float64\n",
      " 27  p_hd                          55064 non-null  object \n",
      " 28  p_ht                          54976 non-null  float64\n",
      " 29  p_age                         55064 non-null  float64\n",
      " 30  p_matches                     55064 non-null  float64\n",
      " 31  p_matches_surf                55064 non-null  float64\n",
      " 32  p_pts_won%                    55064 non-null  float64\n",
      " 33  p_pts_won%_l60_decay          53741 non-null  float64\n",
      " 34  p_pts_won%_l60_decay_IO       53168 non-null  float64\n",
      " 35  p_pts_won%_l10                53741 non-null  float64\n",
      " 36  p_sv_pts_won%                 55064 non-null  float64\n",
      " 37  p_sv_pts_won%_l60_decay       53741 non-null  float64\n",
      " 38  p_sv_pts_won%_l10             53741 non-null  float64\n",
      " 39  p_ret_pts_won%                55064 non-null  float64\n",
      " 40  p_ret_pts_won%_l60_decay      53741 non-null  float64\n",
      " 41  p_ret_pts_won%_l10            53741 non-null  float64\n",
      " 42  p_ace%                        55064 non-null  float64\n",
      " 43  p_ace%_l60_decay              53741 non-null  float64\n",
      " 44  p_ace%_l10                    53741 non-null  float64\n",
      " 45  p_aced%                       55064 non-null  float64\n",
      " 46  p_aced%_l60_decay             53741 non-null  float64\n",
      " 47  p_aced%_l10                   53741 non-null  float64\n",
      " 48  p_bp_save%                    55064 non-null  float64\n",
      " 49  p_bp_save%_l60                53741 non-null  float64\n",
      " 50  p_bp_save%_l10                53741 non-null  float64\n",
      " 51  p_bp_convert%                 55064 non-null  float64\n",
      " 52  p_bp_convert%_l60             53741 non-null  float64\n",
      " 53  p_bp_convert%_l10             53741 non-null  float64\n",
      " 54  p_pts_won%_std_l60_decay      52677 non-null  float64\n",
      " 55  p_sv_pts_won%_std_l60_decay   52677 non-null  float64\n",
      " 56  p_ret_pts_won%_std_l60_decay  52677 non-null  float64\n",
      " 57  p_m_time_last                 55064 non-null  float64\n",
      " 58  p_tot_time_l6                 55064 non-null  float64\n",
      " 59  p_tot_time_l6_decay           55064 non-null  float64\n",
      " 60  p_tot_pts_last                55064 non-null  float64\n",
      " 61  p_tot_pts_l6                  55064 non-null  float64\n",
      " 62  p_tot_pts_l6_decay            55064 non-null  float64\n",
      " 63  p_stamina_adj_fatigue_decay   55064 non-null  float64\n",
      " 64  p_stamina_adj_fatigue         55064 non-null  float64\n",
      " 65  p_opp_pts_won%_l60_decay      53741 non-null  float64\n",
      " 66  p_opp_pts_won%_l60_decay_IO   53168 non-null  float64\n",
      " 67  p_opp_pts_won%_l10            53741 non-null  float64\n",
      " 68  p_opp_sv_pts_won%_l60_decay   53741 non-null  float64\n",
      " 69  p_opp_sv_pts_won%_l10         53741 non-null  float64\n",
      " 70  p_opp_ret_pts_won%_l60_decay  53741 non-null  float64\n",
      " 71  p_opp_ret_pts_won%_l10        53741 non-null  float64\n",
      " 72  p_opp_ace%_l60_decay          53741 non-null  float64\n",
      " 73  p_opp_ace%_l10                53741 non-null  float64\n",
      " 74  p_opp_aced%_l60_decay         53741 non-null  float64\n",
      " 75  p_opp_aced%_l10               53741 non-null  float64\n",
      " 76  p_opp_bp_save%_l60            53741 non-null  float64\n",
      " 77  p_opp_bp_save%_l10            53741 non-null  float64\n",
      " 78  p_opp_bp_convert%_l60         53741 non-null  float64\n",
      " 79  p_opp_bp_convert%_l10         53741 non-null  float64\n",
      "dtypes: float64(59), int64(11), object(10)\n",
      "memory usage: 34.0+ MB\n"
     ]
    }
   ],
   "source": [
    "df_player2.info()"
   ]
  },
  {
   "cell_type": "code",
   "execution_count": 68,
   "id": "1681c30f",
   "metadata": {},
   "outputs": [],
   "source": [
    "#Save to review\n",
    "#df_player2.to_csv('../data/df_player2.csv', index=False)"
   ]
  },
  {
   "cell_type": "markdown",
   "id": "29d3a5ae",
   "metadata": {},
   "source": [
    "### \"Strength of Schedule\" Calculation and Adjustment for Predictive Features"
   ]
  },
  {
   "cell_type": "markdown",
   "id": "87ad96f3",
   "metadata": {},
   "source": [
    "for each past-performance based (last 60 matches, relative to a given match; surface-specific) predictive feature per-player for the match being predicted on, \"Strength of Schedule\" is calculated below. For a given player, time decay-weighted (for most features) performance over the last 60 matches (which we are using to predict performance in the match at hand) is adjusted by how much above or below sample average performance their roster of opponents during that stretch had THEMSELVES performed over THEIR last 60 matches heading into their match with the player of interest. This strength of schedule adjustment is common practice in team sports, but this requires much more computation because it's relative to each match in a very large sample per player (in NFL, for example, you only need to re-compute 16 times per season)."
   ]
  },
  {
   "cell_type": "code",
   "execution_count": 69,
   "id": "f3527647",
   "metadata": {},
   "outputs": [],
   "source": [
    "#Calculates % total points won 'Strength of Schedule' for the past 60 opponents of a given player in a given match\n",
    "#Uses each opponent's decay-weighted last 60 match performance prior to facing the player of interest (surface-specific)\n",
    "#With this, we can obtain the \"expected\" performance over the last 60 matches for the player of interest, then can SOS adjust\n",
    "#that player's performance over their last 60 on the surface to reflect how much above or below an average schedule they faced (see calculations below)\n",
    "\n",
    "df_player2 = df_player2.iloc[::-1]\n",
    "\n",
    "df_player2['p_pts_won%_SOS_1to10'] = df_player2.groupby(['p_id','t_surf'])['p_opp_pts_won%_l60_decay'].transform(lambda x: x.rolling(window=10, min_periods = 1).mean().round(2).shift(1))\n",
    "\n",
    "df_player2['p_pts_won%_SOS_11to20'] = df_player2.groupby(['p_id','t_surf'])['p_opp_pts_won%_l60_decay'].transform(lambda x: x.rolling(window=10, min_periods = 3).mean().round(2).shift(11))\n",
    "df_player2['p_pts_won%_SOS_11to20'] = df_player2['p_pts_won%_SOS_11to20'].fillna(df_player2['p_pts_won%_SOS_1to10'])\n",
    "\n",
    "df_player2['p_pts_won%_SOS_21to30'] = df_player2.groupby(['p_id','t_surf'])['p_opp_pts_won%_l60_decay'].transform(lambda x: x.rolling(window=10, min_periods = 3).mean().round(2).shift(21))\n",
    "df_player2['p_pts_won%_SOS_21to30'] = df_player2['p_pts_won%_SOS_21to30'].fillna(df_player2['p_pts_won%_SOS_11to20'])\n",
    "\n",
    "df_player2['p_pts_won%_SOS_31to40'] = df_player2.groupby(['p_id','t_surf'])['p_opp_pts_won%_l60_decay'].transform(lambda x: x.rolling(window=10, min_periods = 3).mean().round(2).shift(31))\n",
    "df_player2['p_pts_won%_SOS_31to40'] = df_player2['p_pts_won%_SOS_31to40'].fillna(df_player2['p_pts_won%_SOS_21to30'])\n",
    "\n",
    "df_player2['p_pts_won%_SOS_41to50'] = df_player2.groupby(['p_id','t_surf'])['p_opp_pts_won%_l60_decay'].transform(lambda x: x.rolling(window=10, min_periods = 3).mean().round(2).shift(41))\n",
    "df_player2['p_pts_won%_SOS_41to50'] = df_player2['p_pts_won%_SOS_41to50'].fillna(df_player2['p_pts_won%_SOS_31to40'])\n",
    "\n",
    "df_player2['p_pts_won%_SOS_51to60'] = df_player2.groupby(['p_id','t_surf'])['p_opp_pts_won%_l60_decay'].transform(lambda x: x.rolling(window=10, min_periods = 3).mean().round(2).shift(51))\n",
    "df_player2['p_pts_won%_SOS_51to60'] = df_player2['p_pts_won%_SOS_51to60'].fillna(df_player2['p_pts_won%_SOS_41to50'])\n",
    "\n",
    "df_player2['p_pts_won%_SOS_61to70'] = df_player2.groupby(['p_id','t_surf'])['p_opp_pts_won%_l60_decay'].transform(lambda x: x.rolling(window=10, min_periods = 3).mean().round(2).shift(61))\n",
    "df_player2['p_pts_won%_SOS_61to70'] = df_player2['p_pts_won%_SOS_61to70'].fillna(df_player2['p_pts_won%_SOS_51to60'])\n",
    "\n",
    "#df_player2['p_pts_won%_SOS_71to80'] = df_player2.groupby(['p_id','t_surf'])['p_opp_pts_won%_l60_decay'].transform(lambda x: x.rolling(window=10, min_periods = 3).mean().round(2).shift(51))\n",
    "#df_player2['p_pts_won%_SOS_71to80'] = df_player2['p_pts_won%_SOS_71to80'].fillna(df_player2['p_pts_won%_SOS_61to70'])\n",
    "\n",
    "df_player2 = df_player2.iloc[::-1]\n"
   ]
  },
  {
   "cell_type": "code",
   "execution_count": 70,
   "id": "ee7e9fc5",
   "metadata": {},
   "outputs": [],
   "source": [
    "# Decay weights the SOS calculation at each match to be predicted on, and frames as expected points% given up by player opponents over the last 60 surface-specific matches (we will contrast directly to the player's ACTUAL performance over the last 70 prior to that match to be predict\n",
    "# Core version\n",
    "\n",
    "df_player2[\"p_expected_opp_yield_pts%\"] = (100 - (((df_player2['p_pts_won%_SOS_1to10'] * 14) + (df_player2['p_pts_won%_SOS_11to20'] * 8) + (df_player2['p_pts_won%_SOS_21to30'] * 5) \n",
    "+ (df_player2['p_pts_won%_SOS_31to40'] * 3) + (df_player2['p_pts_won%_SOS_41to50'] * 2) + (df_player2['p_pts_won%_SOS_51to60'] * 1))/33)).round(2)\n",
    "\n",
    "# Drops transient columns\n",
    "df_player2.drop([\"p_pts_won%_SOS_11to20\",\"p_pts_won%_SOS_21to30\",\"p_pts_won%_SOS_31to40\",\"p_pts_won%_SOS_41to50\",\"p_pts_won%_SOS_51to60\"],axis=1, inplace=True)"
   ]
  },
  {
   "cell_type": "code",
   "execution_count": 71,
   "id": "07ac37be",
   "metadata": {},
   "outputs": [
    {
     "data": {
      "text/plain": [
       "(49.75950804818241, 49.85461305354637)"
      ]
     },
     "execution_count": 71,
     "metadata": {},
     "output_type": "execute_result"
    }
   ],
   "source": [
    "# Calculates mean opponent performance per surface. We will use these to factor player l60 performance based on opponent \n",
    "# l60 performance (surface-specific) prior to the match of interest relative to the surface-specific sample mean\n",
    "\n",
    "mean_clay_SOS1 = df_player2.loc[df_player2['t_surf'] == \"Clay\", 'p_opp_pts_won%_l60_decay'].mean()\n",
    "mean_clay_SOS1 = 100 - mean_clay_SOS1 #we want in terms of pct pts the field ALLOWS on average\n",
    "mean_hard_SOS1 = df_player2.loc[df_player2['t_surf'] == \"Hard\", 'p_opp_pts_won%_l60_decay'].mean()\n",
    "mean_hard_SOS1 = 100 - mean_hard_SOS1 #we want in terms of pct pts the field ALLOWS on average\n",
    "mean_clay_SOS1, mean_hard_SOS1"
   ]
  },
  {
   "cell_type": "code",
   "execution_count": 72,
   "id": "3e02649c",
   "metadata": {},
   "outputs": [],
   "source": [
    "# Puts together the above- factors the player's actual performance over the last 70 by schedule of opponents' aggregrate performance over THEIR l60 prior to when they faced the player.\n",
    "# Adjustment proportional to opponents' deviation from field mean performs better than various boosted or blunted versions attempted \n",
    "df_player2.loc[(df_player2[\"t_surf\"] == \"Clay\"), \"p_SOS_adj_pts_won%_l60_decay\"] = ((df_player2[\"p_pts_won%_l60_decay\"])*(mean_clay_SOS1/df_player2[\"p_expected_opp_yield_pts%\"])).round(2)          \n",
    "df_player2.loc[(df_player2[\"t_surf\"] == \"Hard\"), \"p_SOS_adj_pts_won%_l60_decay\"] = ((df_player2[\"p_pts_won%_l60_decay\"])*(mean_hard_SOS1/df_player2[\"p_expected_opp_yield_pts%\"])).round(2)\n",
    "\n",
    "df_player2.loc[(df_player2[\"p_SOS_adj_pts_won%_l60_decay\"] > 100), \"p_SOS_adj_pts_won%_l60_decay\"] = df_player2[\"p_SOS_adj_pts_won%_l60_decay\"].mean() #deals with a few spuriously high values when there's only one previous match (won't impact modelling at all, as these matches will be filtered out)\n",
    "\n",
    "#df_player2.loc[(df_player2[\"t_surf\"] == \"Clay\"), \"p_SOS_adj_pts_won%_l60_decay\"] = ((df_player2[\"p_pts_won%_l60_decay\"])*(np.cbrt(mean_clay_SOS1/df_player2[\"p_expected_opp_yield_pts%\"]))).round(2)          \n",
    "#df_player2.loc[(df_player2[\"t_surf\"] == \"Hard\"), \"p_SOS_adj_pts_won%_l60_decay\"] = ((df_player2[\"p_pts_won%_l60_decay\"])*(np.cbrt(mean_hard_SOS1/df_player2[\"p_expected_opp_yield_pts%\"]))).round(2)\n",
    "\n",
    "#df_player2.loc[(df_player2[\"p_SOS_adj_pts_won%_l60_decay\"] > df_player2[\"p_pts_won%_l60_decay\"]), \"p_SOS_adj_pts_won%_l60_decay\"] = df_player2[\"p_SOS_adj_pts_won%_l60_decay\"] + 0.25 \n",
    "#df_player2.loc[(df_player2[\"p_SOS_adj_pts_won%_l60_decay\"] < df_player2[\"p_pts_won%_l60_decay\"]), \"p_SOS_adj_pts_won%_l60_decay\"] = df_player2[\"p_SOS_adj_pts_won%_l60_decay\"] - 0.25"
   ]
  },
  {
   "cell_type": "code",
   "execution_count": 73,
   "id": "c54237f6",
   "metadata": {},
   "outputs": [],
   "source": [
    "#Calculates % total points won 'Strength of Schedule' for the past 60 opponents of a given player in a given match\n",
    "#This version respects INDOOR AND OUTDOOR distinction\n",
    "#Uses each opponent's decay-weighted last 60 match performance prior to facing the player of interest (surface-specific)\n",
    "#With this, we can obtain the \"expected\" performance over the last 60 matches for the player of interest, then can SOS adjust\n",
    "#that player's performance over their last 60 on the surface to reflect how much above or below an average schedule they faced (see calculations below)\n",
    "\n",
    "df_player2 = df_player2.iloc[::-1]\n",
    "\n",
    "df_player2['p_pts_won%_SOS_1to10_IO'] = df_player2.groupby(['p_id','t_surf','t_indoor'])['p_opp_pts_won%_l60_decay_IO'].transform(lambda x: x.rolling(window=10, min_periods = 1).mean().round(2).shift(1))\n",
    "\n",
    "df_player2['p_pts_won%_SOS_11to20_IO'] = df_player2.groupby(['p_id','t_surf','t_indoor'])['p_opp_pts_won%_l60_decay_IO'].transform(lambda x: x.rolling(window=10, min_periods = 3).mean().round(2).shift(11))\n",
    "df_player2['p_pts_won%_SOS_11to20_IO'] = df_player2['p_pts_won%_SOS_11to20_IO'].fillna(df_player2['p_pts_won%_SOS_1to10_IO'])\n",
    "\n",
    "df_player2['p_pts_won%_SOS_21to30_IO'] = df_player2.groupby(['p_id','t_surf','t_indoor'])['p_opp_pts_won%_l60_decay_IO'].transform(lambda x: x.rolling(window=10, min_periods = 3).mean().round(2).shift(21))\n",
    "df_player2['p_pts_won%_SOS_21to30_IO'] = df_player2['p_pts_won%_SOS_21to30_IO'].fillna(df_player2['p_pts_won%_SOS_11to20_IO'])\n",
    "\n",
    "df_player2['p_pts_won%_SOS_31to40_IO'] = df_player2.groupby(['p_id','t_surf','t_indoor'])['p_opp_pts_won%_l60_decay_IO'].transform(lambda x: x.rolling(window=10, min_periods = 3).mean().round(2).shift(31))\n",
    "df_player2['p_pts_won%_SOS_31to40_IO'] = df_player2['p_pts_won%_SOS_31to40_IO'].fillna(df_player2['p_pts_won%_SOS_21to30_IO'])\n",
    "\n",
    "df_player2['p_pts_won%_SOS_41to50_IO'] = df_player2.groupby(['p_id','t_surf','t_indoor'])['p_opp_pts_won%_l60_decay_IO'].transform(lambda x: x.rolling(window=10, min_periods = 3).mean().round(2).shift(41))\n",
    "df_player2['p_pts_won%_SOS_41to50_IO'] = df_player2['p_pts_won%_SOS_41to50_IO'].fillna(df_player2['p_pts_won%_SOS_31to40_IO'])\n",
    "\n",
    "df_player2['p_pts_won%_SOS_51to60_IO'] = df_player2.groupby(['p_id','t_surf','t_indoor'])['p_opp_pts_won%_l60_decay_IO'].transform(lambda x: x.rolling(window=10, min_periods = 3).mean().round(2).shift(51))\n",
    "df_player2['p_pts_won%_SOS_51to60_IO'] = df_player2['p_pts_won%_SOS_51to60_IO'].fillna(df_player2['p_pts_won%_SOS_41to50_IO'])\n",
    "\n",
    "#df_player2['p_pts_won%_SOS_61to70_IO'] = df_player2.groupby(['p_id','t_surf','t_indoor'])['p_opp_pts_won%_l60_decay_IO'].transform(lambda x: x.rolling(window=10, min_periods = 3).mean().round(2).shift(61))\n",
    "#df_player2['p_pts_won%_SOS_61to70_IO'] = df_player2['p_pts_won%_SOS_61to70_IO'].fillna(df_player2['p_pts_won%_SOS_51to60_IO'])\n",
    "\n",
    "#df_player2['p_pts_won%_SOS_71to80'] = df_player2.groupby(['p_id','t_surf'])['p_opp_pts_won%_l60_decay'].transform(lambda x: x.rolling(window=10, min_periods = 3).mean().round(2).shift(51))\n",
    "#df_player2['p_pts_won%_SOS_71to80'] = df_player2['p_pts_won%_SOS_71to80'].fillna(df_player2['p_pts_won%_SOS_61to70'])\n",
    "\n",
    "df_player2 = df_player2.iloc[::-1]"
   ]
  },
  {
   "cell_type": "code",
   "execution_count": 74,
   "id": "7e16bb96",
   "metadata": {},
   "outputs": [],
   "source": [
    "# Decay weights the SOS calculation at each match to be predicted on, and frames as expected points% given up by player opponents over the last 60 surface-specific matches (we will contrast directly to the player's ACTUAL performance over the last 60 prior to that match to be predicted on. \n",
    "#This version respects INDOOR AND OUTDOOR distinction\n",
    "\n",
    "df_player2[\"p_expected_opp_yield_pts%_IO\"] = (100 - (((df_player2['p_pts_won%_SOS_1to10_IO'] * 14) + (df_player2['p_pts_won%_SOS_11to20_IO'] * 8) + (df_player2['p_pts_won%_SOS_21to30_IO'] * 5) \n",
    "+ (df_player2['p_pts_won%_SOS_31to40_IO'] * 3) + (df_player2['p_pts_won%_SOS_41to50_IO'] * 2) + (df_player2['p_pts_won%_SOS_51to60_IO'] * 1))/33)).round(2)\n",
    "\n",
    "# Drops transient columns\n",
    "df_player2.drop([\"p_pts_won%_SOS_1to10_IO\", \"p_pts_won%_SOS_11to20_IO\",\"p_pts_won%_SOS_21to30_IO\",\"p_pts_won%_SOS_31to40_IO\",\"p_pts_won%_SOS_41to50_IO\",\"p_pts_won%_SOS_51to60_IO\"],axis=1, inplace=True)"
   ]
  },
  {
   "cell_type": "code",
   "execution_count": 75,
   "id": "f42439a7",
   "metadata": {},
   "outputs": [
    {
     "data": {
      "text/plain": [
       "(49.7457820327284, 48.72746388443018, 49.8341530996872, 49.68719323721587)"
      ]
     },
     "execution_count": 75,
     "metadata": {},
     "output_type": "execute_result"
    }
   ],
   "source": [
    "# Calculates mean opponent performance per surface. We will use these to factor player l60 performance based on opponent \n",
    "# l60 performance (surface-specific) prior to the match of interest relative to the surface-specific sample mean\n",
    "#This version respects INDOOR AND OUTDOOR distinction\n",
    "\n",
    "mean_clay_outdoor_SOS1 = df_player2.loc[(df_player2['t_surf'] == \"Clay\") & (df_player2['t_indoor'] == 0), 'p_opp_pts_won%_l60_decay_IO'].mean()\n",
    "mean_clay_outdoor_SOS1 = 100 - mean_clay_outdoor_SOS1 #we want in terms of pct pts the field ALLOWS on average\n",
    "mean_clay_indoor_SOS1 = df_player2.loc[(df_player2['t_surf'] == \"Clay\") & (df_player2['t_indoor'] == 1), 'p_opp_pts_won%_l60_decay_IO'].mean()\n",
    "mean_clay_indoor_SOS1 = 100 - mean_clay_indoor_SOS1 #we want in terms of pct pts the field ALLOWS on average\n",
    "\n",
    "mean_hard_outdoor_SOS1 = df_player2.loc[(df_player2['t_surf'] == \"Hard\") & (df_player2['t_indoor'] == 0), 'p_opp_pts_won%_l60_decay_IO'].mean()\n",
    "mean_hard_outdoor_SOS1 = 100 - mean_hard_outdoor_SOS1 #we want in terms of pct pts the field ALLOWS on average\n",
    "mean_hard_indoor_SOS1 = df_player2.loc[(df_player2['t_surf'] == \"Hard\") & (df_player2['t_indoor'] == 1), 'p_opp_pts_won%_l60_decay_IO'].mean()\n",
    "mean_hard_indoor_SOS1 = 100 - mean_hard_indoor_SOS1 #we want in terms of pct pts the field ALLOWS on average\n",
    "\n",
    "mean_clay_outdoor_SOS1, mean_clay_indoor_SOS1, mean_hard_outdoor_SOS1, mean_hard_indoor_SOS1"
   ]
  },
  {
   "cell_type": "code",
   "execution_count": 76,
   "id": "990d4d6b",
   "metadata": {},
   "outputs": [],
   "source": [
    "# Puts together the above- factors the player's actual performance over the last 60 by schedule of opponents' aggregrate performance over THEIR l60 prior to when they faced the player.\n",
    "# Adjustment proportional to opponents' deviation from field mean performs better than various boosted or blunted versions attempted \n",
    "#This version respects INDOOR AND OUTDOOR distinction\n",
    "\n",
    "df_player2.loc[(df_player2[\"t_surf\"] == \"Clay\") & (df_player2['t_indoor'] == 0), \"p_SOS_adj_pts_won%_l60_decay_IO\"] = ((df_player2[\"p_pts_won%_l60_decay_IO\"])*(mean_clay_outdoor_SOS1/df_player2[\"p_expected_opp_yield_pts%_IO\"])).round(2)          \n",
    "df_player2.loc[(df_player2[\"t_surf\"] == \"Clay\") & (df_player2['t_indoor'] == 1), \"p_SOS_adj_pts_won%_l60_decay_IO\"] = ((df_player2[\"p_pts_won%_l60_decay_IO\"])*(mean_clay_indoor_SOS1/df_player2[\"p_expected_opp_yield_pts%_IO\"])).round(2)          \n",
    "df_player2.loc[(df_player2[\"t_surf\"] == \"Hard\") & (df_player2['t_indoor'] == 0), \"p_SOS_adj_pts_won%_l60_decay_IO\"] = ((df_player2[\"p_pts_won%_l60_decay_IO\"])*(mean_hard_outdoor_SOS1/df_player2[\"p_expected_opp_yield_pts%_IO\"])).round(2)          \n",
    "df_player2.loc[(df_player2[\"t_surf\"] == \"Hard\") & (df_player2['t_indoor'] == 1), \"p_SOS_adj_pts_won%_l60_decay_IO\"] = ((df_player2[\"p_pts_won%_l60_decay_IO\"])*(mean_hard_indoor_SOS1/df_player2[\"p_expected_opp_yield_pts%_IO\"])).round(2)          \n",
    "\n",
    "df_player2.loc[(df_player2[\"p_SOS_adj_pts_won%_l60_decay_IO\"] > 100), \"p_SOS_adj_pts_won%_l60_decay_IO\"] = df_player2[\"p_SOS_adj_pts_won%_l60_decay_IO\"].mean() #deals with a few spuriously high values when there's only one previous match (won't impact modelling at all, as these matches will be filtered out)\n"
   ]
  },
  {
   "cell_type": "code",
   "execution_count": 77,
   "id": "43dcfd5d",
   "metadata": {},
   "outputs": [],
   "source": [
    "# New SOS-adjusted last 60 points won% feature weighting overall surface-specific performance and indoor or outdoor-specific performance\n",
    "# Computed across hard and clay, but indoor clay is so rare that probably won't be useful for that surface\n",
    "\n",
    "df_player2[\"p_SOS_adj_pts_won%_l60_decay_IO_weighted\"] = (((df_player2[\"p_SOS_adj_pts_won%_l60_decay\"]*1) + (df_player2[\"p_SOS_adj_pts_won%_l60_decay_IO\"]*1))/2).round(2)"
   ]
  },
  {
   "cell_type": "code",
   "execution_count": 78,
   "id": "748dc344",
   "metadata": {},
   "outputs": [],
   "source": [
    "# SOS adjustment for total points% for just the last 10 matches (recent performance)\n",
    "\n",
    "df_player2[\"p_expected_opp_yield_pts%_l10\"] = (100 - df_player2['p_pts_won%_SOS_1to10'])\n",
    "\n",
    "# Calculates mean opponent performance per surface. We will use these to factor player l10 performance based on opponent \n",
    "# l10 performance (surface-specific) prior to the match of interest relative to the surface-specific sample mean\n",
    "mean_clay_SOS1 = df_player2.loc[df_player2['t_surf'] == \"Clay\", 'p_opp_pts_won%_l10'].mean()\n",
    "mean_clay_SOS1 = 100 - mean_clay_SOS1 #we want in terms of pct pts the field ALLOWS on average\n",
    "mean_hard_SOS1 = df_player2.loc[df_player2['t_surf'] == \"Hard\", 'p_opp_pts_won%_l10'].mean()\n",
    "mean_hard_SOS1 = 100 - mean_hard_SOS1 #we want in terms of pct pts the field ALLOWS on average\n",
    "mean_clay_SOS1, mean_hard_SOS1\n",
    "\n",
    "# Puts together the above- factors the player's actual performance over the last 10 by schedule of opponents' aggregrate performance over THEIR l10 prior to when they faced the player.\n",
    "# Adjustment proportional to opponents' deviation from field mean performs better than various boosted or blunted versions attempted \n",
    "df_player2.loc[(df_player2[\"t_surf\"] == \"Clay\"), \"p_SOS_adj_pts_won%_l10\"] = ((df_player2[\"p_pts_won%_l10\"])*(mean_clay_SOS1/df_player2[\"p_expected_opp_yield_pts%_l10\"])).round(2)          \n",
    "df_player2.loc[(df_player2[\"t_surf\"] == \"Hard\"), \"p_SOS_adj_pts_won%_l10\"] = ((df_player2[\"p_pts_won%_l10\"])*(mean_hard_SOS1/df_player2[\"p_expected_opp_yield_pts%_l10\"])).round(2)\n",
    "\n",
    "df_player2.loc[(df_player2[\"p_SOS_adj_pts_won%_l10\"] > 100), \"p_SOS_adj_pts_won%_l10\"] = df_player2[\"p_SOS_adj_pts_won%_l10\"].mean() #deals with a few spuriously high values when there's only one previous match (won't impact modelling at all, as these matches will be filtered out)\n",
    "\n",
    "df_player2.drop([\"p_pts_won%_SOS_1to10\"],axis=1, inplace=True)"
   ]
  },
  {
   "cell_type": "code",
   "execution_count": 79,
   "id": "59759bb7",
   "metadata": {},
   "outputs": [],
   "source": [
    "#Save to review\n",
    "#df_player2.to_csv('../data/df_player2b.csv', index=False)"
   ]
  },
  {
   "cell_type": "code",
   "execution_count": 80,
   "id": "a8708a66",
   "metadata": {},
   "outputs": [],
   "source": [
    "#Calculates % SERVE points won 'Strength of Schedule' for the past 60 opponents of a given player in a given match\n",
    "#Uses each opponent's decay-weighted last 60 match performance prior to facing the player of interest (surface-specific)\n",
    "#With this, we can obtain the \"expected\" performance over the last 60 matches for the player of interest, then can SOS adjust\n",
    "#that player's performance over their last 60 on the surface to reflect how much above or below an average schedule they faced (see calculations below)\n",
    "\n",
    "df_player2 = df_player2.iloc[::-1]\n",
    "\n",
    "df_player2['p_sv_pts_won%_SOS_1to10'] = df_player2.groupby(['p_id','t_surf'])['p_opp_sv_pts_won%_l60_decay'].transform(lambda x: x.rolling(window=10, min_periods = 1).mean().round(2).shift(1))\n",
    "\n",
    "df_player2['p_sv_pts_won%_SOS_11to20'] = df_player2.groupby(['p_id','t_surf'])['p_opp_sv_pts_won%_l60_decay'].transform(lambda x: x.rolling(window=10, min_periods = 3).mean().round(2).shift(11))\n",
    "df_player2['p_sv_pts_won%_SOS_11to20'] = df_player2['p_sv_pts_won%_SOS_11to20'].fillna(df_player2['p_sv_pts_won%_SOS_1to10'])\n",
    "\n",
    "df_player2['p_sv_pts_won%_SOS_21to30'] = df_player2.groupby(['p_id','t_surf'])['p_opp_sv_pts_won%_l60_decay'].transform(lambda x: x.rolling(window=10, min_periods = 3).mean().round(2).shift(21))\n",
    "df_player2['p_sv_pts_won%_SOS_21to30'] = df_player2['p_sv_pts_won%_SOS_21to30'].fillna(df_player2['p_sv_pts_won%_SOS_11to20'])\n",
    "\n",
    "df_player2['p_sv_pts_won%_SOS_31to40'] = df_player2.groupby(['p_id','t_surf'])['p_opp_sv_pts_won%_l60_decay'].transform(lambda x: x.rolling(window=10, min_periods = 3).mean().round(2).shift(31))\n",
    "df_player2['p_sv_pts_won%_SOS_31to40'] = df_player2['p_sv_pts_won%_SOS_31to40'].fillna(df_player2['p_sv_pts_won%_SOS_21to30'])\n",
    "\n",
    "df_player2['p_sv_pts_won%_SOS_41to50'] = df_player2.groupby(['p_id','t_surf'])['p_opp_sv_pts_won%_l60_decay'].transform(lambda x: x.rolling(window=10, min_periods = 3).mean().round(2).shift(41))\n",
    "df_player2['p_sv_pts_won%_SOS_41to50'] = df_player2['p_sv_pts_won%_SOS_41to50'].fillna(df_player2['p_sv_pts_won%_SOS_31to40'])\n",
    "\n",
    "df_player2['p_sv_pts_won%_SOS_51to60'] = df_player2.groupby(['p_id','t_surf'])['p_opp_sv_pts_won%_l60_decay'].transform(lambda x: x.rolling(window=10, min_periods = 3).mean().round(2).shift(51))\n",
    "df_player2['p_sv_pts_won%_SOS_51to60'] = df_player2['p_sv_pts_won%_SOS_51to60'].fillna(df_player2['p_sv_pts_won%_SOS_41to50'])\n",
    "\n",
    "#df_player2['p_sv_pts_won%_SOS_61to70'] = df_player2.groupby(['p_id','t_surf'])['p_opp_sv_pts_won%_l60_decay'].transform(lambda x: x.rolling(window=10, min_periods = 3).mean().round(2).shift(61))\n",
    "#df_player2['p_sv_pts_won%_SOS_61to70'] = df_player2['p_sv_pts_won%_SOS_61to70'].fillna(df_player2['p_sv_pts_won%_SOS_51to60'])\n",
    "\n",
    "df_player2 = df_player2.iloc[::-1]\n"
   ]
  },
  {
   "cell_type": "code",
   "execution_count": 81,
   "id": "a9e5e731",
   "metadata": {},
   "outputs": [],
   "source": [
    "# Decay weights the SOS calculation at each match to be predicted on, and frames as expected RETURN PTS YIELD up by player's opponents over the last 60 surface-specific matches (we will contrast directly to the player's ACTUAL performance over the last 60 prior to that match to be predicted on). \n",
    "\n",
    "df_player2[\"p_expected_opp_yield_ret_pts%\"] = (100 - (((df_player2['p_sv_pts_won%_SOS_1to10'] * 14) + (df_player2['p_sv_pts_won%_SOS_11to20'] * 8) + (df_player2['p_sv_pts_won%_SOS_21to30'] * 5) \n",
    "+ (df_player2['p_sv_pts_won%_SOS_31to40'] * 3) + (df_player2['p_sv_pts_won%_SOS_41to50'] * 2) + (df_player2['p_sv_pts_won%_SOS_51to60'] * 1))/33)).round(2)\n",
    "\n",
    "# Drops transient columns\n",
    "df_player2.drop([\"p_sv_pts_won%_SOS_11to20\",\"p_sv_pts_won%_SOS_21to30\",\"p_sv_pts_won%_SOS_31to40\",\"p_sv_pts_won%_SOS_41to50\",\"p_sv_pts_won%_SOS_51to60\"],axis=1, inplace=True)"
   ]
  },
  {
   "cell_type": "code",
   "execution_count": 82,
   "id": "2f7169b1",
   "metadata": {},
   "outputs": [
    {
     "data": {
      "text/plain": [
       "(38.02351295171115, 35.89069012836248)"
      ]
     },
     "execution_count": 82,
     "metadata": {},
     "output_type": "execute_result"
    }
   ],
   "source": [
    "# Calculates mean opponent performance per surface. We will use these to factor player l60 performance based on opponent \n",
    "# l60 performance (surface-specific) prior to the match of interest relative to the surface-specific sample mean\n",
    "\n",
    "mean_clay_SOS2 = df_player2.loc[df_player2['t_surf'] == \"Clay\", 'p_opp_sv_pts_won%_l60_decay'].mean()\n",
    "mean_clay_SOS2 = 100 - mean_clay_SOS2 #we want in terms of pct RETURN pts the field ALLOWS on average\n",
    "mean_hard_SOS2 = df_player2.loc[df_player2['t_surf'] == \"Hard\", 'p_opp_sv_pts_won%_l60_decay'].mean()\n",
    "mean_hard_SOS2 = 100 - mean_hard_SOS2 #we want in terms of pct RETURN pts the field ALLOWS on average\n",
    "mean_clay_SOS2, mean_hard_SOS2"
   ]
  },
  {
   "cell_type": "code",
   "execution_count": 83,
   "id": "8927290e",
   "metadata": {},
   "outputs": [],
   "source": [
    "# Puts together the above- factors the player's actual performance over the last 60 by schedule of opponents' aggregrate performance over THEIR l60 prior to when they faced the player.\n",
    "# If opponents \n",
    "df_player2.loc[(df_player2[\"t_surf\"] == \"Clay\"), \"p_SOS_adj_ret_pts_won%_l60_decay\"] = ((df_player2[\"p_ret_pts_won%_l60_decay\"])*(mean_clay_SOS2/df_player2[\"p_expected_opp_yield_ret_pts%\"])).round(2)\n",
    "                \n",
    "df_player2.loc[(df_player2[\"t_surf\"] == \"Hard\"), \"p_SOS_adj_ret_pts_won%_l60_decay\"] = ((df_player2[\"p_ret_pts_won%_l60_decay\"])*(mean_hard_SOS2/df_player2[\"p_expected_opp_yield_ret_pts%\"])).round(2)\n",
    "\n",
    "df_player2.loc[(df_player2[\"p_SOS_adj_ret_pts_won%_l60_decay\"] > 100), \"p_SOS_adj_ret_pts_won%_l60_decay\"] = df_player2[\"p_SOS_adj_ret_pts_won%_l60_decay\"].mean() #deals with a few spuriously high values when there's only one previous match (won't impact modeling at all, as these matches will be filter"
   ]
  },
  {
   "cell_type": "code",
   "execution_count": 84,
   "id": "7cc8e569",
   "metadata": {},
   "outputs": [],
   "source": [
    "# SOS adjustment for serve points% (OPPONENT RETURN PTS% YIELD) for just the last 10 matches (recent performance)\n",
    "df_player2[\"p_expected_opp_yield_ret_pts%_l10\"] = (100 - df_player2['p_sv_pts_won%_SOS_1to10'])\n",
    "\n",
    "# Calculates mean opponent performance per surface. We will use these to factor player l10 performance based on opponent \n",
    "# l10 performance (surface-specific) prior to the match of interest relative to the surface-specific sample mean\n",
    "mean_clay_SOS2 = df_player2.loc[df_player2['t_surf'] == \"Clay\", 'p_opp_sv_pts_won%_l10'].mean()\n",
    "mean_clay_SOS2 = 100 - mean_clay_SOS2 #we want in terms of pct pts the field ALLOWS on average\n",
    "mean_hard_SOS2 = df_player2.loc[df_player2['t_surf'] == \"Hard\", 'p_opp_sv_pts_won%_l10'].mean()\n",
    "mean_hard_SOS2 = 100 - mean_hard_SOS2 #we want in terms of pct pts the field ALLOWS on average\n",
    "mean_clay_SOS2, mean_hard_SOS2\n",
    "\n",
    "# Puts together the above- factors the player's actual performance over the last 10 by schedule of opponents' aggregrate performance over THEIR l10 prior to when they faced the player.\n",
    "# Adjustment proportional to opponents' deviation from field mean performs better than various boosted or blunted versions attempted \n",
    "df_player2.loc[(df_player2[\"t_surf\"] == \"Clay\"), \"p_SOS_adj_ret_pts_won%_l10\"] = ((df_player2[\"p_ret_pts_won%_l10\"])*(mean_clay_SOS2/df_player2[\"p_expected_opp_yield_ret_pts%_l10\"])).round(2)          \n",
    "df_player2.loc[(df_player2[\"t_surf\"] == \"Hard\"), \"p_SOS_adj_ret_pts_won%_l10\"] = ((df_player2[\"p_ret_pts_won%_l10\"])*(mean_hard_SOS2/df_player2[\"p_expected_opp_yield_ret_pts%_l10\"])).round(2)\n",
    "\n",
    "df_player2.loc[(df_player2[\"p_SOS_adj_ret_pts_won%_l10\"] > 100), \"p_SOS_adj_ret_pts_won%_l10\"] = df_player2[\"p_SOS_adj_ret_pts_won%_l10\"].mean() #deals with a few spuriously high values when there's only one previous match (won't impact modelling at all, as these matches will be filtered out)\n",
    "\n",
    "df_player2.drop([\"p_sv_pts_won%_SOS_1to10\"],axis=1, inplace=True)"
   ]
  },
  {
   "cell_type": "code",
   "execution_count": 85,
   "id": "5dd20b08",
   "metadata": {},
   "outputs": [],
   "source": [
    "#Calculates % RETURN points won 'Strength of Schedule' for the past 60 opponents of a given player in a given match\n",
    "#Uses each opponent's decay-weighted last 60 match performance prior to facing the player of interest (surface-specific)\n",
    "#With this, we can obtain the \"expected\" performance over the last 60 matches for the player of interest, then can SOS adjust\n",
    "#that player's performance over their last 60 on the surface to reflect how much above or below an average schedule they faced (see calculations below)\n",
    "\n",
    "df_player2 = df_player2.iloc[::-1]\n",
    "\n",
    "df_player2['p_ret_pts_won%_SOS_1to10'] = df_player2.groupby(['p_id','t_surf'])['p_opp_ret_pts_won%_l60_decay'].transform(lambda x: x.rolling(window=10, min_periods = 1).mean().round(2).shift(1))\n",
    "\n",
    "df_player2['p_ret_pts_won%_SOS_11to20'] = df_player2.groupby(['p_id','t_surf'])['p_opp_ret_pts_won%_l60_decay'].transform(lambda x: x.rolling(window=10, min_periods = 3).mean().round(2).shift(11))\n",
    "df_player2['p_ret_pts_won%_SOS_11to20'] = df_player2['p_ret_pts_won%_SOS_11to20'].fillna(df_player2['p_ret_pts_won%_SOS_1to10'])\n",
    "\n",
    "df_player2['p_ret_pts_won%_SOS_21to30'] = df_player2.groupby(['p_id','t_surf'])['p_opp_ret_pts_won%_l60_decay'].transform(lambda x: x.rolling(window=10, min_periods = 3).mean().round(2).shift(21))\n",
    "df_player2['p_ret_pts_won%_SOS_21to30'] = df_player2['p_ret_pts_won%_SOS_21to30'].fillna(df_player2['p_ret_pts_won%_SOS_11to20'])\n",
    "\n",
    "df_player2['p_ret_pts_won%_SOS_31to40'] = df_player2.groupby(['p_id','t_surf'])['p_opp_ret_pts_won%_l60_decay'].transform(lambda x: x.rolling(window=10, min_periods = 3).mean().round(2).shift(31))\n",
    "df_player2['p_ret_pts_won%_SOS_31to40'] = df_player2['p_ret_pts_won%_SOS_31to40'].fillna(df_player2['p_ret_pts_won%_SOS_21to30'])\n",
    "\n",
    "df_player2['p_ret_pts_won%_SOS_41to50'] = df_player2.groupby(['p_id','t_surf'])['p_opp_ret_pts_won%_l60_decay'].transform(lambda x: x.rolling(window=10, min_periods = 3).mean().round(2).shift(41))\n",
    "df_player2['p_ret_pts_won%_SOS_41to50'] = df_player2['p_ret_pts_won%_SOS_41to50'].fillna(df_player2['p_ret_pts_won%_SOS_31to40'])\n",
    "\n",
    "df_player2['p_ret_pts_won%_SOS_51to60'] = df_player2.groupby(['p_id','t_surf'])['p_opp_ret_pts_won%_l60_decay'].transform(lambda x: x.rolling(window=10, min_periods = 3).mean().round(2).shift(51))\n",
    "df_player2['p_ret_pts_won%_SOS_51to60'] = df_player2['p_ret_pts_won%_SOS_51to60'].fillna(df_player2['p_ret_pts_won%_SOS_41to50'])\n",
    "\n",
    "#df_player2['p_ret_pts_won%_SOS_61to70'] = df_player2.groupby(['p_id','t_surf'])['p_opp_ret_pts_won%_l60_decay'].transform(lambda x: x.rolling(window=10, min_periods = 3).mean().round(2).shift(61))\n",
    "#df_player2['p_ret_pts_won%_SOS_61to70'] = df_player2['p_ret_pts_won%_SOS_61to70'].fillna(df_player2['p_ret_pts_won%_SOS_51to60'])\n",
    "\n",
    "df_player2 = df_player2.iloc[::-1]\n"
   ]
  },
  {
   "cell_type": "code",
   "execution_count": 86,
   "id": "7c709b54",
   "metadata": {},
   "outputs": [],
   "source": [
    "# Decay weights the SOS calculation at each match to be predicted on, and frames as expected SERVE PTS YIELD up by player's opponents over the last 70 surface-specific matches (we will contrast directly to the player's ACTUAL performance over the last 70 prior to that match to be predicted on). \n",
    "\n",
    "df_player2[\"p_expected_opp_yield_sv_pts%\"] = (100 - (((df_player2['p_ret_pts_won%_SOS_1to10'] * 14) + (df_player2['p_ret_pts_won%_SOS_11to20'] * 8) + (df_player2['p_ret_pts_won%_SOS_21to30'] * 5) \n",
    "+ (df_player2['p_ret_pts_won%_SOS_31to40'] * 3) + (df_player2['p_ret_pts_won%_SOS_41to50'] * 2) + (df_player2['p_ret_pts_won%_SOS_51to60'] * 1))/33)).round(2)\n",
    "\n",
    "# Drops transient columns\n",
    "df_player2.drop([\"p_ret_pts_won%_SOS_11to20\",\"p_ret_pts_won%_SOS_21to30\",\"p_ret_pts_won%_SOS_31to40\",\"p_ret_pts_won%_SOS_41to50\",\"p_ret_pts_won%_SOS_51to60\"],axis=1, inplace=True)"
   ]
  },
  {
   "cell_type": "code",
   "execution_count": 87,
   "id": "932f610b",
   "metadata": {},
   "outputs": [
    {
     "data": {
      "text/plain": [
       "(61.473293891909194, 63.79795048457648)"
      ]
     },
     "execution_count": 87,
     "metadata": {},
     "output_type": "execute_result"
    }
   ],
   "source": [
    "# Calculates mean opponent performance per surface. We will use these to factor player l60 performance based on opponent \n",
    "# l60 performance (surface-specific) prior to the match of interest relative to the surface-specific sample mean\n",
    "\n",
    "mean_clay_SOS3 = df_player2.loc[df_player2['t_surf'] == \"Clay\", 'p_opp_ret_pts_won%_l60_decay'].mean()\n",
    "mean_clay_SOS3 = 100 - mean_clay_SOS3 #we want in terms of pct SERVE pts the field ALLOWS on average\n",
    "mean_hard_SOS3 = df_player2.loc[df_player2['t_surf'] == \"Hard\", 'p_opp_ret_pts_won%_l60_decay'].mean()\n",
    "mean_hard_SOS3 = 100 - mean_hard_SOS3 #we want in terms of pct SERVE pts the field ALLOWS on average\n",
    "mean_clay_SOS3, mean_hard_SOS3"
   ]
  },
  {
   "cell_type": "code",
   "execution_count": 88,
   "id": "76cd9bdc",
   "metadata": {},
   "outputs": [],
   "source": [
    "# Puts together the above- factors the player's actual performance over the last 60 by schedule of opponents' aggregrate performance over THEIR l60 prior to when they faced the player.\n",
    "\n",
    "df_player2.loc[(df_player2[\"t_surf\"] == \"Clay\"), \"p_SOS_adj_sv_pts_won%_l60_decay\"] = ((df_player2[\"p_sv_pts_won%_l60_decay\"])*(mean_clay_SOS3/df_player2[\"p_expected_opp_yield_sv_pts%\"])).round(2)\n",
    "                \n",
    "df_player2.loc[(df_player2[\"t_surf\"] == \"Hard\"), \"p_SOS_adj_sv_pts_won%_l60_decay\"] = ((df_player2[\"p_sv_pts_won%_l60_decay\"])*(mean_hard_SOS3/df_player2[\"p_expected_opp_yield_sv_pts%\"])).round(2)\n",
    "\n",
    "df_player2.loc[(df_player2[\"p_SOS_adj_sv_pts_won%_l60_decay\"] > 100), \"p_SOS_adj_sv_pts_won%_l60_decay\"] = df_player2[\"p_SOS_adj_sv_pts_won%_l60_decay\"].mean() #deals with a few spuriously high values when there's only one previous match (won't impact modeling at all, as these matches will be filter"
   ]
  },
  {
   "cell_type": "code",
   "execution_count": 89,
   "id": "d4c9fe8e",
   "metadata": {},
   "outputs": [],
   "source": [
    "# SOS adjustment for serve points% (OPPONENT SERVE PTS% YIELD) for just the last 10 matches (recent performance)\n",
    "df_player2[\"p_expected_opp_yield_sv_pts%_l10\"] = (100 - df_player2['p_ret_pts_won%_SOS_1to10'])\n",
    "\n",
    "# Calculates mean opponent performance per surface. We will use these to factor player l10 performance based on opponent \n",
    "# l10 performance (surface-specific) prior to the match of interest relative to the surface-specific sample mean\n",
    "mean_clay_SOS3 = df_player2.loc[df_player2['t_surf'] == \"Clay\", 'p_opp_ret_pts_won%_l10'].mean()\n",
    "mean_clay_SOS3 = 100 - mean_clay_SOS3 #we want in terms of pct pts the field ALLOWS on average\n",
    "mean_hard_SOS3 = df_player2.loc[df_player2['t_surf'] == \"Hard\", 'p_opp_ret_pts_won%_l10'].mean()\n",
    "mean_hard_SOS3 = 100 - mean_hard_SOS3 #we want in terms of pct pts the field ALLOWS on average\n",
    "mean_clay_SOS3, mean_hard_SOS3\n",
    "\n",
    "# Puts together the above- factors the player's actual performance over the last 10 by schedule of opponents' aggregrate performance over THEIR l10 prior to when they faced the player.\n",
    "# Adjustment proportional to opponents' deviation from field mean performs better than various boosted or blunted versions attempted \n",
    "df_player2.loc[(df_player2[\"t_surf\"] == \"Clay\"), \"p_SOS_adj_sv_pts_won%_l10\"] = ((df_player2[\"p_sv_pts_won%_l10\"])*(mean_clay_SOS3/df_player2[\"p_expected_opp_yield_sv_pts%_l10\"])).round(2)          \n",
    "df_player2.loc[(df_player2[\"t_surf\"] == \"Hard\"), \"p_SOS_adj_sv_pts_won%_l10\"] = ((df_player2[\"p_sv_pts_won%_l10\"])*(mean_hard_SOS3/df_player2[\"p_expected_opp_yield_sv_pts%_l10\"])).round(2)\n",
    "\n",
    "df_player2.loc[(df_player2[\"p_SOS_adj_sv_pts_won%_l10\"] > 100), \"p_SOS_adj_sv_pts_won%_l10\"] = df_player2[\"p_SOS_adj_sv_pts_won%_l10\"].mean() #deals with a few spuriously high values when there's only one previous match (won't impact modelling at all, as these matches will be filtered out)\n",
    "\n",
    "df_player2.drop([\"p_ret_pts_won%_SOS_1to10\"],axis=1, inplace=True)"
   ]
  },
  {
   "cell_type": "code",
   "execution_count": 90,
   "id": "80c4ab52",
   "metadata": {},
   "outputs": [],
   "source": [
    "#Save to review\n",
    "#df_player2.to_csv('../data/df_player2c.csv', index=False)"
   ]
  },
  {
   "cell_type": "code",
   "execution_count": 91,
   "id": "bcac7ff7",
   "metadata": {},
   "outputs": [],
   "source": [
    "#Calculates ace % 'Strength of Schedule' for the past 60 opponents of a given player in a given match\n",
    "#Uses each opponent's decay-weighted last 60 match performance prior to facing the player of interest (surface-specific)\n",
    "#With this, we can obtain the \"expected\" performance over the last 60 matches for the player of interest, then can SOS adjust\n",
    "#that player's performance over their last 60 on the surface to reflect how much above or below an average schedule they faced (see calculations below)\n",
    "\n",
    "df_player2 = df_player2.iloc[::-1]\n",
    "\n",
    "df_player2['p_ace%_SOS_1to10'] = df_player2.groupby(['p_id','t_surf'])['p_opp_ace%_l60_decay'].transform(lambda x: x.rolling(window=10, min_periods = 1).mean().round(2).shift(1))\n",
    "\n",
    "df_player2['p_ace%_SOS_11to20'] = df_player2.groupby(['p_id','t_surf'])['p_opp_ace%_l60_decay'].transform(lambda x: x.rolling(window=10, min_periods = 3).mean().round(2).shift(11))\n",
    "df_player2['p_ace%_SOS_11to20'] = df_player2['p_ace%_SOS_11to20'].fillna(df_player2['p_ace%_SOS_1to10'])\n",
    "\n",
    "df_player2['p_ace%_SOS_21to30'] = df_player2.groupby(['p_id','t_surf'])['p_opp_ace%_l60_decay'].transform(lambda x: x.rolling(window=10, min_periods = 3).mean().round(2).shift(21))\n",
    "df_player2['p_ace%_SOS_21to30'] = df_player2['p_ace%_SOS_21to30'].fillna(df_player2['p_ace%_SOS_11to20'])\n",
    "\n",
    "df_player2['p_ace%_SOS_31to40'] = df_player2.groupby(['p_id','t_surf'])['p_opp_ace%_l60_decay'].transform(lambda x: x.rolling(window=10, min_periods = 3).mean().round(2).shift(31))\n",
    "df_player2['p_ace%_SOS_31to40'] = df_player2['p_ace%_SOS_31to40'].fillna(df_player2['p_ace%_SOS_21to30'])\n",
    "\n",
    "df_player2['p_ace%_SOS_41to50'] = df_player2.groupby(['p_id','t_surf'])['p_opp_ace%_l60_decay'].transform(lambda x: x.rolling(window=10, min_periods = 3).mean().round(2).shift(41))\n",
    "df_player2['p_ace%_SOS_41to50'] = df_player2['p_ace%_SOS_41to50'].fillna(df_player2['p_ace%_SOS_31to40'])\n",
    "\n",
    "df_player2['p_ace%_SOS_51to60'] = df_player2.groupby(['p_id','t_surf'])['p_opp_ace%_l60_decay'].transform(lambda x: x.rolling(window=10, min_periods = 3).mean().round(2).shift(51))\n",
    "df_player2['p_ace%_SOS_51to60'] = df_player2['p_ace%_SOS_51to60'].fillna(df_player2['p_ace%_SOS_41to50'])\n",
    "\n",
    "#df_player2['p_ace%_SOS_61to70'] = df_player2.groupby(['p_id','t_surf'])['p_opp_ace%_l60_decay'].transform(lambda x: x.rolling(window=10, min_periods = 3).mean().round(2).shift(61))\n",
    "#df_player2['p_ace%_SOS_61to70'] = df_player2['p_ace%_SOS_61to70'].fillna(df_player2['p_ace%_SOS_51to60'])\n",
    "\n",
    "df_player2 = df_player2.iloc[::-1]\n"
   ]
  },
  {
   "cell_type": "code",
   "execution_count": 92,
   "id": "1ab6a807",
   "metadata": {},
   "outputs": [],
   "source": [
    "# Decay weights the SOS calculation at each match to be predicted on, and frames as expected ACED% YIELD by player's opponents over the last 60 surface-specific matches (we will contrast directly to the player's ACTUAL performance over the last 60 prior to that match to be predicted on). \n",
    "\n",
    "df_player2[\"p_expected_opp_yield_aced%\"] = (((df_player2['p_ace%_SOS_1to10'] * 14) + (df_player2['p_ace%_SOS_11to20'] * 8) + (df_player2['p_ace%_SOS_21to30'] * 5) \n",
    "+ (df_player2['p_ace%_SOS_31to40'] * 3) + (df_player2['p_ace%_SOS_41to50'] * 2) + (df_player2['p_ace%_SOS_51to60'] * 1))/33).round(2)\n",
    "\n",
    "# Drops transient columns\n",
    "df_player2.drop([\"p_ace%_SOS_11to20\",\"p_ace%_SOS_21to30\",\"p_ace%_SOS_31to40\",\"p_ace%_SOS_41to50\",\"p_ace%_SOS_51to60\"],axis=1, inplace=True)"
   ]
  },
  {
   "cell_type": "code",
   "execution_count": 93,
   "id": "948502aa",
   "metadata": {},
   "outputs": [
    {
     "data": {
      "text/plain": [
       "(5.505315531393221, 8.709995711712756)"
      ]
     },
     "execution_count": 93,
     "metadata": {},
     "output_type": "execute_result"
    }
   ],
   "source": [
    "# Calculates mean opponent performance per surface. We will use these to factor player l60 performance based on opponent \n",
    "# l60 performance (surface-specific) prior to the match of interest relative to the surface-specific sample mean\n",
    "\n",
    "mean_clay_SOS4 = df_player2.loc[df_player2['t_surf'] == \"Clay\", 'p_opp_ace%_l60_decay'].mean()\n",
    "mean_clay_SOS4 = mean_clay_SOS4 #we want in terms of pct ACED the field ALLOWS on average\n",
    "mean_hard_SOS4 = df_player2.loc[df_player2['t_surf'] == \"Hard\", 'p_opp_ace%_l60_decay'].mean()\n",
    "mean_hard_SOS4 = mean_hard_SOS4 #we want in terms of pct ACED the field ALLOWS on average\n",
    "mean_clay_SOS4, mean_hard_SOS4"
   ]
  },
  {
   "cell_type": "code",
   "execution_count": 94,
   "id": "43b45715",
   "metadata": {},
   "outputs": [],
   "source": [
    "# Puts together the above- factors the player's actual performance over the last 60 by schedule of opponents' aggregrate performance over THEIR l60 prior to when they faced the player.\n",
    " \n",
    "df_player2.loc[(df_player2[\"t_surf\"] == \"Clay\"), \"p_SOS_adj_aced%_l60_decay\"] = ((df_player2[\"p_aced%_l60_decay\"])*(mean_clay_SOS4/df_player2[\"p_expected_opp_yield_aced%\"])).round(2)\n",
    "                \n",
    "df_player2.loc[(df_player2[\"t_surf\"] == \"Hard\"), \"p_SOS_adj_aced%_l60_decay\"] = ((df_player2[\"p_aced%_l60_decay\"])*(mean_hard_SOS4/df_player2[\"p_expected_opp_yield_aced%\"])).round(2)\n",
    "\n",
    "df_player2[\"p_SOS_adj_aced%_l60_decay\"].replace(np.inf, np.nan, inplace=True) #deals with a few infs in first handful of matches in sample where there is no SOS (divide by zero errors in the above)\n",
    "df_player2.loc[(df_player2[\"p_SOS_adj_aced%_l60_decay\"] > 100), \"p_SOS_adj_aced%_l60_decay\"] = df_player2[\"p_SOS_adj_aced%_l60_decay\"].mean() #deals with a few spuriously high values when there's only one previous match (won't impact modeling at all, as these matches will be filter\n"
   ]
  },
  {
   "cell_type": "code",
   "execution_count": 95,
   "id": "36b93278",
   "metadata": {},
   "outputs": [],
   "source": [
    "# SOS adjustment for serve points% (OPPONENT ACED% YIELD) for just the last 10 matches (recent performance)\n",
    "df_player2[\"p_expected_opp_yield_aced%_l10\"] = df_player2['p_ace%_SOS_1to10']\n",
    "\n",
    "# Calculates mean opponent performance per surface. We will use these to factor player l10 performance based on opponent \n",
    "# l10 performance (surface-specific) prior to the match of interest relative to the surface-specific sample mean\n",
    "mean_clay_SOS4 = df_player2.loc[df_player2['t_surf'] == \"Clay\", 'p_opp_ace%_l10'].mean()\n",
    "mean_clay_SOS4 = mean_clay_SOS4 #we want in terms of pct pts the field ALLOWS on average\n",
    "mean_hard_SOS4 = df_player2.loc[df_player2['t_surf'] == \"Hard\", 'p_opp_ace%_l10'].mean()\n",
    "mean_hard_SOS4 = mean_hard_SOS4 #we want in terms of pct pts the field ALLOWS on average\n",
    "mean_clay_SOS4, mean_hard_SOS4\n",
    "\n",
    "# Puts together the above- factors the player's actual performance over the last 10 by schedule of opponents' aggregrate performance over THEIR l10 prior to when they faced the player.\n",
    "# Adjustment proportional to opponents' deviation from field mean performs better than various boosted or blunted versions attempted \n",
    "df_player2.loc[(df_player2[\"t_surf\"] == \"Clay\"), \"p_SOS_adj_aced%_l10\"] = ((df_player2[\"p_aced%_l10\"])*(mean_clay_SOS4/df_player2[\"p_expected_opp_yield_aced%_l10\"])).round(2)          \n",
    "df_player2.loc[(df_player2[\"t_surf\"] == \"Hard\"), \"p_SOS_adj_aced%_l10\"] = ((df_player2[\"p_aced%_l10\"])*(mean_hard_SOS4/df_player2[\"p_expected_opp_yield_aced%_l10\"])).round(2)\n",
    "\n",
    "df_player2[\"p_SOS_adj_aced%_l10\"].replace(np.inf, np.nan, inplace=True) #deals with a few infs in first handful of matches in sample where there is no SOS (divide by zero errors in the above)\n",
    "df_player2.loc[(df_player2[\"p_SOS_adj_aced%_l10\"] > 100), \"p_SOS_adj_aced%_l10\"] = df_player2[\"p_SOS_adj_aced%_l10\"].mean() #deals with a few spuriously high values when there's only one previous match (won't impact modelling at all, as these matches will be filtered out)\n",
    "\n",
    "df_player2.drop([\"p_ace%_SOS_1to10\"],axis=1, inplace=True)"
   ]
  },
  {
   "cell_type": "code",
   "execution_count": 96,
   "id": "539854e3",
   "metadata": {},
   "outputs": [],
   "source": [
    "#Save to review\n",
    "#df_player2.to_csv('../data/df_player2d.csv', index=False)"
   ]
  },
  {
   "cell_type": "code",
   "execution_count": 97,
   "id": "6632b5aa",
   "metadata": {},
   "outputs": [],
   "source": [
    "#Calculates aced % 'Strength of Schedule' for the past 60 opponents of a given player in a given match\n",
    "#Uses each opponent's decay-weighted last 60 match performance prior to facing the player of interest (surface-specific)\n",
    "#With this, we can obtain the \"expected\" performance over the last 60 matches for the player of interest, then can SOS adjust\n",
    "#that player's performance over their last 60 on the surface to reflect how much above or below an average schedule they faced (see calculations below)\n",
    "\n",
    "df_player2 = df_player2.iloc[::-1]\n",
    "\n",
    "df_player2['p_aced%_SOS_1to10'] = df_player2.groupby(['p_id','t_surf'])['p_opp_aced%_l60_decay'].transform(lambda x: x.rolling(window=10, min_periods = 1).mean().round(2).shift(1))\n",
    "\n",
    "df_player2['p_aced%_SOS_11to20'] = df_player2.groupby(['p_id','t_surf'])['p_opp_aced%_l60_decay'].transform(lambda x: x.rolling(window=10, min_periods = 3).mean().round(2).shift(11))\n",
    "df_player2['p_aced%_SOS_11to20'] = df_player2['p_aced%_SOS_11to20'].fillna(df_player2['p_aced%_SOS_1to10'])\n",
    "\n",
    "df_player2['p_aced%_SOS_21to30'] = df_player2.groupby(['p_id','t_surf'])['p_opp_aced%_l60_decay'].transform(lambda x: x.rolling(window=10, min_periods = 3).mean().round(2).shift(21))\n",
    "df_player2['p_aced%_SOS_21to30'] = df_player2['p_aced%_SOS_21to30'].fillna(df_player2['p_aced%_SOS_11to20'])\n",
    "\n",
    "df_player2['p_aced%_SOS_31to40'] = df_player2.groupby(['p_id','t_surf'])['p_opp_aced%_l60_decay'].transform(lambda x: x.rolling(window=10, min_periods = 3).mean().round(2).shift(31))\n",
    "df_player2['p_aced%_SOS_31to40'] = df_player2['p_aced%_SOS_31to40'].fillna(df_player2['p_aced%_SOS_21to30'])\n",
    "\n",
    "df_player2['p_aced%_SOS_41to50'] = df_player2.groupby(['p_id','t_surf'])['p_opp_aced%_l60_decay'].transform(lambda x: x.rolling(window=10, min_periods = 3).mean().round(2).shift(41))\n",
    "df_player2['p_aced%_SOS_41to50'] = df_player2['p_aced%_SOS_41to50'].fillna(df_player2['p_aced%_SOS_31to40'])\n",
    "\n",
    "df_player2['p_aced%_SOS_51to60'] = df_player2.groupby(['p_id','t_surf'])['p_opp_aced%_l60_decay'].transform(lambda x: x.rolling(window=10, min_periods = 3).mean().round(2).shift(51))\n",
    "df_player2['p_aced%_SOS_51to60'] = df_player2['p_aced%_SOS_51to60'].fillna(df_player2['p_aced%_SOS_41to50'])\n",
    "\n",
    "#df_player2['p_aced%_SOS_61to70'] = df_player2.groupby(['p_id','t_surf'])['p_opp_aced%_l60_decay'].transform(lambda x: x.rolling(window=10, min_periods = 3).mean().round(2).shift(61))\n",
    "#df_player2['p_aced%_SOS_61to70'] = df_player2['p_aced%_SOS_61to70'].fillna(df_player2['p_aced%_SOS_51to60'])\n",
    "\n",
    "df_player2 = df_player2.iloc[::-1]\n"
   ]
  },
  {
   "cell_type": "code",
   "execution_count": 98,
   "id": "f4382810",
   "metadata": {},
   "outputs": [],
   "source": [
    "# Decay weights the SOS calculation at each match to be predicted on, and frames as expected ACE% YIELD by player's opponents over the last 60 surface-specific matches (we will contrast directly to the player's ACTUAL performance over the last 60 prior to that match to be predicted on). \n",
    "\n",
    "df_player2[\"p_expected_opp_yield_ace%\"] = (((df_player2['p_aced%_SOS_1to10'] * 14) + (df_player2['p_aced%_SOS_11to20'] * 8) + (df_player2['p_aced%_SOS_21to30'] * 5) \n",
    "+ (df_player2['p_aced%_SOS_31to40'] * 3) + (df_player2['p_aced%_SOS_41to50'] * 2) + (df_player2['p_aced%_SOS_51to60'] * 1))/33).round(2)\n",
    "\n",
    "# Drops transient columns\n",
    "df_player2.drop([\"p_aced%_SOS_11to20\",\"p_aced%_SOS_21to30\",\"p_aced%_SOS_31to40\",\"p_aced%_SOS_41to50\",\"p_aced%_SOS_51to60\"],axis=1, inplace=True)"
   ]
  },
  {
   "cell_type": "code",
   "execution_count": 99,
   "id": "6fff3d6d",
   "metadata": {},
   "outputs": [
    {
     "data": {
      "text/plain": [
       "(5.288991045730734, 8.515035306898387)"
      ]
     },
     "execution_count": 99,
     "metadata": {},
     "output_type": "execute_result"
    }
   ],
   "source": [
    "# Calculates mean opponent performance per surface. We will use these to factor player l60 performance based on opponent \n",
    "# l60 performance (surface-specific) prior to the match of interest relative to the surface-specific sample mean\n",
    "\n",
    "mean_clay_SOS5 = df_player2.loc[df_player2['t_surf'] == \"Clay\", 'p_opp_aced%_l60_decay'].mean()\n",
    "mean_clay_SOS5 = mean_clay_SOS5 #we want in terms of pct ACES the field ALLOWS on average\n",
    "mean_hard_SOS5 = df_player2.loc[df_player2['t_surf'] == \"Hard\", 'p_opp_aced%_l60_decay'].mean()\n",
    "mean_hard_SOS5 = mean_hard_SOS5 #we want in terms of pct ACES the field ALLOWS on average\n",
    "mean_clay_SOS5, mean_hard_SOS5"
   ]
  },
  {
   "cell_type": "code",
   "execution_count": 100,
   "id": "ddc04c71",
   "metadata": {},
   "outputs": [],
   "source": [
    "# Puts together the above- factors the player's actual performance over the last 70 by schedule of opponents' aggregrate performance over THEIR l60 prior to when they faced the player.\n",
    "# If opponents \n",
    "df_player2.loc[(df_player2[\"t_surf\"] == \"Clay\"), \"p_SOS_adj_ace%_l60_decay\"] = ((df_player2[\"p_ace%_l60_decay\"])*(mean_clay_SOS5/df_player2[\"p_expected_opp_yield_ace%\"])).round(2)\n",
    "                \n",
    "df_player2.loc[(df_player2[\"t_surf\"] == \"Hard\"), \"p_SOS_adj_ace%_l60_decay\"] = ((df_player2[\"p_ace%_l60_decay\"])*(mean_hard_SOS5/df_player2[\"p_expected_opp_yield_ace%\"])).round(2)\n",
    "\n",
    "df_player2[\"p_SOS_adj_ace%_l60_decay\"].replace(np.inf, np.nan, inplace=True) #deals with a few infs in first handful of matches in sample where there is no SOS (divide by zero errors in the above)\n",
    "df_player2.loc[(df_player2[\"p_SOS_adj_ace%_l60_decay\"] > 100), \"p_SOS_adj_ace%_l60_decay\"] = df_player2[\"p_SOS_adj_ace%_l60_decay\"].mean() #deals with a few spuriously high values when there's only one previous match (won't impact modeling at all, as these matches will be filter"
   ]
  },
  {
   "cell_type": "code",
   "execution_count": 101,
   "id": "87006731",
   "metadata": {},
   "outputs": [],
   "source": [
    "# SOS adjustment for serve points% (OPPONENT ACE% YIELD) for just the last 10 matches (recent performance)\n",
    "df_player2[\"p_expected_opp_yield_ace%_l10\"] = df_player2['p_aced%_SOS_1to10']\n",
    "\n",
    "# Calculates mean opponent performance per surface. We will use these to factor player l10 performance based on opponent \n",
    "# l10 performance (surface-specific) prior to the match of interest relative to the surface-specific sample mean\n",
    "mean_clay_SOS5 = df_player2.loc[df_player2['t_surf'] == \"Clay\", 'p_opp_aced%_l10'].mean()\n",
    "mean_clay_SOS5 = mean_clay_SOS5 #we want in terms of pct pts the field ALLOWS on average\n",
    "mean_hard_SOS5 = df_player2.loc[df_player2['t_surf'] == \"Hard\", 'p_opp_aced%_l10'].mean()\n",
    "mean_hard_SOS5 = mean_hard_SOS5 #we want in terms of pct pts the field ALLOWS on average\n",
    "mean_clay_SOS5, mean_hard_SOS5\n",
    "\n",
    "# Puts together the above- factors the player's actual performance over the last 10 by schedule of opponents' aggregrate performance over THEIR l10 prior to when they faced the player.\n",
    "# Adjustment proportional to opponents' deviation from field mean performs better than various boosted or blunted versions attempted \n",
    "df_player2.loc[(df_player2[\"t_surf\"] == \"Clay\"), \"p_SOS_adj_ace%_l10\"] = ((df_player2[\"p_ace%_l10\"])*(mean_clay_SOS5/df_player2[\"p_expected_opp_yield_ace%_l10\"])).round(2)          \n",
    "df_player2.loc[(df_player2[\"t_surf\"] == \"Hard\"), \"p_SOS_adj_ace%_l10\"] = ((df_player2[\"p_ace%_l10\"])*(mean_hard_SOS5/df_player2[\"p_expected_opp_yield_ace%_l10\"])).round(2)\n",
    "\n",
    "df_player2[\"p_SOS_adj_ace%_l10\"].replace(np.inf, np.nan, inplace=True) #deals with a few infs in first handful of matches in sample where there is no SOS (divide by zero errors in the above)\n",
    "df_player2.loc[(df_player2[\"p_SOS_adj_ace%_l10\"] > 100), \"p_SOS_adj_ace%_l10\"] = df_player2[\"p_SOS_adj_ace%_l10\"].mean() #deals with a few spuriously high values when there's only one previous match (won't impact modelling at all, as these matches will be filtered out)\n",
    "\n",
    "df_player2.drop([\"p_aced%_SOS_1to10\"],axis=1, inplace=True)"
   ]
  },
  {
   "cell_type": "code",
   "execution_count": 102,
   "id": "2b4b14f3",
   "metadata": {},
   "outputs": [],
   "source": [
    "#Save to review\n",
    "#df_player2.to_csv('../data/df_player2e.csv', index=False)"
   ]
  },
  {
   "cell_type": "code",
   "execution_count": 103,
   "id": "bbc5af8c",
   "metadata": {},
   "outputs": [],
   "source": [
    "#Calculates break point saved% 'Strength of Schedule' for the past 60 opponents of a given player in a given match\n",
    "#Uses each opponent's (non decay-weighted) last 60 match performance prior to facing the player of interest (surface-specific)\n",
    "#With this, we can obtain the \"expected\" performance over the last 60 matches for the player of interest, then can SOS adjust\n",
    "#that player's performance over their last 60 on the surface to reflect how much above or below an average schedule they faced (see calculations below)\n",
    "\n",
    "df_player2 = df_player2.iloc[::-1]\n",
    "\n",
    "df_player2['p_bp_save%_SOS_1to10'] = df_player2.groupby(['p_id','t_surf'])['p_opp_bp_save%_l60'].transform(lambda x: x.rolling(window=10, min_periods = 1).mean().round(2).shift(1))\n",
    "\n",
    "df_player2['p_bp_save%_SOS_11to20'] = df_player2.groupby(['p_id','t_surf'])['p_opp_bp_save%_l60'].transform(lambda x: x.rolling(window=10, min_periods = 3).mean().round(2).shift(11))\n",
    "df_player2['p_bp_save%_SOS_11to20'] = df_player2['p_bp_save%_SOS_11to20'].fillna(df_player2['p_bp_save%_SOS_1to10'])\n",
    "\n",
    "df_player2['p_bp_save%_SOS_21to30'] = df_player2.groupby(['p_id','t_surf'])['p_opp_bp_save%_l60'].transform(lambda x: x.rolling(window=10, min_periods = 3).mean().round(2).shift(21))\n",
    "df_player2['p_bp_save%_SOS_21to30'] = df_player2['p_bp_save%_SOS_21to30'].fillna(df_player2['p_bp_save%_SOS_11to20'])\n",
    "\n",
    "df_player2['p_bp_save%_SOS_31to40'] = df_player2.groupby(['p_id','t_surf'])['p_opp_bp_save%_l60'].transform(lambda x: x.rolling(window=10, min_periods = 3).mean().round(2).shift(31))\n",
    "df_player2['p_bp_save%_SOS_31to40'] = df_player2['p_bp_save%_SOS_31to40'].fillna(df_player2['p_bp_save%_SOS_21to30'])\n",
    "\n",
    "df_player2['p_bp_save%_SOS_41to50'] = df_player2.groupby(['p_id','t_surf'])['p_opp_bp_save%_l60'].transform(lambda x: x.rolling(window=10, min_periods = 3).mean().round(2).shift(41))\n",
    "df_player2['p_bp_save%_SOS_41to50'] = df_player2['p_bp_save%_SOS_41to50'].fillna(df_player2['p_bp_save%_SOS_31to40'])\n",
    "\n",
    "df_player2['p_bp_save%_SOS_51to60'] = df_player2.groupby(['p_id','t_surf'])['p_opp_bp_save%_l60'].transform(lambda x: x.rolling(window=10, min_periods = 3).mean().round(2).shift(51))\n",
    "df_player2['p_bp_save%_SOS_51to60'] = df_player2['p_bp_save%_SOS_51to60'].fillna(df_player2['p_bp_save%_SOS_41to50'])\n",
    "\n",
    "#df_player2['p_bp_save%_SOS_61to70'] = df_player2.groupby(['p_id','t_surf'])['p_opp_bp_save%_l60'].transform(lambda x: x.rolling(window=10, min_periods = 3).mean().round(2).shift(61))\n",
    "#df_player2['p_bp_save%_SOS_61to70'] = df_player2['p_bp_save%_SOS_61to70'].fillna(df_player2['p_bp_save%_SOS_51to60'])\n",
    "\n",
    "df_player2 = df_player2.iloc[::-1]"
   ]
  },
  {
   "cell_type": "code",
   "execution_count": 104,
   "id": "30b51a08",
   "metadata": {},
   "outputs": [],
   "source": [
    "# Decay weights the SOS calculation at each match to be predicted on, and frames as expected BP CONVERT% YIELD by player's opponents over the last 60 surface-specific matches (we will contrast directly to the player's ACTUAL performance over the last 60 prior to that match to be predicted on). \n",
    "\n",
    "df_player2[\"p_expected_opp_yield_bp_convert%\"] = (100 - (((df_player2['p_bp_save%_SOS_1to10'] * 14) + (df_player2['p_bp_save%_SOS_11to20'] * 8) + (df_player2['p_bp_save%_SOS_21to30'] * 5) \n",
    "+ (df_player2['p_bp_save%_SOS_31to40'] * 3) + (df_player2['p_bp_save%_SOS_41to50'] * 2) + (df_player2['p_bp_save%_SOS_51to60'] * 1))/33)).round(2)\n",
    "\n",
    "# Drops transient columns\n",
    "df_player2.drop([\"p_bp_save%_SOS_11to20\",\"p_bp_save%_SOS_21to30\",\"p_bp_save%_SOS_31to40\",\"p_bp_save%_SOS_41to50\",\"p_bp_save%_SOS_51to60\"],axis=1, inplace=True)"
   ]
  },
  {
   "cell_type": "code",
   "execution_count": 105,
   "id": "35ffa36d",
   "metadata": {},
   "outputs": [
    {
     "data": {
      "text/plain": [
       "(40.979317236968285, 38.802088967666464)"
      ]
     },
     "execution_count": 105,
     "metadata": {},
     "output_type": "execute_result"
    }
   ],
   "source": [
    "# Calculates mean opponent performance per surface. We will use these to factor player l60 performance based on opponent \n",
    "# l60 performance (surface-specific) prior to the match of interest relative to the surface-specific sample mean\n",
    "\n",
    "mean_clay_SOS6 = df_player2.loc[df_player2['t_surf'] == \"Clay\", 'p_opp_bp_save%_l60'].mean()\n",
    "mean_clay_SOS6 = 100 - mean_clay_SOS6 #we want in terms of pct BREAK CONVERSIONS the field ALLOWS on average\n",
    "mean_hard_SOS6 = df_player2.loc[df_player2['t_surf'] == \"Hard\", 'p_opp_bp_save%_l60'].mean()\n",
    "mean_hard_SOS6 = 100 - mean_hard_SOS6 #we want in terms of pct BREAK CONVERSIONS the field ALLOWS on average\n",
    "mean_clay_SOS6, mean_hard_SOS6"
   ]
  },
  {
   "cell_type": "code",
   "execution_count": 106,
   "id": "d022eff2",
   "metadata": {},
   "outputs": [],
   "source": [
    "# Puts together the above- factors the player's actual performance over the last 60 by schedule of opponents' aggregrate performance over THEIR l60 prior to when they faced the player.\n",
    "\n",
    "df_player2.loc[(df_player2[\"t_surf\"] == \"Clay\"), \"p_SOS_adj_bp_convert%_l60\"] = ((df_player2[\"p_bp_convert%_l60\"])*(mean_clay_SOS6/df_player2[\"p_expected_opp_yield_bp_convert%\"])).round(2)\n",
    "                \n",
    "df_player2.loc[(df_player2[\"t_surf\"] == \"Hard\"), \"p_SOS_adj_bp_convert%_l60\"] = ((df_player2[\"p_bp_convert%_l60\"])*(mean_hard_SOS6/df_player2[\"p_expected_opp_yield_bp_convert%\"])).round(2)\n",
    "\n",
    "df_player2[\"p_SOS_adj_bp_convert%_l60\"].replace(np.inf, np.nan, inplace=True) #deals with a few infs in first handful of matches in sample where there is no SOS (divide by zero errors in the above)\n",
    "df_player2.loc[(df_player2[\"p_SOS_adj_bp_convert%_l60\"] > 100), \"p_SOS_adj_bp_convert%_l60\"] = df_player2[\"p_SOS_adj_bp_convert%_l60\"].mean() #deals with a few spuriously high values when there's only one previous match (won't impact modeling at all, as these matches will be filtered)"
   ]
  },
  {
   "cell_type": "code",
   "execution_count": 107,
   "id": "10890dce",
   "metadata": {},
   "outputs": [],
   "source": [
    "# SOS adjustment for serve points% (OPPONENT BP CONVERT% YIELD) for just the last 10 matches (recent performance)\n",
    "df_player2[\"p_expected_opp_yield_bp_convert%_l10\"] = (100 - df_player2['p_bp_save%_SOS_1to10'])\n",
    "\n",
    "# Calculates mean opponent performance per surface. We will use these to factor player l10 performance based on opponent \n",
    "# l10 performance (surface-specific) prior to the match of interest relative to the surface-specific sample mean\n",
    "mean_clay_SOS6 = df_player2.loc[df_player2['t_surf'] == \"Clay\", 'p_opp_bp_save%_l10'].mean()\n",
    "mean_clay_SOS6 = 100 - mean_clay_SOS6 #we want in terms of pct pts the field ALLOWS on average\n",
    "mean_hard_SOS6 = df_player2.loc[df_player2['t_surf'] == \"Hard\", 'p_opp_bp_save%_l10'].mean()\n",
    "mean_hard_SOS6 = 100 - mean_hard_SOS6 #we want in terms of pct pts the field ALLOWS on average\n",
    "mean_clay_SOS6, mean_hard_SOS6\n",
    "\n",
    "# Puts together the above- factors the player's actual performance over the last 10 by schedule of opponents' aggregrate performance over THEIR l10 prior to when they faced the player.\n",
    "# Adjustment proportional to opponents' deviation from field mean performs better than various boosted or blunted versions attempted \n",
    "df_player2.loc[(df_player2[\"t_surf\"] == \"Clay\"), \"p_SOS_adj_bp_convert%_l10\"] = ((df_player2[\"p_bp_convert%_l10\"])*(mean_clay_SOS6/df_player2[\"p_expected_opp_yield_bp_convert%_l10\"])).round(2)          \n",
    "df_player2.loc[(df_player2[\"t_surf\"] == \"Hard\"), \"p_SOS_adj_bp_convert%_l10\"] = ((df_player2[\"p_bp_convert%_l10\"])*(mean_hard_SOS6/df_player2[\"p_expected_opp_yield_bp_convert%_l10\"])).round(2)\n",
    "\n",
    "df_player2[\"p_SOS_adj_bp_convert%_l10\"].replace(np.inf, np.nan, inplace=True) #deals with a few infs in first handful of matches in sample where there is no SOS (divide by zero errors in the above)\n",
    "df_player2.loc[(df_player2[\"p_SOS_adj_bp_convert%_l10\"] > 100), \"p_SOS_adj_bp_convert%_l10\"] = df_player2[\"p_SOS_adj_bp_convert%_l10\"].mean() #deals with a few spuriously high values when there's only one previous match (won't impact modelling at all, as these matches will be filtered out)\n",
    "\n",
    "df_player2.drop([\"p_bp_save%_SOS_1to10\"],axis=1, inplace=True)"
   ]
  },
  {
   "cell_type": "code",
   "execution_count": 108,
   "id": "0e14f02b",
   "metadata": {},
   "outputs": [],
   "source": [
    "#Save to review\n",
    "#df_player2.to_csv('../data/df_player2f.csv', index=False)"
   ]
  },
  {
   "cell_type": "code",
   "execution_count": 109,
   "id": "ca488d6f",
   "metadata": {},
   "outputs": [],
   "source": [
    "#Calculates break point converted% 'Strength of Schedule' for the past 60 opponents of a given player in a given match\n",
    "#Uses each opponent's (non decay-weighted) last 60 match performance prior to facing the player of interest (surface-specific)\n",
    "#With this, we can obtain the \"expected\" performance over the last 60 matches for the player of interest, then can SOS adjust\n",
    "#that player's performance over their last 60 on the surface to reflect how much above or below an average schedule they faced (see calculations below)\n",
    "\n",
    "df_player2 = df_player2.iloc[::-1]\n",
    "\n",
    "df_player2['p_bp_convert%_SOS_1to10'] = df_player2.groupby(['p_id','t_surf'])['p_opp_bp_convert%_l60'].transform(lambda x: x.rolling(window=10, min_periods = 1).mean().round(2).shift(1))\n",
    "\n",
    "df_player2['p_bp_convert%_SOS_11to20'] = df_player2.groupby(['p_id','t_surf'])['p_opp_bp_convert%_l60'].transform(lambda x: x.rolling(window=10, min_periods = 3).mean().round(2).shift(11))\n",
    "df_player2['p_bp_convert%_SOS_11to20'] = df_player2['p_bp_convert%_SOS_11to20'].fillna(df_player2['p_bp_convert%_SOS_1to10'])\n",
    "\n",
    "df_player2['p_bp_convert%_SOS_21to30'] = df_player2.groupby(['p_id','t_surf'])['p_opp_bp_convert%_l60'].transform(lambda x: x.rolling(window=10, min_periods = 3).mean().round(2).shift(21))\n",
    "df_player2['p_bp_convert%_SOS_21to30'] = df_player2['p_bp_convert%_SOS_21to30'].fillna(df_player2['p_bp_convert%_SOS_11to20'])\n",
    "\n",
    "df_player2['p_bp_convert%_SOS_31to40'] = df_player2.groupby(['p_id','t_surf'])['p_opp_bp_convert%_l60'].transform(lambda x: x.rolling(window=10, min_periods = 3).mean().round(2).shift(31))\n",
    "df_player2['p_bp_convert%_SOS_31to40'] = df_player2['p_bp_convert%_SOS_31to40'].fillna(df_player2['p_bp_convert%_SOS_21to30'])\n",
    "\n",
    "df_player2['p_bp_convert%_SOS_41to50'] = df_player2.groupby(['p_id','t_surf'])['p_opp_bp_convert%_l60'].transform(lambda x: x.rolling(window=10, min_periods = 3).mean().round(2).shift(41))\n",
    "df_player2['p_bp_convert%_SOS_41to50'] = df_player2['p_bp_convert%_SOS_41to50'].fillna(df_player2['p_bp_convert%_SOS_31to40'])\n",
    "\n",
    "df_player2['p_bp_convert%_SOS_51to60'] = df_player2.groupby(['p_id','t_surf'])['p_opp_bp_convert%_l60'].transform(lambda x: x.rolling(window=10, min_periods = 3).mean().round(2).shift(51))\n",
    "df_player2['p_bp_convert%_SOS_51to60'] = df_player2['p_bp_convert%_SOS_51to60'].fillna(df_player2['p_bp_convert%_SOS_41to50'])\n",
    "\n",
    "#df_player2['p_bp_convert%_SOS_61to70'] = df_player2.groupby(['p_id','t_surf'])['p_opp_bp_convert%_l60'].transform(lambda x: x.rolling(window=10, min_periods = 3).mean().round(2).shift(61))\n",
    "#df_player2['p_bp_convert%_SOS_61to70'] = df_player2['p_bp_convert%_SOS_61to70'].fillna(df_player2['p_bp_convert%_SOS_51to60'])\n",
    "\n",
    "df_player2 = df_player2.iloc[::-1]"
   ]
  },
  {
   "cell_type": "code",
   "execution_count": 110,
   "id": "5d680a7c",
   "metadata": {},
   "outputs": [],
   "source": [
    "# Decay weights the SOS calculation at each match to be predicted on, and frames as expected BP SAVE% YIELD by player's opponents over the last 60 surface-specific matches (we will contrast directly to the player's ACTUAL performance over the last 60 prior to that match to be predicted on). \n",
    "\n",
    "df_player2[\"p_expected_opp_yield_bp_save%\"] = (100 - (((df_player2['p_bp_convert%_SOS_1to10'] * 14) + (df_player2['p_bp_convert%_SOS_11to20'] * 8) + (df_player2['p_bp_convert%_SOS_21to30'] * 5) \n",
    "+ (df_player2['p_bp_convert%_SOS_31to40'] * 3) + (df_player2['p_bp_convert%_SOS_41to50'] * 2) + (df_player2['p_bp_convert%_SOS_51to60'] * 1))/33)).round(2)\n",
    "\n",
    "# Drops transient columns\n",
    "df_player2.drop([\"p_bp_convert%_SOS_11to20\",\"p_bp_convert%_SOS_21to30\",\"p_bp_convert%_SOS_31to40\",\"p_bp_convert%_SOS_41to50\",\"p_bp_convert%_SOS_51to60\"],axis=1, inplace=True)"
   ]
  },
  {
   "cell_type": "code",
   "execution_count": 111,
   "id": "509e9593",
   "metadata": {},
   "outputs": [
    {
     "data": {
      "text/plain": [
       "(58.17481451870801, 60.76377712341694)"
      ]
     },
     "execution_count": 111,
     "metadata": {},
     "output_type": "execute_result"
    }
   ],
   "source": [
    "# Calculates mean opponent performance per surface. We will use these to factor player l60 performance based on opponent \n",
    "# l60 performance (surface-specific) prior to the match of interest relative to the surface-specific sample mean\n",
    "\n",
    "mean_clay_SOS7 = df_player2.loc[df_player2['t_surf'] == \"Clay\", 'p_opp_bp_convert%_l60'].mean()\n",
    "mean_clay_SOS7 = 100 - mean_clay_SOS7 #we want in terms of pct BREAK PTS SAVED the field ALLOWS on average\n",
    "mean_hard_SOS7 = df_player2.loc[df_player2['t_surf'] == \"Hard\", 'p_opp_bp_convert%_l60'].mean()\n",
    "mean_hard_SOS7 = 100 - mean_hard_SOS7 #we want in terms of pct BREAK PTS SAVED the field ALLOWS on average\n",
    "mean_clay_SOS7, mean_hard_SOS7"
   ]
  },
  {
   "cell_type": "code",
   "execution_count": 112,
   "id": "d03edad5",
   "metadata": {},
   "outputs": [],
   "source": [
    "# Puts together the above- factors the player's actual performance over the last 60 by schedule of opponents' aggregrate performance over THEIR l60 prior to when they faced the player.\n",
    "\n",
    "df_player2.loc[(df_player2[\"t_surf\"] == \"Clay\"), \"p_SOS_adj_bp_save%_l60\"] = ((df_player2[\"p_bp_save%_l60\"])*(mean_clay_SOS7/df_player2[\"p_expected_opp_yield_bp_save%\"])).round(2)\n",
    "                \n",
    "df_player2.loc[(df_player2[\"t_surf\"] == \"Hard\"), \"p_SOS_adj_bp_save%_l60\"] = ((df_player2[\"p_bp_save%_l60\"])*(mean_hard_SOS7/df_player2[\"p_expected_opp_yield_bp_save%\"])).round(2)\n",
    "\n",
    "df_player2[\"p_SOS_adj_bp_save%_l60\"].replace(np.inf, np.nan, inplace=True) #deals with a few infs in first handful of matches in sample where there is no SOS (divide by zero errors in the above)\n",
    "df_player2.loc[(df_player2[\"p_SOS_adj_bp_save%_l60\"] > 100), \"p_SOS_adj_bp_save%_l60\"] = df_player2[\"p_SOS_adj_bp_save%_l60\"].mean() #deals with a few spuriously high values when there's only one previous match (won't impact modeling at all, as these matches will be filtered)"
   ]
  },
  {
   "cell_type": "code",
   "execution_count": 113,
   "id": "04a71ce7",
   "metadata": {},
   "outputs": [],
   "source": [
    "# SOS adjustment for serve points% (OPPONENT BP SAVE% YIELD) for just the last 10 matches (recent performance)\n",
    "df_player2[\"p_expected_opp_yield_bp_save%_l10\"] = (100 - df_player2['p_bp_convert%_SOS_1to10'])\n",
    "\n",
    "# Calculates mean opponent performance per surface. We will use these to factor player l10 performance based on opponent \n",
    "# l10 performance (surface-specific) prior to the match of interest relative to the surface-specific sample mean\n",
    "mean_clay_SOS7 = df_player2.loc[df_player2['t_surf'] == \"Clay\", 'p_opp_bp_convert%_l10'].mean()\n",
    "mean_clay_SOS7 = 100 - mean_clay_SOS7 #we want in terms of pct pts the field ALLOWS on average\n",
    "mean_hard_SOS7 = df_player2.loc[df_player2['t_surf'] == \"Hard\", 'p_opp_bp_convert%_l10'].mean()\n",
    "mean_hard_SOS7 = 100 - mean_hard_SOS7 #we want in terms of pct pts the field ALLOWS on average\n",
    "mean_clay_SOS7, mean_hard_SOS7\n",
    "\n",
    "# Puts together the above- factors the player's actual performance over the last 10 by schedule of opponents' aggregrate performance over THEIR l10 prior to when they faced the player.\n",
    "# Adjustment proportional to opponents' deviation from field mean performs better than various boosted or blunted versions attempted \n",
    "df_player2.loc[(df_player2[\"t_surf\"] == \"Clay\"), \"p_SOS_adj_bp_save%_l10\"] = ((df_player2[\"p_bp_save%_l10\"])*(mean_clay_SOS7/df_player2[\"p_expected_opp_yield_bp_save%_l10\"])).round(2)          \n",
    "df_player2.loc[(df_player2[\"t_surf\"] == \"Hard\"), \"p_SOS_adj_bp_save%_l10\"] = ((df_player2[\"p_bp_save%_l10\"])*(mean_hard_SOS7/df_player2[\"p_expected_opp_yield_bp_save%_l10\"])).round(2)\n",
    "\n",
    "df_player2[\"p_SOS_adj_bp_save%_l10\"].replace(np.inf, np.nan, inplace=True) #deals with a few infs in first handful of matches in sample where there is no SOS (divide by zero errors in the above)\n",
    "df_player2.loc[(df_player2[\"p_SOS_adj_bp_save%_l10\"] > 100), \"p_SOS_adj_bp_save%_l10\"] = df_player2[\"p_SOS_adj_bp_save%_l10\"].mean() #deals with a few spuriously high values when there's only one previous match (won't impact modelling at all, as these matches will be filtered out)\n",
    "\n",
    "df_player2.drop([\"p_bp_convert%_SOS_1to10\"],axis=1, inplace=True)"
   ]
  },
  {
   "cell_type": "code",
   "execution_count": 114,
   "id": "31dc2432",
   "metadata": {},
   "outputs": [],
   "source": [
    "#Save to review\n",
    "#df_player2.to_csv('../data/df_player2g.csv', index=False)"
   ]
  },
  {
   "cell_type": "code",
   "execution_count": 115,
   "id": "751073ab",
   "metadata": {},
   "outputs": [
    {
     "name": "stdout",
     "output_type": "stream",
     "text": [
      "<class 'pandas.core.frame.DataFrame'>\n",
      "Int64Index: 55064 entries, 50515 to 35979\n",
      "Columns: 112 entries, t_id to p_SOS_adj_bp_save%_l10\n",
      "dtypes: float64(91), int64(11), object(10)\n",
      "memory usage: 50.0+ MB\n"
     ]
    }
   ],
   "source": [
    "df_player2.info()"
   ]
  },
  {
   "cell_type": "code",
   "execution_count": 116,
   "id": "c9b72ac7",
   "metadata": {},
   "outputs": [],
   "source": [
    "#Tidy up latest by-player iteration before converting back to by-match for calculation of within-match to be predicted on player differentials\n",
    "df_player3 = df_player2[[\"t_id\", \"t_date\", \"tour_wk\", \"t_name\", \"t_country\", \"t_surf\", \"t_indoor\", \"t_alt\", \"t_lvl\", \"t_draw_size\", \"t_rd_num\", \"m_num\", \"m_best_of\", \"m_outcome\", \"m_time(m)\", \"m_tot_pts\", \"p_id\", \"p_name\", \"p_H2H_w\", \"p_H2H_pts_won%\", \"p_rank\", \"p_rank_pts\", \"p_country\", \"p_ent\", \"p_hd\", \"p_ht\", \"p_age\", \"p_matches\", \"p_matches_surf\", \"p_pts_won%\", \"p_pts_won%_l60_decay\", \"p_pts_won%_l60_decay_IO\", \"p_pts_won%_l10\", \"p_SOS_adj_pts_won%_l60_decay\", \"p_SOS_adj_pts_won%_l60_decay_IO\", \"p_SOS_adj_pts_won%_l60_decay_IO_weighted\", \"p_SOS_adj_pts_won%_l10\", \"p_sv_pts_won%\", \"p_sv_pts_won%_l60_decay\", \"p_sv_pts_won%_l10\", \"p_SOS_adj_sv_pts_won%_l60_decay\", \"p_SOS_adj_sv_pts_won%_l10\", \"p_ret_pts_won%\", \"p_ret_pts_won%_l60_decay\", \"p_ret_pts_won%_l10\", \"p_SOS_adj_ret_pts_won%_l60_decay\", \"p_SOS_adj_ret_pts_won%_l10\", \"p_ace%\", \"p_ace%_l60_decay\", \"p_ace%_l10\", \"p_SOS_adj_ace%_l60_decay\", \"p_SOS_adj_ace%_l10\", \"p_aced%\", \"p_aced%_l60_decay\", \"p_aced%_l10\", \"p_SOS_adj_aced%_l60_decay\", \"p_SOS_adj_aced%_l10\", \"p_bp_save%\", \"p_bp_save%_l60\", \"p_bp_save%_l10\", \"p_SOS_adj_bp_save%_l60\", \"p_SOS_adj_bp_save%_l10\", \"p_bp_convert%\", \"p_bp_convert%_l60\", \"p_bp_convert%_l10\", \"p_SOS_adj_bp_convert%_l60\", \"p_SOS_adj_bp_convert%_l10\", \"p_pts_won%_std_l60_decay\", \"p_sv_pts_won%_std_l60_decay\", \"p_ret_pts_won%_std_l60_decay\", \"p_m_time_last\", \"p_tot_time_l6\", \"p_tot_time_l6_decay\", \"p_tot_pts_last\", \"p_tot_pts_l6\", \"p_tot_pts_l6_decay\", \"p_stamina_adj_fatigue_decay\", \"p_stamina_adj_fatigue\"]]"
   ]
  },
  {
   "cell_type": "code",
   "execution_count": 117,
   "id": "7d37265a",
   "metadata": {},
   "outputs": [
    {
     "name": "stdout",
     "output_type": "stream",
     "text": [
      "<class 'pandas.core.frame.DataFrame'>\n",
      "Int64Index: 55064 entries, 50515 to 35979\n",
      "Data columns (total 78 columns):\n",
      " #   Column                                    Non-Null Count  Dtype  \n",
      "---  ------                                    --------------  -----  \n",
      " 0   t_id                                      55064 non-null  object \n",
      " 1   t_date                                    55064 non-null  int64  \n",
      " 2   tour_wk                                   55064 non-null  object \n",
      " 3   t_name                                    55064 non-null  object \n",
      " 4   t_country                                 55064 non-null  object \n",
      " 5   t_surf                                    55064 non-null  object \n",
      " 6   t_indoor                                  55064 non-null  int64  \n",
      " 7   t_alt                                     55064 non-null  int64  \n",
      " 8   t_lvl                                     55064 non-null  int64  \n",
      " 9   t_draw_size                               55064 non-null  int64  \n",
      " 10  t_rd_num                                  55064 non-null  int64  \n",
      " 11  m_num                                     55064 non-null  int64  \n",
      " 12  m_best_of                                 55064 non-null  int64  \n",
      " 13  m_outcome                                 55064 non-null  int64  \n",
      " 14  m_time(m)                                 55064 non-null  float64\n",
      " 15  m_tot_pts                                 55064 non-null  float64\n",
      " 16  p_id                                      55064 non-null  int64  \n",
      " 17  p_name                                    55064 non-null  object \n",
      " 18  p_H2H_w                                   55064 non-null  float64\n",
      " 19  p_H2H_pts_won%                            18394 non-null  float64\n",
      " 20  p_rank                                    54989 non-null  float64\n",
      " 21  p_rank_pts                                54989 non-null  float64\n",
      " 22  p_country                                 55064 non-null  object \n",
      " 23  p_ent                                     55064 non-null  float64\n",
      " 24  p_hd                                      55064 non-null  object \n",
      " 25  p_ht                                      54976 non-null  float64\n",
      " 26  p_age                                     55064 non-null  float64\n",
      " 27  p_matches                                 55064 non-null  float64\n",
      " 28  p_matches_surf                            55064 non-null  float64\n",
      " 29  p_pts_won%                                55064 non-null  float64\n",
      " 30  p_pts_won%_l60_decay                      53741 non-null  float64\n",
      " 31  p_pts_won%_l60_decay_IO                   53168 non-null  float64\n",
      " 32  p_pts_won%_l10                            53741 non-null  float64\n",
      " 33  p_SOS_adj_pts_won%_l60_decay              53452 non-null  float64\n",
      " 34  p_SOS_adj_pts_won%_l60_decay_IO           52679 non-null  float64\n",
      " 35  p_SOS_adj_pts_won%_l60_decay_IO_weighted  52679 non-null  float64\n",
      " 36  p_SOS_adj_pts_won%_l10                    53452 non-null  float64\n",
      " 37  p_sv_pts_won%                             55064 non-null  float64\n",
      " 38  p_sv_pts_won%_l60_decay                   53741 non-null  float64\n",
      " 39  p_sv_pts_won%_l10                         53741 non-null  float64\n",
      " 40  p_SOS_adj_sv_pts_won%_l60_decay           53452 non-null  float64\n",
      " 41  p_SOS_adj_sv_pts_won%_l10                 53452 non-null  float64\n",
      " 42  p_ret_pts_won%                            55064 non-null  float64\n",
      " 43  p_ret_pts_won%_l60_decay                  53741 non-null  float64\n",
      " 44  p_ret_pts_won%_l10                        53741 non-null  float64\n",
      " 45  p_SOS_adj_ret_pts_won%_l60_decay          53452 non-null  float64\n",
      " 46  p_SOS_adj_ret_pts_won%_l10                53452 non-null  float64\n",
      " 47  p_ace%                                    55064 non-null  float64\n",
      " 48  p_ace%_l60_decay                          53741 non-null  float64\n",
      " 49  p_ace%_l10                                53741 non-null  float64\n",
      " 50  p_SOS_adj_ace%_l60_decay                  53431 non-null  float64\n",
      " 51  p_SOS_adj_ace%_l10                        53431 non-null  float64\n",
      " 52  p_aced%                                   55064 non-null  float64\n",
      " 53  p_aced%_l60_decay                         53741 non-null  float64\n",
      " 54  p_aced%_l10                               53741 non-null  float64\n",
      " 55  p_SOS_adj_aced%_l60_decay                 53438 non-null  float64\n",
      " 56  p_SOS_adj_aced%_l10                       53438 non-null  float64\n",
      " 57  p_bp_save%                                55064 non-null  float64\n",
      " 58  p_bp_save%_l60                            53741 non-null  float64\n",
      " 59  p_bp_save%_l10                            53741 non-null  float64\n",
      " 60  p_SOS_adj_bp_save%_l60                    53441 non-null  float64\n",
      " 61  p_SOS_adj_bp_save%_l10                    53441 non-null  float64\n",
      " 62  p_bp_convert%                             55064 non-null  float64\n",
      " 63  p_bp_convert%_l60                         53741 non-null  float64\n",
      " 64  p_bp_convert%_l10                         53741 non-null  float64\n",
      " 65  p_SOS_adj_bp_convert%_l60                 53422 non-null  float64\n",
      " 66  p_SOS_adj_bp_convert%_l10                 53422 non-null  float64\n",
      " 67  p_pts_won%_std_l60_decay                  52677 non-null  float64\n",
      " 68  p_sv_pts_won%_std_l60_decay               52677 non-null  float64\n",
      " 69  p_ret_pts_won%_std_l60_decay              52677 non-null  float64\n",
      " 70  p_m_time_last                             55064 non-null  float64\n",
      " 71  p_tot_time_l6                             55064 non-null  float64\n",
      " 72  p_tot_time_l6_decay                       55064 non-null  float64\n",
      " 73  p_tot_pts_last                            55064 non-null  float64\n",
      " 74  p_tot_pts_l6                              55064 non-null  float64\n",
      " 75  p_tot_pts_l6_decay                        55064 non-null  float64\n",
      " 76  p_stamina_adj_fatigue_decay               55064 non-null  float64\n",
      " 77  p_stamina_adj_fatigue                     55064 non-null  float64\n",
      "dtypes: float64(60), int64(10), object(8)\n",
      "memory usage: 35.7+ MB\n"
     ]
    }
   ],
   "source": [
    "df_player3.info()"
   ]
  },
  {
   "cell_type": "code",
   "execution_count": 118,
   "id": "2349802b",
   "metadata": {},
   "outputs": [],
   "source": [
    "#Save prior to conversion back to by-match format for computation of player differential features per match.\n",
    "#df_player3.to_csv('../data/df_player3.csv', index=False)"
   ]
  },
  {
   "cell_type": "markdown",
   "id": "bb986aeb",
   "metadata": {},
   "source": [
    "### Player vs Player Differentials in Predictive Features By Match"
   ]
  },
  {
   "cell_type": "markdown",
   "id": "abf1087f",
   "metadata": {},
   "source": [
    "Now will convert dataframe back to by-match format to compute player differentials for predictive features aligned to each match to predict on. A few additional by-player features will be computed in the process as well. After these features are computed, the dataframe will be converted back to a by-player format for output to EDA."
   ]
  },
  {
   "cell_type": "code",
   "execution_count": 119,
   "id": "5fe6f2d6",
   "metadata": {},
   "outputs": [],
   "source": [
    "df_winners3 = df_player3[df_player3['m_outcome'] == 1]\n",
    "df_losers3 = df_player3[df_player3['m_outcome'] == 0]\n",
    "df_match3 = df_winners3.merge(df_losers3, on='m_num', how = 'left')"
   ]
  },
  {
   "cell_type": "code",
   "execution_count": 120,
   "id": "8524c238",
   "metadata": {},
   "outputs": [],
   "source": [
    "df_match3 = df_match3.drop([\"t_id_y\", \"t_date_y\", \"tour_wk_y\", \"t_name_y\", \"t_country_y\", \"t_surf_y\", \"t_indoor_y\", \"t_alt_y\", \"t_lvl_y\", \"t_draw_size_y\", \"t_rd_num_y\", \"m_best_of_y\", \"m_time(m)_y\", \"m_tot_pts_y\"], axis=1)\n",
    "df_match3.rename(columns = {'t_id_x':'t_id', 't_date_x':'t_date', 'tour_wk_x':'tour_wk', 't_name_x':'t_name','t_country_x':'t_country','t_surf_x':'t_surf','t_indoor_x':'t_indoor', 't_alt_x':'t_alt','t_lvl_x':'t_lvl','t_draw_size_x':'t_draw_size', 't_rd_num_x':'t_rd_num', 'm_best_of_x':'m_best_of', 'm_time(m)_x':'m_time(m)','m_tot_pts_x':'m_tot_pts'}, inplace=True)"
   ]
  },
  {
   "cell_type": "code",
   "execution_count": 121,
   "id": "4b0d69c7",
   "metadata": {},
   "outputs": [],
   "source": [
    "#df_match3.to_csv('../data/df_match3.csv', index=False)"
   ]
  },
  {
   "cell_type": "markdown",
   "id": "8315112b",
   "metadata": {},
   "source": [
    "#### Rankings and Entry Type-Related Player Differential Predictive Features By Match"
   ]
  },
  {
   "cell_type": "code",
   "execution_count": 122,
   "id": "52b61ba0",
   "metadata": {},
   "outputs": [],
   "source": [
    "# ATP ranking differential between winner (_x) vs loser (_y) (and loser vs winner) (to be consistent with points diff, positive number = better ranking than opp)\n",
    "max_winners = df_match3['p_rank_x'].max()\n",
    "max_losers = df_match3['p_rank_y'].max()\n",
    "max_sample = max(max_winners, max_losers)\n",
    "#max_sample\n",
    "\n",
    "df_match3['p_rank_x'] = df_match3['p_rank_x'].fillna(max_sample + 1) # if player has no ranking, assign sample max + 1\n",
    "df_match3['p_rank_y'] = df_match3['p_rank_y'].fillna(max_sample + 1) # if player has no ranking, assign sample max + 1\n",
    "df_match3[\"p_rank_diff_x\"] = -(df_match3[\"p_rank_x\"] - df_match3[\"p_rank_y\"])\n",
    "df_match3[\"p_rank_diff_y\"] = -df_match3[\"p_rank_diff_x\"]"
   ]
  },
  {
   "cell_type": "code",
   "execution_count": 123,
   "id": "9c10b10e",
   "metadata": {},
   "outputs": [],
   "source": [
    "# Generate log of ranking for both players and then calculate the difference (assumption that one ranking place separates players more as you get closer to the top of the rankings)\n",
    "df_match3[\"p_log_rank_x\"] = np.log(df_match3[\"p_rank_x\"]).round(2)\n",
    "df_match3[\"p_log_rank_y\"] = np.log(df_match3[\"p_rank_y\"]).round(2)\n",
    "df_match3[\"p_log_rank_diff_x\"] = -(df_match3[\"p_log_rank_x\"] - df_match3[\"p_log_rank_y\"])\n",
    "df_match3[\"p_log_rank_diff_y\"] = -(df_match3[\"p_log_rank_diff_x\"])"
   ]
  },
  {
   "cell_type": "code",
   "execution_count": 124,
   "id": "fc144f1d",
   "metadata": {},
   "outputs": [],
   "source": [
    "# ATP ranking points differential between winner (_x) and loser (_y) (and loser vs winner)\n",
    "df_match3['p_rank_pts_x'] = df_match3['p_rank_pts_x'].fillna(0) # if player has no pts, assign 0\n",
    "df_match3['p_rank_pts_y'] = df_match3['p_rank_pts_y'].fillna(0) # if player has no pts, assign 0\n",
    "df_match3[\"p_rank_pts_diff_x\"] = df_match3[\"p_rank_pts_x\"] - df_match3[\"p_rank_pts_y\"]\n",
    "df_match3[\"p_rank_pts_diff_y\"] = -df_match3[\"p_rank_pts_diff_x\"]"
   ]
  },
  {
   "cell_type": "code",
   "execution_count": 125,
   "id": "a9b87b42",
   "metadata": {},
   "outputs": [],
   "source": [
    "# Entry Type Differential (entry type was encoded in first stage as 3=Ranking-based entry; 2=Qualifier; 1.5=Lucky Loser; 1=Special Entry/non-rankings based entry)\n",
    "df_match3[\"p_ent_diff_x\"] = df_match3[\"p_ent_x\"] - df_match3[\"p_ent_y\"]\n",
    "df_match3[\"p_ent_diff_y\"] = -df_match3[\"p_ent_diff_x\"]"
   ]
  },
  {
   "cell_type": "markdown",
   "id": "4a770854",
   "metadata": {},
   "source": [
    "#### Basic Player Characteristics Differential Predictive Features By Match"
   ]
  },
  {
   "cell_type": "code",
   "execution_count": 126,
   "id": "63325aec",
   "metadata": {},
   "outputs": [],
   "source": [
    "# Height differential between winner (_x) vs loser (_y) (in cm) (and loser vs winner)\n",
    "df_match3[\"p_ht_diff_x\"] = (df_match3[\"p_ht_x\"] - df_match3[\"p_ht_y\"])\n",
    "df_match3[\"p_ht_diff_y\"] = -df_match3[\"p_ht_diff_x\"]"
   ]
  },
  {
   "cell_type": "code",
   "execution_count": 127,
   "id": "04487f41",
   "metadata": {},
   "outputs": [],
   "source": [
    "# Age differential between winner (_x) vs loser (_y) (yrs) (and loser vs winner)\n",
    "df_match3[\"p_age_diff_x\"] = (df_match3[\"p_age_x\"] - df_match3[\"p_age_y\"])\n",
    "df_match3[\"p_age_diff_y\"] = -df_match3[\"p_age_diff_x\"]"
   ]
  },
  {
   "cell_type": "code",
   "execution_count": 128,
   "id": "22452049",
   "metadata": {},
   "outputs": [],
   "source": [
    "# Marker column for if winner was Left-Handed and loser was Right-Handed (and vice versa) (1=T, 0=F)\n",
    "df_match3['p_L_opp_R_x'] = np.where((df_match3['p_hd_x'] == 'L') & (df_match3['p_hd_y'] == 'R'), 1, 0)\n",
    "df_match3['p_L_opp_R_y'] = np.where((df_match3['p_hd_x'] == 'R') & (df_match3['p_hd_y'] == 'L'), 1, 0)\n",
    "\n",
    "# a small number of low-match # players in the sample are unknown (U) for handed, even after investigation on ATP site."
   ]
  },
  {
   "cell_type": "code",
   "execution_count": 129,
   "id": "d2d4d70a",
   "metadata": {},
   "outputs": [],
   "source": [
    "# Convert player handedness itself to numeric encoding\n",
    "df_match3.loc[(df_match3[\"p_hd_x\"] == \"L\"), \"p_hd_x\"] = 2 #Lefties converts to 2\n",
    "df_match3.loc[(df_match3[\"p_hd_y\"] == \"L\"), \"p_hd_y\"] = 2 #Lefties converts to 2\n",
    "df_match3.loc[(df_match3[\"p_hd_x\"] == \"R\"), \"p_hd_x\"] = 1 #Righties converts to 1\n",
    "df_match3.loc[(df_match3[\"p_hd_y\"] == \"R\"), \"p_hd_y\"] = 1 #Righties converts to 1\n",
    "df_match3.loc[(df_match3[\"p_hd_x\"] == \"U\"), \"p_hd_x\"] = 1 #Unknowns convert to 0\n",
    "df_match3.loc[(df_match3[\"p_hd_y\"] == \"U\"), \"p_hd_y\"] = 1 #Unknowns convert to 0\n",
    "\n",
    "df_match3[\"p_hd_x\"] = pd.to_numeric(df_match3[\"p_hd_x\"])\n",
    "df_match3[\"p_hd_y\"] = pd.to_numeric(df_match3[\"p_hd_y\"])"
   ]
  },
  {
   "cell_type": "code",
   "execution_count": 130,
   "id": "7a00a1fd",
   "metadata": {},
   "outputs": [],
   "source": [
    "# Marker column for if winner was from the country where the tourney was held, and opponent was not (and vice versa) (1=T, 0=F)\n",
    "df_match3['p_HCA_opp_N_x'] = np.where((df_match3['t_country'] == df_match3['p_country_x']) & (df_match3['t_country'] != df_match3['p_country_y']), 1, 0)\n",
    "df_match3['p_HCA_opp_N_y'] = np.where((df_match3['t_country'] != df_match3['p_country_x']) & (df_match3['t_country'] == df_match3['p_country_y']), 1, 0)"
   ]
  },
  {
   "cell_type": "markdown",
   "id": "34c7caee",
   "metadata": {},
   "source": [
    "#### Retrospective Player Performance Differential Predictive Features By Match"
   ]
  },
  {
   "cell_type": "code",
   "execution_count": 131,
   "id": "54fd06c6",
   "metadata": {},
   "outputs": [],
   "source": [
    "# % total points won in previous 60 matches (surface-specific; decay-weighted) differential between winner (_x) and loser (_y)\n",
    "#This is the NON-Strength of Schedule Adjusted Version\n",
    "\n",
    "df_match3[\"p_pts_won%_l60_decay_diff_x\"] = df_match3[\"p_pts_won%_l60_decay_x\"] - df_match3[\"p_pts_won%_l60_decay_y\"]\n",
    "df_match3[\"p_pts_won%_l60_decay_diff_y\"] = -(df_match3[\"p_pts_won%_l60_decay_diff_x\"])"
   ]
  },
  {
   "cell_type": "code",
   "execution_count": 132,
   "id": "f84bbd24",
   "metadata": {},
   "outputs": [],
   "source": [
    "# % total points won in previous 60 matches (surface-specific; decay-weighted) differential between winner (_x) and loser (_y)\n",
    "#This is the NON-Strength of Schedule Adjusted Version\n",
    "# This version respects INDOOR vs OUTDOOR SEPARATION\n",
    "\n",
    "df_match3[\"p_pts_won%_l60_decay_IO_diff_x\"] = df_match3[\"p_pts_won%_l60_decay_IO_x\"] - df_match3[\"p_pts_won%_l60_decay_IO_y\"]\n",
    "df_match3[\"p_pts_won%_l60_decay_IO_diff_y\"] = -(df_match3[\"p_pts_won%_l60_decay_IO_diff_x\"])"
   ]
  },
  {
   "cell_type": "code",
   "execution_count": 133,
   "id": "4794c30b",
   "metadata": {},
   "outputs": [],
   "source": [
    "# % total points won in previous 60 matches (surface-specific; decay-weighted) differential between winner (_x) and loser (_y)\n",
    "#This is the Strength of Schedule Adjusted Version\n",
    "\n",
    "df_match3[\"p_SOS_adj_pts_won%_l60_decay_diff_x\"] = df_match3[\"p_SOS_adj_pts_won%_l60_decay_x\"] - df_match3[\"p_SOS_adj_pts_won%_l60_decay_y\"]\n",
    "df_match3[\"p_SOS_adj_pts_won%_l60_decay_diff_y\"] = -(df_match3[\"p_SOS_adj_pts_won%_l60_decay_diff_x\"])"
   ]
  },
  {
   "cell_type": "code",
   "execution_count": 134,
   "id": "0b304079",
   "metadata": {},
   "outputs": [],
   "source": [
    "# % total points won in previous 60 matches (surface-specific; decay-weighted) differential between winner (_x) and loser (_y)\n",
    "#This is the Strength of Schedule Adjusted Version\n",
    "# This version respects INDOOR vs OUTDOOR SEPARATION\n",
    "\n",
    "df_match3[\"p_SOS_adj_pts_won%_l60_decay_IO_diff_x\"] = df_match3[\"p_SOS_adj_pts_won%_l60_decay_IO_x\"] - df_match3[\"p_SOS_adj_pts_won%_l60_decay_IO_y\"]\n",
    "df_match3[\"p_SOS_adj_pts_won%_l60_decay_IO_diff_y\"] = -(df_match3[\"p_SOS_adj_pts_won%_l60_decay_IO_diff_x\"])"
   ]
  },
  {
   "cell_type": "code",
   "execution_count": 135,
   "id": "b5c38f85",
   "metadata": {},
   "outputs": [],
   "source": [
    "# % total points won in previous 60 matches (surface-specific; decay-weighted) differential between winner (_x) and loser (_y)\n",
    "#This is a version of the standard SOS-Adjusted l60 WEIGHTED BY INDOOR/OUTDOOR DISTINCTION\n",
    "\n",
    "df_match3[\"p_SOS_adj_pts_won%_l60_decay_IO_weighted_diff_x\"] = df_match3[\"p_SOS_adj_pts_won%_l60_decay_IO_weighted_x\"] - df_match3[\"p_SOS_adj_pts_won%_l60_decay_IO_weighted_y\"]\n",
    "df_match3[\"p_SOS_adj_pts_won%_l60_decay_IO_weighted_diff_y\"] = -(df_match3[\"p_SOS_adj_pts_won%_l60_decay_IO_weighted_diff_x\"])"
   ]
  },
  {
   "cell_type": "code",
   "execution_count": 136,
   "id": "514d0588",
   "metadata": {},
   "outputs": [],
   "source": [
    "# % total points won in previous 10 matches (surface-specific; NON-decay-weighted) differential between winner (_x) and loser (_y)\n",
    "#This is the NON-Strength of Schedule Adjusted Version\n",
    "\n",
    "df_match3[\"p_pts_won%_l10_diff_x\"] = df_match3[\"p_pts_won%_l10_x\"] - df_match3[\"p_pts_won%_l10_y\"]\n",
    "df_match3[\"p_pts_won%_l10_diff_y\"] = -(df_match3[\"p_pts_won%_l10_diff_x\"])"
   ]
  },
  {
   "cell_type": "code",
   "execution_count": 137,
   "id": "c1d532e1",
   "metadata": {},
   "outputs": [],
   "source": [
    "# % total points won in previous 10 matches (surface-specific; NON-decay-weighted) differential between winner (_x) and loser (_y)\n",
    "#This is the Strength of Schedule Adjusted Version\n",
    "df_match3[\"p_SOS_adj_pts_won%_l10_diff_x\"] = \"\"\n",
    "df_match3[\"p_SOS_adj_pts_won%_l10_diff_y\"] = \"\"\n",
    "\n",
    "df_match3[\"p_SOS_adj_pts_won%_l10_diff_x\"] = df_match3[\"p_SOS_adj_pts_won%_l10_x\"] - df_match3[\"p_SOS_adj_pts_won%_l10_y\"]\n",
    "df_match3[\"p_SOS_adj_pts_won%_l10_diff_y\"] = -(df_match3[\"p_SOS_adj_pts_won%_l10_diff_x\"])"
   ]
  },
  {
   "cell_type": "code",
   "execution_count": 138,
   "id": "960e6327",
   "metadata": {},
   "outputs": [],
   "source": [
    "# \"OFFENSE VS OFFENSE\": % SERVE points won in previous 60 matches (surface-specific; decay-weighted) differential between winner (_x) and loser (_y)\n",
    "#This is the NON-Strength of Schedule Adjusted Version\n",
    "\n",
    "df_match3[\"p_sv_pts_won%_l60_decay_diff_x\"] = df_match3[\"p_sv_pts_won%_l60_decay_x\"] - df_match3[\"p_sv_pts_won%_l60_decay_y\"]\n",
    "df_match3[\"p_sv_pts_won%_l60_decay_diff_y\"] = -(df_match3[\"p_sv_pts_won%_l60_decay_diff_x\"])"
   ]
  },
  {
   "cell_type": "code",
   "execution_count": 139,
   "id": "d0ed2735",
   "metadata": {},
   "outputs": [],
   "source": [
    "# \"OFFENSE VS OFFENSE\": % SERVE points won in previous 60 matches (surface-specific; decay-weighted) differential between winner (_x) and loser (_y)\n",
    "#This is the Strength of Schedule Adjusted Version\n",
    "\n",
    "df_match3[\"p_SOS_adj_sv_pts_won%_l60_decay_diff_x\"] = df_match3[\"p_SOS_adj_sv_pts_won%_l60_decay_x\"] - df_match3[\"p_SOS_adj_sv_pts_won%_l60_decay_y\"]\n",
    "df_match3[\"p_SOS_adj_sv_pts_won%_l60_decay_diff_y\"] = -(df_match3[\"p_SOS_adj_sv_pts_won%_l60_decay_diff_x\"])"
   ]
  },
  {
   "cell_type": "code",
   "execution_count": 140,
   "id": "2ba4fcce",
   "metadata": {},
   "outputs": [],
   "source": [
    "# \"OFFENSE VS OFFENSE\": % SERVE points won in previous 10 matches (surface-specific; NON-decay-weighted) differential between winner (_x) and loser (_y)\n",
    "#This is the NON-Strength of Schedule Adjusted Version\n",
    "\n",
    "df_match3[\"p_sv_pts_won%_l10_diff_x\"] = df_match3[\"p_sv_pts_won%_l10_x\"] - df_match3[\"p_sv_pts_won%_l10_y\"]\n",
    "df_match3[\"p_sv_pts_won%_l10_diff_y\"] = -(df_match3[\"p_sv_pts_won%_l10_diff_x\"])"
   ]
  },
  {
   "cell_type": "code",
   "execution_count": 141,
   "id": "e659baa1",
   "metadata": {},
   "outputs": [],
   "source": [
    "# \"OFFENSE VS OFFENSE\": % SERVE points won in previous 10 matches (surface-specific; NON-decay-weighted) differential between winner (_x) and loser (_y)\n",
    "#This is the Strength of Schedule Adjusted Version\n",
    "\n",
    "df_match3[\"p_SOS_adj_sv_pts_won%_l10_diff_x\"] = df_match3[\"p_SOS_adj_sv_pts_won%_l10_x\"] - df_match3[\"p_SOS_adj_sv_pts_won%_l10_y\"]\n",
    "df_match3[\"p_SOS_adj_sv_pts_won%_l10_diff_y\"] = -(df_match3[\"p_SOS_adj_sv_pts_won%_l10_diff_x\"])"
   ]
  },
  {
   "cell_type": "code",
   "execution_count": 142,
   "id": "ff1796c6",
   "metadata": {},
   "outputs": [],
   "source": [
    "# \"DEFENSE VS DEFENSE\": % RETURN points won in previous 60 matches (surface-specific; decay-weighted) differential between winner (_x) and loser (_y)\n",
    "#This is the NON-Strength of Schedule Adjusted Version\n",
    "\n",
    "df_match3[\"p_ret_pts_won%_l60_decay_diff_x\"] = df_match3[\"p_ret_pts_won%_l60_decay_x\"] - df_match3[\"p_ret_pts_won%_l60_decay_y\"]\n",
    "df_match3[\"p_ret_pts_won%_l60_decay_diff_y\"] = -(df_match3[\"p_ret_pts_won%_l60_decay_diff_x\"])"
   ]
  },
  {
   "cell_type": "code",
   "execution_count": 143,
   "id": "d0c79da5",
   "metadata": {},
   "outputs": [],
   "source": [
    "# \"DEFENSE VS DEFENSE\": % RETURN points won in previous 60 matches (surface-specific; decay-weighted) differential between winner (_x) and loser (_y)\n",
    "#This is the Strength of Schedule Adjusted Version\n",
    "\n",
    "df_match3[\"p_SOS_adj_ret_pts_won%_l60_decay_diff_x\"] = df_match3[\"p_SOS_adj_ret_pts_won%_l60_decay_x\"] - df_match3[\"p_SOS_adj_ret_pts_won%_l60_decay_y\"]\n",
    "df_match3[\"p_SOS_adj_ret_pts_won%_l60_decay_diff_y\"] = -(df_match3[\"p_SOS_adj_ret_pts_won%_l60_decay_diff_x\"])"
   ]
  },
  {
   "cell_type": "code",
   "execution_count": 144,
   "id": "5e7c2661",
   "metadata": {},
   "outputs": [],
   "source": [
    "# \"DEFENSE VS DEFENSE\": % RETURN points won in previous 10 matches (surface-specific; NON-decay-weighted) differential between winner (_x) and loser (_y)\n",
    "#This is the NON-Strength of Schedule Adjusted Version\n",
    "\n",
    "df_match3[\"p_ret_pts_won%_l10_diff_x\"] = df_match3[\"p_ret_pts_won%_l10_x\"] - df_match3[\"p_ret_pts_won%_l10_y\"]\n",
    "df_match3[\"p_ret_pts_won%_l10_diff_y\"] = -(df_match3[\"p_ret_pts_won%_l10_diff_x\"])"
   ]
  },
  {
   "cell_type": "code",
   "execution_count": 145,
   "id": "99f445ce",
   "metadata": {},
   "outputs": [],
   "source": [
    "# \"DEFENSE VS DEFENSE\": % RETURN points won in previous 10 matches (surface-specific; NON-decay-weighted) differential between winner (_x) and loser (_y)\n",
    "#This is the Strength of Schedule Adjusted Version\n",
    "\n",
    "df_match3[\"p_SOS_adj_ret_pts_won%_l10_diff_x\"] = df_match3[\"p_SOS_adj_ret_pts_won%_l10_x\"] - df_match3[\"p_SOS_adj_ret_pts_won%_l10_y\"]\n",
    "df_match3[\"p_SOS_adj_ret_pts_won%_l10_diff_y\"] = -(df_match3[\"p_SOS_adj_ret_pts_won%_l10_diff_x\"])"
   ]
  },
  {
   "cell_type": "code",
   "execution_count": 146,
   "id": "3122dab8",
   "metadata": {},
   "outputs": [],
   "source": [
    "# \"OFFENSE VS DEFENSE\": % SERVE points won VS OPPONENT % RETURN points won in previous 60 matches (surface-specific; decay-weighted) differential between winner (_x) and loser (_y)\n",
    "#This is the NON-Strength of Schedule Adjusted Version\n",
    "\n",
    "df_match3[\"p_sv_opp_ret_pts_won%_l60_decay_diff_x\"] = df_match3[\"p_sv_pts_won%_l60_decay_x\"] - df_match3[\"p_ret_pts_won%_l60_decay_y\"]\n",
    "df_match3[\"p_sv_opp_ret_pts_won%_l60_decay_diff_y\"] = df_match3[\"p_sv_pts_won%_l60_decay_y\"] - df_match3[\"p_ret_pts_won%_l60_decay_x\"]"
   ]
  },
  {
   "cell_type": "code",
   "execution_count": 147,
   "id": "18fe0e2e",
   "metadata": {},
   "outputs": [],
   "source": [
    "# \"OFFENSE VS DEFENSE\": % SERVE points won VS OPPONENT % RETURN points won in previous 60 matches (surface-specific; decay-weighted) differential between winner (_x) and loser (_y)\n",
    "#This is the Strength of Schedule Adjusted Version\n",
    "\n",
    "df_match3[\"p_SOS_adj_sv_opp_ret_pts_won%_l60_decay_diff_x\"] = df_match3[\"p_SOS_adj_sv_pts_won%_l60_decay_x\"] - df_match3[\"p_SOS_adj_ret_pts_won%_l60_decay_y\"]\n",
    "df_match3[\"p_SOS_adj_sv_opp_ret_pts_won%_l60_decay_diff_y\"] = df_match3[\"p_SOS_adj_sv_pts_won%_l60_decay_y\"] - df_match3[\"p_SOS_adj_ret_pts_won%_l60_decay_x\"]"
   ]
  },
  {
   "cell_type": "code",
   "execution_count": 148,
   "id": "5e33e4d2",
   "metadata": {},
   "outputs": [],
   "source": [
    "# \"OFFENSE VS DEFENSE\": % SERVE points won VS OPPONENT % RETURN points won in previous 10 matches (surface-specific; NON-decay-weighted) differential between winner (_x) and loser (_y)\n",
    "#This is the NON-Strength of Schedule Adjusted Version\n",
    "\n",
    "df_match3[\"p_sv_opp_ret_pts_won%_l10_diff_x\"] = df_match3[\"p_sv_pts_won%_l10_x\"] - df_match3[\"p_ret_pts_won%_l10_y\"]\n",
    "df_match3[\"p_sv_opp_ret_pts_won%_l10_diff_y\"] = df_match3[\"p_sv_pts_won%_l10_y\"] - df_match3[\"p_ret_pts_won%_l10_x\"]"
   ]
  },
  {
   "cell_type": "code",
   "execution_count": 149,
   "id": "eb190d2a",
   "metadata": {},
   "outputs": [],
   "source": [
    "# \"OFFENSE VS DEFENSE\": % SERVE points won VS OPPONENT % RETURN points won in previous 10 matches (surface-specific; NON-decay-weighted) differential between winner (_x) and loser (_y)\n",
    "#This is the Strength of Schedule Adjusted Version\n",
    "\n",
    "df_match3[\"p_SOS_adj_sv_opp_ret_pts_won%_l10_diff_x\"] = df_match3[\"p_SOS_adj_sv_pts_won%_l10_x\"] - df_match3[\"p_SOS_adj_ret_pts_won%_l10_y\"]\n",
    "df_match3[\"p_SOS_adj_sv_opp_ret_pts_won%_l10_diff_y\"] = df_match3[\"p_SOS_adj_sv_pts_won%_l10_y\"] - df_match3[\"p_SOS_adj_ret_pts_won%_l10_x\"]"
   ]
  },
  {
   "cell_type": "code",
   "execution_count": 150,
   "id": "b7d9b056",
   "metadata": {},
   "outputs": [],
   "source": [
    "# \"DEFENSE VS OFFENSE\": % RETURN points won VS OPPONENT % SERVE points won in previous 60 matches (surface-specific; decay-weighted) differential between winner (_x) and loser (_y)\n",
    "#This is the NON-Strength of Schedule Adjusted Version\n",
    "\n",
    "df_match3[\"p_ret_opp_sv_pts_won%_l60_decay_diff_x\"] = df_match3[\"p_ret_pts_won%_l60_decay_x\"] - df_match3[\"p_sv_pts_won%_l60_decay_y\"]\n",
    "df_match3[\"p_ret_opp_sv_pts_won%_l60_decay_diff_y\"] = df_match3[\"p_ret_pts_won%_l60_decay_y\"] - df_match3[\"p_sv_pts_won%_l60_decay_x\"]"
   ]
  },
  {
   "cell_type": "code",
   "execution_count": 151,
   "id": "dc3e8d66",
   "metadata": {},
   "outputs": [],
   "source": [
    "# \"DEFENSE VS OFFENSE\": % RETURN points won VS OPPONENT % SERVE points won in previous 60 matches (surface-specific; decay-weighted) differential between winner (_x) and loser (_y)\n",
    "#This is the Strength of Schedule Adjusted Version\n",
    "\n",
    "df_match3[\"p_SOS_adj_ret_opp_sv_pts_won%_l60_decay_diff_x\"] = df_match3[\"p_SOS_adj_ret_pts_won%_l60_decay_x\"] - df_match3[\"p_SOS_adj_sv_pts_won%_l60_decay_y\"]\n",
    "df_match3[\"p_SOS_adj_ret_opp_sv_pts_won%_l60_decay_diff_y\"] = df_match3[\"p_SOS_adj_ret_pts_won%_l60_decay_y\"] - df_match3[\"p_SOS_adj_sv_pts_won%_l60_decay_x\"]"
   ]
  },
  {
   "cell_type": "code",
   "execution_count": 152,
   "id": "87019121",
   "metadata": {},
   "outputs": [],
   "source": [
    "# \"DEFENSE VS OFFENSE\": % RETURN points won VS OPPONENT % SERVE points won in previous 10 matches (surface-specific; NON-decay-weighted) differential between winner (_x) and loser (_y)\n",
    "#This is the NON-Strength of Schedule Adjusted Version\n",
    "\n",
    "df_match3[\"p_ret_opp_sv_pts_won%_l10_diff_x\"] = df_match3[\"p_ret_pts_won%_l10_x\"] - df_match3[\"p_sv_pts_won%_l10_y\"]\n",
    "df_match3[\"p_ret_opp_sv_pts_won%_l10_diff_y\"] = df_match3[\"p_ret_pts_won%_l10_y\"] - df_match3[\"p_sv_pts_won%_l10_x\"]"
   ]
  },
  {
   "cell_type": "code",
   "execution_count": 153,
   "id": "e2f32afe",
   "metadata": {},
   "outputs": [],
   "source": [
    "# \"DEFENSE VS OFFENSE\": % RETURN points won VS OPPONENT % SERVE points won in previous 10 matches (surface-specific; NON-decay-weighted) differential between winner (_x) and loser (_y)\n",
    "#This is the Strength of Schedule Adjusted Version\n",
    "\n",
    "df_match3[\"p_SOS_adj_ret_opp_sv_pts_won%_l10_diff_x\"] = df_match3[\"p_SOS_adj_ret_pts_won%_l10_x\"] - df_match3[\"p_SOS_adj_sv_pts_won%_l10_y\"]\n",
    "df_match3[\"p_SOS_adj_ret_opp_sv_pts_won%_l10_diff_y\"] = df_match3[\"p_SOS_adj_ret_pts_won%_l10_y\"] - df_match3[\"p_SOS_adj_sv_pts_won%_l10_x\"]"
   ]
  },
  {
   "cell_type": "code",
   "execution_count": 154,
   "id": "d71e9042",
   "metadata": {},
   "outputs": [],
   "source": [
    "# \"OFFENSE VS OFFENSE\": player ace% VS OPPONENT ace% in previous 60 matches (surface-specific; decay-weighted) differential between winner (_x) and loser (_y)\n",
    "#This is the NON-Strength of Schedule Adjusted Version\n",
    "\n",
    "df_match3[\"p_ace%_l60_decay_diff_x\"] = df_match3[\"p_ace%_l60_decay_x\"] - df_match3[\"p_ace%_l60_decay_y\"]\n",
    "df_match3[\"p_ace%_l60_decay_diff_y\"] = -(df_match3[\"p_ace%_l60_decay_diff_x\"]) "
   ]
  },
  {
   "cell_type": "code",
   "execution_count": 155,
   "id": "0fc050a5",
   "metadata": {},
   "outputs": [],
   "source": [
    "# \"OFFENSE VS OFFENSE\": player ace% VS OPPONENT ace% in previous 60 matches (surface-specific; decay-weighted) differential between winner (_x) and loser (_y)\n",
    "#This is the Strength of Schedule Adjusted Version\n",
    "\n",
    "df_match3[\"p_SOS_adj_ace%_l60_decay_diff_x\"] = df_match3[\"p_SOS_adj_ace%_l60_decay_x\"] - df_match3[\"p_SOS_adj_ace%_l60_decay_y\"]\n",
    "df_match3[\"p_SOS_adj_ace%_l60_decay_diff_y\"] = -(df_match3[\"p_SOS_adj_ace%_l60_decay_diff_x\"]) "
   ]
  },
  {
   "cell_type": "code",
   "execution_count": 156,
   "id": "8a62e308",
   "metadata": {},
   "outputs": [],
   "source": [
    "# \"OFFENSE VS OFFENSE\": player ace% VS OPPONENT ace% in previous 10 matches (surface-specific; NON-decay-weighted) differential between winner (_x) and loser (_y)\n",
    "#This is the NON-Strength of Schedule Adjusted Version\n",
    "\n",
    "df_match3[\"p_ace%_l10_diff_x\"] = df_match3[\"p_ace%_l10_x\"] - df_match3[\"p_ace%_l10_y\"]\n",
    "df_match3[\"p_ace%_l10_diff_y\"] = -(df_match3[\"p_ace%_l10_diff_x\"]) "
   ]
  },
  {
   "cell_type": "code",
   "execution_count": 157,
   "id": "d2a58ab5",
   "metadata": {},
   "outputs": [],
   "source": [
    "# \"OFFENSE VS OFFENSE\": player ace% VS OPPONENT ace% in previous 60 matches (surface-specific; decay-weighted) differential between winner (_x) and loser (_y)\n",
    "#This is the Strength of Schedule Adjusted Version\n",
    "\n",
    "df_match3[\"p_SOS_adj_ace%_l10_diff_x\"] = df_match3[\"p_SOS_adj_ace%_l10_x\"] - df_match3[\"p_SOS_adj_ace%_l10_y\"]\n",
    "df_match3[\"p_SOS_adj_ace%_l10_diff_y\"] = -(df_match3[\"p_SOS_adj_ace%_l10_diff_x\"]) "
   ]
  },
  {
   "cell_type": "code",
   "execution_count": 158,
   "id": "e1c87517",
   "metadata": {},
   "outputs": [],
   "source": [
    "# \"DEFENSE VS DEFENSE\": player aced% VS OPPONENT aced% in previous 60 matches (surface-specific; decay-weighted) differential between winner (_x) and loser (_y)\n",
    "#This is the NON-Strength of Schedule Adjusted Version\n",
    "\n",
    "df_match3[\"p_aced%_l60_decay_diff_x\"] = df_match3[\"p_aced%_l60_decay_x\"] - df_match3[\"p_aced%_l60_decay_y\"]\n",
    "df_match3[\"p_aced%_l60_decay_diff_y\"] = -(df_match3[\"p_aced%_l60_decay_diff_x\"]) "
   ]
  },
  {
   "cell_type": "code",
   "execution_count": 159,
   "id": "f03502e2",
   "metadata": {},
   "outputs": [],
   "source": [
    "# \"DEFENSE VS DEFENSE\": player aced% VS OPPONENT aced% in previous 60 matches (surface-specific; decay-weighted) differential between winner (_x) and loser (_y)\n",
    "#This is the Strength of Schedule Adjusted Version\n",
    "\n",
    "df_match3[\"p_SOS_adj_aced%_l60_decay_diff_x\"] = df_match3[\"p_SOS_adj_aced%_l60_decay_x\"] - df_match3[\"p_SOS_adj_aced%_l60_decay_y\"]\n",
    "df_match3[\"p_SOS_adj_aced%_l60_decay_diff_y\"] = -(df_match3[\"p_SOS_adj_aced%_l60_decay_diff_x\"])"
   ]
  },
  {
   "cell_type": "code",
   "execution_count": 160,
   "id": "b737c836",
   "metadata": {},
   "outputs": [],
   "source": [
    "# \"DEFENSE VS DEFENSE\": player aced% VS OPPONENT aced% in previous 10 matches (surface-specific; NON-decay-weighted) differential between winner (_x) and loser (_y)\n",
    "#This is the NON-Strength of Schedule Adjusted Version\n",
    "\n",
    "df_match3[\"p_aced%_l10_diff_x\"] = df_match3[\"p_aced%_l10_x\"] - df_match3[\"p_aced%_l10_y\"]\n",
    "df_match3[\"p_aced%_l10_diff_y\"] = -(df_match3[\"p_aced%_l10_diff_x\"]) "
   ]
  },
  {
   "cell_type": "code",
   "execution_count": 161,
   "id": "0e98b104",
   "metadata": {},
   "outputs": [],
   "source": [
    "# \"DEFENSE VS DEFENSE\": player aced% VS OPPONENT aced% in previous 10 matches (surface-specific; NON-decay-weighted) differential between winner (_x) and loser (_y)\n",
    "#This is the NON-Strength of Schedule Adjusted Version\n",
    "\n",
    "df_match3[\"p_SOS_adj_aced%_l10_diff_x\"] = df_match3[\"p_SOS_adj_aced%_l10_x\"] - df_match3[\"p_SOS_adj_aced%_l10_y\"]\n",
    "df_match3[\"p_SOS_adj_aced%_l10_diff_y\"] = -(df_match3[\"p_SOS_adj_aced%_l10_diff_x\"]) "
   ]
  },
  {
   "cell_type": "code",
   "execution_count": 162,
   "id": "15bf726c",
   "metadata": {},
   "outputs": [],
   "source": [
    "# \"OFFENSE VS DEFENSE\": player ace% VS OPPONENT aced% in previous 60 matches (surface-specific; decay-weighted) differential between winner (_x) and loser (_y)\n",
    "#This is the NON-Strength of Schedule Adjusted Version\n",
    "\n",
    "df_match3[\"p_ace%_opp_aced%_l60_decay_diff_x\"] = df_match3[\"p_ace%_l60_decay_x\"] - df_match3[\"p_aced%_l60_decay_y\"]\n",
    "df_match3[\"p_ace%_opp_aced%_l60_decay_diff_y\"] = df_match3[\"p_ace%_l60_decay_y\"] - df_match3[\"p_aced%_l60_decay_x\"]"
   ]
  },
  {
   "cell_type": "code",
   "execution_count": 163,
   "id": "ae3ba21f",
   "metadata": {},
   "outputs": [],
   "source": [
    "# \"OFFENSE VS DEFENSE\": player ace% VS OPPONENT aced% in previous 60 matches (surface-specific;decay-weighted) differential between winner (_x) and loser (_y)\n",
    "#This is the Strength of Schedule Adjusted Version\n",
    "\n",
    "df_match3[\"p_SOS_adj_ace%_opp_aced%_l60_decay_diff_x\"] = df_match3[\"p_SOS_adj_ace%_l60_decay_x\"] - df_match3[\"p_SOS_adj_aced%_l60_decay_y\"]\n",
    "df_match3[\"p_SOS_adj_ace%_opp_aced%_l60_decay_diff_y\"] = df_match3[\"p_SOS_adj_ace%_l60_decay_y\"] - df_match3[\"p_SOS_adj_aced%_l60_decay_x\"]"
   ]
  },
  {
   "cell_type": "code",
   "execution_count": 164,
   "id": "3291e927",
   "metadata": {},
   "outputs": [],
   "source": [
    "# \"OFFENSE VS DEFENSE\": player ace% VS OPPONENT aced% in previous 10 matches (surface-specific; NON-decay-weighted) differential between winner (_x) and loser (_y)\n",
    "#This is the NON-Strength of Schedule Adjusted Version\n",
    "\n",
    "df_match3[\"p_ace%_opp_aced%_l10_diff_x\"] = df_match3[\"p_ace%_l10_x\"] - df_match3[\"p_aced%_l10_y\"]\n",
    "df_match3[\"p_ace%_opp_aced%_l10_diff_y\"] = df_match3[\"p_ace%_l10_y\"] - df_match3[\"p_aced%_l10_x\"]"
   ]
  },
  {
   "cell_type": "code",
   "execution_count": 165,
   "id": "a32d630e",
   "metadata": {},
   "outputs": [],
   "source": [
    "# \"OFFENSE VS DEFENSE\": player ace% VS OPPONENT aced% in previous 10 matches (surface-specific; NON-decay-weighted) differential between winner (_x) and loser (_y)\n",
    "#This is the Strength of Schedule Adjusted Version\n",
    "\n",
    "df_match3[\"p_SOS_adj_ace%_opp_aced%_l10_diff_x\"] = df_match3[\"p_SOS_adj_ace%_l10_x\"] - df_match3[\"p_SOS_adj_aced%_l10_y\"]\n",
    "df_match3[\"p_SOS_adj_ace%_opp_aced%_l10_diff_y\"] = df_match3[\"p_SOS_adj_ace%_l10_y\"] - df_match3[\"p_SOS_adj_aced%_l10_x\"]"
   ]
  },
  {
   "cell_type": "code",
   "execution_count": 166,
   "id": "21a3a1ea",
   "metadata": {},
   "outputs": [],
   "source": [
    "# \"DEFENSE VS OFFENSE\": player aced% VS OPPONENT ace% in previous 60 matches (surface-specific; decay-weighted) differential between winner (_x) and loser (_y)\n",
    "#This is the Non-Strength of Schedule Adjusted Version\n",
    "\n",
    "df_match3[\"p_aced%_opp_ace%_l60_decay_diff_x\"] = df_match3[\"p_aced%_l60_decay_x\"] - df_match3[\"p_ace%_l60_decay_y\"]\n",
    "df_match3[\"p_aced%_opp_ace%_l60_decay_diff_y\"] = df_match3[\"p_aced%_l60_decay_y\"] - df_match3[\"p_ace%_l60_decay_x\"]"
   ]
  },
  {
   "cell_type": "code",
   "execution_count": 167,
   "id": "72bddd41",
   "metadata": {},
   "outputs": [],
   "source": [
    "# \"DEFENSE VS OFFENSE\": player aced% VS OPPONENT ace% in previous 6o matches (surface-specific; decay-weighted) differential between winner (_x) and loser (_y)\n",
    "#This is the Strength of Schedule Adjusted Version\n",
    "\n",
    "df_match3[\"p_SOS_adj_aced%_opp_ace%_l60_decay_diff_x\"] = df_match3[\"p_SOS_adj_aced%_l60_decay_x\"] - df_match3[\"p_SOS_adj_ace%_l60_decay_y\"]\n",
    "df_match3[\"p_SOS_adj_aced%_opp_ace%_l60_decay_diff_y\"] = df_match3[\"p_SOS_adj_aced%_l60_decay_y\"] - df_match3[\"p_SOS_adj_ace%_l60_decay_x\"]"
   ]
  },
  {
   "cell_type": "code",
   "execution_count": 168,
   "id": "fc6e0415",
   "metadata": {},
   "outputs": [],
   "source": [
    "# \"DEFENSE VS OFFENSE\": player aced% VS OPPONENT ace% in previous 10 matches (surface-specific; NON-decay-weighted) differential between winner (_x) and loser (_y)\n",
    "#This is the Non-Strength of Schedule Adjusted Version\n",
    "\n",
    "df_match3[\"p_aced%_opp_ace%_l10_diff_x\"] = df_match3[\"p_aced%_l10_x\"] - df_match3[\"p_ace%_l10_y\"]\n",
    "df_match3[\"p_aced%_opp_ace%_l10_diff_y\"] = df_match3[\"p_aced%_l10_y\"] - df_match3[\"p_ace%_l10_x\"]"
   ]
  },
  {
   "cell_type": "code",
   "execution_count": 169,
   "id": "a0593de7",
   "metadata": {},
   "outputs": [],
   "source": [
    "# \"DEFENSE VS OFFENSE\": player aced% VS OPPONENT ace% in previous 10 matches (surface-specific; NON-decay-weighted) differential between winner (_x) and loser (_y)\n",
    "#This is the Strength of Schedule Adjusted Version\n",
    "\n",
    "df_match3[\"p_SOS_adj_aced%_opp_ace%_l10_diff_x\"] = df_match3[\"p_SOS_adj_aced%_l10_x\"] - df_match3[\"p_SOS_adj_ace%_l10_y\"]\n",
    "df_match3[\"p_SOS_adj_aced%_opp_ace%_l10_diff_y\"] = df_match3[\"p_SOS_adj_aced%_l10_y\"] - df_match3[\"p_SOS_adj_ace%_l10_x\"]"
   ]
  },
  {
   "cell_type": "code",
   "execution_count": 170,
   "id": "3dc72422",
   "metadata": {},
   "outputs": [],
   "source": [
    "# \"DEFENSE VS DEFENSE\": player bp saved% VS OPPONENT bp saved % in previous 60 matches (surface-specific; non-decay weighted) differential between winner (_x) and loser (_y)\n",
    "#This is the NON-Strength of Schedule Adjusted Version\n",
    "\n",
    "df_match3[\"p_bp_save%_l60_diff_x\"] = df_match3[\"p_bp_save%_l60_x\"] - df_match3[\"p_bp_save%_l60_y\"]\n",
    "df_match3[\"p_bp_save%_l60_diff_y\"] = -(df_match3[\"p_bp_save%_l60_diff_x\"]) "
   ]
  },
  {
   "cell_type": "code",
   "execution_count": 171,
   "id": "ae8e3bcb",
   "metadata": {},
   "outputs": [],
   "source": [
    "# \"DEFENSE VS DEFENSE\": player bp saved% VS OPPONENT bp saved % in previous 60 matches (surface-specific; non-decay weighted) differential between winner (_x) and loser (_y)\n",
    "#This is the Strength of Schedule Adjusted Version\n",
    "\n",
    "df_match3[\"p_SOS_adj_bp_save%_l60_diff_x\"] = df_match3[\"p_SOS_adj_bp_save%_l60_x\"] - df_match3[\"p_SOS_adj_bp_save%_l60_y\"]\n",
    "df_match3[\"p_SOS_adj_bp_save%_l60_diff_y\"] = -(df_match3[\"p_SOS_adj_bp_save%_l60_diff_x\"]) "
   ]
  },
  {
   "cell_type": "code",
   "execution_count": 172,
   "id": "9d6e8669",
   "metadata": {},
   "outputs": [],
   "source": [
    "# \"DEFENSE VS DEFENSE\": player bp saved% VS OPPONENT bp saved % in previous 10 matches (surface-specific; NON-decay weighted) differential between winner (_x) and loser (_y)\n",
    "#This is the NON-Strength of Schedule Adjusted Version\n",
    "\n",
    "df_match3[\"p_bp_save%_l10_diff_x\"] = df_match3[\"p_bp_save%_l10_x\"] - df_match3[\"p_bp_save%_l10_y\"]\n",
    "df_match3[\"p_bp_save%_l10_diff_y\"] = -(df_match3[\"p_bp_save%_l10_diff_x\"])"
   ]
  },
  {
   "cell_type": "code",
   "execution_count": 173,
   "id": "43616bf5",
   "metadata": {},
   "outputs": [],
   "source": [
    "# \"DEFENSE VS DEFENSE\": player bp saved% VS OPPONENT bp saved % in previous 10 matches (surface-specific; NON-decay weighted) differential between winner (_x) and loser (_y)\n",
    "#This is the Strength of Schedule Adjusted Version\n",
    "\n",
    "df_match3[\"p_SOS_adj_bp_save%_l10_diff_x\"] = df_match3[\"p_SOS_adj_bp_save%_l10_x\"] - df_match3[\"p_SOS_adj_bp_save%_l10_y\"]\n",
    "df_match3[\"p_SOS_adj_bp_save%_l10_diff_y\"] = -(df_match3[\"p_SOS_adj_bp_save%_l10_diff_x\"])"
   ]
  },
  {
   "cell_type": "code",
   "execution_count": 174,
   "id": "05dc742e",
   "metadata": {},
   "outputs": [],
   "source": [
    "# \"OFFENSE VS OFFENSE\": player bp convert% VS OPPONENT bp convert% in previous 60 matches (surface-specific; NON-decay weighted) differential between winner (_x) and loser (_y)\n",
    "#This is the NON-Strength of Schedule Adjusted Version\n",
    "\n",
    "df_match3[\"p_bp_convert%_l60_diff_x\"] = df_match3[\"p_bp_convert%_l60_x\"] - df_match3[\"p_bp_convert%_l60_y\"]\n",
    "df_match3[\"p_bp_convert%_l60_diff_y\"] = -(df_match3[\"p_bp_convert%_l60_diff_x\"]) "
   ]
  },
  {
   "cell_type": "code",
   "execution_count": 175,
   "id": "def3e019",
   "metadata": {},
   "outputs": [],
   "source": [
    "# \"OFFENSE VS OFFENSE\": player bp convert% VS OPPONENT bp convert% in previous 60 matches (surface-specific; NON-decay weighted) differential between winner (_x) and loser (_y)\n",
    "#This is the Strength of Schedule Adjusted Version\n",
    "\n",
    "df_match3[\"p_SOS_adj_bp_convert%_l60_diff_x\"] = df_match3[\"p_SOS_adj_bp_convert%_l60_x\"] - df_match3[\"p_SOS_adj_bp_convert%_l60_y\"]\n",
    "df_match3[\"p_SOS_adj_bp_convert%_l60_diff_y\"] = -(df_match3[\"p_SOS_adj_bp_convert%_l60_diff_x\"]) "
   ]
  },
  {
   "cell_type": "code",
   "execution_count": 176,
   "id": "f4eeae4e",
   "metadata": {},
   "outputs": [],
   "source": [
    "# \"OFFENSE VS OFFENSE\": player bp convert% VS OPPONENT bp convert% in previous 10 matches (surface-specific; NON-decay weighted) differential between winner (_x) and loser (_y)\n",
    "#This is the NON-Strength of Schedule Adjusted Version\n",
    "\n",
    "df_match3[\"p_bp_convert%_l10_diff_x\"] = df_match3[\"p_bp_convert%_l10_x\"] - df_match3[\"p_bp_convert%_l10_y\"]\n",
    "df_match3[\"p_bp_convert%_l10_diff_y\"] = -(df_match3[\"p_bp_convert%_l10_diff_x\"]) "
   ]
  },
  {
   "cell_type": "code",
   "execution_count": 177,
   "id": "6868cc8e",
   "metadata": {},
   "outputs": [],
   "source": [
    "# \"OFFENSE VS OFFENSE\": player bp convert% VS OPPONENT bp convert% in previous 10 matches (surface-specific; NON-decay weighted) differential between winner (_x) and loser (_y)\n",
    "#This is the Strength of Schedule Adjusted Version\n",
    "\n",
    "df_match3[\"p_SOS_adj_bp_convert%_l10_diff_x\"] = df_match3[\"p_SOS_adj_bp_convert%_l10_x\"] - df_match3[\"p_SOS_adj_bp_convert%_l10_y\"]\n",
    "df_match3[\"p_SOS_adj_bp_convert%_l10_diff_y\"] = -(df_match3[\"p_SOS_adj_bp_convert%_l10_diff_x\"]) "
   ]
  },
  {
   "cell_type": "code",
   "execution_count": 178,
   "id": "82abd891",
   "metadata": {},
   "outputs": [],
   "source": [
    "# \"OFFENSE VS DEFENSE\": player bp convert% VS OPPONENT bp save% in previous 60 matches (surface-specific; NON-decay weighted) differential between winner (_x) and loser (_y)\n",
    "#This is the NON-Strength of Schedule Adjusted Version\n",
    "\n",
    "df_match3[\"p_bp_convert%_opp_bp_save%_l60_diff_x\"] = df_match3[\"p_bp_convert%_l60_x\"] - df_match3[\"p_bp_save%_l60_y\"]\n",
    "df_match3[\"p_bp_convert%_opp_bp_save%_l60_diff_y\"] = df_match3[\"p_bp_convert%_l60_y\"] - df_match3[\"p_bp_save%_l60_x\"]"
   ]
  },
  {
   "cell_type": "code",
   "execution_count": 179,
   "id": "5816cd2c",
   "metadata": {},
   "outputs": [],
   "source": [
    "# \"OFFENSE VS DEFENSE\": player bp convert% VS OPPONENT bp save% in previous 60 matches (surface-specific; NON-decay weighted) differential between winner (_x) and loser (_y)\n",
    "#This is the Strength of Schedule Adjusted Version\n",
    "\n",
    "df_match3[\"p_SOS_adj_bp_convert%_opp_bp_save%_l60_diff_x\"] = df_match3[\"p_bp_convert%_l60_x\"] - df_match3[\"p_bp_save%_l60_y\"]\n",
    "df_match3[\"p_SOS_adj_bp_convert%_opp_bp_save%_l60_diff_y\"] = df_match3[\"p_bp_convert%_l60_y\"] - df_match3[\"p_bp_save%_l60_x\"]"
   ]
  },
  {
   "cell_type": "code",
   "execution_count": 180,
   "id": "75ed2ccd",
   "metadata": {},
   "outputs": [],
   "source": [
    "# \"OFFENSE VS DEFENSE\": player bp convert% VS OPPONENT bp save% in previous 10 matches (surface-specific; NON-decay weighted) differential between winner (_x) and loser (_y)\n",
    "#This is the NON-Strength of Schedule Adjusted Version\n",
    "\n",
    "df_match3[\"p_bp_convert%_opp_bp_save%_l10_diff_x\"] = df_match3[\"p_bp_convert%_l10_x\"] - df_match3[\"p_bp_save%_l10_y\"]\n",
    "df_match3[\"p_bp_convert%_opp_bp_save%_l10_diff_y\"] = df_match3[\"p_bp_convert%_l10_y\"] - df_match3[\"p_bp_save%_l10_x\"]"
   ]
  },
  {
   "cell_type": "code",
   "execution_count": 181,
   "id": "dd106bd0",
   "metadata": {},
   "outputs": [],
   "source": [
    "# \"OFFENSE VS DEFENSE\": player bp convert% VS OPPONENT bp save% in previous 10 matches (surface-specific; NON-decay weighted) differential between winner (_x) and loser (_y)\n",
    "#This is the Strength of Schedule Adjusted Version\n",
    "\n",
    "df_match3[\"p_SOS_adj_bp_convert%_opp_bp_save%_l10_diff_x\"] = df_match3[\"p_bp_convert%_l10_x\"] - df_match3[\"p_bp_save%_l10_y\"]\n",
    "df_match3[\"p_SOS_adj_bp_convert%_opp_bp_save%_l10_diff_y\"] = df_match3[\"p_bp_convert%_l10_y\"] - df_match3[\"p_bp_save%_l10_x\"]"
   ]
  },
  {
   "cell_type": "code",
   "execution_count": 182,
   "id": "d823e71d",
   "metadata": {},
   "outputs": [],
   "source": [
    "# \"DEFENSE VS OFFENSE\": player bp save% VS OPPONENT bp convert% in previous 60 matches (surface-specific; non-decay weighted) differential between winner (_x) and loser (_y)\n",
    "#This is the NON-Strength of Schedule Adjusted Version\n",
    "\n",
    "df_match3[\"p_bp_save%_opp_bp_convert%_l60_diff_x\"] = df_match3[\"p_bp_save%_l60_x\"] - df_match3[\"p_bp_convert%_l60_y\"]\n",
    "df_match3[\"p_bp_save%_opp_bp_convert%_l60_diff_y\"] = df_match3[\"p_bp_save%_l60_y\"] - df_match3[\"p_bp_convert%_l60_x\"]"
   ]
  },
  {
   "cell_type": "code",
   "execution_count": 183,
   "id": "07cdb0b2",
   "metadata": {},
   "outputs": [],
   "source": [
    "# \"DEFENSE VS OFFENSE\": player bp save% VS OPPONENT bp convert% in previous 60 matches (surface-specific; non-decay weighted) differential between winner (_x) and loser (_y)\n",
    "#This is the Strength of Schedule Adjusted Version\n",
    "\n",
    "df_match3[\"p_SOS_adj_bp_save%_opp_bp_convert%_l60_diff_x\"] = df_match3[\"p_SOS_adj_bp_save%_l60_x\"] - df_match3[\"p_SOS_adj_bp_convert%_l60_y\"]\n",
    "df_match3[\"p_SOS_adj_bp_save%_opp_bp_convert%_l60_diff_y\"] = df_match3[\"p_SOS_adj_bp_save%_l60_y\"] - df_match3[\"p_SOS_adj_bp_convert%_l60_x\"]"
   ]
  },
  {
   "cell_type": "code",
   "execution_count": 184,
   "id": "76a7eaa0",
   "metadata": {},
   "outputs": [],
   "source": [
    "# \"DEFENSE VS OFFENSE\": player bp save% VS OPPONENT bp convert% in previous 10 matches (surface-specific; non-decay weighted) differential between winner (_x) and loser (_y)\n",
    "#This is the NON-Strength of Schedule Adjusted Version\n",
    "\n",
    "df_match3[\"p_bp_save%_opp_bp_convert%_l10_diff_x\"] = df_match3[\"p_bp_save%_l10_x\"] - df_match3[\"p_bp_convert%_l10_y\"]\n",
    "df_match3[\"p_bp_save%_opp_bp_convert%_l10_diff_y\"] = df_match3[\"p_bp_save%_l10_y\"] - df_match3[\"p_bp_convert%_l10_x\"]"
   ]
  },
  {
   "cell_type": "code",
   "execution_count": 185,
   "id": "661e3985",
   "metadata": {},
   "outputs": [],
   "source": [
    "# \"DEFENSE VS OFFENSE\": player bp save% VS OPPONENT bp convert% in previous 10 matches (surface-specific; non-decay weighted) differential between winner (_x) and loser (_y)\n",
    "#This is the Strength of Schedule Adjusted Version\n",
    "\n",
    "df_match3[\"p_SOS_adj_bp_save%_opp_bp_convert%_l10_diff_x\"] = df_match3[\"p_SOS_adj_bp_save%_l10_x\"] - df_match3[\"p_SOS_adj_bp_convert%_l10_y\"]\n",
    "df_match3[\"p_SOS_adj_bp_save%_opp_bp_convert%_l10_diff_y\"] = df_match3[\"p_SOS_adj_bp_save%_l10_y\"] - df_match3[\"p_SOS_adj_bp_convert%_l10_x\"]"
   ]
  },
  {
   "cell_type": "code",
   "execution_count": 186,
   "id": "67c2e0b1",
   "metadata": {},
   "outputs": [],
   "source": [
    "# Diff in std for % total points won in previous 60 matches (surface-specific; decay-weighted) differential between winner (_x) and loser (_y)\n",
    "#This is the NON-Strength of Schedule Adjusted Version\n",
    "\n",
    "df_match3[\"p_pts_won%_std_l60_decay_diff_x\"] = df_match3[\"p_pts_won%_std_l60_decay_x\"] - df_match3[\"p_pts_won%_std_l60_decay_y\"]\n",
    "df_match3[\"p_pts_won%_std_l60_decay_diff_y\"] = -(df_match3[\"p_pts_won%_std_l60_decay_diff_x\"])"
   ]
  },
  {
   "cell_type": "code",
   "execution_count": 187,
   "id": "1838a778",
   "metadata": {},
   "outputs": [],
   "source": [
    "# Diff in std for % serve points won in previous 60 matches (surface-specific; decay-weighted) differential between winner (_x) and loser (_y)\n",
    "#This is the NON-Strength of Schedule Adjusted Version\n",
    "\n",
    "df_match3[\"p_sv_pts_won%_std_l60_decay_diff_x\"] = df_match3[\"p_sv_pts_won%_std_l60_decay_x\"] - df_match3[\"p_sv_pts_won%_std_l60_decay_y\"]\n",
    "df_match3[\"p_sv_pts_won%_std_l60_decay_diff_y\"] = -(df_match3[\"p_sv_pts_won%_std_l60_decay_diff_x\"])"
   ]
  },
  {
   "cell_type": "code",
   "execution_count": 188,
   "id": "1e7bd8d4",
   "metadata": {},
   "outputs": [],
   "source": [
    "# Diff in std for % return points won in previous 60 matches (surface-specific; decay-weighted) differential between winner (_x) and loser (_y)\n",
    "#This is the NON-Strength of Schedule Adjusted Version\n",
    "\n",
    "df_match3[\"p_ret_pts_won%_std_l60_decay_diff_x\"] = df_match3[\"p_ret_pts_won%_std_l60_decay_x\"] - df_match3[\"p_ret_pts_won%_std_l60_decay_y\"]\n",
    "df_match3[\"p_ret_pts_won%_std_l60_decay_diff_y\"] = -(df_match3[\"p_ret_pts_won%_std_l60_decay_diff_x\"])"
   ]
  },
  {
   "cell_type": "markdown",
   "id": "d5a184f1",
   "metadata": {},
   "source": [
    "#### Retrospective Stamina and Fatigue Player Performance Differential Predictive Features By Match"
   ]
  },
  {
   "cell_type": "code",
   "execution_count": 189,
   "id": "a5da175f",
   "metadata": {},
   "outputs": [],
   "source": [
    "# Diff in number of minutes played in the immediate previous (within tournament) match between winner (_x) and loser (_y)\n",
    "\n",
    "df_match3[\"p_m_time_last_diff_x\"] = df_match3[\"p_m_time_last_x\"] - df_match3[\"p_m_time_last_y\"]\n",
    "df_match3[\"p_m_time_last_diff_y\"] = -(df_match3[\"p_m_time_last_diff_x\"])"
   ]
  },
  {
   "cell_type": "code",
   "execution_count": 190,
   "id": "01bcbe80",
   "metadata": {},
   "outputs": [],
   "source": [
    "# NON-decay-adjusted number of minutes played over up to the last 6 (within tournament) matches between winner (_x) and loser (_y)\n",
    "\n",
    "df_match3[\"p_tot_time_l6_diff_x\"] = df_match3[\"p_tot_time_l6_x\"] - df_match3[\"p_tot_time_l6_y\"]\n",
    "df_match3[\"p_tot_time_l6_diff_y\"] = -(df_match3[\"p_tot_time_l6_diff_x\"])"
   ]
  },
  {
   "cell_type": "code",
   "execution_count": 191,
   "id": "ee79a586",
   "metadata": {},
   "outputs": [],
   "source": [
    "# Decay-adjusted number of minutes played over up to the last 6 (within tournament) matches between winner (_x) and loser (_y)\n",
    "\n",
    "df_match3[\"p_tot_time_l6_decay_diff_x\"] = df_match3[\"p_tot_time_l6_decay_x\"] - df_match3[\"p_tot_time_l6_decay_y\"]\n",
    "df_match3[\"p_tot_time_l6_decay_diff_y\"] = -(df_match3[\"p_tot_time_l6_decay_diff_x\"]) "
   ]
  },
  {
   "cell_type": "code",
   "execution_count": 192,
   "id": "0ef3191d",
   "metadata": {},
   "outputs": [],
   "source": [
    "# Diff in number of points played in the immediate previous (within tournament) match between winner (_x) and loser (_y)\n",
    "\n",
    "df_match3[\"p_tot_pts_last_diff_x\"] = df_match3[\"p_tot_pts_last_x\"] - df_match3[\"p_tot_pts_last_y\"]\n",
    "df_match3[\"p_tot_pts_last_diff_y\"] = -(df_match3[\"p_tot_pts_last_diff_x\"])"
   ]
  },
  {
   "cell_type": "code",
   "execution_count": 193,
   "id": "043916a7",
   "metadata": {},
   "outputs": [],
   "source": [
    "# NON-decay-adjusted total number of points played over up to the last 6 (within tournament) matches between winner (_x) and loser (_y)\n",
    "\n",
    "df_match3[\"p_tot_pts_l6_diff_x\"] = df_match3[\"p_tot_pts_l6_x\"] - df_match3[\"p_tot_pts_l6_y\"]\n",
    "df_match3[\"p_tot_pts_l6_diff_y\"] = -(df_match3[\"p_tot_pts_l6_diff_x\"]) "
   ]
  },
  {
   "cell_type": "code",
   "execution_count": 194,
   "id": "68448352",
   "metadata": {},
   "outputs": [],
   "source": [
    "# Decay-adjusted total number of points played over up to the last 6 (within tournament) matches between winner (_x) and loser (_y)\n",
    "\n",
    "df_match3[\"p_tot_pts_l6_decay_diff_x\"] = df_match3[\"p_tot_pts_l6_decay_x\"] - df_match3[\"p_tot_pts_l6_decay_y\"]\n",
    "df_match3[\"p_tot_pts_l6_decay_diff_y\"] = -(df_match3[\"p_tot_pts_l6_decay_diff_x\"]) "
   ]
  },
  {
   "cell_type": "code",
   "execution_count": 195,
   "id": "9b030ee7",
   "metadata": {},
   "outputs": [],
   "source": [
    "# Difference in total matches played in the entire sample (non-surface specific) between winner (_x) and loser (_y)\n",
    "\n",
    "df_match3[\"p_matches_diff_x\"] = df_match3[\"p_matches_x\"] - df_match3[\"p_matches_y\"]\n",
    "df_match3[\"p_matches_diff_y\"] = -(df_match3[\"p_matches_diff_x\"]) "
   ]
  },
  {
   "cell_type": "code",
   "execution_count": 196,
   "id": "da4c73bf",
   "metadata": {},
   "outputs": [],
   "source": [
    "# Difference in total matches played in the entire sample (SURFACE-SPECIFIC) between winner (_x) and loser (_y)\n",
    "\n",
    "df_match3[\"p_matches_surf_diff_x\"] = df_match3[\"p_matches_surf_x\"] - df_match3[\"p_matches_surf_y\"]\n",
    "df_match3[\"p_matches_surf_diff_y\"] = -(df_match3[\"p_matches_surf_diff_x\"]) "
   ]
  },
  {
   "cell_type": "code",
   "execution_count": 197,
   "id": "1810e8cd",
   "metadata": {},
   "outputs": [],
   "source": [
    "# Difference in stamina-adjusted fatigue (decay weighted total time played last 6 component) between winner (_x) and loser (_y)\n",
    "\n",
    "df_match3[\"p_stamina_adj_fatigue_decay_diff_x\"] = df_match3[\"p_stamina_adj_fatigue_decay_x\"] - df_match3[\"p_stamina_adj_fatigue_decay_y\"]\n",
    "df_match3[\"p_stamina_adj_fatigue_decay_diff_y\"] = -(df_match3[\"p_stamina_adj_fatigue_decay_diff_x\"]) "
   ]
  },
  {
   "cell_type": "code",
   "execution_count": 198,
   "id": "509b147c",
   "metadata": {},
   "outputs": [],
   "source": [
    "# Difference in stamina-adjusted fatigue (NON-decay weighted total time played last 6 component) between winner (_x) and loser (_y)\n",
    "\n",
    "df_match3[\"p_stamina_adj_fatigue_diff_x\"] = df_match3[\"p_stamina_adj_fatigue_x\"] - df_match3[\"p_stamina_adj_fatigue_y\"]\n",
    "df_match3[\"p_stamina_adj_fatigue_diff_y\"] = -(df_match3[\"p_stamina_adj_fatigue_diff_x\"]) "
   ]
  },
  {
   "cell_type": "code",
   "execution_count": 199,
   "id": "327d3241",
   "metadata": {},
   "outputs": [],
   "source": [
    "# Head-to-Head Matchup Past Differential (surface-specific, but no time constraints) between winner (_x) and loser (_y)\n",
    "\n",
    "df_match3[\"p_H2H_diff_x\"] = df_match3[\"p_H2H_w_x\"] - df_match3[\"p_H2H_w_y\"]\n",
    "df_match3[\"p_H2H_diff_y\"] = -(df_match3[\"p_H2H_diff_x\"])"
   ]
  },
  {
   "cell_type": "code",
   "execution_count": 200,
   "id": "7e3efd55",
   "metadata": {},
   "outputs": [],
   "source": [
    "# Head-to-Head Matchup Past Points Won % Differential (surface-specific, but no time constraints) between winner (_x) and loser (_y)\n",
    "\n",
    "df_match3[\"p_H2H_pts_won%_diff_x\"] = df_match3[\"p_H2H_pts_won%_x\"] - df_match3[\"p_H2H_pts_won%_y\"]\n",
    "df_match3[\"p_H2H_pts_won%_diff_y\"] = -(df_match3[\"p_H2H_pts_won%_diff_x\"])"
   ]
  },
  {
   "cell_type": "markdown",
   "id": "42964194",
   "metadata": {},
   "source": [
    "now back to by-player organization one final time.  A few additional features will be computed in relation to court speed prediction and then data will be prepped for the next stage (exploratory data analysis)"
   ]
  },
  {
   "cell_type": "code",
   "execution_count": 201,
   "id": "5df9599f",
   "metadata": {},
   "outputs": [],
   "source": [
    "#df_match3.to_csv('../data/df_match3.csv', index=False)"
   ]
  },
  {
   "cell_type": "code",
   "execution_count": 202,
   "id": "67a326b7",
   "metadata": {},
   "outputs": [],
   "source": [
    "#df_match3.info()"
   ]
  },
  {
   "cell_type": "code",
   "execution_count": 203,
   "id": "b82f95cc",
   "metadata": {},
   "outputs": [],
   "source": [
    "#Dropping loser (_y) columns for remerge by player\n",
    "df_winners4 = df_match3.drop([\"m_outcome_x\", \"m_outcome_y\", \"p_id_y\", \"p_name_y\", \"p_H2H_w_y\", \"p_H2H_pts_won%_y\", \"p_rank_y\", \"p_rank_pts_y\", \"p_country_y\", \"p_ent_y\", \"p_hd_y\", \"p_ht_y\", \"p_age_y\", \"p_matches_y\", \"p_matches_surf_y\", \"p_pts_won%_y\", \"p_pts_won%_l60_decay_y\", \"p_pts_won%_l60_decay_IO_y\", \"p_pts_won%_l10_y\", \"p_SOS_adj_pts_won%_l60_decay_y\", \"p_SOS_adj_pts_won%_l60_decay_IO_y\", \"p_SOS_adj_pts_won%_l60_decay_IO_weighted_y\",\"p_SOS_adj_pts_won%_l10_y\", \"p_sv_pts_won%_y\", \"p_sv_pts_won%_l60_decay_y\", \"p_sv_pts_won%_l10_y\", \"p_SOS_adj_sv_pts_won%_l60_decay_y\", \"p_SOS_adj_sv_pts_won%_l10_y\", \"p_ret_pts_won%_y\", \"p_ret_pts_won%_l60_decay_y\", \"p_ret_pts_won%_l10_y\", \"p_SOS_adj_ret_pts_won%_l60_decay_y\", \"p_SOS_adj_ret_pts_won%_l10_y\", \"p_ace%_y\", \"p_ace%_l60_decay_y\", \"p_ace%_l10_y\", \"p_SOS_adj_ace%_l60_decay_y\", \"p_SOS_adj_ace%_l10_y\", \"p_aced%_y\", \"p_aced%_l60_decay_y\", \"p_aced%_l10_y\", \"p_SOS_adj_aced%_l60_decay_y\", \"p_SOS_adj_aced%_l10_y\", \"p_bp_save%_y\", \"p_bp_save%_l60_y\", \"p_bp_save%_l10_y\", \"p_SOS_adj_bp_save%_l60_y\", \"p_SOS_adj_bp_save%_l10_y\", \"p_bp_convert%_y\", \"p_bp_convert%_l60_y\", \"p_bp_convert%_l10_y\", \"p_SOS_adj_bp_convert%_l60_y\", \"p_SOS_adj_bp_convert%_l10_y\", \"p_pts_won%_std_l60_decay_y\", \"p_sv_pts_won%_std_l60_decay_y\", \"p_ret_pts_won%_std_l60_decay_y\", \"p_m_time_last_y\", \"p_tot_time_l6_y\", \"p_tot_time_l6_decay_y\", \"p_tot_pts_last_y\",  \"p_tot_pts_l6_y\", \"p_tot_pts_l6_decay_y\", \"p_stamina_adj_fatigue_decay_y\", \"p_stamina_adj_fatigue_y\", \"p_rank_diff_y\", \"p_log_rank_y\", \"p_log_rank_diff_y\", \"p_rank_pts_diff_y\", \"p_ent_diff_y\", \"p_ht_diff_y\", \"p_age_diff_y\", \"p_L_opp_R_y\", \"p_HCA_opp_N_y\", \"p_pts_won%_l60_decay_diff_y\", \"p_pts_won%_l60_decay_IO_diff_y\", \"p_SOS_adj_pts_won%_l60_decay_diff_y\", \"p_SOS_adj_pts_won%_l60_decay_IO_diff_y\", \"p_SOS_adj_pts_won%_l60_decay_IO_weighted_diff_y\", \"p_pts_won%_l10_diff_y\", \"p_SOS_adj_pts_won%_l10_diff_y\", \"p_sv_pts_won%_l60_decay_diff_y\", \"p_SOS_adj_sv_pts_won%_l60_decay_diff_y\", \"p_sv_pts_won%_l10_diff_y\", \"p_SOS_adj_sv_pts_won%_l10_diff_y\", \"p_ret_pts_won%_l60_decay_diff_y\", \"p_SOS_adj_ret_pts_won%_l60_decay_diff_y\", \"p_ret_pts_won%_l10_diff_y\", \"p_SOS_adj_ret_pts_won%_l10_diff_y\", \"p_sv_opp_ret_pts_won%_l60_decay_diff_y\", \"p_SOS_adj_sv_opp_ret_pts_won%_l60_decay_diff_y\", \"p_sv_opp_ret_pts_won%_l10_diff_y\", \"p_SOS_adj_sv_opp_ret_pts_won%_l10_diff_y\", \"p_ret_opp_sv_pts_won%_l60_decay_diff_y\", \"p_SOS_adj_ret_opp_sv_pts_won%_l60_decay_diff_y\", \"p_ret_opp_sv_pts_won%_l10_diff_y\", \"p_SOS_adj_ret_opp_sv_pts_won%_l10_diff_y\", \"p_ace%_l60_decay_diff_y\", \"p_SOS_adj_ace%_l60_decay_diff_y\", \"p_ace%_l10_diff_y\", \"p_SOS_adj_ace%_l10_diff_y\", \"p_aced%_l60_decay_diff_y\", \"p_SOS_adj_aced%_l60_decay_diff_y\", \"p_aced%_l10_diff_y\", \"p_SOS_adj_aced%_l10_diff_y\", \"p_ace%_opp_aced%_l60_decay_diff_y\", \"p_SOS_adj_ace%_opp_aced%_l60_decay_diff_y\", \"p_ace%_opp_aced%_l10_diff_y\", \"p_SOS_adj_ace%_opp_aced%_l10_diff_y\", \"p_aced%_opp_ace%_l60_decay_diff_y\", \"p_SOS_adj_aced%_opp_ace%_l60_decay_diff_y\", \"p_aced%_opp_ace%_l10_diff_y\", \"p_SOS_adj_aced%_opp_ace%_l10_diff_y\", \"p_bp_save%_l60_diff_y\", \"p_SOS_adj_bp_save%_l60_diff_y\", \"p_bp_save%_l10_diff_y\", \"p_SOS_adj_bp_save%_l10_diff_y\", \"p_bp_convert%_l60_diff_y\", \"p_SOS_adj_bp_convert%_l60_diff_y\", \"p_bp_convert%_l10_diff_y\", \"p_SOS_adj_bp_convert%_l10_diff_y\", \"p_bp_convert%_opp_bp_save%_l60_diff_y\", \"p_SOS_adj_bp_convert%_opp_bp_save%_l60_diff_y\", \"p_bp_convert%_opp_bp_save%_l10_diff_y\", \"p_SOS_adj_bp_convert%_opp_bp_save%_l10_diff_y\", \"p_bp_save%_opp_bp_convert%_l60_diff_y\", \"p_SOS_adj_bp_save%_opp_bp_convert%_l60_diff_y\", \"p_bp_save%_opp_bp_convert%_l10_diff_y\", \"p_SOS_adj_bp_save%_opp_bp_convert%_l10_diff_y\", \"p_pts_won%_std_l60_decay_diff_y\", \"p_sv_pts_won%_std_l60_decay_diff_y\", \"p_ret_pts_won%_std_l60_decay_diff_y\", \"p_m_time_last_diff_y\", \"p_tot_time_l6_diff_y\", \"p_tot_time_l6_decay_diff_y\", \"p_tot_pts_last_diff_y\", \"p_tot_pts_l6_diff_y\", \"p_tot_pts_l6_decay_diff_y\", \"p_matches_diff_y\", \"p_matches_surf_diff_y\", \"p_stamina_adj_fatigue_decay_diff_y\", \"p_stamina_adj_fatigue_diff_y\", \"p_H2H_diff_y\", \"p_H2H_pts_won%_diff_y\"], axis=1)\n",
    "df_winners4[\"m_outcome\"] = 1"
   ]
  },
  {
   "cell_type": "code",
   "execution_count": 204,
   "id": "f95b11c9",
   "metadata": {},
   "outputs": [],
   "source": [
    "#df_winners4.to_csv('../data/df_winners4.csv', index=False)"
   ]
  },
  {
   "cell_type": "code",
   "execution_count": 205,
   "id": "46324340",
   "metadata": {},
   "outputs": [],
   "source": [
    "#Renaming columns to remove winner-loser descriptions so we can re-concatenate winners and losers\n",
    "df_winners4 = df_winners4.set_axis([\"t_id\", \"t_date\", \"tour_wk\", \"t_name\", \"t_country\", \"t_surf\", \"t_indoor\", \"t_alt\", \"t_lvl\", \"t_draw_size\", \"t_rd_num\", \"m_num\", \"m_best_of\", \"m_time(m)\", \"m_tot_pts\", \"p_id\", \"p_name\", \"p_H2H_w\", \"p_H2H_pts_won%\", \"p_rank\", \"p_rank_pts\", \"p_country\", \"p_ent\", \"p_hd\", \"p_ht\", \"p_age\", \"p_matches\", \"p_matches_surf\", \"p_pts_won%\", \"p_pts_won%_l60_decay\", \"p_pts_won%_l60_decay_IO\", \"p_pts_won%_l10\", \"p_SOS_adj_pts_won%_l60_decay\", \"p_SOS_adj_pts_won%_l60_decay_IO\", \"p_SOS_adj_pts_won%_l60_decay_IO_weighted\", \"p_SOS_adj_pts_won%_l10\", \"p_sv_pts_won%\", \"p_sv_pts_won%_l60_decay\", \"p_sv_pts_won%_l10\", \"p_SOS_adj_sv_pts_won%_l60_decay\", \"p_SOS_adj_sv_pts_won%_l10\", \"p_ret_pts_won%\", \"p_ret_pts_won%_l60_decay\", \"p_ret_pts_won%_l10\", \"p_SOS_adj_ret_pts_won%_l60_decay\", \"p_SOS_adj_ret_pts_won%_l10\", \"p_ace%\", \"p_ace%_l60_decay\", \"p_ace%_l10\", \"p_SOS_adj_ace%_l60_decay\", \"p_SOS_adj_ace%_l10\", \"p_aced%\", \"p_aced%_l60_decay\", \"p_aced%_l10\", \"p_SOS_adj_aced%_l60_decay\", \"p_SOS_adj_aced%_l10\", \"p_bp_save%\", \"p_bp_save%_l60\", \"p_bp_save%_l10\", \"p_SOS_adj_bp_save%_l60\", \"p_SOS_adj_bp_save%_l10\", \"p_bp_convert%\", \"p_bp_convert%_l60\", \"p_bp_convert%_l10\", \"p_SOS_adj_bp_convert%_l60\", \"p_SOS_adj_bp_convert%_l10\", \"p_pts_won%_std_l60_decay\",'p_sv_pts_won%_std_l60_decay','p_ret_pts_won%_std_l60_decay', \"p_m_time_last\", \"p_tot_time_l6\", \"p_tot_time_l6_decay\", \"p_tot_pts_last\", \"p_tot_pts_l6\", \"p_tot_pts_l6_decay\", \"p_stamina_adj_fatigue_decay\", \"p_stamina_adj_fatigue\", \"p_opp_rank_diff\", \"p_log_rank\", \"p_opp_log_rank_diff\", \"p_opp_rank_pts_diff\", \"p_ent_diff\", \"p_opp_ht_diff\",\"p_opp_age_diff\",\"p_L_opp_R\",\"p_HCA_opp_N\", \"p_pts_won%_l60_decay_diff\", \"p_pts_won%_l60_decay_IO_diff\", \"p_SOS_adj_pts_won%_l60_decay_diff\", \"p_SOS_adj_pts_won%_l60_decay_IO_diff\", \"p_SOS_adj_pts_won%_l60_decay_IO_weighted_diff\", \"p_pts_won%_l10_diff\", \"p_SOS_adj_pts_won%_l10_diff\", \"p_sv_pts_won%_l60_decay_diff\", \"p_SOS_adj_sv_pts_won%_l60_decay_diff\", \"p_sv_pts_won%_l10_diff\", \"p_SOS_adj_sv_pts_won%_l10_diff\", \"p_ret_pts_won%_l60_decay_diff\", \"p_SOS_adj_ret_pts_won%_l60_decay_diff\", \"p_ret_pts_won%_l10_diff\", \"p_SOS_adj_ret_pts_won%_l10_diff\", \"p_sv_opp_ret_pts_won%_l60_decay_diff\", \"p_SOS_adj_sv_opp_ret_pts_won%_l60_decay_diff\", \"p_sv_opp_ret_pts_won%_l10_diff\", \"p_SOS_adj_sv_opp_ret_pts_won%_l10_diff\", \"p_ret_opp_sv_pts_won%_l60_decay_diff\", \"p_SOS_adj_ret_opp_sv_pts_won%_l60_decay_diff\", \"p_ret_opp_sv_pts_won%_l10_diff\", \"p_SOS_adj_ret_opp_sv_pts_won%_l10_diff\", \"p_ace%_l60_decay_diff\", \"p_SOS_adj_ace%_l60_decay_diff\", \"p_ace%_l10_diff\", \"p_SOS_adj_ace%_l10_diff\", \"p_aced%_l60_decay_diff\", \"p_SOS_adj_aced%_l60_decay_diff\", \"p_aced%_l10_diff\", \"p_SOS_adj_aced%_l10_diff\", \"p_ace%_opp_aced%_l60_decay_diff\", \"p_SOS_adj_ace%_opp_aced%_l60_decay_diff\", \"p_ace%_opp_aced%_l10_diff\", \"p_SOS_adj_ace%_opp_aced%_l10_diff\", \"p_aced%_opp_ace%_l60_decay_diff\", \"p_SOS_adj_aced%_opp_ace%_l60_decay_diff\", \"p_aced%_opp_ace%_l10_diff\", \"p_SOS_adj_aced%_opp_ace%_l10_diff\", \"p_bp_save%_l60_diff\", \"p_SOS_adj_bp_save%_l60_diff\", \"p_bp_save%_l10_diff\", \"p_SOS_adj_bp_save%_l10_diff\", \"p_bp_convert%_l60_diff\", \"p_SOS_adj_bp_convert%_l60_diff\", \"p_bp_convert%_l10_diff\", \"p_SOS_adj_bp_convert%_l10_diff\", \"p_bp_convert%_opp_bp_save%_l60_diff\", \"p_SOS_adj_bp_convert%_opp_bp_save%_l60_diff\", \"p_bp_convert%_opp_bp_save%_l10_diff\", \"p_SOS_adj_bp_convert%_opp_bp_save%_l10_diff\", \"p_bp_save%_opp_bp_convert%_l60_diff\", \"p_SOS_adj_bp_save%_opp_bp_convert%_l60_diff\", \"p_bp_save%_opp_bp_convert%_l10_diff\", \"p_SOS_adj_bp_save%_opp_bp_convert%_l10_diff\", \"p_pts_won%_std_l60_decay_diff\", \"p_sv_pts_won%_std_l60_decay_diff\", \"p_ret_pts_won%_std_l60_decay_diff\", \"p_m_time_last_diff\", \"p_tot_time_l6_diff\", \"p_tot_time_l6_decay_diff\", \"p_tot_pts_last_diff\", \"p_tot_pts_l6_diff\", \"p_tot_pts_l6_decay_diff\", \"p_matches_diff\", \"p_matches_surf_diff\", \"p_stam_adj_fatigue_decay_diff\", \"p_stam_adj_fatigue_diff\", \"p_H2H_diff\", \"p_H2H_pts_won%_diff\", \"m_outcome\"], axis=1)"
   ]
  },
  {
   "cell_type": "code",
   "execution_count": 206,
   "id": "49eeeb3f",
   "metadata": {},
   "outputs": [],
   "source": [
    "#Dropping winner (_x) columns for remerge by player\n",
    "df_losers4 = df_match3.drop([\"m_outcome_x\", \"m_outcome_y\", \"p_id_x\", \"p_name_x\", \"p_H2H_w_x\", \"p_H2H_pts_won%_x\", \"p_rank_x\", \"p_rank_pts_x\", \"p_country_x\", \"p_ent_x\", \"p_hd_x\", \"p_ht_x\", \"p_age_x\", \"p_matches_x\", \"p_matches_surf_x\", \"p_pts_won%_x\", \"p_pts_won%_l60_decay_x\", \"p_pts_won%_l60_decay_IO_x\", \"p_pts_won%_l10_x\", \"p_SOS_adj_pts_won%_l60_decay_x\", \"p_SOS_adj_pts_won%_l60_decay_IO_x\", \"p_SOS_adj_pts_won%_l60_decay_IO_weighted_x\", \"p_SOS_adj_pts_won%_l10_x\", \"p_sv_pts_won%_x\", \"p_sv_pts_won%_l60_decay_x\", \"p_sv_pts_won%_l10_x\", \"p_SOS_adj_sv_pts_won%_l60_decay_x\", \"p_SOS_adj_sv_pts_won%_l10_x\", \"p_ret_pts_won%_x\", \"p_ret_pts_won%_l60_decay_x\", \"p_ret_pts_won%_l10_x\", \"p_SOS_adj_ret_pts_won%_l60_decay_x\", \"p_SOS_adj_ret_pts_won%_l10_x\", \"p_ace%_x\", \"p_ace%_l60_decay_x\", \"p_ace%_l10_x\", \"p_SOS_adj_ace%_l60_decay_x\", \"p_SOS_adj_ace%_l10_x\", \"p_aced%_x\", \"p_aced%_l60_decay_x\", \"p_aced%_l10_x\", \"p_SOS_adj_aced%_l60_decay_x\", \"p_SOS_adj_aced%_l10_x\", \"p_bp_save%_x\", \"p_bp_save%_l60_x\", \"p_bp_save%_l10_x\", \"p_SOS_adj_bp_save%_l60_x\", \"p_SOS_adj_bp_save%_l10_x\", \"p_bp_convert%_x\", \"p_bp_convert%_l60_x\", \"p_bp_convert%_l10_x\", \"p_SOS_adj_bp_convert%_l60_x\", \"p_SOS_adj_bp_convert%_l10_x\", \"p_pts_won%_std_l60_decay_x\", \"p_sv_pts_won%_std_l60_decay_x\", \"p_ret_pts_won%_std_l60_decay_x\", \"p_m_time_last_x\", \"p_tot_time_l6_x\", \"p_tot_time_l6_decay_x\", \"p_tot_pts_last_x\", \"p_tot_pts_l6_x\", \"p_tot_pts_l6_decay_x\", \"p_stamina_adj_fatigue_decay_x\", \"p_stamina_adj_fatigue_x\",  \"p_rank_diff_x\", \"p_log_rank_x\", \"p_log_rank_diff_x\", \"p_rank_pts_diff_x\", \"p_ent_diff_x\", \"p_ht_diff_x\", \"p_age_diff_x\", \"p_L_opp_R_x\", \"p_HCA_opp_N_x\", \"p_pts_won%_l60_decay_diff_x\", \"p_pts_won%_l60_decay_IO_diff_x\", \"p_SOS_adj_pts_won%_l60_decay_diff_x\", \"p_SOS_adj_pts_won%_l60_decay_IO_diff_x\", \"p_SOS_adj_pts_won%_l60_decay_IO_weighted_diff_x\", \"p_pts_won%_l10_diff_x\", \"p_SOS_adj_pts_won%_l10_diff_x\", \"p_sv_pts_won%_l60_decay_diff_x\", \"p_SOS_adj_sv_pts_won%_l60_decay_diff_x\", \"p_sv_pts_won%_l10_diff_x\", \"p_SOS_adj_sv_pts_won%_l10_diff_x\", \"p_ret_pts_won%_l60_decay_diff_x\", \"p_SOS_adj_ret_pts_won%_l60_decay_diff_x\", \"p_ret_pts_won%_l10_diff_x\", \"p_SOS_adj_ret_pts_won%_l10_diff_x\", \"p_sv_opp_ret_pts_won%_l60_decay_diff_x\", \"p_SOS_adj_sv_opp_ret_pts_won%_l60_decay_diff_x\", \"p_sv_opp_ret_pts_won%_l10_diff_x\", \"p_SOS_adj_sv_opp_ret_pts_won%_l10_diff_x\", \"p_ret_opp_sv_pts_won%_l60_decay_diff_x\", \"p_SOS_adj_ret_opp_sv_pts_won%_l60_decay_diff_x\", \"p_ret_opp_sv_pts_won%_l10_diff_x\", \"p_SOS_adj_ret_opp_sv_pts_won%_l10_diff_x\", \"p_ace%_l60_decay_diff_x\", \"p_SOS_adj_ace%_l60_decay_diff_x\", \"p_ace%_l10_diff_x\", \"p_SOS_adj_ace%_l10_diff_x\", \"p_aced%_l60_decay_diff_x\", \"p_SOS_adj_aced%_l60_decay_diff_x\", \"p_aced%_l10_diff_x\", \"p_SOS_adj_aced%_l10_diff_x\", \"p_ace%_opp_aced%_l60_decay_diff_x\", \"p_SOS_adj_ace%_opp_aced%_l60_decay_diff_x\", \"p_ace%_opp_aced%_l10_diff_x\", \"p_SOS_adj_ace%_opp_aced%_l10_diff_x\", \"p_aced%_opp_ace%_l60_decay_diff_x\", \"p_SOS_adj_aced%_opp_ace%_l60_decay_diff_x\", \"p_aced%_opp_ace%_l10_diff_x\", \"p_SOS_adj_aced%_opp_ace%_l10_diff_x\", \"p_bp_save%_l60_diff_x\", \"p_SOS_adj_bp_save%_l60_diff_x\", \"p_bp_save%_l10_diff_x\", \"p_SOS_adj_bp_save%_l10_diff_x\", \"p_bp_convert%_l60_diff_x\", \"p_SOS_adj_bp_convert%_l60_diff_x\", \"p_bp_convert%_l10_diff_x\", \"p_SOS_adj_bp_convert%_l10_diff_x\", \"p_bp_convert%_opp_bp_save%_l60_diff_x\", \"p_SOS_adj_bp_convert%_opp_bp_save%_l60_diff_x\", \"p_bp_convert%_opp_bp_save%_l10_diff_x\", \"p_SOS_adj_bp_convert%_opp_bp_save%_l10_diff_x\", \"p_bp_save%_opp_bp_convert%_l60_diff_x\", \"p_SOS_adj_bp_save%_opp_bp_convert%_l60_diff_x\", \"p_bp_save%_opp_bp_convert%_l10_diff_x\", \"p_SOS_adj_bp_save%_opp_bp_convert%_l10_diff_x\", \"p_pts_won%_std_l60_decay_diff_x\", \"p_sv_pts_won%_std_l60_decay_diff_x\", \"p_ret_pts_won%_std_l60_decay_diff_x\", \"p_m_time_last_diff_x\", \"p_tot_time_l6_diff_x\", \"p_tot_time_l6_decay_diff_x\", \"p_tot_pts_last_diff_x\", \"p_tot_pts_l6_diff_x\", \"p_tot_pts_l6_decay_diff_x\", \"p_matches_diff_x\", \"p_matches_surf_diff_x\", \"p_stamina_adj_fatigue_decay_diff_x\", \"p_stamina_adj_fatigue_diff_x\", \"p_H2H_diff_x\", \"p_H2H_pts_won%_diff_x\"], axis=1)\n",
    "df_losers4[\"m_outcome\"] = 0"
   ]
  },
  {
   "cell_type": "code",
   "execution_count": 207,
   "id": "6bc23b14",
   "metadata": {},
   "outputs": [],
   "source": [
    "#Renaming columns to remove winner-loser descriptions so we can re-concatenate winners and losers\n",
    "df_losers4 = df_losers4.set_axis([\"t_id\", \"t_date\", \"tour_wk\", \"t_name\", \"t_country\", \"t_surf\", \"t_indoor\", \"t_alt\", \"t_lvl\", \"t_draw_size\", \"t_rd_num\", \"m_num\", \"m_best_of\", \"m_time(m)\", \"m_tot_pts\", \"p_id\", \"p_name\", \"p_H2H_w\", \"p_H2H_pts_won%\", \"p_rank\", \"p_rank_pts\", \"p_country\", \"p_ent\", \"p_hd\", \"p_ht\", \"p_age\", \"p_matches\", \"p_matches_surf\", \"p_pts_won%\", \"p_pts_won%_l60_decay\", \"p_pts_won%_l60_decay_IO\", \"p_pts_won%_l10\", \"p_SOS_adj_pts_won%_l60_decay\", \"p_SOS_adj_pts_won%_l60_decay_IO\", \"p_SOS_adj_pts_won%_l60_decay_IO_weighted\", \"p_SOS_adj_pts_won%_l10\", \"p_sv_pts_won%\", \"p_sv_pts_won%_l60_decay\", \"p_sv_pts_won%_l10\", \"p_SOS_adj_sv_pts_won%_l60_decay\", \"p_SOS_adj_sv_pts_won%_l10\", \"p_ret_pts_won%\", \"p_ret_pts_won%_l60_decay\", \"p_ret_pts_won%_l10\", \"p_SOS_adj_ret_pts_won%_l60_decay\", \"p_SOS_adj_ret_pts_won%_l10\", \"p_ace%\", \"p_ace%_l60_decay\", \"p_ace%_l10\", \"p_SOS_adj_ace%_l60_decay\", \"p_SOS_adj_ace%_l10\", \"p_aced%\", \"p_aced%_l60_decay\", \"p_aced%_l10\", \"p_SOS_adj_aced%_l60_decay\", \"p_SOS_adj_aced%_l10\", \"p_bp_save%\", \"p_bp_save%_l60\", \"p_bp_save%_l10\", \"p_SOS_adj_bp_save%_l60\", \"p_SOS_adj_bp_save%_l10\", \"p_bp_convert%\", \"p_bp_convert%_l60\", \"p_bp_convert%_l10\", \"p_SOS_adj_bp_convert%_l60\", \"p_SOS_adj_bp_convert%_l10\", \"p_pts_won%_std_l60_decay\",'p_sv_pts_won%_std_l60_decay','p_ret_pts_won%_std_l60_decay', \"p_m_time_last\", \"p_tot_time_l6\", \"p_tot_time_l6_decay\", \"p_tot_pts_last\", \"p_tot_pts_l6\", \"p_tot_pts_l6_decay\", \"p_stamina_adj_fatigue_decay\", \"p_stamina_adj_fatigue\", \"p_opp_rank_diff\", \"p_log_rank\", \"p_opp_log_rank_diff\", \"p_opp_rank_pts_diff\", \"p_ent_diff\", \"p_opp_ht_diff\",\"p_opp_age_diff\",\"p_L_opp_R\",\"p_HCA_opp_N\", \"p_pts_won%_l60_decay_diff\", \"p_pts_won%_l60_decay_IO_diff\", \"p_SOS_adj_pts_won%_l60_decay_diff\", \"p_SOS_adj_pts_won%_l60_decay_IO_diff\", \"p_SOS_adj_pts_won%_l60_decay_IO_weighted_diff\", \"p_pts_won%_l10_diff\", \"p_SOS_adj_pts_won%_l10_diff\", \"p_sv_pts_won%_l60_decay_diff\", \"p_SOS_adj_sv_pts_won%_l60_decay_diff\", \"p_sv_pts_won%_l10_diff\", \"p_SOS_adj_sv_pts_won%_l10_diff\", \"p_ret_pts_won%_l60_decay_diff\", \"p_SOS_adj_ret_pts_won%_l60_decay_diff\", \"p_ret_pts_won%_l10_diff\", \"p_SOS_adj_ret_pts_won%_l10_diff\", \"p_sv_opp_ret_pts_won%_l60_decay_diff\", \"p_SOS_adj_sv_opp_ret_pts_won%_l60_decay_diff\", \"p_sv_opp_ret_pts_won%_l10_diff\", \"p_SOS_adj_sv_opp_ret_pts_won%_l10_diff\", \"p_ret_opp_sv_pts_won%_l60_decay_diff\", \"p_SOS_adj_ret_opp_sv_pts_won%_l60_decay_diff\", \"p_ret_opp_sv_pts_won%_l10_diff\", \"p_SOS_adj_ret_opp_sv_pts_won%_l10_diff\", \"p_ace%_l60_decay_diff\", \"p_SOS_adj_ace%_l60_decay_diff\", \"p_ace%_l10_diff\", \"p_SOS_adj_ace%_l10_diff\", \"p_aced%_l60_decay_diff\", \"p_SOS_adj_aced%_l60_decay_diff\", \"p_aced%_l10_diff\", \"p_SOS_adj_aced%_l10_diff\", \"p_ace%_opp_aced%_l60_decay_diff\", \"p_SOS_adj_ace%_opp_aced%_l60_decay_diff\", \"p_ace%_opp_aced%_l10_diff\", \"p_SOS_adj_ace%_opp_aced%_l10_diff\", \"p_aced%_opp_ace%_l60_decay_diff\", \"p_SOS_adj_aced%_opp_ace%_l60_decay_diff\", \"p_aced%_opp_ace%_l10_diff\", \"p_SOS_adj_aced%_opp_ace%_l10_diff\", \"p_bp_save%_l60_diff\", \"p_SOS_adj_bp_save%_l60_diff\", \"p_bp_save%_l10_diff\", \"p_SOS_adj_bp_save%_l10_diff\", \"p_bp_convert%_l60_diff\", \"p_SOS_adj_bp_convert%_l60_diff\", \"p_bp_convert%_l10_diff\", \"p_SOS_adj_bp_convert%_l10_diff\", \"p_bp_convert%_opp_bp_save%_l60_diff\", \"p_SOS_adj_bp_convert%_opp_bp_save%_l60_diff\", \"p_bp_convert%_opp_bp_save%_l10_diff\",  \"p_SOS_adj_bp_convert%_opp_bp_save%_l10_diff\", \"p_bp_save%_opp_bp_convert%_l60_diff\", \"p_SOS_adj_bp_save%_opp_bp_convert%_l60_diff\", \"p_bp_save%_opp_bp_convert%_l10_diff\", \"p_SOS_adj_bp_save%_opp_bp_convert%_l10_diff\", \"p_pts_won%_std_l60_decay_diff\", \"p_sv_pts_won%_std_l60_decay_diff\", \"p_ret_pts_won%_std_l60_decay_diff\", \"p_m_time_last_diff\", \"p_tot_time_l6_diff\", \"p_tot_time_l6_decay_diff\", \"p_tot_pts_last_diff\", \"p_tot_pts_l6_diff\", \"p_tot_pts_l6_decay_diff\", \"p_matches_diff\", \"p_matches_surf_diff\", \"p_stam_adj_fatigue_decay_diff\", \"p_stam_adj_fatigue_diff\", \"p_H2H_diff\", \"p_H2H_pts_won%_diff\", \"m_outcome\"], axis=1)"
   ]
  },
  {
   "cell_type": "code",
   "execution_count": 208,
   "id": "1537de93",
   "metadata": {},
   "outputs": [],
   "source": [
    "#Re-merge data, but now with no separate columns for winners and losers \n",
    "df_player4 = pd.concat([df_winners4, df_losers4], ignore_index=True)\n",
    "#df_player4.info()"
   ]
  },
  {
   "cell_type": "code",
   "execution_count": 209,
   "id": "858276c3",
   "metadata": {},
   "outputs": [],
   "source": [
    "#df_player4.head(30)"
   ]
  },
  {
   "cell_type": "code",
   "execution_count": 210,
   "id": "1bad60b4",
   "metadata": {},
   "outputs": [],
   "source": [
    "df_player5 = df_player4[[\"t_id\", \"t_date\", \"tour_wk\", \"t_name\", \"t_country\", \"t_surf\",\"t_indoor\", \"t_alt\", \"t_lvl\", \"t_draw_size\", \"t_rd_num\", \"m_num\", \"m_best_of\", \"m_time(m)\", \"m_tot_pts\", \"p_id\", \"p_name\", \"p_rank\", \"p_log_rank\", \"p_rank_pts\", \"p_country\", \"p_ent\", \"p_hd\", \"p_ht\", \"p_age\", \"p_matches\", \"p_matches_surf\", \"p_H2H_w\", \"p_H2H_pts_won%\", \"p_pts_won%\", \"p_pts_won%_l60_decay\", \"p_pts_won%_l60_decay_IO\", \"p_pts_won%_l10\", \"p_SOS_adj_pts_won%_l60_decay\", \"p_SOS_adj_pts_won%_l60_decay_IO\", \"p_SOS_adj_pts_won%_l60_decay_IO_weighted\", \"p_SOS_adj_pts_won%_l10\", \"p_sv_pts_won%\", \"p_sv_pts_won%_l60_decay\", \"p_sv_pts_won%_l10\", \"p_SOS_adj_sv_pts_won%_l60_decay\", \"p_SOS_adj_sv_pts_won%_l10\", \"p_ret_pts_won%\", \"p_ret_pts_won%_l60_decay\", \"p_ret_pts_won%_l10\", \"p_SOS_adj_ret_pts_won%_l60_decay\", \"p_SOS_adj_ret_pts_won%_l10\", \"p_ace%\", \"p_ace%_l60_decay\", \"p_ace%_l10\", \"p_SOS_adj_ace%_l60_decay\", \"p_SOS_adj_ace%_l10\", \"p_aced%\", \"p_aced%_l60_decay\", \"p_aced%_l10\", \"p_SOS_adj_aced%_l60_decay\", \"p_SOS_adj_aced%_l10\", \"p_bp_save%\", \"p_bp_save%_l60\", \"p_bp_save%_l10\", \"p_SOS_adj_bp_save%_l60\", \"p_SOS_adj_bp_save%_l10\", \"p_bp_convert%\", \"p_bp_convert%_l60\", \"p_bp_convert%_l10\", \"p_SOS_adj_bp_convert%_l60\", \"p_SOS_adj_bp_convert%_l10\", \"p_pts_won%_std_l60_decay\",'p_sv_pts_won%_std_l60_decay','p_ret_pts_won%_std_l60_decay', \"p_m_time_last\", \"p_tot_time_l6\", \"p_tot_time_l6_decay\", \"p_tot_pts_last\", \"p_tot_pts_l6\", \"p_tot_pts_l6_decay\", \"p_stamina_adj_fatigue\", \"p_stamina_adj_fatigue_decay\", \"p_opp_rank_diff\", \"p_opp_log_rank_diff\", \"p_opp_rank_pts_diff\", \"p_ent_diff\", \"p_opp_ht_diff\", \"p_opp_age_diff\", \"p_L_opp_R\", \"p_HCA_opp_N\", \"p_pts_won%_l60_decay_diff\", \"p_pts_won%_l60_decay_IO_diff\", \"p_SOS_adj_pts_won%_l60_decay_diff\", \"p_SOS_adj_pts_won%_l60_decay_IO_diff\", \"p_SOS_adj_pts_won%_l60_decay_IO_weighted_diff\", \"p_pts_won%_l10_diff\", \"p_SOS_adj_pts_won%_l10_diff\", \"p_sv_pts_won%_l60_decay_diff\", \"p_SOS_adj_sv_pts_won%_l60_decay_diff\", \"p_sv_pts_won%_l10_diff\", \"p_SOS_adj_sv_pts_won%_l10_diff\", \"p_ret_pts_won%_l60_decay_diff\", \"p_SOS_adj_ret_pts_won%_l60_decay_diff\", \"p_ret_pts_won%_l10_diff\", \"p_SOS_adj_ret_pts_won%_l10_diff\", \"p_sv_opp_ret_pts_won%_l60_decay_diff\", \"p_SOS_adj_sv_opp_ret_pts_won%_l60_decay_diff\", \"p_sv_opp_ret_pts_won%_l10_diff\", \"p_SOS_adj_sv_opp_ret_pts_won%_l10_diff\", \"p_ret_opp_sv_pts_won%_l60_decay_diff\", \"p_SOS_adj_ret_opp_sv_pts_won%_l60_decay_diff\", \"p_ret_opp_sv_pts_won%_l10_diff\", \"p_SOS_adj_ret_opp_sv_pts_won%_l10_diff\", \"p_ace%_l60_decay_diff\", \"p_SOS_adj_ace%_l60_decay_diff\", \"p_ace%_l10_diff\", \"p_SOS_adj_ace%_l10_diff\", \"p_aced%_l60_decay_diff\", \"p_SOS_adj_aced%_l60_decay_diff\", \"p_aced%_l10_diff\", \"p_SOS_adj_aced%_l10_diff\", \"p_ace%_opp_aced%_l60_decay_diff\", \"p_SOS_adj_ace%_opp_aced%_l60_decay_diff\", \"p_ace%_opp_aced%_l10_diff\", \"p_SOS_adj_ace%_opp_aced%_l10_diff\", \"p_aced%_opp_ace%_l60_decay_diff\", \"p_SOS_adj_aced%_opp_ace%_l60_decay_diff\", \"p_aced%_opp_ace%_l10_diff\", \"p_SOS_adj_aced%_opp_ace%_l10_diff\", \"p_bp_save%_l60_diff\", \"p_SOS_adj_bp_save%_l60_diff\", \"p_bp_save%_l10_diff\", \"p_SOS_adj_bp_save%_l10_diff\", \"p_bp_convert%_l60_diff\", \"p_SOS_adj_bp_convert%_l60_diff\", \"p_bp_convert%_l10_diff\", \"p_SOS_adj_bp_convert%_l10_diff\", \"p_bp_convert%_opp_bp_save%_l60_diff\", \"p_SOS_adj_bp_convert%_opp_bp_save%_l60_diff\", \"p_bp_convert%_opp_bp_save%_l10_diff\", \"p_SOS_adj_bp_convert%_opp_bp_save%_l10_diff\", \"p_bp_save%_opp_bp_convert%_l60_diff\", \"p_SOS_adj_bp_save%_opp_bp_convert%_l60_diff\", \"p_bp_save%_opp_bp_convert%_l10_diff\", \"p_SOS_adj_bp_save%_opp_bp_convert%_l10_diff\", \"p_pts_won%_std_l60_decay_diff\", \"p_sv_pts_won%_std_l60_decay_diff\", \"p_ret_pts_won%_std_l60_decay_diff\", \"p_m_time_last_diff\", \"p_tot_time_l6_diff\", \"p_tot_time_l6_decay_diff\", \"p_tot_pts_last_diff\", \"p_tot_pts_l6_diff\", \"p_tot_pts_l6_decay_diff\", \"p_matches_diff\", \"p_matches_surf_diff\", \"p_stam_adj_fatigue_diff\", \"p_stam_adj_fatigue_decay_diff\",  \"p_H2H_diff\", \"p_H2H_pts_won%_diff\", \"m_outcome\"]]"
   ]
  },
  {
   "cell_type": "code",
   "execution_count": 211,
   "id": "47e9cd74",
   "metadata": {},
   "outputs": [],
   "source": [
    "#Sorting as such helps visually verify the complicated, backward-looking stat accrual calculations we will make below\n",
    "df_player5 = df_player5.sort_values(by=['p_id','tour_wk','t_rd_num'], ascending = False)"
   ]
  },
  {
   "cell_type": "code",
   "execution_count": 212,
   "id": "fd9b33a0",
   "metadata": {},
   "outputs": [],
   "source": [
    "#df_player5.info()"
   ]
  },
  {
   "cell_type": "code",
   "execution_count": 213,
   "id": "c90885ea",
   "metadata": {},
   "outputs": [],
   "source": [
    "#df_player5.to_csv('../data/df_player5.csv', index=False)"
   ]
  },
  {
   "cell_type": "markdown",
   "id": "8852a906",
   "metadata": {},
   "source": [
    "Ideally, as close to real time a model of conditions before a given match we want to predict can be generated. Once a sufficient number of matches have been played in a given tournament, priors on court speed can be updated as well. \n",
    "\n",
    "For now, we will use ace% per given tournament from the previous year (when available) as a proxy for court speed. Conditions, of course, are dictated by a number of factors, including the balls, altitude, watering frequency (clay) and sand incorporation in the mix for hard courts. Also, indoor conditions tend to be faster than outdoor. This is challenging to model because all conditions variables are seldom the same from year to year at a given venue. Plus, even the weather at the time of a match will make a considerable difference in court conditions, possibly even greater than the underlying \"weather neutral\" conditions. "
   ]
  },
  {
   "cell_type": "code",
   "execution_count": 214,
   "id": "a340aaf3",
   "metadata": {},
   "outputs": [
    {
     "data": {
      "text/html": [
       "<div>\n",
       "<style scoped>\n",
       "    .dataframe tbody tr th:only-of-type {\n",
       "        vertical-align: middle;\n",
       "    }\n",
       "\n",
       "    .dataframe tbody tr th {\n",
       "        vertical-align: top;\n",
       "    }\n",
       "\n",
       "    .dataframe thead th {\n",
       "        text-align: right;\n",
       "    }\n",
       "</style>\n",
       "<table border=\"1\" class=\"dataframe\">\n",
       "  <thead>\n",
       "    <tr style=\"text-align: right;\">\n",
       "      <th></th>\n",
       "      <th>p_name</th>\n",
       "      <th>t_name</th>\n",
       "      <th>t_id</th>\n",
       "      <th>p_ace%</th>\n",
       "    </tr>\n",
       "  </thead>\n",
       "  <tbody>\n",
       "    <tr>\n",
       "      <th>50515</th>\n",
       "      <td>Zachary Svajda</td>\n",
       "      <td>US Open</td>\n",
       "      <td>2019-560</td>\n",
       "      <td>1.09</td>\n",
       "    </tr>\n",
       "    <tr>\n",
       "      <th>27557</th>\n",
       "      <td>Alibek Kachmazov</td>\n",
       "      <td>Moscow</td>\n",
       "      <td>2019-M014</td>\n",
       "      <td>4.82</td>\n",
       "    </tr>\n",
       "    <tr>\n",
       "      <th>28641</th>\n",
       "      <td>Emilio Nava</td>\n",
       "      <td>Acapulco</td>\n",
       "      <td>2019-M004</td>\n",
       "      <td>3.70</td>\n",
       "    </tr>\n",
       "    <tr>\n",
       "      <th>0</th>\n",
       "      <td>Jannik Sinner</td>\n",
       "      <td>NextGen Finals</td>\n",
       "      <td>2019-7696</td>\n",
       "      <td>3.85</td>\n",
       "    </tr>\n",
       "    <tr>\n",
       "      <th>1</th>\n",
       "      <td>Jannik Sinner</td>\n",
       "      <td>NextGen Finals</td>\n",
       "      <td>2019-7696</td>\n",
       "      <td>7.69</td>\n",
       "    </tr>\n",
       "  </tbody>\n",
       "</table>\n",
       "</div>"
      ],
      "text/plain": [
       "                 p_name          t_name       t_id  p_ace%\n",
       "50515    Zachary Svajda         US Open   2019-560    1.09\n",
       "27557  Alibek Kachmazov          Moscow  2019-M014    4.82\n",
       "28641       Emilio Nava        Acapulco  2019-M004    3.70\n",
       "0         Jannik Sinner  NextGen Finals  2019-7696    3.85\n",
       "1         Jannik Sinner  NextGen Finals  2019-7696    7.69"
      ]
     },
     "execution_count": 214,
     "metadata": {},
     "output_type": "execute_result"
    }
   ],
   "source": [
    "# First, generate by-tournament ace%\n",
    "t_ace_perc = df_player5[[\"p_name\",\"t_name\",\"t_id\",\"p_ace%\"]]\n",
    "t_ace_perc.head()"
   ]
  },
  {
   "cell_type": "code",
   "execution_count": 215,
   "id": "41ca4dc6",
   "metadata": {},
   "outputs": [
    {
     "name": "stdout",
     "output_type": "stream",
     "text": [
      "<class 'pandas.core.frame.DataFrame'>\n",
      "Int64Index: 54035 entries, 50515 to 35979\n",
      "Data columns (total 4 columns):\n",
      " #   Column  Non-Null Count  Dtype  \n",
      "---  ------  --------------  -----  \n",
      " 0   p_name  54035 non-null  object \n",
      " 1   t_name  54035 non-null  object \n",
      " 2   t_id    54035 non-null  object \n",
      " 3   p_ace%  54035 non-null  float64\n",
      "dtypes: float64(1), object(3)\n",
      "memory usage: 2.1+ MB\n"
     ]
    }
   ],
   "source": [
    "# Before computing by-tourny, by-year means, removing data from the three largest ace outliers in tennis history (apologies to Andy Roddick and Milos Raonic).\n",
    "# Their absense or presence, esecially if they go very deep in the tourny, really does make a big difference at the individual tourny level as far as ace stats.\n",
    "t_ace_perc = t_ace_perc[~t_ace_perc['p_name'].str.contains(\"Karlovic\")]\n",
    "t_ace_perc = t_ace_perc[~t_ace_perc['p_name'].str.contains(\"Isner\")]\n",
    "t_ace_perc = t_ace_perc[~t_ace_perc['p_name'].str.contains(\"Opelka\")]\n",
    "t_ace_perc.info()"
   ]
  },
  {
   "cell_type": "code",
   "execution_count": 216,
   "id": "a9aebdae",
   "metadata": {},
   "outputs": [
    {
     "data": {
      "text/html": [
       "<div>\n",
       "<style scoped>\n",
       "    .dataframe tbody tr th:only-of-type {\n",
       "        vertical-align: middle;\n",
       "    }\n",
       "\n",
       "    .dataframe tbody tr th {\n",
       "        vertical-align: top;\n",
       "    }\n",
       "\n",
       "    .dataframe thead th {\n",
       "        text-align: right;\n",
       "    }\n",
       "</style>\n",
       "<table border=\"1\" class=\"dataframe\">\n",
       "  <thead>\n",
       "    <tr style=\"text-align: right;\">\n",
       "      <th></th>\n",
       "      <th></th>\n",
       "      <th>p_ace%</th>\n",
       "    </tr>\n",
       "    <tr>\n",
       "      <th>t_id</th>\n",
       "      <th>t_name</th>\n",
       "      <th></th>\n",
       "    </tr>\n",
       "  </thead>\n",
       "  <tbody>\n",
       "    <tr>\n",
       "      <th>2008-1536</th>\n",
       "      <th>Madrid Masters(old)</th>\n",
       "      <td>8.90</td>\n",
       "    </tr>\n",
       "    <tr>\n",
       "      <th>2008-1720</th>\n",
       "      <th>Bangkok</th>\n",
       "      <td>9.89</td>\n",
       "    </tr>\n",
       "    <tr>\n",
       "      <th>2008-2276</th>\n",
       "      <th>Zagreb</th>\n",
       "      <td>9.69</td>\n",
       "    </tr>\n",
       "    <tr>\n",
       "      <th>2008-301</th>\n",
       "      <th>Auckland</th>\n",
       "      <td>6.47</td>\n",
       "    </tr>\n",
       "    <tr>\n",
       "      <th>2008-306</th>\n",
       "      <th>Poertschach</th>\n",
       "      <td>6.77</td>\n",
       "    </tr>\n",
       "    <tr>\n",
       "      <th>2008-308</th>\n",
       "      <th>Munich</th>\n",
       "      <td>6.52</td>\n",
       "    </tr>\n",
       "    <tr>\n",
       "      <th>2008-314</th>\n",
       "      <th>Gstaad</th>\n",
       "      <td>7.71</td>\n",
       "    </tr>\n",
       "    <tr>\n",
       "      <th>2008-316</th>\n",
       "      <th>Bastad</th>\n",
       "      <td>5.16</td>\n",
       "    </tr>\n",
       "    <tr>\n",
       "      <th>2008-317</th>\n",
       "      <th>Amersfoort</th>\n",
       "      <td>5.67</td>\n",
       "    </tr>\n",
       "    <tr>\n",
       "      <th>2008-319</th>\n",
       "      <th>Kitzbuhel</th>\n",
       "      <td>5.24</td>\n",
       "    </tr>\n",
       "    <tr>\n",
       "      <th>2008-321</th>\n",
       "      <th>Stuttgart</th>\n",
       "      <td>7.12</td>\n",
       "    </tr>\n",
       "    <tr>\n",
       "      <th>2008-328</th>\n",
       "      <th>Basel</th>\n",
       "      <td>10.97</td>\n",
       "    </tr>\n",
       "    <tr>\n",
       "      <th>2008-329</th>\n",
       "      <th>Tokyo</th>\n",
       "      <td>9.10</td>\n",
       "    </tr>\n",
       "    <tr>\n",
       "      <th>2008-3348</th>\n",
       "      <th>New Haven</th>\n",
       "      <td>6.92</td>\n",
       "    </tr>\n",
       "    <tr>\n",
       "      <th>2008-337</th>\n",
       "      <th>Vienna</th>\n",
       "      <td>7.11</td>\n",
       "    </tr>\n",
       "    <tr>\n",
       "      <th>2008-338</th>\n",
       "      <th>Sydney</th>\n",
       "      <td>8.06</td>\n",
       "    </tr>\n",
       "    <tr>\n",
       "      <th>2008-339</th>\n",
       "      <th>Adelaide</th>\n",
       "      <td>9.84</td>\n",
       "    </tr>\n",
       "    <tr>\n",
       "      <th>2008-341</th>\n",
       "      <th>Metz</th>\n",
       "      <td>10.68</td>\n",
       "    </tr>\n",
       "    <tr>\n",
       "      <th>2008-352</th>\n",
       "      <th>Paris Masters</th>\n",
       "      <td>10.25</td>\n",
       "    </tr>\n",
       "    <tr>\n",
       "      <th>2008-360</th>\n",
       "      <th>Casablanca</th>\n",
       "      <td>7.03</td>\n",
       "    </tr>\n",
       "  </tbody>\n",
       "</table>\n",
       "</div>"
      ],
      "text/plain": [
       "                               p_ace%\n",
       "t_id      t_name                     \n",
       "2008-1536 Madrid Masters(old)    8.90\n",
       "2008-1720 Bangkok                9.89\n",
       "2008-2276 Zagreb                 9.69\n",
       "2008-301  Auckland               6.47\n",
       "2008-306  Poertschach            6.77\n",
       "2008-308  Munich                 6.52\n",
       "2008-314  Gstaad                 7.71\n",
       "2008-316  Bastad                 5.16\n",
       "2008-317  Amersfoort             5.67\n",
       "2008-319  Kitzbuhel              5.24\n",
       "2008-321  Stuttgart              7.12\n",
       "2008-328  Basel                 10.97\n",
       "2008-329  Tokyo                  9.10\n",
       "2008-3348 New Haven              6.92\n",
       "2008-337  Vienna                 7.11\n",
       "2008-338  Sydney                 8.06\n",
       "2008-339  Adelaide               9.84\n",
       "2008-341  Metz                  10.68\n",
       "2008-352  Paris Masters         10.25\n",
       "2008-360  Casablanca             7.03"
      ]
     },
     "execution_count": 216,
     "metadata": {},
     "output_type": "execute_result"
    }
   ],
   "source": [
    "# computes mean ace % per tourny per year (minus the 6'7\" and above outliers removed above)\n",
    "t_ace_perc = t_ace_perc.groupby(['t_id','t_name']).mean().round(2)\n",
    "t_ace_perc.head(20)"
   ]
  },
  {
   "cell_type": "code",
   "execution_count": 217,
   "id": "d4a6de44",
   "metadata": {},
   "outputs": [
    {
     "data": {
      "text/html": [
       "<div>\n",
       "<style scoped>\n",
       "    .dataframe tbody tr th:only-of-type {\n",
       "        vertical-align: middle;\n",
       "    }\n",
       "\n",
       "    .dataframe tbody tr th {\n",
       "        vertical-align: top;\n",
       "    }\n",
       "\n",
       "    .dataframe thead th {\n",
       "        text-align: right;\n",
       "    }\n",
       "</style>\n",
       "<table border=\"1\" class=\"dataframe\">\n",
       "  <thead>\n",
       "    <tr style=\"text-align: right;\">\n",
       "      <th></th>\n",
       "      <th></th>\n",
       "      <th>p_ace%</th>\n",
       "    </tr>\n",
       "    <tr>\n",
       "      <th>t_id</th>\n",
       "      <th>t_name</th>\n",
       "      <th></th>\n",
       "    </tr>\n",
       "  </thead>\n",
       "  <tbody>\n",
       "    <tr>\n",
       "      <th>2019-9164</th>\n",
       "      <th>Zhuhai</th>\n",
       "      <td>6.46</td>\n",
       "    </tr>\n",
       "    <tr>\n",
       "      <th>2015-2276</th>\n",
       "      <th>Zagreb</th>\n",
       "      <td>7.94</td>\n",
       "    </tr>\n",
       "    <tr>\n",
       "      <th>2014-2276</th>\n",
       "      <th>Zagreb</th>\n",
       "      <td>8.76</td>\n",
       "    </tr>\n",
       "    <tr>\n",
       "      <th>2013-2276</th>\n",
       "      <th>Zagreb</th>\n",
       "      <td>8.28</td>\n",
       "    </tr>\n",
       "    <tr>\n",
       "      <th>2012-2276</th>\n",
       "      <th>Zagreb</th>\n",
       "      <td>8.24</td>\n",
       "    </tr>\n",
       "    <tr>\n",
       "      <th>...</th>\n",
       "      <th>...</th>\n",
       "      <td>...</td>\n",
       "    </tr>\n",
       "    <tr>\n",
       "      <th>2012-807</th>\n",
       "      <th>Acapulco</th>\n",
       "      <td>4.66</td>\n",
       "    </tr>\n",
       "    <tr>\n",
       "      <th>2011-807</th>\n",
       "      <th>Acapulco</th>\n",
       "      <td>4.69</td>\n",
       "    </tr>\n",
       "    <tr>\n",
       "      <th>2010-807</th>\n",
       "      <th>Acapulco</th>\n",
       "      <td>4.58</td>\n",
       "    </tr>\n",
       "    <tr>\n",
       "      <th>2009-807</th>\n",
       "      <th>Acapulco</th>\n",
       "      <td>6.32</td>\n",
       "    </tr>\n",
       "    <tr>\n",
       "      <th>2008-807</th>\n",
       "      <th>Acapulco</th>\n",
       "      <td>6.53</td>\n",
       "    </tr>\n",
       "  </tbody>\n",
       "</table>\n",
       "<p>709 rows × 1 columns</p>\n",
       "</div>"
      ],
      "text/plain": [
       "                    p_ace%\n",
       "t_id      t_name          \n",
       "2019-9164 Zhuhai      6.46\n",
       "2015-2276 Zagreb      7.94\n",
       "2014-2276 Zagreb      8.76\n",
       "2013-2276 Zagreb      8.28\n",
       "2012-2276 Zagreb      8.24\n",
       "...                    ...\n",
       "2012-807  Acapulco    4.66\n",
       "2011-807  Acapulco    4.69\n",
       "2010-807  Acapulco    4.58\n",
       "2009-807  Acapulco    6.32\n",
       "2008-807  Acapulco    6.53\n",
       "\n",
       "[709 rows x 1 columns]"
      ]
     },
     "execution_count": 217,
     "metadata": {},
     "output_type": "execute_result"
    }
   ],
   "source": [
    "t_ace_perc = t_ace_perc.sort_values(by=['t_name','t_id'], ascending = False)\n",
    "t_ace_perc"
   ]
  },
  {
   "cell_type": "code",
   "execution_count": 218,
   "id": "3ccdf655",
   "metadata": {},
   "outputs": [],
   "source": [
    "t_ace_perc.rename(columns = {'p_ace%':'t_ace%'}, inplace=True)"
   ]
  },
  {
   "cell_type": "code",
   "execution_count": 219,
   "id": "15dca176",
   "metadata": {},
   "outputs": [],
   "source": [
    "#t_ace_perc.info()"
   ]
  },
  {
   "cell_type": "code",
   "execution_count": 220,
   "id": "18871119",
   "metadata": {},
   "outputs": [],
   "source": [
    "#t_ace_perc.to_csv('../data/t_ace_perc.csv', index=True)"
   ]
  },
  {
   "cell_type": "code",
   "execution_count": 221,
   "id": "b1554d11",
   "metadata": {},
   "outputs": [
    {
     "data": {
      "text/html": [
       "<div>\n",
       "<style scoped>\n",
       "    .dataframe tbody tr th:only-of-type {\n",
       "        vertical-align: middle;\n",
       "    }\n",
       "\n",
       "    .dataframe tbody tr th {\n",
       "        vertical-align: top;\n",
       "    }\n",
       "\n",
       "    .dataframe thead th {\n",
       "        text-align: right;\n",
       "    }\n",
       "</style>\n",
       "<table border=\"1\" class=\"dataframe\">\n",
       "  <thead>\n",
       "    <tr style=\"text-align: right;\">\n",
       "      <th></th>\n",
       "      <th></th>\n",
       "      <th>t_ace%</th>\n",
       "      <th>t_ace%_last</th>\n",
       "    </tr>\n",
       "    <tr>\n",
       "      <th>t_id</th>\n",
       "      <th>t_name</th>\n",
       "      <th></th>\n",
       "      <th></th>\n",
       "    </tr>\n",
       "  </thead>\n",
       "  <tbody>\n",
       "    <tr>\n",
       "      <th>2019-9164</th>\n",
       "      <th>Zhuhai</th>\n",
       "      <td>6.46</td>\n",
       "      <td>NaN</td>\n",
       "    </tr>\n",
       "    <tr>\n",
       "      <th>2015-2276</th>\n",
       "      <th>Zagreb</th>\n",
       "      <td>7.94</td>\n",
       "      <td>8.76</td>\n",
       "    </tr>\n",
       "    <tr>\n",
       "      <th>2014-2276</th>\n",
       "      <th>Zagreb</th>\n",
       "      <td>8.76</td>\n",
       "      <td>8.28</td>\n",
       "    </tr>\n",
       "    <tr>\n",
       "      <th>2013-2276</th>\n",
       "      <th>Zagreb</th>\n",
       "      <td>8.28</td>\n",
       "      <td>8.24</td>\n",
       "    </tr>\n",
       "    <tr>\n",
       "      <th>2012-2276</th>\n",
       "      <th>Zagreb</th>\n",
       "      <td>8.24</td>\n",
       "      <td>7.82</td>\n",
       "    </tr>\n",
       "    <tr>\n",
       "      <th>...</th>\n",
       "      <th>...</th>\n",
       "      <td>...</td>\n",
       "      <td>...</td>\n",
       "    </tr>\n",
       "    <tr>\n",
       "      <th>2012-807</th>\n",
       "      <th>Acapulco</th>\n",
       "      <td>4.66</td>\n",
       "      <td>4.69</td>\n",
       "    </tr>\n",
       "    <tr>\n",
       "      <th>2011-807</th>\n",
       "      <th>Acapulco</th>\n",
       "      <td>4.69</td>\n",
       "      <td>4.58</td>\n",
       "    </tr>\n",
       "    <tr>\n",
       "      <th>2010-807</th>\n",
       "      <th>Acapulco</th>\n",
       "      <td>4.58</td>\n",
       "      <td>6.32</td>\n",
       "    </tr>\n",
       "    <tr>\n",
       "      <th>2009-807</th>\n",
       "      <th>Acapulco</th>\n",
       "      <td>6.32</td>\n",
       "      <td>6.53</td>\n",
       "    </tr>\n",
       "    <tr>\n",
       "      <th>2008-807</th>\n",
       "      <th>Acapulco</th>\n",
       "      <td>6.53</td>\n",
       "      <td>NaN</td>\n",
       "    </tr>\n",
       "  </tbody>\n",
       "</table>\n",
       "<p>709 rows × 2 columns</p>\n",
       "</div>"
      ],
      "text/plain": [
       "                    t_ace%  t_ace%_last\n",
       "t_id      t_name                       \n",
       "2019-9164 Zhuhai      6.46          NaN\n",
       "2015-2276 Zagreb      7.94         8.76\n",
       "2014-2276 Zagreb      8.76         8.28\n",
       "2013-2276 Zagreb      8.28         8.24\n",
       "2012-2276 Zagreb      8.24         7.82\n",
       "...                    ...          ...\n",
       "2012-807  Acapulco    4.66         4.69\n",
       "2011-807  Acapulco    4.69         4.58\n",
       "2010-807  Acapulco    4.58         6.32\n",
       "2009-807  Acapulco    6.32         6.53\n",
       "2008-807  Acapulco    6.53          NaN\n",
       "\n",
       "[709 rows x 2 columns]"
      ]
     },
     "execution_count": 221,
     "metadata": {},
     "output_type": "execute_result"
    }
   ],
   "source": [
    "# For each tourny in the sample, applies the previous year's ace% from the same tourney (where available) as the speed conditions proxy\n",
    "t_ace_perc[\"t_ace%_last\"] = t_ace_perc.groupby('t_name')['t_ace%'].shift(-1)\n",
    "t_ace_perc"
   ]
  },
  {
   "cell_type": "code",
   "execution_count": 222,
   "id": "f7e2b910",
   "metadata": {},
   "outputs": [],
   "source": [
    "# Now we can just do a left join with the main dataframe on t_id to fill in the proper last year's value for each player/match\n",
    "df_player6 = df_player5.merge(t_ace_perc['t_ace%_last'], on='t_id', how = 'left')"
   ]
  },
  {
   "cell_type": "code",
   "execution_count": 223,
   "id": "b2789cf0",
   "metadata": {},
   "outputs": [],
   "source": [
    "#df_player6.info()"
   ]
  },
  {
   "cell_type": "markdown",
   "id": "8c30e545",
   "metadata": {},
   "source": [
    "For tournaments without a prior year to assess conditions from (mostly tournies from the first year of the sample (2012) that we won't actually make predictions on, we will just use the overall sample mean for its' surface (hard or clay) and indoor or outdoor status. "
   ]
  },
  {
   "cell_type": "code",
   "execution_count": 224,
   "id": "70fedfb4",
   "metadata": {},
   "outputs": [
    {
     "name": "stdout",
     "output_type": "stream",
     "text": [
      "<class 'pandas.core.frame.DataFrame'>\n",
      "Int64Index: 55064 entries, 50515 to 35979\n",
      "Data columns (total 7 columns):\n",
      " #   Column    Non-Null Count  Dtype  \n",
      "---  ------    --------------  -----  \n",
      " 0   p_name    55064 non-null  object \n",
      " 1   t_name    55064 non-null  object \n",
      " 2   t_id      55064 non-null  object \n",
      " 3   t_surf    55064 non-null  object \n",
      " 4   t_indoor  55064 non-null  int64  \n",
      " 5   t_alt     55064 non-null  int64  \n",
      " 6   p_ace%    55064 non-null  float64\n",
      "dtypes: float64(1), int64(2), object(4)\n",
      "memory usage: 3.4+ MB\n"
     ]
    }
   ],
   "source": [
    "surface_ace_perc_means = df_player5[[\"p_name\", \"t_name\",\"t_id\",\"t_surf\",\"t_indoor\",\"t_alt\",\"p_ace%\"]]\n",
    "surface_ace_perc_means.info()"
   ]
  },
  {
   "cell_type": "code",
   "execution_count": 225,
   "id": "557d5a39",
   "metadata": {},
   "outputs": [
    {
     "name": "stdout",
     "output_type": "stream",
     "text": [
      "<class 'pandas.core.frame.DataFrame'>\n",
      "Int64Index: 54035 entries, 50515 to 35979\n",
      "Data columns (total 7 columns):\n",
      " #   Column    Non-Null Count  Dtype  \n",
      "---  ------    --------------  -----  \n",
      " 0   p_name    54035 non-null  object \n",
      " 1   t_name    54035 non-null  object \n",
      " 2   t_id      54035 non-null  object \n",
      " 3   t_surf    54035 non-null  object \n",
      " 4   t_indoor  54035 non-null  int64  \n",
      " 5   t_alt     54035 non-null  int64  \n",
      " 6   p_ace%    54035 non-null  float64\n",
      "dtypes: float64(1), int64(2), object(4)\n",
      "memory usage: 3.3+ MB\n"
     ]
    }
   ],
   "source": [
    "# as with the by-tourny means above, removing the extreme ace outliers before computing the by surface averages for filling in the NaNs\n",
    "surface_ace_perc_means = surface_ace_perc_means[~surface_ace_perc_means['p_name'].str.contains(\"Karlovic\")]\n",
    "surface_ace_perc_means = surface_ace_perc_means[~surface_ace_perc_means['p_name'].str.contains(\"Isner\")]\n",
    "surface_ace_perc_means = surface_ace_perc_means[~surface_ace_perc_means['p_name'].str.contains(\"Opelka\")]\n",
    "surface_ace_perc_means.info()"
   ]
  },
  {
   "cell_type": "code",
   "execution_count": 226,
   "id": "726ccc2e",
   "metadata": {},
   "outputs": [
    {
     "data": {
      "text/html": [
       "<div>\n",
       "<style scoped>\n",
       "    .dataframe tbody tr th:only-of-type {\n",
       "        vertical-align: middle;\n",
       "    }\n",
       "\n",
       "    .dataframe tbody tr th {\n",
       "        vertical-align: top;\n",
       "    }\n",
       "\n",
       "    .dataframe thead th {\n",
       "        text-align: right;\n",
       "    }\n",
       "</style>\n",
       "<table border=\"1\" class=\"dataframe\">\n",
       "  <thead>\n",
       "    <tr style=\"text-align: right;\">\n",
       "      <th></th>\n",
       "      <th></th>\n",
       "      <th>t_alt</th>\n",
       "      <th>t_ace%</th>\n",
       "    </tr>\n",
       "    <tr>\n",
       "      <th>t_surf</th>\n",
       "      <th>t_indoor</th>\n",
       "      <th></th>\n",
       "      <th></th>\n",
       "    </tr>\n",
       "  </thead>\n",
       "  <tbody>\n",
       "    <tr>\n",
       "      <th rowspan=\"2\" valign=\"top\">Clay</th>\n",
       "      <th>0</th>\n",
       "      <td>0.05</td>\n",
       "      <td>5.32</td>\n",
       "    </tr>\n",
       "    <tr>\n",
       "      <th>1</th>\n",
       "      <td>0.00</td>\n",
       "      <td>6.18</td>\n",
       "    </tr>\n",
       "    <tr>\n",
       "      <th rowspan=\"2\" valign=\"top\">Hard</th>\n",
       "      <th>0</th>\n",
       "      <td>0.01</td>\n",
       "      <td>8.17</td>\n",
       "    </tr>\n",
       "    <tr>\n",
       "      <th>1</th>\n",
       "      <td>0.00</td>\n",
       "      <td>8.98</td>\n",
       "    </tr>\n",
       "  </tbody>\n",
       "</table>\n",
       "</div>"
      ],
      "text/plain": [
       "                 t_alt  t_ace%\n",
       "t_surf t_indoor               \n",
       "Clay   0          0.05    5.32\n",
       "       1          0.00    6.18\n",
       "Hard   0          0.01    8.17\n",
       "       1          0.00    8.98"
      ]
     },
     "execution_count": 226,
     "metadata": {},
     "output_type": "execute_result"
    }
   ],
   "source": [
    "# computes mean across all matches played on one surface in the sample (clay or hard court). Used to fill in NaNs with surface=specificity\n",
    "surface_ace_perc_means = surface_ace_perc_means.groupby(['t_surf','t_indoor']).mean().round(2)\n",
    "surface_ace_perc_means.rename(columns = {'p_ace%':'t_ace%'}, inplace=True)\n",
    "surface_ace_perc_means"
   ]
  },
  {
   "cell_type": "code",
   "execution_count": 227,
   "id": "c21bd599",
   "metadata": {},
   "outputs": [
    {
     "data": {
      "text/plain": [
       "(5.32, 6.18, 8.17, 8.98)"
      ]
     },
     "execution_count": 227,
     "metadata": {},
     "output_type": "execute_result"
    }
   ],
   "source": [
    "surface_ace_perc_means[\"t_ace%\"][0], surface_ace_perc_means[\"t_ace%\"][1], surface_ace_perc_means[\"t_ace%\"][2], surface_ace_perc_means[\"t_ace%\"][3] "
   ]
  },
  {
   "cell_type": "code",
   "execution_count": 228,
   "id": "01cf8b29",
   "metadata": {},
   "outputs": [],
   "source": [
    "# Assigns overall sample means per surface, per indoor-outdoor status to matches with no previous year value\n",
    "# Additionally, a few tournaments (Quito and Gstaad on outdoor clay, Bogota on outdoor hard) at extreme altitude \n",
    "# get a little boost (1.5%) over the above mean given known effects above around 3,000 ft\n",
    "\n",
    "df_player6.loc[(df_player6[\"t_ace%_last\"].isnull()) & (df_player6[\"t_surf\"] == \"Clay\") & (df_player6[\"t_indoor\"] == 0) & (df_player6[\"t_alt\"] == 0), \"t_ace%_last\"] = surface_ace_perc_means[\"t_ace%\"][0] \n",
    "df_player6.loc[(df_player6[\"t_ace%_last\"].isnull()) & (df_player6[\"t_surf\"] == \"Clay\") & (df_player6[\"t_indoor\"] == 0) & (df_player6[\"t_alt\"] == 1), \"t_ace%_last\"] = (surface_ace_perc_means[\"t_ace%\"][0]) + 1.5 \n",
    "\n",
    "df_player6.loc[(df_player6[\"t_ace%_last\"].isnull()) & (df_player6[\"t_surf\"] == \"Clay\") & (df_player6[\"t_indoor\"] == 1), \"t_ace%_last\"] = surface_ace_perc_means[\"t_ace%\"][1] \n",
    "\n",
    "df_player6.loc[(df_player6[\"t_ace%_last\"].isnull()) & (df_player6[\"t_surf\"] == \"Hard\") & (df_player6[\"t_indoor\"] == 0) & (df_player6[\"t_alt\"] == 0), \"t_ace%_last\"] = surface_ace_perc_means[\"t_ace%\"][2]\n",
    "df_player6.loc[(df_player6[\"t_ace%_last\"].isnull()) & (df_player6[\"t_surf\"] == \"Hard\") & (df_player6[\"t_indoor\"] == 0) & (df_player6[\"t_alt\"] == 1), \"t_ace%_last\"] = (surface_ace_perc_means[\"t_ace%\"][2]) + 1.5\n",
    "\n",
    "df_player6.loc[(df_player6[\"t_ace%_last\"].isnull()) & (df_player6[\"t_surf\"] == \"Hard\") & (df_player6[\"t_indoor\"] == 1), \"t_ace%_last\"] = surface_ace_perc_means[\"t_ace%\"][3]"
   ]
  },
  {
   "cell_type": "markdown",
   "id": "4abfd0c3",
   "metadata": {},
   "source": [
    "This historic court speed proxy data is potentially useful to put player characteristics in context of the court speed at the tournment in which the match being predicted on is played. To this end, below are created two marker columns per player per match to be predicted on. The first column indicates whether the tournament at hand has an ace rate > 1 std higher than the surface average AND the PLAYER also has an ace rate > 1 std than the surface average. The second column indicates whether the tournament at hand has an ace rate > 1 std higher than the surface average AND the PLAYER also has an ACED rate > 1 std above the surface average ace rate.  "
   ]
  },
  {
   "cell_type": "code",
   "execution_count": 229,
   "id": "3b4a9fe1",
   "metadata": {},
   "outputs": [
    {
     "data": {
      "text/html": [
       "<div>\n",
       "<style scoped>\n",
       "    .dataframe tbody tr th:only-of-type {\n",
       "        vertical-align: middle;\n",
       "    }\n",
       "\n",
       "    .dataframe tbody tr th {\n",
       "        vertical-align: top;\n",
       "    }\n",
       "\n",
       "    .dataframe thead th {\n",
       "        text-align: right;\n",
       "    }\n",
       "</style>\n",
       "<table border=\"1\" class=\"dataframe\">\n",
       "  <thead>\n",
       "    <tr style=\"text-align: right;\">\n",
       "      <th></th>\n",
       "      <th></th>\n",
       "      <th>p_ace%</th>\n",
       "    </tr>\n",
       "    <tr>\n",
       "      <th>t_surf</th>\n",
       "      <th>t_id</th>\n",
       "      <th></th>\n",
       "    </tr>\n",
       "  </thead>\n",
       "  <tbody>\n",
       "    <tr>\n",
       "      <th rowspan=\"5\" valign=\"top\">Clay</th>\n",
       "      <th>2008-306</th>\n",
       "      <td>6.77</td>\n",
       "    </tr>\n",
       "    <tr>\n",
       "      <th>2008-308</th>\n",
       "      <td>6.52</td>\n",
       "    </tr>\n",
       "    <tr>\n",
       "      <th>2008-314</th>\n",
       "      <td>7.71</td>\n",
       "    </tr>\n",
       "    <tr>\n",
       "      <th>2008-316</th>\n",
       "      <td>5.16</td>\n",
       "    </tr>\n",
       "    <tr>\n",
       "      <th>2008-317</th>\n",
       "      <td>5.67</td>\n",
       "    </tr>\n",
       "    <tr>\n",
       "      <th>...</th>\n",
       "      <th>...</th>\n",
       "      <td>...</td>\n",
       "    </tr>\n",
       "    <tr>\n",
       "      <th rowspan=\"5\" valign=\"top\">Hard</th>\n",
       "      <th>2019-M014</th>\n",
       "      <td>8.98</td>\n",
       "    </tr>\n",
       "    <tr>\n",
       "      <th>2019-M015</th>\n",
       "      <td>9.21</td>\n",
       "    </tr>\n",
       "    <tr>\n",
       "      <th>2019-M020</th>\n",
       "      <td>13.11</td>\n",
       "    </tr>\n",
       "    <tr>\n",
       "      <th>2019-M024</th>\n",
       "      <td>8.73</td>\n",
       "    </tr>\n",
       "    <tr>\n",
       "      <th>2019-M035</th>\n",
       "      <td>11.29</td>\n",
       "    </tr>\n",
       "  </tbody>\n",
       "</table>\n",
       "<p>709 rows × 1 columns</p>\n",
       "</div>"
      ],
      "text/plain": [
       "                  p_ace%\n",
       "t_surf t_id             \n",
       "Clay   2008-306     6.77\n",
       "       2008-308     6.52\n",
       "       2008-314     7.71\n",
       "       2008-316     5.16\n",
       "       2008-317     5.67\n",
       "...                  ...\n",
       "Hard   2019-M014    8.98\n",
       "       2019-M015    9.21\n",
       "       2019-M020   13.11\n",
       "       2019-M024    8.73\n",
       "       2019-M035   11.29\n",
       "\n",
       "[709 rows x 1 columns]"
      ]
     },
     "execution_count": 229,
     "metadata": {},
     "output_type": "execute_result"
    }
   ],
   "source": [
    "# Surface ace rate per tourney, per surface (collapsed across indoor and outdoor per surface; ace outliers still removed)\n",
    "surface_ace_perc_means2 = df_player5[[\"p_name\", \"t_name\",\"t_id\",\"t_surf\",\"p_ace%\"]]\n",
    "surface_ace_perc_means2 = surface_ace_perc_means2[~surface_ace_perc_means2['p_name'].str.contains(\"Karlovic\")]\n",
    "surface_ace_perc_means2 = surface_ace_perc_means2[~surface_ace_perc_means2['p_name'].str.contains(\"Isner\")]\n",
    "surface_ace_perc_means2 = surface_ace_perc_means2[~surface_ace_perc_means2['p_name'].str.contains(\"Opelka\")]\n",
    "surface_ace_perc_means2 = surface_ace_perc_means2.groupby(['t_surf','t_id']).mean().round(2)\n",
    "#surface_ace_perc_means2.rename(columns = {'p_ace%':'t_ace%'}, inplace=True)\n",
    "surface_ace_perc_means2"
   ]
  },
  {
   "cell_type": "code",
   "execution_count": 230,
   "id": "714d2c2c",
   "metadata": {},
   "outputs": [],
   "source": [
    "#surface_ace_perc_means2.to_csv('../data/surface_ace_perc_means2.csv', index=True)"
   ]
  },
  {
   "cell_type": "code",
   "execution_count": 231,
   "id": "4bc196ba",
   "metadata": {},
   "outputs": [],
   "source": [
    "# Mean ace rate per surface (using means at BY TOURNAMENT LEVEL generated above)\n",
    "surface_ace_perc_means3 = surface_ace_perc_means2.groupby(['t_surf']).mean().round(2)\n",
    "surface_ace_perc_means3.rename(columns = {'p_ace%':'t_ace%'}, inplace=True)\n",
    "#surface_ace_perc_means3\n",
    "\n",
    "# Ace rate stdev (using stdev at BY TOURNAMENT LEVEL generated above)\n",
    "surface_ace_perc_std = surface_ace_perc_means2.groupby(['t_surf']).std().round(2)\n",
    "surface_ace_perc_std.rename(columns = {'p_ace%':'t_ace%'}, inplace=True)\n",
    "#surface_ace_perc_std"
   ]
  },
  {
   "cell_type": "code",
   "execution_count": 232,
   "id": "2347dd7d",
   "metadata": {},
   "outputs": [
    {
     "data": {
      "text/plain": [
       "(5.31, 8.56)"
      ]
     },
     "execution_count": 232,
     "metadata": {},
     "output_type": "execute_result"
    }
   ],
   "source": [
    "surface_ace_perc_means3[\"t_ace%\"][0], surface_ace_perc_means3[\"t_ace%\"][1]"
   ]
  },
  {
   "cell_type": "code",
   "execution_count": 233,
   "id": "20470468",
   "metadata": {},
   "outputs": [
    {
     "data": {
      "text/plain": [
       "(1.2, 1.58)"
      ]
     },
     "execution_count": 233,
     "metadata": {},
     "output_type": "execute_result"
    }
   ],
   "source": [
    "surface_ace_perc_std[\"t_ace%\"][0], surface_ace_perc_std[\"t_ace%\"][1]"
   ]
  },
  {
   "cell_type": "code",
   "execution_count": 234,
   "id": "3353c9cc",
   "metadata": {},
   "outputs": [],
   "source": [
    "# Now we want to assess mean and std for SOS_adjusted ace and aced% over the last l60, on a surface-specific basis "
   ]
  },
  {
   "cell_type": "code",
   "execution_count": 235,
   "id": "4239609a",
   "metadata": {},
   "outputs": [
    {
     "data": {
      "text/html": [
       "<div>\n",
       "<style scoped>\n",
       "    .dataframe tbody tr th:only-of-type {\n",
       "        vertical-align: middle;\n",
       "    }\n",
       "\n",
       "    .dataframe tbody tr th {\n",
       "        vertical-align: top;\n",
       "    }\n",
       "\n",
       "    .dataframe thead th {\n",
       "        text-align: right;\n",
       "    }\n",
       "</style>\n",
       "<table border=\"1\" class=\"dataframe\">\n",
       "  <thead>\n",
       "    <tr style=\"text-align: right;\">\n",
       "      <th></th>\n",
       "      <th>p_SOS_adj_ace%_l60_decay</th>\n",
       "    </tr>\n",
       "    <tr>\n",
       "      <th>t_surf</th>\n",
       "      <th></th>\n",
       "    </tr>\n",
       "  </thead>\n",
       "  <tbody>\n",
       "    <tr>\n",
       "      <th>Clay</th>\n",
       "      <td>5.58</td>\n",
       "    </tr>\n",
       "    <tr>\n",
       "      <th>Hard</th>\n",
       "      <td>8.56</td>\n",
       "    </tr>\n",
       "  </tbody>\n",
       "</table>\n",
       "</div>"
      ],
      "text/plain": [
       "        p_SOS_adj_ace%_l60_decay\n",
       "t_surf                          \n",
       "Clay                        5.58\n",
       "Hard                        8.56"
      ]
     },
     "execution_count": 235,
     "metadata": {},
     "output_type": "execute_result"
    }
   ],
   "source": [
    "player_ace_l60_perc_means = df_player5[[\"p_name\", \"t_surf\",\"p_SOS_adj_ace%_l60_decay\"]]\n",
    "player_ace_l60_perc_means = player_ace_l60_perc_means[~player_ace_l60_perc_means['p_name'].str.contains(\"Karlovic\")]\n",
    "player_ace_l60_perc_means = player_ace_l60_perc_means[~player_ace_l60_perc_means['p_name'].str.contains(\"Isner\")]\n",
    "player_ace_l60_perc_means = player_ace_l60_perc_means[~player_ace_l60_perc_means['p_name'].str.contains(\"Opelka\")]\n",
    "player_ace_l60_perc_means = player_ace_l60_perc_means.groupby(['t_surf']).mean().round(2)\n",
    "player_ace_l60_perc_means"
   ]
  },
  {
   "cell_type": "code",
   "execution_count": 236,
   "id": "f72baaad",
   "metadata": {},
   "outputs": [
    {
     "data": {
      "text/plain": [
       "(5.58, 8.56)"
      ]
     },
     "execution_count": 236,
     "metadata": {},
     "output_type": "execute_result"
    }
   ],
   "source": [
    "player_ace_l60_perc_means[\"p_SOS_adj_ace%_l60_decay\"][0], player_ace_l60_perc_means[\"p_SOS_adj_ace%_l60_decay\"][1]"
   ]
  },
  {
   "cell_type": "code",
   "execution_count": 237,
   "id": "5cfbefc2",
   "metadata": {},
   "outputs": [
    {
     "data": {
      "text/html": [
       "<div>\n",
       "<style scoped>\n",
       "    .dataframe tbody tr th:only-of-type {\n",
       "        vertical-align: middle;\n",
       "    }\n",
       "\n",
       "    .dataframe tbody tr th {\n",
       "        vertical-align: top;\n",
       "    }\n",
       "\n",
       "    .dataframe thead th {\n",
       "        text-align: right;\n",
       "    }\n",
       "</style>\n",
       "<table border=\"1\" class=\"dataframe\">\n",
       "  <thead>\n",
       "    <tr style=\"text-align: right;\">\n",
       "      <th></th>\n",
       "      <th>p_SOS_adj_ace%_l60_decay</th>\n",
       "    </tr>\n",
       "    <tr>\n",
       "      <th>t_surf</th>\n",
       "      <th></th>\n",
       "    </tr>\n",
       "  </thead>\n",
       "  <tbody>\n",
       "    <tr>\n",
       "      <th>Clay</th>\n",
       "      <td>2.96</td>\n",
       "    </tr>\n",
       "    <tr>\n",
       "      <th>Hard</th>\n",
       "      <td>4.14</td>\n",
       "    </tr>\n",
       "  </tbody>\n",
       "</table>\n",
       "</div>"
      ],
      "text/plain": [
       "        p_SOS_adj_ace%_l60_decay\n",
       "t_surf                          \n",
       "Clay                        2.96\n",
       "Hard                        4.14"
      ]
     },
     "execution_count": 237,
     "metadata": {},
     "output_type": "execute_result"
    }
   ],
   "source": [
    "player_ace_l60_perc_std = df_player5[[\"p_name\", \"t_surf\",\"p_SOS_adj_ace%_l60_decay\"]]\n",
    "player_ace_l60_perc_std = player_ace_l60_perc_std[~player_ace_l60_perc_std['p_name'].str.contains(\"Karlovic\")]\n",
    "player_ace_l60_perc_std = player_ace_l60_perc_std[~player_ace_l60_perc_std['p_name'].str.contains(\"Isner\")]\n",
    "player_ace_l60_perc_std = player_ace_l60_perc_std[~player_ace_l60_perc_std['p_name'].str.contains(\"Opelka\")]\n",
    "player_ace_l60_perc_std = player_ace_l60_perc_std.groupby(['t_surf']).std().round(2)\n",
    "player_ace_l60_perc_std"
   ]
  },
  {
   "cell_type": "code",
   "execution_count": 238,
   "id": "45f12f94",
   "metadata": {},
   "outputs": [
    {
     "data": {
      "text/plain": [
       "(2.96, 4.14)"
      ]
     },
     "execution_count": 238,
     "metadata": {},
     "output_type": "execute_result"
    }
   ],
   "source": [
    "player_ace_l60_perc_std[\"p_SOS_adj_ace%_l60_decay\"][0], player_ace_l60_perc_std[\"p_SOS_adj_ace%_l60_decay\"][1]"
   ]
  },
  {
   "cell_type": "code",
   "execution_count": 239,
   "id": "c77ed0ee",
   "metadata": {},
   "outputs": [],
   "source": [
    "# Marker column for tournament high court speed proxy AND player high ace rate\n",
    "# Plus or minus fractional standard deviation thresholds for tourney and player calibrated in univariate linear modeling\n",
    "df_player6[\"high_t_ace_p_ace\"] = \"\"\n",
    "df_player6.loc[(df_player6[\"t_surf\"] == \"Clay\") & (df_player6[\"t_ace%_last\"] > (surface_ace_perc_means3[\"t_ace%\"][0] + (0.35*surface_ace_perc_std[\"t_ace%\"][0]))) & (df_player6[\"p_SOS_adj_ace%_l60_decay\"] > (player_ace_l60_perc_means[\"p_SOS_adj_ace%_l60_decay\"][0] + (0.4*player_ace_l60_perc_std[\"p_SOS_adj_ace%_l60_decay\"][0]))), \"high_t_ace_p_ace\"] = 1\n",
    "df_player6.loc[(df_player6[\"t_surf\"] == \"Hard\") & (df_player6[\"t_ace%_last\"] > (surface_ace_perc_means3[\"t_ace%\"][1] + (0.35*surface_ace_perc_std[\"t_ace%\"][1]))) & (df_player6[\"p_SOS_adj_ace%_l60_decay\"] > (player_ace_l60_perc_means[\"p_SOS_adj_ace%_l60_decay\"][1] + (0.4*player_ace_l60_perc_std[\"p_SOS_adj_ace%_l60_decay\"][1]))), \"high_t_ace_p_ace\"] = 1\n",
    "df_player6.loc[(df_player6[\"high_t_ace_p_ace\"] != 1), \"high_t_ace_p_ace\"] = 0"
   ]
  },
  {
   "cell_type": "code",
   "execution_count": 240,
   "id": "fe87c26b",
   "metadata": {},
   "outputs": [
    {
     "data": {
      "text/plain": [
       "0    50474\n",
       "1     4590\n",
       "Name: high_t_ace_p_ace, dtype: int64"
      ]
     },
     "execution_count": 240,
     "metadata": {},
     "output_type": "execute_result"
    }
   ],
   "source": [
    "df_player6[\"high_t_ace_p_ace\"].value_counts()"
   ]
  },
  {
   "cell_type": "code",
   "execution_count": 241,
   "id": "2b8be9e1",
   "metadata": {},
   "outputs": [],
   "source": [
    "# Marker column for tournament high court speed proxy AND player high ACED rate\n",
    "# Plus or minus fractional standard deviation thresholds for tourney and player calibrated in univariate linear modeling\n",
    "df_player6[\"high_t_ace_p_aced\"] = \"\"\n",
    "df_player6.loc[(df_player6[\"t_surf\"] == \"Clay\") & (df_player6[\"t_ace%_last\"] > (surface_ace_perc_means3[\"t_ace%\"][0] + (0.3*surface_ace_perc_std[\"t_ace%\"][0]))) & (df_player6[\"p_SOS_adj_aced%_l60_decay\"] > (player_ace_l60_perc_means[\"p_SOS_adj_ace%_l60_decay\"][0] + (0.3*player_ace_l60_perc_std[\"p_SOS_adj_ace%_l60_decay\"][0]))), \"high_t_ace_p_aced\"] = 1\n",
    "df_player6.loc[(df_player6[\"t_surf\"] == \"Hard\") & (df_player6[\"t_ace%_last\"] > (surface_ace_perc_means3[\"t_ace%\"][1] + (0.3*surface_ace_perc_std[\"t_ace%\"][1]))) & (df_player6[\"p_SOS_adj_aced%_l60_decay\"] > (player_ace_l60_perc_means[\"p_SOS_adj_ace%_l60_decay\"][1] + (0.3*player_ace_l60_perc_std[\"p_SOS_adj_ace%_l60_decay\"][1]))), \"high_t_ace_p_aced\"] = 1\n",
    "df_player6.loc[(df_player6[\"high_t_ace_p_aced\"] != 1), \"high_t_ace_p_aced\"] = 0"
   ]
  },
  {
   "cell_type": "code",
   "execution_count": 242,
   "id": "46714dbc",
   "metadata": {},
   "outputs": [
    {
     "data": {
      "text/plain": [
       "0    51150\n",
       "1     3914\n",
       "Name: high_t_ace_p_aced, dtype: int64"
      ]
     },
     "execution_count": 242,
     "metadata": {},
     "output_type": "execute_result"
    }
   ],
   "source": [
    "df_player6[\"high_t_ace_p_aced\"].value_counts()"
   ]
  },
  {
   "cell_type": "code",
   "execution_count": 243,
   "id": "ff510e2d",
   "metadata": {},
   "outputs": [],
   "source": [
    "#df_player6.to_csv('../data/df_player6.csv', index=False)"
   ]
  },
  {
   "cell_type": "code",
   "execution_count": 244,
   "id": "2608c030",
   "metadata": {},
   "outputs": [],
   "source": [
    "# Numerically encode surface (and handedness, which should have been converted earlier) moving forward\n",
    "df_player6.loc[(df_player6[\"t_surf\"] == \"Hard\"), \"t_surf\"] = 2 #Hard Court\n",
    "df_player6.loc[(df_player6[\"t_surf\"] == \"Clay\"), \"t_surf\"] = 1 #Clay Court\n",
    "df_player6.loc[(df_player6[\"t_surf\"] == \"Carpet\"), \"t_surf\"] = 2 #Hard Court\n",
    "\n",
    "df_player6[\"t_surf\"] = pd.to_numeric(df_player6[\"t_surf\"])"
   ]
  },
  {
   "cell_type": "code",
   "execution_count": 245,
   "id": "b782517d",
   "metadata": {},
   "outputs": [],
   "source": [
    "# Now just drop player ace% per match column so we don't accidentally include in predictions\n",
    "#df_player6 = df_player6.drop([\"p_ace%\"], axis=1)"
   ]
  },
  {
   "cell_type": "code",
   "execution_count": 246,
   "id": "8d54fdf2",
   "metadata": {},
   "outputs": [],
   "source": [
    "#df_player6.info()"
   ]
  },
  {
   "cell_type": "markdown",
   "id": "191769e6",
   "metadata": {},
   "source": [
    "### Save Data for EDA Stage"
   ]
  },
  {
   "cell_type": "code",
   "execution_count": 247,
   "id": "a76ed0c2",
   "metadata": {},
   "outputs": [],
   "source": [
    "# Creates a dataframe containing ranking-related features (and target feature) for dummy and benchmrk model testing.\n",
    "# also contains features necessary for thresholding minimum number of matches played by a player prior to match being predicted on, and \n",
    "# for restricting modeling to 2012 and onward (2010-2011 used to accrue retrospective stats/features)\n",
    "df_player_benchmark = df_player6[[\"p_pts_won%\", \"p_rank\", \"p_log_rank\", \"p_rank_pts\", \"p_opp_rank_diff\", \"p_opp_log_rank_diff\",\"p_opp_rank_pts_diff\", \"p_matches\", \"p_matches_surf\", \"t_surf\", \"t_indoor\", \"m_num\", \"tour_wk\"]]"
   ]
  },
  {
   "cell_type": "code",
   "execution_count": 248,
   "id": "9cafdb93",
   "metadata": {},
   "outputs": [],
   "source": [
    "# Saves ranking-related player features (for dummy and benchmark model testing): clay court time range\n",
    "df_player_benchmark.to_csv('../data/df_player_benchmark_2009to2019.csv', index=False)"
   ]
  },
  {
   "cell_type": "code",
   "execution_count": 249,
   "id": "29152f61",
   "metadata": {},
   "outputs": [],
   "source": [
    "# Saves ranking-related player features (for dummy and benchmark model testing): hard court time range\n",
    "#df_player_benchmark.to_csv('../data/df_player_benchmark_2012to2019.csv', index=False)"
   ]
  },
  {
   "cell_type": "code",
   "execution_count": 250,
   "id": "4d07ece6",
   "metadata": {},
   "outputs": [],
   "source": [
    "# Creates dataframe with all predictive features (and target, plus more granular targets might use later)\n",
    "df_player_all = df_player6[[\"p_pts_won%\", \"p_sv_pts_won%\", \"p_ret_pts_won%\", \"p_ace%\", \"p_aced%\", \"p_bp_save%\", \"p_bp_convert%\", \"t_id\", \"t_date\", \"tour_wk\", \"t_name\", \"t_country\", \"t_surf\",\"t_indoor\", \"t_alt\", \"t_ace%_last\", \"t_lvl\", \"t_draw_size\", \"t_rd_num\", \"m_num\", \"m_best_of\", \"m_time(m)\", \"m_tot_pts\", \"p_id\", \"p_name\", \"p_rank\", \"p_log_rank\", \"p_rank_pts\", \"p_country\", \"p_ent\", \"p_hd\", \"p_ht\", \"p_age\", \"p_matches\", \"p_matches_surf\", \"p_H2H_w\", \"p_H2H_pts_won%\", \"p_pts_won%_l60_decay\", \"p_pts_won%_l60_decay_IO\", \"p_pts_won%_l10\", \"p_SOS_adj_pts_won%_l60_decay\", \"p_SOS_adj_pts_won%_l60_decay_IO\", \"p_SOS_adj_pts_won%_l60_decay_IO_weighted\", \"p_SOS_adj_pts_won%_l10\", \"p_sv_pts_won%_l60_decay\", \"p_sv_pts_won%_l10\", \"p_SOS_adj_sv_pts_won%_l60_decay\", \"p_SOS_adj_sv_pts_won%_l10\", \"p_ret_pts_won%_l60_decay\", \"p_ret_pts_won%_l10\", \"p_SOS_adj_ret_pts_won%_l60_decay\", \"p_SOS_adj_ret_pts_won%_l10\", \"p_ace%_l60_decay\", \"p_ace%_l10\", \"p_SOS_adj_ace%_l60_decay\", \"p_SOS_adj_ace%_l10\", \"p_aced%_l60_decay\", \"p_aced%_l10\", \"p_SOS_adj_aced%_l60_decay\", \"p_SOS_adj_aced%_l10\", \"p_bp_save%_l60\", \"p_bp_save%_l10\", \"p_SOS_adj_bp_save%_l60\", \"p_SOS_adj_bp_save%_l10\", \"p_bp_convert%_l60\", \"p_bp_convert%_l10\", \"p_SOS_adj_bp_convert%_l60\", \"p_SOS_adj_bp_convert%_l10\", \"p_pts_won%_std_l60_decay\",'p_sv_pts_won%_std_l60_decay','p_ret_pts_won%_std_l60_decay', \"p_m_time_last\", \"p_tot_time_l6\", \"p_tot_time_l6_decay\", \"p_tot_pts_last\", \"p_tot_pts_l6\", \"p_tot_pts_l6_decay\", \"p_stamina_adj_fatigue\", \"p_stamina_adj_fatigue_decay\", \"high_t_ace_p_ace\", \"high_t_ace_p_aced\", \"p_opp_rank_diff\", \"p_opp_log_rank_diff\", \"p_opp_rank_pts_diff\", \"p_ent_diff\", \"p_opp_ht_diff\", \"p_opp_age_diff\", \"p_L_opp_R\", \"p_HCA_opp_N\", \"p_pts_won%_l60_decay_diff\", \"p_pts_won%_l60_decay_IO_diff\", \"p_SOS_adj_pts_won%_l60_decay_diff\", \"p_SOS_adj_pts_won%_l60_decay_IO_diff\", \"p_SOS_adj_pts_won%_l60_decay_IO_weighted_diff\", \"p_pts_won%_l10_diff\", \"p_SOS_adj_pts_won%_l10_diff\", \"p_sv_pts_won%_l60_decay_diff\", \"p_SOS_adj_sv_pts_won%_l60_decay_diff\", \"p_sv_pts_won%_l10_diff\", \"p_SOS_adj_sv_pts_won%_l10_diff\", \"p_ret_pts_won%_l60_decay_diff\", \"p_SOS_adj_ret_pts_won%_l60_decay_diff\", \"p_ret_pts_won%_l10_diff\", \"p_SOS_adj_ret_pts_won%_l10_diff\", \"p_sv_opp_ret_pts_won%_l60_decay_diff\", \"p_SOS_adj_sv_opp_ret_pts_won%_l60_decay_diff\", \"p_sv_opp_ret_pts_won%_l10_diff\", \"p_SOS_adj_sv_opp_ret_pts_won%_l10_diff\", \"p_ret_opp_sv_pts_won%_l60_decay_diff\", \"p_SOS_adj_ret_opp_sv_pts_won%_l60_decay_diff\", \"p_ret_opp_sv_pts_won%_l10_diff\", \"p_SOS_adj_ret_opp_sv_pts_won%_l10_diff\", \"p_ace%_l60_decay_diff\", \"p_SOS_adj_ace%_l60_decay_diff\", \"p_ace%_l10_diff\", \"p_SOS_adj_ace%_l10_diff\", \"p_aced%_l60_decay_diff\", \"p_SOS_adj_aced%_l60_decay_diff\", \"p_aced%_l10_diff\", \"p_SOS_adj_aced%_l10_diff\", \"p_ace%_opp_aced%_l60_decay_diff\", \"p_SOS_adj_ace%_opp_aced%_l60_decay_diff\", \"p_ace%_opp_aced%_l10_diff\", \"p_SOS_adj_ace%_opp_aced%_l10_diff\", \"p_aced%_opp_ace%_l60_decay_diff\", \"p_SOS_adj_aced%_opp_ace%_l60_decay_diff\", \"p_aced%_opp_ace%_l10_diff\", \"p_SOS_adj_aced%_opp_ace%_l10_diff\", \"p_bp_save%_l60_diff\", \"p_SOS_adj_bp_save%_l60_diff\", \"p_bp_save%_l10_diff\", \"p_SOS_adj_bp_save%_l10_diff\", \"p_bp_convert%_l60_diff\", \"p_SOS_adj_bp_convert%_l60_diff\", \"p_bp_convert%_l10_diff\", \"p_SOS_adj_bp_convert%_l10_diff\", \"p_bp_convert%_opp_bp_save%_l60_diff\", \"p_SOS_adj_bp_convert%_opp_bp_save%_l60_diff\", \"p_bp_convert%_opp_bp_save%_l10_diff\", \"p_SOS_adj_bp_convert%_opp_bp_save%_l10_diff\", \"p_bp_save%_opp_bp_convert%_l60_diff\", \"p_SOS_adj_bp_save%_opp_bp_convert%_l60_diff\", \"p_bp_save%_opp_bp_convert%_l10_diff\", \"p_SOS_adj_bp_save%_opp_bp_convert%_l10_diff\", \"p_pts_won%_std_l60_decay_diff\", \"p_sv_pts_won%_std_l60_decay_diff\", \"p_ret_pts_won%_std_l60_decay_diff\", \"p_m_time_last_diff\", \"p_tot_time_l6_diff\", \"p_tot_time_l6_decay_diff\", \"p_tot_pts_last_diff\", \"p_tot_pts_l6_diff\", \"p_tot_pts_l6_decay_diff\", \"p_matches_diff\", \"p_matches_surf_diff\", \"p_stam_adj_fatigue_diff\", \"p_stam_adj_fatigue_decay_diff\",  \"p_H2H_diff\", \"p_H2H_pts_won%_diff\", \"m_outcome\"]]"
   ]
  },
  {
   "cell_type": "code",
   "execution_count": 251,
   "id": "acda3e77",
   "metadata": {},
   "outputs": [],
   "source": [
    "# Saves dataframe with all predictive features - clay court time range\n",
    "df_player_all.to_csv('../data/df_player_all_2009to2019.csv', index=False)"
   ]
  },
  {
   "cell_type": "code",
   "execution_count": 252,
   "id": "6714e5bb",
   "metadata": {},
   "outputs": [],
   "source": [
    "# Saves dataframe with all predictive features - hard court time range\n",
    "#df_player_all.to_csv('../data/df_player_all_2012to2019.csv', index=False)"
   ]
  }
 ],
 "metadata": {
  "kernelspec": {
   "display_name": "Python 3",
   "language": "python",
   "name": "python3"
  },
  "language_info": {
   "codemirror_mode": {
    "name": "ipython",
    "version": 3
   },
   "file_extension": ".py",
   "mimetype": "text/x-python",
   "name": "python",
   "nbconvert_exporter": "python",
   "pygments_lexer": "ipython3",
   "version": "3.8.8"
  }
 },
 "nbformat": 4,
 "nbformat_minor": 5
}
